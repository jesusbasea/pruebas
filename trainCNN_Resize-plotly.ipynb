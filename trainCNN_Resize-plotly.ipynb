<!DOCTYPE html>
<html>
<head><meta charset="utf-8" />
<title>trainCNN_Resize-plotly</title><script src="https://cdnjs.cloudflare.com/ajax/libs/require.js/2.1.10/require.min.js"></script>
<script src="https://cdnjs.cloudflare.com/ajax/libs/jquery/2.0.3/jquery.min.js"></script>

<style type="text/css">
    /*!
*
* Twitter Bootstrap
*
*/
/*!
 * Bootstrap v3.3.7 (http://getbootstrap.com)
 * Copyright 2011-2016 Twitter, Inc.
 * Licensed under MIT (https://github.com/twbs/bootstrap/blob/master/LICENSE)
 */
/*! normalize.css v3.0.3 | MIT License | github.com/necolas/normalize.css */
html {
  font-family: sans-serif;
  -ms-text-size-adjust: 100%;
  -webkit-text-size-adjust: 100%;
}
body {
  margin: 0;
}
article,
aside,
details,
figcaption,
figure,
footer,
header,
hgroup,
main,
menu,
nav,
section,
summary {
  display: block;
}
audio,
canvas,
progress,
video {
  display: inline-block;
  vertical-align: baseline;
}
audio:not([controls]) {
  display: none;
  height: 0;
}
[hidden],
template {
  display: none;
}
a {
  background-color: transparent;
}
a:active,
a:hover {
  outline: 0;
}
abbr[title] {
  border-bottom: 1px dotted;
}
b,
strong {
  font-weight: bold;
}
dfn {
  font-style: italic;
}
h1 {
  font-size: 2em;
  margin: 0.67em 0;
}
mark {
  background: #ff0;
  color: #000;
}
small {
  font-size: 80%;
}
sub,
sup {
  font-size: 75%;
  line-height: 0;
  position: relative;
  vertical-align: baseline;
}
sup {
  top: -0.5em;
}
sub {
  bottom: -0.25em;
}
img {
  border: 0;
}
svg:not(:root) {
  overflow: hidden;
}
figure {
  margin: 1em 40px;
}
hr {
  box-sizing: content-box;
  height: 0;
}
pre {
  overflow: auto;
}
code,
kbd,
pre,
samp {
  font-family: monospace, monospace;
  font-size: 1em;
}
button,
input,
optgroup,
select,
textarea {
  color: inherit;
  font: inherit;
  margin: 0;
}
button {
  overflow: visible;
}
button,
select {
  text-transform: none;
}
button,
html input[type="button"],
input[type="reset"],
input[type="submit"] {
  -webkit-appearance: button;
  cursor: pointer;
}
button[disabled],
html input[disabled] {
  cursor: default;
}
button::-moz-focus-inner,
input::-moz-focus-inner {
  border: 0;
  padding: 0;
}
input {
  line-height: normal;
}
input[type="checkbox"],
input[type="radio"] {
  box-sizing: border-box;
  padding: 0;
}
input[type="number"]::-webkit-inner-spin-button,
input[type="number"]::-webkit-outer-spin-button {
  height: auto;
}
input[type="search"] {
  -webkit-appearance: textfield;
  box-sizing: content-box;
}
input[type="search"]::-webkit-search-cancel-button,
input[type="search"]::-webkit-search-decoration {
  -webkit-appearance: none;
}
fieldset {
  border: 1px solid #c0c0c0;
  margin: 0 2px;
  padding: 0.35em 0.625em 0.75em;
}
legend {
  border: 0;
  padding: 0;
}
textarea {
  overflow: auto;
}
optgroup {
  font-weight: bold;
}
table {
  border-collapse: collapse;
  border-spacing: 0;
}
td,
th {
  padding: 0;
}
/*! Source: https://github.com/h5bp/html5-boilerplate/blob/master/src/css/main.css */
@media print {
  *,
  *:before,
  *:after {
    background: transparent !important;
    color: #000 !important;
    box-shadow: none !important;
    text-shadow: none !important;
  }
  a,
  a:visited {
    text-decoration: underline;
  }
  a[href]:after {
    content: " (" attr(href) ")";
  }
  abbr[title]:after {
    content: " (" attr(title) ")";
  }
  a[href^="#"]:after,
  a[href^="javascript:"]:after {
    content: "";
  }
  pre,
  blockquote {
    border: 1px solid #999;
    page-break-inside: avoid;
  }
  thead {
    display: table-header-group;
  }
  tr,
  img {
    page-break-inside: avoid;
  }
  img {
    max-width: 100% !important;
  }
  p,
  h2,
  h3 {
    orphans: 3;
    widows: 3;
  }
  h2,
  h3 {
    page-break-after: avoid;
  }
  .navbar {
    display: none;
  }
  .btn > .caret,
  .dropup > .btn > .caret {
    border-top-color: #000 !important;
  }
  .label {
    border: 1px solid #000;
  }
  .table {
    border-collapse: collapse !important;
  }
  .table td,
  .table th {
    background-color: #fff !important;
  }
  .table-bordered th,
  .table-bordered td {
    border: 1px solid #ddd !important;
  }
}
@font-face {
  font-family: 'Glyphicons Halflings';
  src: url('../components/bootstrap/fonts/glyphicons-halflings-regular.eot');
  src: url('../components/bootstrap/fonts/glyphicons-halflings-regular.eot?#iefix') format('embedded-opentype'), url('../components/bootstrap/fonts/glyphicons-halflings-regular.woff2') format('woff2'), url('../components/bootstrap/fonts/glyphicons-halflings-regular.woff') format('woff'), url('../components/bootstrap/fonts/glyphicons-halflings-regular.ttf') format('truetype'), url('../components/bootstrap/fonts/glyphicons-halflings-regular.svg#glyphicons_halflingsregular') format('svg');
}
.glyphicon {
  position: relative;
  top: 1px;
  display: inline-block;
  font-family: 'Glyphicons Halflings';
  font-style: normal;
  font-weight: normal;
  line-height: 1;
  -webkit-font-smoothing: antialiased;
  -moz-osx-font-smoothing: grayscale;
}
.glyphicon-asterisk:before {
  content: "\002a";
}
.glyphicon-plus:before {
  content: "\002b";
}
.glyphicon-euro:before,
.glyphicon-eur:before {
  content: "\20ac";
}
.glyphicon-minus:before {
  content: "\2212";
}
.glyphicon-cloud:before {
  content: "\2601";
}
.glyphicon-envelope:before {
  content: "\2709";
}
.glyphicon-pencil:before {
  content: "\270f";
}
.glyphicon-glass:before {
  content: "\e001";
}
.glyphicon-music:before {
  content: "\e002";
}
.glyphicon-search:before {
  content: "\e003";
}
.glyphicon-heart:before {
  content: "\e005";
}
.glyphicon-star:before {
  content: "\e006";
}
.glyphicon-star-empty:before {
  content: "\e007";
}
.glyphicon-user:before {
  content: "\e008";
}
.glyphicon-film:before {
  content: "\e009";
}
.glyphicon-th-large:before {
  content: "\e010";
}
.glyphicon-th:before {
  content: "\e011";
}
.glyphicon-th-list:before {
  content: "\e012";
}
.glyphicon-ok:before {
  content: "\e013";
}
.glyphicon-remove:before {
  content: "\e014";
}
.glyphicon-zoom-in:before {
  content: "\e015";
}
.glyphicon-zoom-out:before {
  content: "\e016";
}
.glyphicon-off:before {
  content: "\e017";
}
.glyphicon-signal:before {
  content: "\e018";
}
.glyphicon-cog:before {
  content: "\e019";
}
.glyphicon-trash:before {
  content: "\e020";
}
.glyphicon-home:before {
  content: "\e021";
}
.glyphicon-file:before {
  content: "\e022";
}
.glyphicon-time:before {
  content: "\e023";
}
.glyphicon-road:before {
  content: "\e024";
}
.glyphicon-download-alt:before {
  content: "\e025";
}
.glyphicon-download:before {
  content: "\e026";
}
.glyphicon-upload:before {
  content: "\e027";
}
.glyphicon-inbox:before {
  content: "\e028";
}
.glyphicon-play-circle:before {
  content: "\e029";
}
.glyphicon-repeat:before {
  content: "\e030";
}
.glyphicon-refresh:before {
  content: "\e031";
}
.glyphicon-list-alt:before {
  content: "\e032";
}
.glyphicon-lock:before {
  content: "\e033";
}
.glyphicon-flag:before {
  content: "\e034";
}
.glyphicon-headphones:before {
  content: "\e035";
}
.glyphicon-volume-off:before {
  content: "\e036";
}
.glyphicon-volume-down:before {
  content: "\e037";
}
.glyphicon-volume-up:before {
  content: "\e038";
}
.glyphicon-qrcode:before {
  content: "\e039";
}
.glyphicon-barcode:before {
  content: "\e040";
}
.glyphicon-tag:before {
  content: "\e041";
}
.glyphicon-tags:before {
  content: "\e042";
}
.glyphicon-book:before {
  content: "\e043";
}
.glyphicon-bookmark:before {
  content: "\e044";
}
.glyphicon-print:before {
  content: "\e045";
}
.glyphicon-camera:before {
  content: "\e046";
}
.glyphicon-font:before {
  content: "\e047";
}
.glyphicon-bold:before {
  content: "\e048";
}
.glyphicon-italic:before {
  content: "\e049";
}
.glyphicon-text-height:before {
  content: "\e050";
}
.glyphicon-text-width:before {
  content: "\e051";
}
.glyphicon-align-left:before {
  content: "\e052";
}
.glyphicon-align-center:before {
  content: "\e053";
}
.glyphicon-align-right:before {
  content: "\e054";
}
.glyphicon-align-justify:before {
  content: "\e055";
}
.glyphicon-list:before {
  content: "\e056";
}
.glyphicon-indent-left:before {
  content: "\e057";
}
.glyphicon-indent-right:before {
  content: "\e058";
}
.glyphicon-facetime-video:before {
  content: "\e059";
}
.glyphicon-picture:before {
  content: "\e060";
}
.glyphicon-map-marker:before {
  content: "\e062";
}
.glyphicon-adjust:before {
  content: "\e063";
}
.glyphicon-tint:before {
  content: "\e064";
}
.glyphicon-edit:before {
  content: "\e065";
}
.glyphicon-share:before {
  content: "\e066";
}
.glyphicon-check:before {
  content: "\e067";
}
.glyphicon-move:before {
  content: "\e068";
}
.glyphicon-step-backward:before {
  content: "\e069";
}
.glyphicon-fast-backward:before {
  content: "\e070";
}
.glyphicon-backward:before {
  content: "\e071";
}
.glyphicon-play:before {
  content: "\e072";
}
.glyphicon-pause:before {
  content: "\e073";
}
.glyphicon-stop:before {
  content: "\e074";
}
.glyphicon-forward:before {
  content: "\e075";
}
.glyphicon-fast-forward:before {
  content: "\e076";
}
.glyphicon-step-forward:before {
  content: "\e077";
}
.glyphicon-eject:before {
  content: "\e078";
}
.glyphicon-chevron-left:before {
  content: "\e079";
}
.glyphicon-chevron-right:before {
  content: "\e080";
}
.glyphicon-plus-sign:before {
  content: "\e081";
}
.glyphicon-minus-sign:before {
  content: "\e082";
}
.glyphicon-remove-sign:before {
  content: "\e083";
}
.glyphicon-ok-sign:before {
  content: "\e084";
}
.glyphicon-question-sign:before {
  content: "\e085";
}
.glyphicon-info-sign:before {
  content: "\e086";
}
.glyphicon-screenshot:before {
  content: "\e087";
}
.glyphicon-remove-circle:before {
  content: "\e088";
}
.glyphicon-ok-circle:before {
  content: "\e089";
}
.glyphicon-ban-circle:before {
  content: "\e090";
}
.glyphicon-arrow-left:before {
  content: "\e091";
}
.glyphicon-arrow-right:before {
  content: "\e092";
}
.glyphicon-arrow-up:before {
  content: "\e093";
}
.glyphicon-arrow-down:before {
  content: "\e094";
}
.glyphicon-share-alt:before {
  content: "\e095";
}
.glyphicon-resize-full:before {
  content: "\e096";
}
.glyphicon-resize-small:before {
  content: "\e097";
}
.glyphicon-exclamation-sign:before {
  content: "\e101";
}
.glyphicon-gift:before {
  content: "\e102";
}
.glyphicon-leaf:before {
  content: "\e103";
}
.glyphicon-fire:before {
  content: "\e104";
}
.glyphicon-eye-open:before {
  content: "\e105";
}
.glyphicon-eye-close:before {
  content: "\e106";
}
.glyphicon-warning-sign:before {
  content: "\e107";
}
.glyphicon-plane:before {
  content: "\e108";
}
.glyphicon-calendar:before {
  content: "\e109";
}
.glyphicon-random:before {
  content: "\e110";
}
.glyphicon-comment:before {
  content: "\e111";
}
.glyphicon-magnet:before {
  content: "\e112";
}
.glyphicon-chevron-up:before {
  content: "\e113";
}
.glyphicon-chevron-down:before {
  content: "\e114";
}
.glyphicon-retweet:before {
  content: "\e115";
}
.glyphicon-shopping-cart:before {
  content: "\e116";
}
.glyphicon-folder-close:before {
  content: "\e117";
}
.glyphicon-folder-open:before {
  content: "\e118";
}
.glyphicon-resize-vertical:before {
  content: "\e119";
}
.glyphicon-resize-horizontal:before {
  content: "\e120";
}
.glyphicon-hdd:before {
  content: "\e121";
}
.glyphicon-bullhorn:before {
  content: "\e122";
}
.glyphicon-bell:before {
  content: "\e123";
}
.glyphicon-certificate:before {
  content: "\e124";
}
.glyphicon-thumbs-up:before {
  content: "\e125";
}
.glyphicon-thumbs-down:before {
  content: "\e126";
}
.glyphicon-hand-right:before {
  content: "\e127";
}
.glyphicon-hand-left:before {
  content: "\e128";
}
.glyphicon-hand-up:before {
  content: "\e129";
}
.glyphicon-hand-down:before {
  content: "\e130";
}
.glyphicon-circle-arrow-right:before {
  content: "\e131";
}
.glyphicon-circle-arrow-left:before {
  content: "\e132";
}
.glyphicon-circle-arrow-up:before {
  content: "\e133";
}
.glyphicon-circle-arrow-down:before {
  content: "\e134";
}
.glyphicon-globe:before {
  content: "\e135";
}
.glyphicon-wrench:before {
  content: "\e136";
}
.glyphicon-tasks:before {
  content: "\e137";
}
.glyphicon-filter:before {
  content: "\e138";
}
.glyphicon-briefcase:before {
  content: "\e139";
}
.glyphicon-fullscreen:before {
  content: "\e140";
}
.glyphicon-dashboard:before {
  content: "\e141";
}
.glyphicon-paperclip:before {
  content: "\e142";
}
.glyphicon-heart-empty:before {
  content: "\e143";
}
.glyphicon-link:before {
  content: "\e144";
}
.glyphicon-phone:before {
  content: "\e145";
}
.glyphicon-pushpin:before {
  content: "\e146";
}
.glyphicon-usd:before {
  content: "\e148";
}
.glyphicon-gbp:before {
  content: "\e149";
}
.glyphicon-sort:before {
  content: "\e150";
}
.glyphicon-sort-by-alphabet:before {
  content: "\e151";
}
.glyphicon-sort-by-alphabet-alt:before {
  content: "\e152";
}
.glyphicon-sort-by-order:before {
  content: "\e153";
}
.glyphicon-sort-by-order-alt:before {
  content: "\e154";
}
.glyphicon-sort-by-attributes:before {
  content: "\e155";
}
.glyphicon-sort-by-attributes-alt:before {
  content: "\e156";
}
.glyphicon-unchecked:before {
  content: "\e157";
}
.glyphicon-expand:before {
  content: "\e158";
}
.glyphicon-collapse-down:before {
  content: "\e159";
}
.glyphicon-collapse-up:before {
  content: "\e160";
}
.glyphicon-log-in:before {
  content: "\e161";
}
.glyphicon-flash:before {
  content: "\e162";
}
.glyphicon-log-out:before {
  content: "\e163";
}
.glyphicon-new-window:before {
  content: "\e164";
}
.glyphicon-record:before {
  content: "\e165";
}
.glyphicon-save:before {
  content: "\e166";
}
.glyphicon-open:before {
  content: "\e167";
}
.glyphicon-saved:before {
  content: "\e168";
}
.glyphicon-import:before {
  content: "\e169";
}
.glyphicon-export:before {
  content: "\e170";
}
.glyphicon-send:before {
  content: "\e171";
}
.glyphicon-floppy-disk:before {
  content: "\e172";
}
.glyphicon-floppy-saved:before {
  content: "\e173";
}
.glyphicon-floppy-remove:before {
  content: "\e174";
}
.glyphicon-floppy-save:before {
  content: "\e175";
}
.glyphicon-floppy-open:before {
  content: "\e176";
}
.glyphicon-credit-card:before {
  content: "\e177";
}
.glyphicon-transfer:before {
  content: "\e178";
}
.glyphicon-cutlery:before {
  content: "\e179";
}
.glyphicon-header:before {
  content: "\e180";
}
.glyphicon-compressed:before {
  content: "\e181";
}
.glyphicon-earphone:before {
  content: "\e182";
}
.glyphicon-phone-alt:before {
  content: "\e183";
}
.glyphicon-tower:before {
  content: "\e184";
}
.glyphicon-stats:before {
  content: "\e185";
}
.glyphicon-sd-video:before {
  content: "\e186";
}
.glyphicon-hd-video:before {
  content: "\e187";
}
.glyphicon-subtitles:before {
  content: "\e188";
}
.glyphicon-sound-stereo:before {
  content: "\e189";
}
.glyphicon-sound-dolby:before {
  content: "\e190";
}
.glyphicon-sound-5-1:before {
  content: "\e191";
}
.glyphicon-sound-6-1:before {
  content: "\e192";
}
.glyphicon-sound-7-1:before {
  content: "\e193";
}
.glyphicon-copyright-mark:before {
  content: "\e194";
}
.glyphicon-registration-mark:before {
  content: "\e195";
}
.glyphicon-cloud-download:before {
  content: "\e197";
}
.glyphicon-cloud-upload:before {
  content: "\e198";
}
.glyphicon-tree-conifer:before {
  content: "\e199";
}
.glyphicon-tree-deciduous:before {
  content: "\e200";
}
.glyphicon-cd:before {
  content: "\e201";
}
.glyphicon-save-file:before {
  content: "\e202";
}
.glyphicon-open-file:before {
  content: "\e203";
}
.glyphicon-level-up:before {
  content: "\e204";
}
.glyphicon-copy:before {
  content: "\e205";
}
.glyphicon-paste:before {
  content: "\e206";
}
.glyphicon-alert:before {
  content: "\e209";
}
.glyphicon-equalizer:before {
  content: "\e210";
}
.glyphicon-king:before {
  content: "\e211";
}
.glyphicon-queen:before {
  content: "\e212";
}
.glyphicon-pawn:before {
  content: "\e213";
}
.glyphicon-bishop:before {
  content: "\e214";
}
.glyphicon-knight:before {
  content: "\e215";
}
.glyphicon-baby-formula:before {
  content: "\e216";
}
.glyphicon-tent:before {
  content: "\26fa";
}
.glyphicon-blackboard:before {
  content: "\e218";
}
.glyphicon-bed:before {
  content: "\e219";
}
.glyphicon-apple:before {
  content: "\f8ff";
}
.glyphicon-erase:before {
  content: "\e221";
}
.glyphicon-hourglass:before {
  content: "\231b";
}
.glyphicon-lamp:before {
  content: "\e223";
}
.glyphicon-duplicate:before {
  content: "\e224";
}
.glyphicon-piggy-bank:before {
  content: "\e225";
}
.glyphicon-scissors:before {
  content: "\e226";
}
.glyphicon-bitcoin:before {
  content: "\e227";
}
.glyphicon-btc:before {
  content: "\e227";
}
.glyphicon-xbt:before {
  content: "\e227";
}
.glyphicon-yen:before {
  content: "\00a5";
}
.glyphicon-jpy:before {
  content: "\00a5";
}
.glyphicon-ruble:before {
  content: "\20bd";
}
.glyphicon-rub:before {
  content: "\20bd";
}
.glyphicon-scale:before {
  content: "\e230";
}
.glyphicon-ice-lolly:before {
  content: "\e231";
}
.glyphicon-ice-lolly-tasted:before {
  content: "\e232";
}
.glyphicon-education:before {
  content: "\e233";
}
.glyphicon-option-horizontal:before {
  content: "\e234";
}
.glyphicon-option-vertical:before {
  content: "\e235";
}
.glyphicon-menu-hamburger:before {
  content: "\e236";
}
.glyphicon-modal-window:before {
  content: "\e237";
}
.glyphicon-oil:before {
  content: "\e238";
}
.glyphicon-grain:before {
  content: "\e239";
}
.glyphicon-sunglasses:before {
  content: "\e240";
}
.glyphicon-text-size:before {
  content: "\e241";
}
.glyphicon-text-color:before {
  content: "\e242";
}
.glyphicon-text-background:before {
  content: "\e243";
}
.glyphicon-object-align-top:before {
  content: "\e244";
}
.glyphicon-object-align-bottom:before {
  content: "\e245";
}
.glyphicon-object-align-horizontal:before {
  content: "\e246";
}
.glyphicon-object-align-left:before {
  content: "\e247";
}
.glyphicon-object-align-vertical:before {
  content: "\e248";
}
.glyphicon-object-align-right:before {
  content: "\e249";
}
.glyphicon-triangle-right:before {
  content: "\e250";
}
.glyphicon-triangle-left:before {
  content: "\e251";
}
.glyphicon-triangle-bottom:before {
  content: "\e252";
}
.glyphicon-triangle-top:before {
  content: "\e253";
}
.glyphicon-console:before {
  content: "\e254";
}
.glyphicon-superscript:before {
  content: "\e255";
}
.glyphicon-subscript:before {
  content: "\e256";
}
.glyphicon-menu-left:before {
  content: "\e257";
}
.glyphicon-menu-right:before {
  content: "\e258";
}
.glyphicon-menu-down:before {
  content: "\e259";
}
.glyphicon-menu-up:before {
  content: "\e260";
}
* {
  -webkit-box-sizing: border-box;
  -moz-box-sizing: border-box;
  box-sizing: border-box;
}
*:before,
*:after {
  -webkit-box-sizing: border-box;
  -moz-box-sizing: border-box;
  box-sizing: border-box;
}
html {
  font-size: 10px;
  -webkit-tap-highlight-color: rgba(0, 0, 0, 0);
}
body {
  font-family: "Helvetica Neue", Helvetica, Arial, sans-serif;
  font-size: 13px;
  line-height: 1.42857143;
  color: #000;
  background-color: #fff;
}
input,
button,
select,
textarea {
  font-family: inherit;
  font-size: inherit;
  line-height: inherit;
}
a {
  color: #337ab7;
  text-decoration: none;
}
a:hover,
a:focus {
  color: #23527c;
  text-decoration: underline;
}
a:focus {
  outline: 5px auto -webkit-focus-ring-color;
  outline-offset: -2px;
}
figure {
  margin: 0;
}
img {
  vertical-align: middle;
}
.img-responsive,
.thumbnail > img,
.thumbnail a > img,
.carousel-inner > .item > img,
.carousel-inner > .item > a > img {
  display: block;
  max-width: 100%;
  height: auto;
}
.img-rounded {
  border-radius: 3px;
}
.img-thumbnail {
  padding: 4px;
  line-height: 1.42857143;
  background-color: #fff;
  border: 1px solid #ddd;
  border-radius: 2px;
  -webkit-transition: all 0.2s ease-in-out;
  -o-transition: all 0.2s ease-in-out;
  transition: all 0.2s ease-in-out;
  display: inline-block;
  max-width: 100%;
  height: auto;
}
.img-circle {
  border-radius: 50%;
}
hr {
  margin-top: 18px;
  margin-bottom: 18px;
  border: 0;
  border-top: 1px solid #eeeeee;
}
.sr-only {
  position: absolute;
  width: 1px;
  height: 1px;
  margin: -1px;
  padding: 0;
  overflow: hidden;
  clip: rect(0, 0, 0, 0);
  border: 0;
}
.sr-only-focusable:active,
.sr-only-focusable:focus {
  position: static;
  width: auto;
  height: auto;
  margin: 0;
  overflow: visible;
  clip: auto;
}
[role="button"] {
  cursor: pointer;
}
h1,
h2,
h3,
h4,
h5,
h6,
.h1,
.h2,
.h3,
.h4,
.h5,
.h6 {
  font-family: inherit;
  font-weight: 500;
  line-height: 1.1;
  color: inherit;
}
h1 small,
h2 small,
h3 small,
h4 small,
h5 small,
h6 small,
.h1 small,
.h2 small,
.h3 small,
.h4 small,
.h5 small,
.h6 small,
h1 .small,
h2 .small,
h3 .small,
h4 .small,
h5 .small,
h6 .small,
.h1 .small,
.h2 .small,
.h3 .small,
.h4 .small,
.h5 .small,
.h6 .small {
  font-weight: normal;
  line-height: 1;
  color: #777777;
}
h1,
.h1,
h2,
.h2,
h3,
.h3 {
  margin-top: 18px;
  margin-bottom: 9px;
}
h1 small,
.h1 small,
h2 small,
.h2 small,
h3 small,
.h3 small,
h1 .small,
.h1 .small,
h2 .small,
.h2 .small,
h3 .small,
.h3 .small {
  font-size: 65%;
}
h4,
.h4,
h5,
.h5,
h6,
.h6 {
  margin-top: 9px;
  margin-bottom: 9px;
}
h4 small,
.h4 small,
h5 small,
.h5 small,
h6 small,
.h6 small,
h4 .small,
.h4 .small,
h5 .small,
.h5 .small,
h6 .small,
.h6 .small {
  font-size: 75%;
}
h1,
.h1 {
  font-size: 33px;
}
h2,
.h2 {
  font-size: 27px;
}
h3,
.h3 {
  font-size: 23px;
}
h4,
.h4 {
  font-size: 17px;
}
h5,
.h5 {
  font-size: 13px;
}
h6,
.h6 {
  font-size: 12px;
}
p {
  margin: 0 0 9px;
}
.lead {
  margin-bottom: 18px;
  font-size: 14px;
  font-weight: 300;
  line-height: 1.4;
}
@media (min-width: 768px) {
  .lead {
    font-size: 19.5px;
  }
}
small,
.small {
  font-size: 92%;
}
mark,
.mark {
  background-color: #fcf8e3;
  padding: .2em;
}
.text-left {
  text-align: left;
}
.text-right {
  text-align: right;
}
.text-center {
  text-align: center;
}
.text-justify {
  text-align: justify;
}
.text-nowrap {
  white-space: nowrap;
}
.text-lowercase {
  text-transform: lowercase;
}
.text-uppercase {
  text-transform: uppercase;
}
.text-capitalize {
  text-transform: capitalize;
}
.text-muted {
  color: #777777;
}
.text-primary {
  color: #337ab7;
}
a.text-primary:hover,
a.text-primary:focus {
  color: #286090;
}
.text-success {
  color: #3c763d;
}
a.text-success:hover,
a.text-success:focus {
  color: #2b542c;
}
.text-info {
  color: #31708f;
}
a.text-info:hover,
a.text-info:focus {
  color: #245269;
}
.text-warning {
  color: #8a6d3b;
}
a.text-warning:hover,
a.text-warning:focus {
  color: #66512c;
}
.text-danger {
  color: #a94442;
}
a.text-danger:hover,
a.text-danger:focus {
  color: #843534;
}
.bg-primary {
  color: #fff;
  background-color: #337ab7;
}
a.bg-primary:hover,
a.bg-primary:focus {
  background-color: #286090;
}
.bg-success {
  background-color: #dff0d8;
}
a.bg-success:hover,
a.bg-success:focus {
  background-color: #c1e2b3;
}
.bg-info {
  background-color: #d9edf7;
}
a.bg-info:hover,
a.bg-info:focus {
  background-color: #afd9ee;
}
.bg-warning {
  background-color: #fcf8e3;
}
a.bg-warning:hover,
a.bg-warning:focus {
  background-color: #f7ecb5;
}
.bg-danger {
  background-color: #f2dede;
}
a.bg-danger:hover,
a.bg-danger:focus {
  background-color: #e4b9b9;
}
.page-header {
  padding-bottom: 8px;
  margin: 36px 0 18px;
  border-bottom: 1px solid #eeeeee;
}
ul,
ol {
  margin-top: 0;
  margin-bottom: 9px;
}
ul ul,
ol ul,
ul ol,
ol ol {
  margin-bottom: 0;
}
.list-unstyled {
  padding-left: 0;
  list-style: none;
}
.list-inline {
  padding-left: 0;
  list-style: none;
  margin-left: -5px;
}
.list-inline > li {
  display: inline-block;
  padding-left: 5px;
  padding-right: 5px;
}
dl {
  margin-top: 0;
  margin-bottom: 18px;
}
dt,
dd {
  line-height: 1.42857143;
}
dt {
  font-weight: bold;
}
dd {
  margin-left: 0;
}
@media (min-width: 541px) {
  .dl-horizontal dt {
    float: left;
    width: 160px;
    clear: left;
    text-align: right;
    overflow: hidden;
    text-overflow: ellipsis;
    white-space: nowrap;
  }
  .dl-horizontal dd {
    margin-left: 180px;
  }
}
abbr[title],
abbr[data-original-title] {
  cursor: help;
  border-bottom: 1px dotted #777777;
}
.initialism {
  font-size: 90%;
  text-transform: uppercase;
}
blockquote {
  padding: 9px 18px;
  margin: 0 0 18px;
  font-size: inherit;
  border-left: 5px solid #eeeeee;
}
blockquote p:last-child,
blockquote ul:last-child,
blockquote ol:last-child {
  margin-bottom: 0;
}
blockquote footer,
blockquote small,
blockquote .small {
  display: block;
  font-size: 80%;
  line-height: 1.42857143;
  color: #777777;
}
blockquote footer:before,
blockquote small:before,
blockquote .small:before {
  content: '\2014 \00A0';
}
.blockquote-reverse,
blockquote.pull-right {
  padding-right: 15px;
  padding-left: 0;
  border-right: 5px solid #eeeeee;
  border-left: 0;
  text-align: right;
}
.blockquote-reverse footer:before,
blockquote.pull-right footer:before,
.blockquote-reverse small:before,
blockquote.pull-right small:before,
.blockquote-reverse .small:before,
blockquote.pull-right .small:before {
  content: '';
}
.blockquote-reverse footer:after,
blockquote.pull-right footer:after,
.blockquote-reverse small:after,
blockquote.pull-right small:after,
.blockquote-reverse .small:after,
blockquote.pull-right .small:after {
  content: '\00A0 \2014';
}
address {
  margin-bottom: 18px;
  font-style: normal;
  line-height: 1.42857143;
}
code,
kbd,
pre,
samp {
  font-family: monospace;
}
code {
  padding: 2px 4px;
  font-size: 90%;
  color: #c7254e;
  background-color: #f9f2f4;
  border-radius: 2px;
}
kbd {
  padding: 2px 4px;
  font-size: 90%;
  color: #888;
  background-color: transparent;
  border-radius: 1px;
  box-shadow: inset 0 -1px 0 rgba(0, 0, 0, 0.25);
}
kbd kbd {
  padding: 0;
  font-size: 100%;
  font-weight: bold;
  box-shadow: none;
}
pre {
  display: block;
  padding: 8.5px;
  margin: 0 0 9px;
  font-size: 12px;
  line-height: 1.42857143;
  word-break: break-all;
  word-wrap: break-word;
  color: #333333;
  background-color: #f5f5f5;
  border: 1px solid #ccc;
  border-radius: 2px;
}
pre code {
  padding: 0;
  font-size: inherit;
  color: inherit;
  white-space: pre-wrap;
  background-color: transparent;
  border-radius: 0;
}
.pre-scrollable {
  max-height: 340px;
  overflow-y: scroll;
}
.container {
  margin-right: auto;
  margin-left: auto;
  padding-left: 0px;
  padding-right: 0px;
}
@media (min-width: 768px) {
  .container {
    width: 768px;
  }
}
@media (min-width: 992px) {
  .container {
    width: 940px;
  }
}
@media (min-width: 1200px) {
  .container {
    width: 1140px;
  }
}
.container-fluid {
  margin-right: auto;
  margin-left: auto;
  padding-left: 0px;
  padding-right: 0px;
}
.row {
  margin-left: 0px;
  margin-right: 0px;
}
.col-xs-1, .col-sm-1, .col-md-1, .col-lg-1, .col-xs-2, .col-sm-2, .col-md-2, .col-lg-2, .col-xs-3, .col-sm-3, .col-md-3, .col-lg-3, .col-xs-4, .col-sm-4, .col-md-4, .col-lg-4, .col-xs-5, .col-sm-5, .col-md-5, .col-lg-5, .col-xs-6, .col-sm-6, .col-md-6, .col-lg-6, .col-xs-7, .col-sm-7, .col-md-7, .col-lg-7, .col-xs-8, .col-sm-8, .col-md-8, .col-lg-8, .col-xs-9, .col-sm-9, .col-md-9, .col-lg-9, .col-xs-10, .col-sm-10, .col-md-10, .col-lg-10, .col-xs-11, .col-sm-11, .col-md-11, .col-lg-11, .col-xs-12, .col-sm-12, .col-md-12, .col-lg-12 {
  position: relative;
  min-height: 1px;
  padding-left: 0px;
  padding-right: 0px;
}
.col-xs-1, .col-xs-2, .col-xs-3, .col-xs-4, .col-xs-5, .col-xs-6, .col-xs-7, .col-xs-8, .col-xs-9, .col-xs-10, .col-xs-11, .col-xs-12 {
  float: left;
}
.col-xs-12 {
  width: 100%;
}
.col-xs-11 {
  width: 91.66666667%;
}
.col-xs-10 {
  width: 83.33333333%;
}
.col-xs-9 {
  width: 75%;
}
.col-xs-8 {
  width: 66.66666667%;
}
.col-xs-7 {
  width: 58.33333333%;
}
.col-xs-6 {
  width: 50%;
}
.col-xs-5 {
  width: 41.66666667%;
}
.col-xs-4 {
  width: 33.33333333%;
}
.col-xs-3 {
  width: 25%;
}
.col-xs-2 {
  width: 16.66666667%;
}
.col-xs-1 {
  width: 8.33333333%;
}
.col-xs-pull-12 {
  right: 100%;
}
.col-xs-pull-11 {
  right: 91.66666667%;
}
.col-xs-pull-10 {
  right: 83.33333333%;
}
.col-xs-pull-9 {
  right: 75%;
}
.col-xs-pull-8 {
  right: 66.66666667%;
}
.col-xs-pull-7 {
  right: 58.33333333%;
}
.col-xs-pull-6 {
  right: 50%;
}
.col-xs-pull-5 {
  right: 41.66666667%;
}
.col-xs-pull-4 {
  right: 33.33333333%;
}
.col-xs-pull-3 {
  right: 25%;
}
.col-xs-pull-2 {
  right: 16.66666667%;
}
.col-xs-pull-1 {
  right: 8.33333333%;
}
.col-xs-pull-0 {
  right: auto;
}
.col-xs-push-12 {
  left: 100%;
}
.col-xs-push-11 {
  left: 91.66666667%;
}
.col-xs-push-10 {
  left: 83.33333333%;
}
.col-xs-push-9 {
  left: 75%;
}
.col-xs-push-8 {
  left: 66.66666667%;
}
.col-xs-push-7 {
  left: 58.33333333%;
}
.col-xs-push-6 {
  left: 50%;
}
.col-xs-push-5 {
  left: 41.66666667%;
}
.col-xs-push-4 {
  left: 33.33333333%;
}
.col-xs-push-3 {
  left: 25%;
}
.col-xs-push-2 {
  left: 16.66666667%;
}
.col-xs-push-1 {
  left: 8.33333333%;
}
.col-xs-push-0 {
  left: auto;
}
.col-xs-offset-12 {
  margin-left: 100%;
}
.col-xs-offset-11 {
  margin-left: 91.66666667%;
}
.col-xs-offset-10 {
  margin-left: 83.33333333%;
}
.col-xs-offset-9 {
  margin-left: 75%;
}
.col-xs-offset-8 {
  margin-left: 66.66666667%;
}
.col-xs-offset-7 {
  margin-left: 58.33333333%;
}
.col-xs-offset-6 {
  margin-left: 50%;
}
.col-xs-offset-5 {
  margin-left: 41.66666667%;
}
.col-xs-offset-4 {
  margin-left: 33.33333333%;
}
.col-xs-offset-3 {
  margin-left: 25%;
}
.col-xs-offset-2 {
  margin-left: 16.66666667%;
}
.col-xs-offset-1 {
  margin-left: 8.33333333%;
}
.col-xs-offset-0 {
  margin-left: 0%;
}
@media (min-width: 768px) {
  .col-sm-1, .col-sm-2, .col-sm-3, .col-sm-4, .col-sm-5, .col-sm-6, .col-sm-7, .col-sm-8, .col-sm-9, .col-sm-10, .col-sm-11, .col-sm-12 {
    float: left;
  }
  .col-sm-12 {
    width: 100%;
  }
  .col-sm-11 {
    width: 91.66666667%;
  }
  .col-sm-10 {
    width: 83.33333333%;
  }
  .col-sm-9 {
    width: 75%;
  }
  .col-sm-8 {
    width: 66.66666667%;
  }
  .col-sm-7 {
    width: 58.33333333%;
  }
  .col-sm-6 {
    width: 50%;
  }
  .col-sm-5 {
    width: 41.66666667%;
  }
  .col-sm-4 {
    width: 33.33333333%;
  }
  .col-sm-3 {
    width: 25%;
  }
  .col-sm-2 {
    width: 16.66666667%;
  }
  .col-sm-1 {
    width: 8.33333333%;
  }
  .col-sm-pull-12 {
    right: 100%;
  }
  .col-sm-pull-11 {
    right: 91.66666667%;
  }
  .col-sm-pull-10 {
    right: 83.33333333%;
  }
  .col-sm-pull-9 {
    right: 75%;
  }
  .col-sm-pull-8 {
    right: 66.66666667%;
  }
  .col-sm-pull-7 {
    right: 58.33333333%;
  }
  .col-sm-pull-6 {
    right: 50%;
  }
  .col-sm-pull-5 {
    right: 41.66666667%;
  }
  .col-sm-pull-4 {
    right: 33.33333333%;
  }
  .col-sm-pull-3 {
    right: 25%;
  }
  .col-sm-pull-2 {
    right: 16.66666667%;
  }
  .col-sm-pull-1 {
    right: 8.33333333%;
  }
  .col-sm-pull-0 {
    right: auto;
  }
  .col-sm-push-12 {
    left: 100%;
  }
  .col-sm-push-11 {
    left: 91.66666667%;
  }
  .col-sm-push-10 {
    left: 83.33333333%;
  }
  .col-sm-push-9 {
    left: 75%;
  }
  .col-sm-push-8 {
    left: 66.66666667%;
  }
  .col-sm-push-7 {
    left: 58.33333333%;
  }
  .col-sm-push-6 {
    left: 50%;
  }
  .col-sm-push-5 {
    left: 41.66666667%;
  }
  .col-sm-push-4 {
    left: 33.33333333%;
  }
  .col-sm-push-3 {
    left: 25%;
  }
  .col-sm-push-2 {
    left: 16.66666667%;
  }
  .col-sm-push-1 {
    left: 8.33333333%;
  }
  .col-sm-push-0 {
    left: auto;
  }
  .col-sm-offset-12 {
    margin-left: 100%;
  }
  .col-sm-offset-11 {
    margin-left: 91.66666667%;
  }
  .col-sm-offset-10 {
    margin-left: 83.33333333%;
  }
  .col-sm-offset-9 {
    margin-left: 75%;
  }
  .col-sm-offset-8 {
    margin-left: 66.66666667%;
  }
  .col-sm-offset-7 {
    margin-left: 58.33333333%;
  }
  .col-sm-offset-6 {
    margin-left: 50%;
  }
  .col-sm-offset-5 {
    margin-left: 41.66666667%;
  }
  .col-sm-offset-4 {
    margin-left: 33.33333333%;
  }
  .col-sm-offset-3 {
    margin-left: 25%;
  }
  .col-sm-offset-2 {
    margin-left: 16.66666667%;
  }
  .col-sm-offset-1 {
    margin-left: 8.33333333%;
  }
  .col-sm-offset-0 {
    margin-left: 0%;
  }
}
@media (min-width: 992px) {
  .col-md-1, .col-md-2, .col-md-3, .col-md-4, .col-md-5, .col-md-6, .col-md-7, .col-md-8, .col-md-9, .col-md-10, .col-md-11, .col-md-12 {
    float: left;
  }
  .col-md-12 {
    width: 100%;
  }
  .col-md-11 {
    width: 91.66666667%;
  }
  .col-md-10 {
    width: 83.33333333%;
  }
  .col-md-9 {
    width: 75%;
  }
  .col-md-8 {
    width: 66.66666667%;
  }
  .col-md-7 {
    width: 58.33333333%;
  }
  .col-md-6 {
    width: 50%;
  }
  .col-md-5 {
    width: 41.66666667%;
  }
  .col-md-4 {
    width: 33.33333333%;
  }
  .col-md-3 {
    width: 25%;
  }
  .col-md-2 {
    width: 16.66666667%;
  }
  .col-md-1 {
    width: 8.33333333%;
  }
  .col-md-pull-12 {
    right: 100%;
  }
  .col-md-pull-11 {
    right: 91.66666667%;
  }
  .col-md-pull-10 {
    right: 83.33333333%;
  }
  .col-md-pull-9 {
    right: 75%;
  }
  .col-md-pull-8 {
    right: 66.66666667%;
  }
  .col-md-pull-7 {
    right: 58.33333333%;
  }
  .col-md-pull-6 {
    right: 50%;
  }
  .col-md-pull-5 {
    right: 41.66666667%;
  }
  .col-md-pull-4 {
    right: 33.33333333%;
  }
  .col-md-pull-3 {
    right: 25%;
  }
  .col-md-pull-2 {
    right: 16.66666667%;
  }
  .col-md-pull-1 {
    right: 8.33333333%;
  }
  .col-md-pull-0 {
    right: auto;
  }
  .col-md-push-12 {
    left: 100%;
  }
  .col-md-push-11 {
    left: 91.66666667%;
  }
  .col-md-push-10 {
    left: 83.33333333%;
  }
  .col-md-push-9 {
    left: 75%;
  }
  .col-md-push-8 {
    left: 66.66666667%;
  }
  .col-md-push-7 {
    left: 58.33333333%;
  }
  .col-md-push-6 {
    left: 50%;
  }
  .col-md-push-5 {
    left: 41.66666667%;
  }
  .col-md-push-4 {
    left: 33.33333333%;
  }
  .col-md-push-3 {
    left: 25%;
  }
  .col-md-push-2 {
    left: 16.66666667%;
  }
  .col-md-push-1 {
    left: 8.33333333%;
  }
  .col-md-push-0 {
    left: auto;
  }
  .col-md-offset-12 {
    margin-left: 100%;
  }
  .col-md-offset-11 {
    margin-left: 91.66666667%;
  }
  .col-md-offset-10 {
    margin-left: 83.33333333%;
  }
  .col-md-offset-9 {
    margin-left: 75%;
  }
  .col-md-offset-8 {
    margin-left: 66.66666667%;
  }
  .col-md-offset-7 {
    margin-left: 58.33333333%;
  }
  .col-md-offset-6 {
    margin-left: 50%;
  }
  .col-md-offset-5 {
    margin-left: 41.66666667%;
  }
  .col-md-offset-4 {
    margin-left: 33.33333333%;
  }
  .col-md-offset-3 {
    margin-left: 25%;
  }
  .col-md-offset-2 {
    margin-left: 16.66666667%;
  }
  .col-md-offset-1 {
    margin-left: 8.33333333%;
  }
  .col-md-offset-0 {
    margin-left: 0%;
  }
}
@media (min-width: 1200px) {
  .col-lg-1, .col-lg-2, .col-lg-3, .col-lg-4, .col-lg-5, .col-lg-6, .col-lg-7, .col-lg-8, .col-lg-9, .col-lg-10, .col-lg-11, .col-lg-12 {
    float: left;
  }
  .col-lg-12 {
    width: 100%;
  }
  .col-lg-11 {
    width: 91.66666667%;
  }
  .col-lg-10 {
    width: 83.33333333%;
  }
  .col-lg-9 {
    width: 75%;
  }
  .col-lg-8 {
    width: 66.66666667%;
  }
  .col-lg-7 {
    width: 58.33333333%;
  }
  .col-lg-6 {
    width: 50%;
  }
  .col-lg-5 {
    width: 41.66666667%;
  }
  .col-lg-4 {
    width: 33.33333333%;
  }
  .col-lg-3 {
    width: 25%;
  }
  .col-lg-2 {
    width: 16.66666667%;
  }
  .col-lg-1 {
    width: 8.33333333%;
  }
  .col-lg-pull-12 {
    right: 100%;
  }
  .col-lg-pull-11 {
    right: 91.66666667%;
  }
  .col-lg-pull-10 {
    right: 83.33333333%;
  }
  .col-lg-pull-9 {
    right: 75%;
  }
  .col-lg-pull-8 {
    right: 66.66666667%;
  }
  .col-lg-pull-7 {
    right: 58.33333333%;
  }
  .col-lg-pull-6 {
    right: 50%;
  }
  .col-lg-pull-5 {
    right: 41.66666667%;
  }
  .col-lg-pull-4 {
    right: 33.33333333%;
  }
  .col-lg-pull-3 {
    right: 25%;
  }
  .col-lg-pull-2 {
    right: 16.66666667%;
  }
  .col-lg-pull-1 {
    right: 8.33333333%;
  }
  .col-lg-pull-0 {
    right: auto;
  }
  .col-lg-push-12 {
    left: 100%;
  }
  .col-lg-push-11 {
    left: 91.66666667%;
  }
  .col-lg-push-10 {
    left: 83.33333333%;
  }
  .col-lg-push-9 {
    left: 75%;
  }
  .col-lg-push-8 {
    left: 66.66666667%;
  }
  .col-lg-push-7 {
    left: 58.33333333%;
  }
  .col-lg-push-6 {
    left: 50%;
  }
  .col-lg-push-5 {
    left: 41.66666667%;
  }
  .col-lg-push-4 {
    left: 33.33333333%;
  }
  .col-lg-push-3 {
    left: 25%;
  }
  .col-lg-push-2 {
    left: 16.66666667%;
  }
  .col-lg-push-1 {
    left: 8.33333333%;
  }
  .col-lg-push-0 {
    left: auto;
  }
  .col-lg-offset-12 {
    margin-left: 100%;
  }
  .col-lg-offset-11 {
    margin-left: 91.66666667%;
  }
  .col-lg-offset-10 {
    margin-left: 83.33333333%;
  }
  .col-lg-offset-9 {
    margin-left: 75%;
  }
  .col-lg-offset-8 {
    margin-left: 66.66666667%;
  }
  .col-lg-offset-7 {
    margin-left: 58.33333333%;
  }
  .col-lg-offset-6 {
    margin-left: 50%;
  }
  .col-lg-offset-5 {
    margin-left: 41.66666667%;
  }
  .col-lg-offset-4 {
    margin-left: 33.33333333%;
  }
  .col-lg-offset-3 {
    margin-left: 25%;
  }
  .col-lg-offset-2 {
    margin-left: 16.66666667%;
  }
  .col-lg-offset-1 {
    margin-left: 8.33333333%;
  }
  .col-lg-offset-0 {
    margin-left: 0%;
  }
}
table {
  background-color: transparent;
}
caption {
  padding-top: 8px;
  padding-bottom: 8px;
  color: #777777;
  text-align: left;
}
th {
  text-align: left;
}
.table {
  width: 100%;
  max-width: 100%;
  margin-bottom: 18px;
}
.table > thead > tr > th,
.table > tbody > tr > th,
.table > tfoot > tr > th,
.table > thead > tr > td,
.table > tbody > tr > td,
.table > tfoot > tr > td {
  padding: 8px;
  line-height: 1.42857143;
  vertical-align: top;
  border-top: 1px solid #ddd;
}
.table > thead > tr > th {
  vertical-align: bottom;
  border-bottom: 2px solid #ddd;
}
.table > caption + thead > tr:first-child > th,
.table > colgroup + thead > tr:first-child > th,
.table > thead:first-child > tr:first-child > th,
.table > caption + thead > tr:first-child > td,
.table > colgroup + thead > tr:first-child > td,
.table > thead:first-child > tr:first-child > td {
  border-top: 0;
}
.table > tbody + tbody {
  border-top: 2px solid #ddd;
}
.table .table {
  background-color: #fff;
}
.table-condensed > thead > tr > th,
.table-condensed > tbody > tr > th,
.table-condensed > tfoot > tr > th,
.table-condensed > thead > tr > td,
.table-condensed > tbody > tr > td,
.table-condensed > tfoot > tr > td {
  padding: 5px;
}
.table-bordered {
  border: 1px solid #ddd;
}
.table-bordered > thead > tr > th,
.table-bordered > tbody > tr > th,
.table-bordered > tfoot > tr > th,
.table-bordered > thead > tr > td,
.table-bordered > tbody > tr > td,
.table-bordered > tfoot > tr > td {
  border: 1px solid #ddd;
}
.table-bordered > thead > tr > th,
.table-bordered > thead > tr > td {
  border-bottom-width: 2px;
}
.table-striped > tbody > tr:nth-of-type(odd) {
  background-color: #f9f9f9;
}
.table-hover > tbody > tr:hover {
  background-color: #f5f5f5;
}
table col[class*="col-"] {
  position: static;
  float: none;
  display: table-column;
}
table td[class*="col-"],
table th[class*="col-"] {
  position: static;
  float: none;
  display: table-cell;
}
.table > thead > tr > td.active,
.table > tbody > tr > td.active,
.table > tfoot > tr > td.active,
.table > thead > tr > th.active,
.table > tbody > tr > th.active,
.table > tfoot > tr > th.active,
.table > thead > tr.active > td,
.table > tbody > tr.active > td,
.table > tfoot > tr.active > td,
.table > thead > tr.active > th,
.table > tbody > tr.active > th,
.table > tfoot > tr.active > th {
  background-color: #f5f5f5;
}
.table-hover > tbody > tr > td.active:hover,
.table-hover > tbody > tr > th.active:hover,
.table-hover > tbody > tr.active:hover > td,
.table-hover > tbody > tr:hover > .active,
.table-hover > tbody > tr.active:hover > th {
  background-color: #e8e8e8;
}
.table > thead > tr > td.success,
.table > tbody > tr > td.success,
.table > tfoot > tr > td.success,
.table > thead > tr > th.success,
.table > tbody > tr > th.success,
.table > tfoot > tr > th.success,
.table > thead > tr.success > td,
.table > tbody > tr.success > td,
.table > tfoot > tr.success > td,
.table > thead > tr.success > th,
.table > tbody > tr.success > th,
.table > tfoot > tr.success > th {
  background-color: #dff0d8;
}
.table-hover > tbody > tr > td.success:hover,
.table-hover > tbody > tr > th.success:hover,
.table-hover > tbody > tr.success:hover > td,
.table-hover > tbody > tr:hover > .success,
.table-hover > tbody > tr.success:hover > th {
  background-color: #d0e9c6;
}
.table > thead > tr > td.info,
.table > tbody > tr > td.info,
.table > tfoot > tr > td.info,
.table > thead > tr > th.info,
.table > tbody > tr > th.info,
.table > tfoot > tr > th.info,
.table > thead > tr.info > td,
.table > tbody > tr.info > td,
.table > tfoot > tr.info > td,
.table > thead > tr.info > th,
.table > tbody > tr.info > th,
.table > tfoot > tr.info > th {
  background-color: #d9edf7;
}
.table-hover > tbody > tr > td.info:hover,
.table-hover > tbody > tr > th.info:hover,
.table-hover > tbody > tr.info:hover > td,
.table-hover > tbody > tr:hover > .info,
.table-hover > tbody > tr.info:hover > th {
  background-color: #c4e3f3;
}
.table > thead > tr > td.warning,
.table > tbody > tr > td.warning,
.table > tfoot > tr > td.warning,
.table > thead > tr > th.warning,
.table > tbody > tr > th.warning,
.table > tfoot > tr > th.warning,
.table > thead > tr.warning > td,
.table > tbody > tr.warning > td,
.table > tfoot > tr.warning > td,
.table > thead > tr.warning > th,
.table > tbody > tr.warning > th,
.table > tfoot > tr.warning > th {
  background-color: #fcf8e3;
}
.table-hover > tbody > tr > td.warning:hover,
.table-hover > tbody > tr > th.warning:hover,
.table-hover > tbody > tr.warning:hover > td,
.table-hover > tbody > tr:hover > .warning,
.table-hover > tbody > tr.warning:hover > th {
  background-color: #faf2cc;
}
.table > thead > tr > td.danger,
.table > tbody > tr > td.danger,
.table > tfoot > tr > td.danger,
.table > thead > tr > th.danger,
.table > tbody > tr > th.danger,
.table > tfoot > tr > th.danger,
.table > thead > tr.danger > td,
.table > tbody > tr.danger > td,
.table > tfoot > tr.danger > td,
.table > thead > tr.danger > th,
.table > tbody > tr.danger > th,
.table > tfoot > tr.danger > th {
  background-color: #f2dede;
}
.table-hover > tbody > tr > td.danger:hover,
.table-hover > tbody > tr > th.danger:hover,
.table-hover > tbody > tr.danger:hover > td,
.table-hover > tbody > tr:hover > .danger,
.table-hover > tbody > tr.danger:hover > th {
  background-color: #ebcccc;
}
.table-responsive {
  overflow-x: auto;
  min-height: 0.01%;
}
@media screen and (max-width: 767px) {
  .table-responsive {
    width: 100%;
    margin-bottom: 13.5px;
    overflow-y: hidden;
    -ms-overflow-style: -ms-autohiding-scrollbar;
    border: 1px solid #ddd;
  }
  .table-responsive > .table {
    margin-bottom: 0;
  }
  .table-responsive > .table > thead > tr > th,
  .table-responsive > .table > tbody > tr > th,
  .table-responsive > .table > tfoot > tr > th,
  .table-responsive > .table > thead > tr > td,
  .table-responsive > .table > tbody > tr > td,
  .table-responsive > .table > tfoot > tr > td {
    white-space: nowrap;
  }
  .table-responsive > .table-bordered {
    border: 0;
  }
  .table-responsive > .table-bordered > thead > tr > th:first-child,
  .table-responsive > .table-bordered > tbody > tr > th:first-child,
  .table-responsive > .table-bordered > tfoot > tr > th:first-child,
  .table-responsive > .table-bordered > thead > tr > td:first-child,
  .table-responsive > .table-bordered > tbody > tr > td:first-child,
  .table-responsive > .table-bordered > tfoot > tr > td:first-child {
    border-left: 0;
  }
  .table-responsive > .table-bordered > thead > tr > th:last-child,
  .table-responsive > .table-bordered > tbody > tr > th:last-child,
  .table-responsive > .table-bordered > tfoot > tr > th:last-child,
  .table-responsive > .table-bordered > thead > tr > td:last-child,
  .table-responsive > .table-bordered > tbody > tr > td:last-child,
  .table-responsive > .table-bordered > tfoot > tr > td:last-child {
    border-right: 0;
  }
  .table-responsive > .table-bordered > tbody > tr:last-child > th,
  .table-responsive > .table-bordered > tfoot > tr:last-child > th,
  .table-responsive > .table-bordered > tbody > tr:last-child > td,
  .table-responsive > .table-bordered > tfoot > tr:last-child > td {
    border-bottom: 0;
  }
}
fieldset {
  padding: 0;
  margin: 0;
  border: 0;
  min-width: 0;
}
legend {
  display: block;
  width: 100%;
  padding: 0;
  margin-bottom: 18px;
  font-size: 19.5px;
  line-height: inherit;
  color: #333333;
  border: 0;
  border-bottom: 1px solid #e5e5e5;
}
label {
  display: inline-block;
  max-width: 100%;
  margin-bottom: 5px;
  font-weight: bold;
}
input[type="search"] {
  -webkit-box-sizing: border-box;
  -moz-box-sizing: border-box;
  box-sizing: border-box;
}
input[type="radio"],
input[type="checkbox"] {
  margin: 4px 0 0;
  margin-top: 1px \9;
  line-height: normal;
}
input[type="file"] {
  display: block;
}
input[type="range"] {
  display: block;
  width: 100%;
}
select[multiple],
select[size] {
  height: auto;
}
input[type="file"]:focus,
input[type="radio"]:focus,
input[type="checkbox"]:focus {
  outline: 5px auto -webkit-focus-ring-color;
  outline-offset: -2px;
}
output {
  display: block;
  padding-top: 7px;
  font-size: 13px;
  line-height: 1.42857143;
  color: #555555;
}
.form-control {
  display: block;
  width: 100%;
  height: 32px;
  padding: 6px 12px;
  font-size: 13px;
  line-height: 1.42857143;
  color: #555555;
  background-color: #fff;
  background-image: none;
  border: 1px solid #ccc;
  border-radius: 2px;
  -webkit-box-shadow: inset 0 1px 1px rgba(0, 0, 0, 0.075);
  box-shadow: inset 0 1px 1px rgba(0, 0, 0, 0.075);
  -webkit-transition: border-color ease-in-out .15s, box-shadow ease-in-out .15s;
  -o-transition: border-color ease-in-out .15s, box-shadow ease-in-out .15s;
  transition: border-color ease-in-out .15s, box-shadow ease-in-out .15s;
}
.form-control:focus {
  border-color: #66afe9;
  outline: 0;
  -webkit-box-shadow: inset 0 1px 1px rgba(0,0,0,.075), 0 0 8px rgba(102, 175, 233, 0.6);
  box-shadow: inset 0 1px 1px rgba(0,0,0,.075), 0 0 8px rgba(102, 175, 233, 0.6);
}
.form-control::-moz-placeholder {
  color: #999;
  opacity: 1;
}
.form-control:-ms-input-placeholder {
  color: #999;
}
.form-control::-webkit-input-placeholder {
  color: #999;
}
.form-control::-ms-expand {
  border: 0;
  background-color: transparent;
}
.form-control[disabled],
.form-control[readonly],
fieldset[disabled] .form-control {
  background-color: #eeeeee;
  opacity: 1;
}
.form-control[disabled],
fieldset[disabled] .form-control {
  cursor: not-allowed;
}
textarea.form-control {
  height: auto;
}
input[type="search"] {
  -webkit-appearance: none;
}
@media screen and (-webkit-min-device-pixel-ratio: 0) {
  input[type="date"].form-control,
  input[type="time"].form-control,
  input[type="datetime-local"].form-control,
  input[type="month"].form-control {
    line-height: 32px;
  }
  input[type="date"].input-sm,
  input[type="time"].input-sm,
  input[type="datetime-local"].input-sm,
  input[type="month"].input-sm,
  .input-group-sm input[type="date"],
  .input-group-sm input[type="time"],
  .input-group-sm input[type="datetime-local"],
  .input-group-sm input[type="month"] {
    line-height: 30px;
  }
  input[type="date"].input-lg,
  input[type="time"].input-lg,
  input[type="datetime-local"].input-lg,
  input[type="month"].input-lg,
  .input-group-lg input[type="date"],
  .input-group-lg input[type="time"],
  .input-group-lg input[type="datetime-local"],
  .input-group-lg input[type="month"] {
    line-height: 45px;
  }
}
.form-group {
  margin-bottom: 15px;
}
.radio,
.checkbox {
  position: relative;
  display: block;
  margin-top: 10px;
  margin-bottom: 10px;
}
.radio label,
.checkbox label {
  min-height: 18px;
  padding-left: 20px;
  margin-bottom: 0;
  font-weight: normal;
  cursor: pointer;
}
.radio input[type="radio"],
.radio-inline input[type="radio"],
.checkbox input[type="checkbox"],
.checkbox-inline input[type="checkbox"] {
  position: absolute;
  margin-left: -20px;
  margin-top: 4px \9;
}
.radio + .radio,
.checkbox + .checkbox {
  margin-top: -5px;
}
.radio-inline,
.checkbox-inline {
  position: relative;
  display: inline-block;
  padding-left: 20px;
  margin-bottom: 0;
  vertical-align: middle;
  font-weight: normal;
  cursor: pointer;
}
.radio-inline + .radio-inline,
.checkbox-inline + .checkbox-inline {
  margin-top: 0;
  margin-left: 10px;
}
input[type="radio"][disabled],
input[type="checkbox"][disabled],
input[type="radio"].disabled,
input[type="checkbox"].disabled,
fieldset[disabled] input[type="radio"],
fieldset[disabled] input[type="checkbox"] {
  cursor: not-allowed;
}
.radio-inline.disabled,
.checkbox-inline.disabled,
fieldset[disabled] .radio-inline,
fieldset[disabled] .checkbox-inline {
  cursor: not-allowed;
}
.radio.disabled label,
.checkbox.disabled label,
fieldset[disabled] .radio label,
fieldset[disabled] .checkbox label {
  cursor: not-allowed;
}
.form-control-static {
  padding-top: 7px;
  padding-bottom: 7px;
  margin-bottom: 0;
  min-height: 31px;
}
.form-control-static.input-lg,
.form-control-static.input-sm {
  padding-left: 0;
  padding-right: 0;
}
.input-sm {
  height: 30px;
  padding: 5px 10px;
  font-size: 12px;
  line-height: 1.5;
  border-radius: 1px;
}
select.input-sm {
  height: 30px;
  line-height: 30px;
}
textarea.input-sm,
select[multiple].input-sm {
  height: auto;
}
.form-group-sm .form-control {
  height: 30px;
  padding: 5px 10px;
  font-size: 12px;
  line-height: 1.5;
  border-radius: 1px;
}
.form-group-sm select.form-control {
  height: 30px;
  line-height: 30px;
}
.form-group-sm textarea.form-control,
.form-group-sm select[multiple].form-control {
  height: auto;
}
.form-group-sm .form-control-static {
  height: 30px;
  min-height: 30px;
  padding: 6px 10px;
  font-size: 12px;
  line-height: 1.5;
}
.input-lg {
  height: 45px;
  padding: 10px 16px;
  font-size: 17px;
  line-height: 1.3333333;
  border-radius: 3px;
}
select.input-lg {
  height: 45px;
  line-height: 45px;
}
textarea.input-lg,
select[multiple].input-lg {
  height: auto;
}
.form-group-lg .form-control {
  height: 45px;
  padding: 10px 16px;
  font-size: 17px;
  line-height: 1.3333333;
  border-radius: 3px;
}
.form-group-lg select.form-control {
  height: 45px;
  line-height: 45px;
}
.form-group-lg textarea.form-control,
.form-group-lg select[multiple].form-control {
  height: auto;
}
.form-group-lg .form-control-static {
  height: 45px;
  min-height: 35px;
  padding: 11px 16px;
  font-size: 17px;
  line-height: 1.3333333;
}
.has-feedback {
  position: relative;
}
.has-feedback .form-control {
  padding-right: 40px;
}
.form-control-feedback {
  position: absolute;
  top: 0;
  right: 0;
  z-index: 2;
  display: block;
  width: 32px;
  height: 32px;
  line-height: 32px;
  text-align: center;
  pointer-events: none;
}
.input-lg + .form-control-feedback,
.input-group-lg + .form-control-feedback,
.form-group-lg .form-control + .form-control-feedback {
  width: 45px;
  height: 45px;
  line-height: 45px;
}
.input-sm + .form-control-feedback,
.input-group-sm + .form-control-feedback,
.form-group-sm .form-control + .form-control-feedback {
  width: 30px;
  height: 30px;
  line-height: 30px;
}
.has-success .help-block,
.has-success .control-label,
.has-success .radio,
.has-success .checkbox,
.has-success .radio-inline,
.has-success .checkbox-inline,
.has-success.radio label,
.has-success.checkbox label,
.has-success.radio-inline label,
.has-success.checkbox-inline label {
  color: #3c763d;
}
.has-success .form-control {
  border-color: #3c763d;
  -webkit-box-shadow: inset 0 1px 1px rgba(0, 0, 0, 0.075);
  box-shadow: inset 0 1px 1px rgba(0, 0, 0, 0.075);
}
.has-success .form-control:focus {
  border-color: #2b542c;
  -webkit-box-shadow: inset 0 1px 1px rgba(0, 0, 0, 0.075), 0 0 6px #67b168;
  box-shadow: inset 0 1px 1px rgba(0, 0, 0, 0.075), 0 0 6px #67b168;
}
.has-success .input-group-addon {
  color: #3c763d;
  border-color: #3c763d;
  background-color: #dff0d8;
}
.has-success .form-control-feedback {
  color: #3c763d;
}
.has-warning .help-block,
.has-warning .control-label,
.has-warning .radio,
.has-warning .checkbox,
.has-warning .radio-inline,
.has-warning .checkbox-inline,
.has-warning.radio label,
.has-warning.checkbox label,
.has-warning.radio-inline label,
.has-warning.checkbox-inline label {
  color: #8a6d3b;
}
.has-warning .form-control {
  border-color: #8a6d3b;
  -webkit-box-shadow: inset 0 1px 1px rgba(0, 0, 0, 0.075);
  box-shadow: inset 0 1px 1px rgba(0, 0, 0, 0.075);
}
.has-warning .form-control:focus {
  border-color: #66512c;
  -webkit-box-shadow: inset 0 1px 1px rgba(0, 0, 0, 0.075), 0 0 6px #c0a16b;
  box-shadow: inset 0 1px 1px rgba(0, 0, 0, 0.075), 0 0 6px #c0a16b;
}
.has-warning .input-group-addon {
  color: #8a6d3b;
  border-color: #8a6d3b;
  background-color: #fcf8e3;
}
.has-warning .form-control-feedback {
  color: #8a6d3b;
}
.has-error .help-block,
.has-error .control-label,
.has-error .radio,
.has-error .checkbox,
.has-error .radio-inline,
.has-error .checkbox-inline,
.has-error.radio label,
.has-error.checkbox label,
.has-error.radio-inline label,
.has-error.checkbox-inline label {
  color: #a94442;
}
.has-error .form-control {
  border-color: #a94442;
  -webkit-box-shadow: inset 0 1px 1px rgba(0, 0, 0, 0.075);
  box-shadow: inset 0 1px 1px rgba(0, 0, 0, 0.075);
}
.has-error .form-control:focus {
  border-color: #843534;
  -webkit-box-shadow: inset 0 1px 1px rgba(0, 0, 0, 0.075), 0 0 6px #ce8483;
  box-shadow: inset 0 1px 1px rgba(0, 0, 0, 0.075), 0 0 6px #ce8483;
}
.has-error .input-group-addon {
  color: #a94442;
  border-color: #a94442;
  background-color: #f2dede;
}
.has-error .form-control-feedback {
  color: #a94442;
}
.has-feedback label ~ .form-control-feedback {
  top: 23px;
}
.has-feedback label.sr-only ~ .form-control-feedback {
  top: 0;
}
.help-block {
  display: block;
  margin-top: 5px;
  margin-bottom: 10px;
  color: #404040;
}
@media (min-width: 768px) {
  .form-inline .form-group {
    display: inline-block;
    margin-bottom: 0;
    vertical-align: middle;
  }
  .form-inline .form-control {
    display: inline-block;
    width: auto;
    vertical-align: middle;
  }
  .form-inline .form-control-static {
    display: inline-block;
  }
  .form-inline .input-group {
    display: inline-table;
    vertical-align: middle;
  }
  .form-inline .input-group .input-group-addon,
  .form-inline .input-group .input-group-btn,
  .form-inline .input-group .form-control {
    width: auto;
  }
  .form-inline .input-group > .form-control {
    width: 100%;
  }
  .form-inline .control-label {
    margin-bottom: 0;
    vertical-align: middle;
  }
  .form-inline .radio,
  .form-inline .checkbox {
    display: inline-block;
    margin-top: 0;
    margin-bottom: 0;
    vertical-align: middle;
  }
  .form-inline .radio label,
  .form-inline .checkbox label {
    padding-left: 0;
  }
  .form-inline .radio input[type="radio"],
  .form-inline .checkbox input[type="checkbox"] {
    position: relative;
    margin-left: 0;
  }
  .form-inline .has-feedback .form-control-feedback {
    top: 0;
  }
}
.form-horizontal .radio,
.form-horizontal .checkbox,
.form-horizontal .radio-inline,
.form-horizontal .checkbox-inline {
  margin-top: 0;
  margin-bottom: 0;
  padding-top: 7px;
}
.form-horizontal .radio,
.form-horizontal .checkbox {
  min-height: 25px;
}
.form-horizontal .form-group {
  margin-left: 0px;
  margin-right: 0px;
}
@media (min-width: 768px) {
  .form-horizontal .control-label {
    text-align: right;
    margin-bottom: 0;
    padding-top: 7px;
  }
}
.form-horizontal .has-feedback .form-control-feedback {
  right: 0px;
}
@media (min-width: 768px) {
  .form-horizontal .form-group-lg .control-label {
    padding-top: 11px;
    font-size: 17px;
  }
}
@media (min-width: 768px) {
  .form-horizontal .form-group-sm .control-label {
    padding-top: 6px;
    font-size: 12px;
  }
}
.btn {
  display: inline-block;
  margin-bottom: 0;
  font-weight: normal;
  text-align: center;
  vertical-align: middle;
  touch-action: manipulation;
  cursor: pointer;
  background-image: none;
  border: 1px solid transparent;
  white-space: nowrap;
  padding: 6px 12px;
  font-size: 13px;
  line-height: 1.42857143;
  border-radius: 2px;
  -webkit-user-select: none;
  -moz-user-select: none;
  -ms-user-select: none;
  user-select: none;
}
.btn:focus,
.btn:active:focus,
.btn.active:focus,
.btn.focus,
.btn:active.focus,
.btn.active.focus {
  outline: 5px auto -webkit-focus-ring-color;
  outline-offset: -2px;
}
.btn:hover,
.btn:focus,
.btn.focus {
  color: #333;
  text-decoration: none;
}
.btn:active,
.btn.active {
  outline: 0;
  background-image: none;
  -webkit-box-shadow: inset 0 3px 5px rgba(0, 0, 0, 0.125);
  box-shadow: inset 0 3px 5px rgba(0, 0, 0, 0.125);
}
.btn.disabled,
.btn[disabled],
fieldset[disabled] .btn {
  cursor: not-allowed;
  opacity: 0.65;
  filter: alpha(opacity=65);
  -webkit-box-shadow: none;
  box-shadow: none;
}
a.btn.disabled,
fieldset[disabled] a.btn {
  pointer-events: none;
}
.btn-default {
  color: #333;
  background-color: #fff;
  border-color: #ccc;
}
.btn-default:focus,
.btn-default.focus {
  color: #333;
  background-color: #e6e6e6;
  border-color: #8c8c8c;
}
.btn-default:hover {
  color: #333;
  background-color: #e6e6e6;
  border-color: #adadad;
}
.btn-default:active,
.btn-default.active,
.open > .dropdown-toggle.btn-default {
  color: #333;
  background-color: #e6e6e6;
  border-color: #adadad;
}
.btn-default:active:hover,
.btn-default.active:hover,
.open > .dropdown-toggle.btn-default:hover,
.btn-default:active:focus,
.btn-default.active:focus,
.open > .dropdown-toggle.btn-default:focus,
.btn-default:active.focus,
.btn-default.active.focus,
.open > .dropdown-toggle.btn-default.focus {
  color: #333;
  background-color: #d4d4d4;
  border-color: #8c8c8c;
}
.btn-default:active,
.btn-default.active,
.open > .dropdown-toggle.btn-default {
  background-image: none;
}
.btn-default.disabled:hover,
.btn-default[disabled]:hover,
fieldset[disabled] .btn-default:hover,
.btn-default.disabled:focus,
.btn-default[disabled]:focus,
fieldset[disabled] .btn-default:focus,
.btn-default.disabled.focus,
.btn-default[disabled].focus,
fieldset[disabled] .btn-default.focus {
  background-color: #fff;
  border-color: #ccc;
}
.btn-default .badge {
  color: #fff;
  background-color: #333;
}
.btn-primary {
  color: #fff;
  background-color: #337ab7;
  border-color: #2e6da4;
}
.btn-primary:focus,
.btn-primary.focus {
  color: #fff;
  background-color: #286090;
  border-color: #122b40;
}
.btn-primary:hover {
  color: #fff;
  background-color: #286090;
  border-color: #204d74;
}
.btn-primary:active,
.btn-primary.active,
.open > .dropdown-toggle.btn-primary {
  color: #fff;
  background-color: #286090;
  border-color: #204d74;
}
.btn-primary:active:hover,
.btn-primary.active:hover,
.open > .dropdown-toggle.btn-primary:hover,
.btn-primary:active:focus,
.btn-primary.active:focus,
.open > .dropdown-toggle.btn-primary:focus,
.btn-primary:active.focus,
.btn-primary.active.focus,
.open > .dropdown-toggle.btn-primary.focus {
  color: #fff;
  background-color: #204d74;
  border-color: #122b40;
}
.btn-primary:active,
.btn-primary.active,
.open > .dropdown-toggle.btn-primary {
  background-image: none;
}
.btn-primary.disabled:hover,
.btn-primary[disabled]:hover,
fieldset[disabled] .btn-primary:hover,
.btn-primary.disabled:focus,
.btn-primary[disabled]:focus,
fieldset[disabled] .btn-primary:focus,
.btn-primary.disabled.focus,
.btn-primary[disabled].focus,
fieldset[disabled] .btn-primary.focus {
  background-color: #337ab7;
  border-color: #2e6da4;
}
.btn-primary .badge {
  color: #337ab7;
  background-color: #fff;
}
.btn-success {
  color: #fff;
  background-color: #5cb85c;
  border-color: #4cae4c;
}
.btn-success:focus,
.btn-success.focus {
  color: #fff;
  background-color: #449d44;
  border-color: #255625;
}
.btn-success:hover {
  color: #fff;
  background-color: #449d44;
  border-color: #398439;
}
.btn-success:active,
.btn-success.active,
.open > .dropdown-toggle.btn-success {
  color: #fff;
  background-color: #449d44;
  border-color: #398439;
}
.btn-success:active:hover,
.btn-success.active:hover,
.open > .dropdown-toggle.btn-success:hover,
.btn-success:active:focus,
.btn-success.active:focus,
.open > .dropdown-toggle.btn-success:focus,
.btn-success:active.focus,
.btn-success.active.focus,
.open > .dropdown-toggle.btn-success.focus {
  color: #fff;
  background-color: #398439;
  border-color: #255625;
}
.btn-success:active,
.btn-success.active,
.open > .dropdown-toggle.btn-success {
  background-image: none;
}
.btn-success.disabled:hover,
.btn-success[disabled]:hover,
fieldset[disabled] .btn-success:hover,
.btn-success.disabled:focus,
.btn-success[disabled]:focus,
fieldset[disabled] .btn-success:focus,
.btn-success.disabled.focus,
.btn-success[disabled].focus,
fieldset[disabled] .btn-success.focus {
  background-color: #5cb85c;
  border-color: #4cae4c;
}
.btn-success .badge {
  color: #5cb85c;
  background-color: #fff;
}
.btn-info {
  color: #fff;
  background-color: #5bc0de;
  border-color: #46b8da;
}
.btn-info:focus,
.btn-info.focus {
  color: #fff;
  background-color: #31b0d5;
  border-color: #1b6d85;
}
.btn-info:hover {
  color: #fff;
  background-color: #31b0d5;
  border-color: #269abc;
}
.btn-info:active,
.btn-info.active,
.open > .dropdown-toggle.btn-info {
  color: #fff;
  background-color: #31b0d5;
  border-color: #269abc;
}
.btn-info:active:hover,
.btn-info.active:hover,
.open > .dropdown-toggle.btn-info:hover,
.btn-info:active:focus,
.btn-info.active:focus,
.open > .dropdown-toggle.btn-info:focus,
.btn-info:active.focus,
.btn-info.active.focus,
.open > .dropdown-toggle.btn-info.focus {
  color: #fff;
  background-color: #269abc;
  border-color: #1b6d85;
}
.btn-info:active,
.btn-info.active,
.open > .dropdown-toggle.btn-info {
  background-image: none;
}
.btn-info.disabled:hover,
.btn-info[disabled]:hover,
fieldset[disabled] .btn-info:hover,
.btn-info.disabled:focus,
.btn-info[disabled]:focus,
fieldset[disabled] .btn-info:focus,
.btn-info.disabled.focus,
.btn-info[disabled].focus,
fieldset[disabled] .btn-info.focus {
  background-color: #5bc0de;
  border-color: #46b8da;
}
.btn-info .badge {
  color: #5bc0de;
  background-color: #fff;
}
.btn-warning {
  color: #fff;
  background-color: #f0ad4e;
  border-color: #eea236;
}
.btn-warning:focus,
.btn-warning.focus {
  color: #fff;
  background-color: #ec971f;
  border-color: #985f0d;
}
.btn-warning:hover {
  color: #fff;
  background-color: #ec971f;
  border-color: #d58512;
}
.btn-warning:active,
.btn-warning.active,
.open > .dropdown-toggle.btn-warning {
  color: #fff;
  background-color: #ec971f;
  border-color: #d58512;
}
.btn-warning:active:hover,
.btn-warning.active:hover,
.open > .dropdown-toggle.btn-warning:hover,
.btn-warning:active:focus,
.btn-warning.active:focus,
.open > .dropdown-toggle.btn-warning:focus,
.btn-warning:active.focus,
.btn-warning.active.focus,
.open > .dropdown-toggle.btn-warning.focus {
  color: #fff;
  background-color: #d58512;
  border-color: #985f0d;
}
.btn-warning:active,
.btn-warning.active,
.open > .dropdown-toggle.btn-warning {
  background-image: none;
}
.btn-warning.disabled:hover,
.btn-warning[disabled]:hover,
fieldset[disabled] .btn-warning:hover,
.btn-warning.disabled:focus,
.btn-warning[disabled]:focus,
fieldset[disabled] .btn-warning:focus,
.btn-warning.disabled.focus,
.btn-warning[disabled].focus,
fieldset[disabled] .btn-warning.focus {
  background-color: #f0ad4e;
  border-color: #eea236;
}
.btn-warning .badge {
  color: #f0ad4e;
  background-color: #fff;
}
.btn-danger {
  color: #fff;
  background-color: #d9534f;
  border-color: #d43f3a;
}
.btn-danger:focus,
.btn-danger.focus {
  color: #fff;
  background-color: #c9302c;
  border-color: #761c19;
}
.btn-danger:hover {
  color: #fff;
  background-color: #c9302c;
  border-color: #ac2925;
}
.btn-danger:active,
.btn-danger.active,
.open > .dropdown-toggle.btn-danger {
  color: #fff;
  background-color: #c9302c;
  border-color: #ac2925;
}
.btn-danger:active:hover,
.btn-danger.active:hover,
.open > .dropdown-toggle.btn-danger:hover,
.btn-danger:active:focus,
.btn-danger.active:focus,
.open > .dropdown-toggle.btn-danger:focus,
.btn-danger:active.focus,
.btn-danger.active.focus,
.open > .dropdown-toggle.btn-danger.focus {
  color: #fff;
  background-color: #ac2925;
  border-color: #761c19;
}
.btn-danger:active,
.btn-danger.active,
.open > .dropdown-toggle.btn-danger {
  background-image: none;
}
.btn-danger.disabled:hover,
.btn-danger[disabled]:hover,
fieldset[disabled] .btn-danger:hover,
.btn-danger.disabled:focus,
.btn-danger[disabled]:focus,
fieldset[disabled] .btn-danger:focus,
.btn-danger.disabled.focus,
.btn-danger[disabled].focus,
fieldset[disabled] .btn-danger.focus {
  background-color: #d9534f;
  border-color: #d43f3a;
}
.btn-danger .badge {
  color: #d9534f;
  background-color: #fff;
}
.btn-link {
  color: #337ab7;
  font-weight: normal;
  border-radius: 0;
}
.btn-link,
.btn-link:active,
.btn-link.active,
.btn-link[disabled],
fieldset[disabled] .btn-link {
  background-color: transparent;
  -webkit-box-shadow: none;
  box-shadow: none;
}
.btn-link,
.btn-link:hover,
.btn-link:focus,
.btn-link:active {
  border-color: transparent;
}
.btn-link:hover,
.btn-link:focus {
  color: #23527c;
  text-decoration: underline;
  background-color: transparent;
}
.btn-link[disabled]:hover,
fieldset[disabled] .btn-link:hover,
.btn-link[disabled]:focus,
fieldset[disabled] .btn-link:focus {
  color: #777777;
  text-decoration: none;
}
.btn-lg,
.btn-group-lg > .btn {
  padding: 10px 16px;
  font-size: 17px;
  line-height: 1.3333333;
  border-radius: 3px;
}
.btn-sm,
.btn-group-sm > .btn {
  padding: 5px 10px;
  font-size: 12px;
  line-height: 1.5;
  border-radius: 1px;
}
.btn-xs,
.btn-group-xs > .btn {
  padding: 1px 5px;
  font-size: 12px;
  line-height: 1.5;
  border-radius: 1px;
}
.btn-block {
  display: block;
  width: 100%;
}
.btn-block + .btn-block {
  margin-top: 5px;
}
input[type="submit"].btn-block,
input[type="reset"].btn-block,
input[type="button"].btn-block {
  width: 100%;
}
.fade {
  opacity: 0;
  -webkit-transition: opacity 0.15s linear;
  -o-transition: opacity 0.15s linear;
  transition: opacity 0.15s linear;
}
.fade.in {
  opacity: 1;
}
.collapse {
  display: none;
}
.collapse.in {
  display: block;
}
tr.collapse.in {
  display: table-row;
}
tbody.collapse.in {
  display: table-row-group;
}
.collapsing {
  position: relative;
  height: 0;
  overflow: hidden;
  -webkit-transition-property: height, visibility;
  transition-property: height, visibility;
  -webkit-transition-duration: 0.35s;
  transition-duration: 0.35s;
  -webkit-transition-timing-function: ease;
  transition-timing-function: ease;
}
.caret {
  display: inline-block;
  width: 0;
  height: 0;
  margin-left: 2px;
  vertical-align: middle;
  border-top: 4px dashed;
  border-top: 4px solid \9;
  border-right: 4px solid transparent;
  border-left: 4px solid transparent;
}
.dropup,
.dropdown {
  position: relative;
}
.dropdown-toggle:focus {
  outline: 0;
}
.dropdown-menu {
  position: absolute;
  top: 100%;
  left: 0;
  z-index: 1000;
  display: none;
  float: left;
  min-width: 160px;
  padding: 5px 0;
  margin: 2px 0 0;
  list-style: none;
  font-size: 13px;
  text-align: left;
  background-color: #fff;
  border: 1px solid #ccc;
  border: 1px solid rgba(0, 0, 0, 0.15);
  border-radius: 2px;
  -webkit-box-shadow: 0 6px 12px rgba(0, 0, 0, 0.175);
  box-shadow: 0 6px 12px rgba(0, 0, 0, 0.175);
  background-clip: padding-box;
}
.dropdown-menu.pull-right {
  right: 0;
  left: auto;
}
.dropdown-menu .divider {
  height: 1px;
  margin: 8px 0;
  overflow: hidden;
  background-color: #e5e5e5;
}
.dropdown-menu > li > a {
  display: block;
  padding: 3px 20px;
  clear: both;
  font-weight: normal;
  line-height: 1.42857143;
  color: #333333;
  white-space: nowrap;
}
.dropdown-menu > li > a:hover,
.dropdown-menu > li > a:focus {
  text-decoration: none;
  color: #262626;
  background-color: #f5f5f5;
}
.dropdown-menu > .active > a,
.dropdown-menu > .active > a:hover,
.dropdown-menu > .active > a:focus {
  color: #fff;
  text-decoration: none;
  outline: 0;
  background-color: #337ab7;
}
.dropdown-menu > .disabled > a,
.dropdown-menu > .disabled > a:hover,
.dropdown-menu > .disabled > a:focus {
  color: #777777;
}
.dropdown-menu > .disabled > a:hover,
.dropdown-menu > .disabled > a:focus {
  text-decoration: none;
  background-color: transparent;
  background-image: none;
  filter: progid:DXImageTransform.Microsoft.gradient(enabled = false);
  cursor: not-allowed;
}
.open > .dropdown-menu {
  display: block;
}
.open > a {
  outline: 0;
}
.dropdown-menu-right {
  left: auto;
  right: 0;
}
.dropdown-menu-left {
  left: 0;
  right: auto;
}
.dropdown-header {
  display: block;
  padding: 3px 20px;
  font-size: 12px;
  line-height: 1.42857143;
  color: #777777;
  white-space: nowrap;
}
.dropdown-backdrop {
  position: fixed;
  left: 0;
  right: 0;
  bottom: 0;
  top: 0;
  z-index: 990;
}
.pull-right > .dropdown-menu {
  right: 0;
  left: auto;
}
.dropup .caret,
.navbar-fixed-bottom .dropdown .caret {
  border-top: 0;
  border-bottom: 4px dashed;
  border-bottom: 4px solid \9;
  content: "";
}
.dropup .dropdown-menu,
.navbar-fixed-bottom .dropdown .dropdown-menu {
  top: auto;
  bottom: 100%;
  margin-bottom: 2px;
}
@media (min-width: 541px) {
  .navbar-right .dropdown-menu {
    left: auto;
    right: 0;
  }
  .navbar-right .dropdown-menu-left {
    left: 0;
    right: auto;
  }
}
.btn-group,
.btn-group-vertical {
  position: relative;
  display: inline-block;
  vertical-align: middle;
}
.btn-group > .btn,
.btn-group-vertical > .btn {
  position: relative;
  float: left;
}
.btn-group > .btn:hover,
.btn-group-vertical > .btn:hover,
.btn-group > .btn:focus,
.btn-group-vertical > .btn:focus,
.btn-group > .btn:active,
.btn-group-vertical > .btn:active,
.btn-group > .btn.active,
.btn-group-vertical > .btn.active {
  z-index: 2;
}
.btn-group .btn + .btn,
.btn-group .btn + .btn-group,
.btn-group .btn-group + .btn,
.btn-group .btn-group + .btn-group {
  margin-left: -1px;
}
.btn-toolbar {
  margin-left: -5px;
}
.btn-toolbar .btn,
.btn-toolbar .btn-group,
.btn-toolbar .input-group {
  float: left;
}
.btn-toolbar > .btn,
.btn-toolbar > .btn-group,
.btn-toolbar > .input-group {
  margin-left: 5px;
}
.btn-group > .btn:not(:first-child):not(:last-child):not(.dropdown-toggle) {
  border-radius: 0;
}
.btn-group > .btn:first-child {
  margin-left: 0;
}
.btn-group > .btn:first-child:not(:last-child):not(.dropdown-toggle) {
  border-bottom-right-radius: 0;
  border-top-right-radius: 0;
}
.btn-group > .btn:last-child:not(:first-child),
.btn-group > .dropdown-toggle:not(:first-child) {
  border-bottom-left-radius: 0;
  border-top-left-radius: 0;
}
.btn-group > .btn-group {
  float: left;
}
.btn-group > .btn-group:not(:first-child):not(:last-child) > .btn {
  border-radius: 0;
}
.btn-group > .btn-group:first-child:not(:last-child) > .btn:last-child,
.btn-group > .btn-group:first-child:not(:last-child) > .dropdown-toggle {
  border-bottom-right-radius: 0;
  border-top-right-radius: 0;
}
.btn-group > .btn-group:last-child:not(:first-child) > .btn:first-child {
  border-bottom-left-radius: 0;
  border-top-left-radius: 0;
}
.btn-group .dropdown-toggle:active,
.btn-group.open .dropdown-toggle {
  outline: 0;
}
.btn-group > .btn + .dropdown-toggle {
  padding-left: 8px;
  padding-right: 8px;
}
.btn-group > .btn-lg + .dropdown-toggle {
  padding-left: 12px;
  padding-right: 12px;
}
.btn-group.open .dropdown-toggle {
  -webkit-box-shadow: inset 0 3px 5px rgba(0, 0, 0, 0.125);
  box-shadow: inset 0 3px 5px rgba(0, 0, 0, 0.125);
}
.btn-group.open .dropdown-toggle.btn-link {
  -webkit-box-shadow: none;
  box-shadow: none;
}
.btn .caret {
  margin-left: 0;
}
.btn-lg .caret {
  border-width: 5px 5px 0;
  border-bottom-width: 0;
}
.dropup .btn-lg .caret {
  border-width: 0 5px 5px;
}
.btn-group-vertical > .btn,
.btn-group-vertical > .btn-group,
.btn-group-vertical > .btn-group > .btn {
  display: block;
  float: none;
  width: 100%;
  max-width: 100%;
}
.btn-group-vertical > .btn-group > .btn {
  float: none;
}
.btn-group-vertical > .btn + .btn,
.btn-group-vertical > .btn + .btn-group,
.btn-group-vertical > .btn-group + .btn,
.btn-group-vertical > .btn-group + .btn-group {
  margin-top: -1px;
  margin-left: 0;
}
.btn-group-vertical > .btn:not(:first-child):not(:last-child) {
  border-radius: 0;
}
.btn-group-vertical > .btn:first-child:not(:last-child) {
  border-top-right-radius: 2px;
  border-top-left-radius: 2px;
  border-bottom-right-radius: 0;
  border-bottom-left-radius: 0;
}
.btn-group-vertical > .btn:last-child:not(:first-child) {
  border-top-right-radius: 0;
  border-top-left-radius: 0;
  border-bottom-right-radius: 2px;
  border-bottom-left-radius: 2px;
}
.btn-group-vertical > .btn-group:not(:first-child):not(:last-child) > .btn {
  border-radius: 0;
}
.btn-group-vertical > .btn-group:first-child:not(:last-child) > .btn:last-child,
.btn-group-vertical > .btn-group:first-child:not(:last-child) > .dropdown-toggle {
  border-bottom-right-radius: 0;
  border-bottom-left-radius: 0;
}
.btn-group-vertical > .btn-group:last-child:not(:first-child) > .btn:first-child {
  border-top-right-radius: 0;
  border-top-left-radius: 0;
}
.btn-group-justified {
  display: table;
  width: 100%;
  table-layout: fixed;
  border-collapse: separate;
}
.btn-group-justified > .btn,
.btn-group-justified > .btn-group {
  float: none;
  display: table-cell;
  width: 1%;
}
.btn-group-justified > .btn-group .btn {
  width: 100%;
}
.btn-group-justified > .btn-group .dropdown-menu {
  left: auto;
}
[data-toggle="buttons"] > .btn input[type="radio"],
[data-toggle="buttons"] > .btn-group > .btn input[type="radio"],
[data-toggle="buttons"] > .btn input[type="checkbox"],
[data-toggle="buttons"] > .btn-group > .btn input[type="checkbox"] {
  position: absolute;
  clip: rect(0, 0, 0, 0);
  pointer-events: none;
}
.input-group {
  position: relative;
  display: table;
  border-collapse: separate;
}
.input-group[class*="col-"] {
  float: none;
  padding-left: 0;
  padding-right: 0;
}
.input-group .form-control {
  position: relative;
  z-index: 2;
  float: left;
  width: 100%;
  margin-bottom: 0;
}
.input-group .form-control:focus {
  z-index: 3;
}
.input-group-lg > .form-control,
.input-group-lg > .input-group-addon,
.input-group-lg > .input-group-btn > .btn {
  height: 45px;
  padding: 10px 16px;
  font-size: 17px;
  line-height: 1.3333333;
  border-radius: 3px;
}
select.input-group-lg > .form-control,
select.input-group-lg > .input-group-addon,
select.input-group-lg > .input-group-btn > .btn {
  height: 45px;
  line-height: 45px;
}
textarea.input-group-lg > .form-control,
textarea.input-group-lg > .input-group-addon,
textarea.input-group-lg > .input-group-btn > .btn,
select[multiple].input-group-lg > .form-control,
select[multiple].input-group-lg > .input-group-addon,
select[multiple].input-group-lg > .input-group-btn > .btn {
  height: auto;
}
.input-group-sm > .form-control,
.input-group-sm > .input-group-addon,
.input-group-sm > .input-group-btn > .btn {
  height: 30px;
  padding: 5px 10px;
  font-size: 12px;
  line-height: 1.5;
  border-radius: 1px;
}
select.input-group-sm > .form-control,
select.input-group-sm > .input-group-addon,
select.input-group-sm > .input-group-btn > .btn {
  height: 30px;
  line-height: 30px;
}
textarea.input-group-sm > .form-control,
textarea.input-group-sm > .input-group-addon,
textarea.input-group-sm > .input-group-btn > .btn,
select[multiple].input-group-sm > .form-control,
select[multiple].input-group-sm > .input-group-addon,
select[multiple].input-group-sm > .input-group-btn > .btn {
  height: auto;
}
.input-group-addon,
.input-group-btn,
.input-group .form-control {
  display: table-cell;
}
.input-group-addon:not(:first-child):not(:last-child),
.input-group-btn:not(:first-child):not(:last-child),
.input-group .form-control:not(:first-child):not(:last-child) {
  border-radius: 0;
}
.input-group-addon,
.input-group-btn {
  width: 1%;
  white-space: nowrap;
  vertical-align: middle;
}
.input-group-addon {
  padding: 6px 12px;
  font-size: 13px;
  font-weight: normal;
  line-height: 1;
  color: #555555;
  text-align: center;
  background-color: #eeeeee;
  border: 1px solid #ccc;
  border-radius: 2px;
}
.input-group-addon.input-sm {
  padding: 5px 10px;
  font-size: 12px;
  border-radius: 1px;
}
.input-group-addon.input-lg {
  padding: 10px 16px;
  font-size: 17px;
  border-radius: 3px;
}
.input-group-addon input[type="radio"],
.input-group-addon input[type="checkbox"] {
  margin-top: 0;
}
.input-group .form-control:first-child,
.input-group-addon:first-child,
.input-group-btn:first-child > .btn,
.input-group-btn:first-child > .btn-group > .btn,
.input-group-btn:first-child > .dropdown-toggle,
.input-group-btn:last-child > .btn:not(:last-child):not(.dropdown-toggle),
.input-group-btn:last-child > .btn-group:not(:last-child) > .btn {
  border-bottom-right-radius: 0;
  border-top-right-radius: 0;
}
.input-group-addon:first-child {
  border-right: 0;
}
.input-group .form-control:last-child,
.input-group-addon:last-child,
.input-group-btn:last-child > .btn,
.input-group-btn:last-child > .btn-group > .btn,
.input-group-btn:last-child > .dropdown-toggle,
.input-group-btn:first-child > .btn:not(:first-child),
.input-group-btn:first-child > .btn-group:not(:first-child) > .btn {
  border-bottom-left-radius: 0;
  border-top-left-radius: 0;
}
.input-group-addon:last-child {
  border-left: 0;
}
.input-group-btn {
  position: relative;
  font-size: 0;
  white-space: nowrap;
}
.input-group-btn > .btn {
  position: relative;
}
.input-group-btn > .btn + .btn {
  margin-left: -1px;
}
.input-group-btn > .btn:hover,
.input-group-btn > .btn:focus,
.input-group-btn > .btn:active {
  z-index: 2;
}
.input-group-btn:first-child > .btn,
.input-group-btn:first-child > .btn-group {
  margin-right: -1px;
}
.input-group-btn:last-child > .btn,
.input-group-btn:last-child > .btn-group {
  z-index: 2;
  margin-left: -1px;
}
.nav {
  margin-bottom: 0;
  padding-left: 0;
  list-style: none;
}
.nav > li {
  position: relative;
  display: block;
}
.nav > li > a {
  position: relative;
  display: block;
  padding: 10px 15px;
}
.nav > li > a:hover,
.nav > li > a:focus {
  text-decoration: none;
  background-color: #eeeeee;
}
.nav > li.disabled > a {
  color: #777777;
}
.nav > li.disabled > a:hover,
.nav > li.disabled > a:focus {
  color: #777777;
  text-decoration: none;
  background-color: transparent;
  cursor: not-allowed;
}
.nav .open > a,
.nav .open > a:hover,
.nav .open > a:focus {
  background-color: #eeeeee;
  border-color: #337ab7;
}
.nav .nav-divider {
  height: 1px;
  margin: 8px 0;
  overflow: hidden;
  background-color: #e5e5e5;
}
.nav > li > a > img {
  max-width: none;
}
.nav-tabs {
  border-bottom: 1px solid #ddd;
}
.nav-tabs > li {
  float: left;
  margin-bottom: -1px;
}
.nav-tabs > li > a {
  margin-right: 2px;
  line-height: 1.42857143;
  border: 1px solid transparent;
  border-radius: 2px 2px 0 0;
}
.nav-tabs > li > a:hover {
  border-color: #eeeeee #eeeeee #ddd;
}
.nav-tabs > li.active > a,
.nav-tabs > li.active > a:hover,
.nav-tabs > li.active > a:focus {
  color: #555555;
  background-color: #fff;
  border: 1px solid #ddd;
  border-bottom-color: transparent;
  cursor: default;
}
.nav-tabs.nav-justified {
  width: 100%;
  border-bottom: 0;
}
.nav-tabs.nav-justified > li {
  float: none;
}
.nav-tabs.nav-justified > li > a {
  text-align: center;
  margin-bottom: 5px;
}
.nav-tabs.nav-justified > .dropdown .dropdown-menu {
  top: auto;
  left: auto;
}
@media (min-width: 768px) {
  .nav-tabs.nav-justified > li {
    display: table-cell;
    width: 1%;
  }
  .nav-tabs.nav-justified > li > a {
    margin-bottom: 0;
  }
}
.nav-tabs.nav-justified > li > a {
  margin-right: 0;
  border-radius: 2px;
}
.nav-tabs.nav-justified > .active > a,
.nav-tabs.nav-justified > .active > a:hover,
.nav-tabs.nav-justified > .active > a:focus {
  border: 1px solid #ddd;
}
@media (min-width: 768px) {
  .nav-tabs.nav-justified > li > a {
    border-bottom: 1px solid #ddd;
    border-radius: 2px 2px 0 0;
  }
  .nav-tabs.nav-justified > .active > a,
  .nav-tabs.nav-justified > .active > a:hover,
  .nav-tabs.nav-justified > .active > a:focus {
    border-bottom-color: #fff;
  }
}
.nav-pills > li {
  float: left;
}
.nav-pills > li > a {
  border-radius: 2px;
}
.nav-pills > li + li {
  margin-left: 2px;
}
.nav-pills > li.active > a,
.nav-pills > li.active > a:hover,
.nav-pills > li.active > a:focus {
  color: #fff;
  background-color: #337ab7;
}
.nav-stacked > li {
  float: none;
}
.nav-stacked > li + li {
  margin-top: 2px;
  margin-left: 0;
}
.nav-justified {
  width: 100%;
}
.nav-justified > li {
  float: none;
}
.nav-justified > li > a {
  text-align: center;
  margin-bottom: 5px;
}
.nav-justified > .dropdown .dropdown-menu {
  top: auto;
  left: auto;
}
@media (min-width: 768px) {
  .nav-justified > li {
    display: table-cell;
    width: 1%;
  }
  .nav-justified > li > a {
    margin-bottom: 0;
  }
}
.nav-tabs-justified {
  border-bottom: 0;
}
.nav-tabs-justified > li > a {
  margin-right: 0;
  border-radius: 2px;
}
.nav-tabs-justified > .active > a,
.nav-tabs-justified > .active > a:hover,
.nav-tabs-justified > .active > a:focus {
  border: 1px solid #ddd;
}
@media (min-width: 768px) {
  .nav-tabs-justified > li > a {
    border-bottom: 1px solid #ddd;
    border-radius: 2px 2px 0 0;
  }
  .nav-tabs-justified > .active > a,
  .nav-tabs-justified > .active > a:hover,
  .nav-tabs-justified > .active > a:focus {
    border-bottom-color: #fff;
  }
}
.tab-content > .tab-pane {
  display: none;
}
.tab-content > .active {
  display: block;
}
.nav-tabs .dropdown-menu {
  margin-top: -1px;
  border-top-right-radius: 0;
  border-top-left-radius: 0;
}
.navbar {
  position: relative;
  min-height: 30px;
  margin-bottom: 18px;
  border: 1px solid transparent;
}
@media (min-width: 541px) {
  .navbar {
    border-radius: 2px;
  }
}
@media (min-width: 541px) {
  .navbar-header {
    float: left;
  }
}
.navbar-collapse {
  overflow-x: visible;
  padding-right: 0px;
  padding-left: 0px;
  border-top: 1px solid transparent;
  box-shadow: inset 0 1px 0 rgba(255, 255, 255, 0.1);
  -webkit-overflow-scrolling: touch;
}
.navbar-collapse.in {
  overflow-y: auto;
}
@media (min-width: 541px) {
  .navbar-collapse {
    width: auto;
    border-top: 0;
    box-shadow: none;
  }
  .navbar-collapse.collapse {
    display: block !important;
    height: auto !important;
    padding-bottom: 0;
    overflow: visible !important;
  }
  .navbar-collapse.in {
    overflow-y: visible;
  }
  .navbar-fixed-top .navbar-collapse,
  .navbar-static-top .navbar-collapse,
  .navbar-fixed-bottom .navbar-collapse {
    padding-left: 0;
    padding-right: 0;
  }
}
.navbar-fixed-top .navbar-collapse,
.navbar-fixed-bottom .navbar-collapse {
  max-height: 340px;
}
@media (max-device-width: 540px) and (orientation: landscape) {
  .navbar-fixed-top .navbar-collapse,
  .navbar-fixed-bottom .navbar-collapse {
    max-height: 200px;
  }
}
.container > .navbar-header,
.container-fluid > .navbar-header,
.container > .navbar-collapse,
.container-fluid > .navbar-collapse {
  margin-right: 0px;
  margin-left: 0px;
}
@media (min-width: 541px) {
  .container > .navbar-header,
  .container-fluid > .navbar-header,
  .container > .navbar-collapse,
  .container-fluid > .navbar-collapse {
    margin-right: 0;
    margin-left: 0;
  }
}
.navbar-static-top {
  z-index: 1000;
  border-width: 0 0 1px;
}
@media (min-width: 541px) {
  .navbar-static-top {
    border-radius: 0;
  }
}
.navbar-fixed-top,
.navbar-fixed-bottom {
  position: fixed;
  right: 0;
  left: 0;
  z-index: 1030;
}
@media (min-width: 541px) {
  .navbar-fixed-top,
  .navbar-fixed-bottom {
    border-radius: 0;
  }
}
.navbar-fixed-top {
  top: 0;
  border-width: 0 0 1px;
}
.navbar-fixed-bottom {
  bottom: 0;
  margin-bottom: 0;
  border-width: 1px 0 0;
}
.navbar-brand {
  float: left;
  padding: 6px 0px;
  font-size: 17px;
  line-height: 18px;
  height: 30px;
}
.navbar-brand:hover,
.navbar-brand:focus {
  text-decoration: none;
}
.navbar-brand > img {
  display: block;
}
@media (min-width: 541px) {
  .navbar > .container .navbar-brand,
  .navbar > .container-fluid .navbar-brand {
    margin-left: 0px;
  }
}
.navbar-toggle {
  position: relative;
  float: right;
  margin-right: 0px;
  padding: 9px 10px;
  margin-top: -2px;
  margin-bottom: -2px;
  background-color: transparent;
  background-image: none;
  border: 1px solid transparent;
  border-radius: 2px;
}
.navbar-toggle:focus {
  outline: 0;
}
.navbar-toggle .icon-bar {
  display: block;
  width: 22px;
  height: 2px;
  border-radius: 1px;
}
.navbar-toggle .icon-bar + .icon-bar {
  margin-top: 4px;
}
@media (min-width: 541px) {
  .navbar-toggle {
    display: none;
  }
}
.navbar-nav {
  margin: 3px 0px;
}
.navbar-nav > li > a {
  padding-top: 10px;
  padding-bottom: 10px;
  line-height: 18px;
}
@media (max-width: 540px) {
  .navbar-nav .open .dropdown-menu {
    position: static;
    float: none;
    width: auto;
    margin-top: 0;
    background-color: transparent;
    border: 0;
    box-shadow: none;
  }
  .navbar-nav .open .dropdown-menu > li > a,
  .navbar-nav .open .dropdown-menu .dropdown-header {
    padding: 5px 15px 5px 25px;
  }
  .navbar-nav .open .dropdown-menu > li > a {
    line-height: 18px;
  }
  .navbar-nav .open .dropdown-menu > li > a:hover,
  .navbar-nav .open .dropdown-menu > li > a:focus {
    background-image: none;
  }
}
@media (min-width: 541px) {
  .navbar-nav {
    float: left;
    margin: 0;
  }
  .navbar-nav > li {
    float: left;
  }
  .navbar-nav > li > a {
    padding-top: 6px;
    padding-bottom: 6px;
  }
}
.navbar-form {
  margin-left: 0px;
  margin-right: 0px;
  padding: 10px 0px;
  border-top: 1px solid transparent;
  border-bottom: 1px solid transparent;
  -webkit-box-shadow: inset 0 1px 0 rgba(255, 255, 255, 0.1), 0 1px 0 rgba(255, 255, 255, 0.1);
  box-shadow: inset 0 1px 0 rgba(255, 255, 255, 0.1), 0 1px 0 rgba(255, 255, 255, 0.1);
  margin-top: -1px;
  margin-bottom: -1px;
}
@media (min-width: 768px) {
  .navbar-form .form-group {
    display: inline-block;
    margin-bottom: 0;
    vertical-align: middle;
  }
  .navbar-form .form-control {
    display: inline-block;
    width: auto;
    vertical-align: middle;
  }
  .navbar-form .form-control-static {
    display: inline-block;
  }
  .navbar-form .input-group {
    display: inline-table;
    vertical-align: middle;
  }
  .navbar-form .input-group .input-group-addon,
  .navbar-form .input-group .input-group-btn,
  .navbar-form .input-group .form-control {
    width: auto;
  }
  .navbar-form .input-group > .form-control {
    width: 100%;
  }
  .navbar-form .control-label {
    margin-bottom: 0;
    vertical-align: middle;
  }
  .navbar-form .radio,
  .navbar-form .checkbox {
    display: inline-block;
    margin-top: 0;
    margin-bottom: 0;
    vertical-align: middle;
  }
  .navbar-form .radio label,
  .navbar-form .checkbox label {
    padding-left: 0;
  }
  .navbar-form .radio input[type="radio"],
  .navbar-form .checkbox input[type="checkbox"] {
    position: relative;
    margin-left: 0;
  }
  .navbar-form .has-feedback .form-control-feedback {
    top: 0;
  }
}
@media (max-width: 540px) {
  .navbar-form .form-group {
    margin-bottom: 5px;
  }
  .navbar-form .form-group:last-child {
    margin-bottom: 0;
  }
}
@media (min-width: 541px) {
  .navbar-form {
    width: auto;
    border: 0;
    margin-left: 0;
    margin-right: 0;
    padding-top: 0;
    padding-bottom: 0;
    -webkit-box-shadow: none;
    box-shadow: none;
  }
}
.navbar-nav > li > .dropdown-menu {
  margin-top: 0;
  border-top-right-radius: 0;
  border-top-left-radius: 0;
}
.navbar-fixed-bottom .navbar-nav > li > .dropdown-menu {
  margin-bottom: 0;
  border-top-right-radius: 2px;
  border-top-left-radius: 2px;
  border-bottom-right-radius: 0;
  border-bottom-left-radius: 0;
}
.navbar-btn {
  margin-top: -1px;
  margin-bottom: -1px;
}
.navbar-btn.btn-sm {
  margin-top: 0px;
  margin-bottom: 0px;
}
.navbar-btn.btn-xs {
  margin-top: 4px;
  margin-bottom: 4px;
}
.navbar-text {
  margin-top: 6px;
  margin-bottom: 6px;
}
@media (min-width: 541px) {
  .navbar-text {
    float: left;
    margin-left: 0px;
    margin-right: 0px;
  }
}
@media (min-width: 541px) {
  .navbar-left {
    float: left !important;
    float: left;
  }
  .navbar-right {
    float: right !important;
    float: right;
    margin-right: 0px;
  }
  .navbar-right ~ .navbar-right {
    margin-right: 0;
  }
}
.navbar-default {
  background-color: #f8f8f8;
  border-color: #e7e7e7;
}
.navbar-default .navbar-brand {
  color: #777;
}
.navbar-default .navbar-brand:hover,
.navbar-default .navbar-brand:focus {
  color: #5e5e5e;
  background-color: transparent;
}
.navbar-default .navbar-text {
  color: #777;
}
.navbar-default .navbar-nav > li > a {
  color: #777;
}
.navbar-default .navbar-nav > li > a:hover,
.navbar-default .navbar-nav > li > a:focus {
  color: #333;
  background-color: transparent;
}
.navbar-default .navbar-nav > .active > a,
.navbar-default .navbar-nav > .active > a:hover,
.navbar-default .navbar-nav > .active > a:focus {
  color: #555;
  background-color: #e7e7e7;
}
.navbar-default .navbar-nav > .disabled > a,
.navbar-default .navbar-nav > .disabled > a:hover,
.navbar-default .navbar-nav > .disabled > a:focus {
  color: #ccc;
  background-color: transparent;
}
.navbar-default .navbar-toggle {
  border-color: #ddd;
}
.navbar-default .navbar-toggle:hover,
.navbar-default .navbar-toggle:focus {
  background-color: #ddd;
}
.navbar-default .navbar-toggle .icon-bar {
  background-color: #888;
}
.navbar-default .navbar-collapse,
.navbar-default .navbar-form {
  border-color: #e7e7e7;
}
.navbar-default .navbar-nav > .open > a,
.navbar-default .navbar-nav > .open > a:hover,
.navbar-default .navbar-nav > .open > a:focus {
  background-color: #e7e7e7;
  color: #555;
}
@media (max-width: 540px) {
  .navbar-default .navbar-nav .open .dropdown-menu > li > a {
    color: #777;
  }
  .navbar-default .navbar-nav .open .dropdown-menu > li > a:hover,
  .navbar-default .navbar-nav .open .dropdown-menu > li > a:focus {
    color: #333;
    background-color: transparent;
  }
  .navbar-default .navbar-nav .open .dropdown-menu > .active > a,
  .navbar-default .navbar-nav .open .dropdown-menu > .active > a:hover,
  .navbar-default .navbar-nav .open .dropdown-menu > .active > a:focus {
    color: #555;
    background-color: #e7e7e7;
  }
  .navbar-default .navbar-nav .open .dropdown-menu > .disabled > a,
  .navbar-default .navbar-nav .open .dropdown-menu > .disabled > a:hover,
  .navbar-default .navbar-nav .open .dropdown-menu > .disabled > a:focus {
    color: #ccc;
    background-color: transparent;
  }
}
.navbar-default .navbar-link {
  color: #777;
}
.navbar-default .navbar-link:hover {
  color: #333;
}
.navbar-default .btn-link {
  color: #777;
}
.navbar-default .btn-link:hover,
.navbar-default .btn-link:focus {
  color: #333;
}
.navbar-default .btn-link[disabled]:hover,
fieldset[disabled] .navbar-default .btn-link:hover,
.navbar-default .btn-link[disabled]:focus,
fieldset[disabled] .navbar-default .btn-link:focus {
  color: #ccc;
}
.navbar-inverse {
  background-color: #222;
  border-color: #080808;
}
.navbar-inverse .navbar-brand {
  color: #9d9d9d;
}
.navbar-inverse .navbar-brand:hover,
.navbar-inverse .navbar-brand:focus {
  color: #fff;
  background-color: transparent;
}
.navbar-inverse .navbar-text {
  color: #9d9d9d;
}
.navbar-inverse .navbar-nav > li > a {
  color: #9d9d9d;
}
.navbar-inverse .navbar-nav > li > a:hover,
.navbar-inverse .navbar-nav > li > a:focus {
  color: #fff;
  background-color: transparent;
}
.navbar-inverse .navbar-nav > .active > a,
.navbar-inverse .navbar-nav > .active > a:hover,
.navbar-inverse .navbar-nav > .active > a:focus {
  color: #fff;
  background-color: #080808;
}
.navbar-inverse .navbar-nav > .disabled > a,
.navbar-inverse .navbar-nav > .disabled > a:hover,
.navbar-inverse .navbar-nav > .disabled > a:focus {
  color: #444;
  background-color: transparent;
}
.navbar-inverse .navbar-toggle {
  border-color: #333;
}
.navbar-inverse .navbar-toggle:hover,
.navbar-inverse .navbar-toggle:focus {
  background-color: #333;
}
.navbar-inverse .navbar-toggle .icon-bar {
  background-color: #fff;
}
.navbar-inverse .navbar-collapse,
.navbar-inverse .navbar-form {
  border-color: #101010;
}
.navbar-inverse .navbar-nav > .open > a,
.navbar-inverse .navbar-nav > .open > a:hover,
.navbar-inverse .navbar-nav > .open > a:focus {
  background-color: #080808;
  color: #fff;
}
@media (max-width: 540px) {
  .navbar-inverse .navbar-nav .open .dropdown-menu > .dropdown-header {
    border-color: #080808;
  }
  .navbar-inverse .navbar-nav .open .dropdown-menu .divider {
    background-color: #080808;
  }
  .navbar-inverse .navbar-nav .open .dropdown-menu > li > a {
    color: #9d9d9d;
  }
  .navbar-inverse .navbar-nav .open .dropdown-menu > li > a:hover,
  .navbar-inverse .navbar-nav .open .dropdown-menu > li > a:focus {
    color: #fff;
    background-color: transparent;
  }
  .navbar-inverse .navbar-nav .open .dropdown-menu > .active > a,
  .navbar-inverse .navbar-nav .open .dropdown-menu > .active > a:hover,
  .navbar-inverse .navbar-nav .open .dropdown-menu > .active > a:focus {
    color: #fff;
    background-color: #080808;
  }
  .navbar-inverse .navbar-nav .open .dropdown-menu > .disabled > a,
  .navbar-inverse .navbar-nav .open .dropdown-menu > .disabled > a:hover,
  .navbar-inverse .navbar-nav .open .dropdown-menu > .disabled > a:focus {
    color: #444;
    background-color: transparent;
  }
}
.navbar-inverse .navbar-link {
  color: #9d9d9d;
}
.navbar-inverse .navbar-link:hover {
  color: #fff;
}
.navbar-inverse .btn-link {
  color: #9d9d9d;
}
.navbar-inverse .btn-link:hover,
.navbar-inverse .btn-link:focus {
  color: #fff;
}
.navbar-inverse .btn-link[disabled]:hover,
fieldset[disabled] .navbar-inverse .btn-link:hover,
.navbar-inverse .btn-link[disabled]:focus,
fieldset[disabled] .navbar-inverse .btn-link:focus {
  color: #444;
}
.breadcrumb {
  padding: 8px 15px;
  margin-bottom: 18px;
  list-style: none;
  background-color: #f5f5f5;
  border-radius: 2px;
}
.breadcrumb > li {
  display: inline-block;
}
.breadcrumb > li + li:before {
  content: "/\00a0";
  padding: 0 5px;
  color: #5e5e5e;
}
.breadcrumb > .active {
  color: #777777;
}
.pagination {
  display: inline-block;
  padding-left: 0;
  margin: 18px 0;
  border-radius: 2px;
}
.pagination > li {
  display: inline;
}
.pagination > li > a,
.pagination > li > span {
  position: relative;
  float: left;
  padding: 6px 12px;
  line-height: 1.42857143;
  text-decoration: none;
  color: #337ab7;
  background-color: #fff;
  border: 1px solid #ddd;
  margin-left: -1px;
}
.pagination > li:first-child > a,
.pagination > li:first-child > span {
  margin-left: 0;
  border-bottom-left-radius: 2px;
  border-top-left-radius: 2px;
}
.pagination > li:last-child > a,
.pagination > li:last-child > span {
  border-bottom-right-radius: 2px;
  border-top-right-radius: 2px;
}
.pagination > li > a:hover,
.pagination > li > span:hover,
.pagination > li > a:focus,
.pagination > li > span:focus {
  z-index: 2;
  color: #23527c;
  background-color: #eeeeee;
  border-color: #ddd;
}
.pagination > .active > a,
.pagination > .active > span,
.pagination > .active > a:hover,
.pagination > .active > span:hover,
.pagination > .active > a:focus,
.pagination > .active > span:focus {
  z-index: 3;
  color: #fff;
  background-color: #337ab7;
  border-color: #337ab7;
  cursor: default;
}
.pagination > .disabled > span,
.pagination > .disabled > span:hover,
.pagination > .disabled > span:focus,
.pagination > .disabled > a,
.pagination > .disabled > a:hover,
.pagination > .disabled > a:focus {
  color: #777777;
  background-color: #fff;
  border-color: #ddd;
  cursor: not-allowed;
}
.pagination-lg > li > a,
.pagination-lg > li > span {
  padding: 10px 16px;
  font-size: 17px;
  line-height: 1.3333333;
}
.pagination-lg > li:first-child > a,
.pagination-lg > li:first-child > span {
  border-bottom-left-radius: 3px;
  border-top-left-radius: 3px;
}
.pagination-lg > li:last-child > a,
.pagination-lg > li:last-child > span {
  border-bottom-right-radius: 3px;
  border-top-right-radius: 3px;
}
.pagination-sm > li > a,
.pagination-sm > li > span {
  padding: 5px 10px;
  font-size: 12px;
  line-height: 1.5;
}
.pagination-sm > li:first-child > a,
.pagination-sm > li:first-child > span {
  border-bottom-left-radius: 1px;
  border-top-left-radius: 1px;
}
.pagination-sm > li:last-child > a,
.pagination-sm > li:last-child > span {
  border-bottom-right-radius: 1px;
  border-top-right-radius: 1px;
}
.pager {
  padding-left: 0;
  margin: 18px 0;
  list-style: none;
  text-align: center;
}
.pager li {
  display: inline;
}
.pager li > a,
.pager li > span {
  display: inline-block;
  padding: 5px 14px;
  background-color: #fff;
  border: 1px solid #ddd;
  border-radius: 15px;
}
.pager li > a:hover,
.pager li > a:focus {
  text-decoration: none;
  background-color: #eeeeee;
}
.pager .next > a,
.pager .next > span {
  float: right;
}
.pager .previous > a,
.pager .previous > span {
  float: left;
}
.pager .disabled > a,
.pager .disabled > a:hover,
.pager .disabled > a:focus,
.pager .disabled > span {
  color: #777777;
  background-color: #fff;
  cursor: not-allowed;
}
.label {
  display: inline;
  padding: .2em .6em .3em;
  font-size: 75%;
  font-weight: bold;
  line-height: 1;
  color: #fff;
  text-align: center;
  white-space: nowrap;
  vertical-align: baseline;
  border-radius: .25em;
}
a.label:hover,
a.label:focus {
  color: #fff;
  text-decoration: none;
  cursor: pointer;
}
.label:empty {
  display: none;
}
.btn .label {
  position: relative;
  top: -1px;
}
.label-default {
  background-color: #777777;
}
.label-default[href]:hover,
.label-default[href]:focus {
  background-color: #5e5e5e;
}
.label-primary {
  background-color: #337ab7;
}
.label-primary[href]:hover,
.label-primary[href]:focus {
  background-color: #286090;
}
.label-success {
  background-color: #5cb85c;
}
.label-success[href]:hover,
.label-success[href]:focus {
  background-color: #449d44;
}
.label-info {
  background-color: #5bc0de;
}
.label-info[href]:hover,
.label-info[href]:focus {
  background-color: #31b0d5;
}
.label-warning {
  background-color: #f0ad4e;
}
.label-warning[href]:hover,
.label-warning[href]:focus {
  background-color: #ec971f;
}
.label-danger {
  background-color: #d9534f;
}
.label-danger[href]:hover,
.label-danger[href]:focus {
  background-color: #c9302c;
}
.badge {
  display: inline-block;
  min-width: 10px;
  padding: 3px 7px;
  font-size: 12px;
  font-weight: bold;
  color: #fff;
  line-height: 1;
  vertical-align: middle;
  white-space: nowrap;
  text-align: center;
  background-color: #777777;
  border-radius: 10px;
}
.badge:empty {
  display: none;
}
.btn .badge {
  position: relative;
  top: -1px;
}
.btn-xs .badge,
.btn-group-xs > .btn .badge {
  top: 0;
  padding: 1px 5px;
}
a.badge:hover,
a.badge:focus {
  color: #fff;
  text-decoration: none;
  cursor: pointer;
}
.list-group-item.active > .badge,
.nav-pills > .active > a > .badge {
  color: #337ab7;
  background-color: #fff;
}
.list-group-item > .badge {
  float: right;
}
.list-group-item > .badge + .badge {
  margin-right: 5px;
}
.nav-pills > li > a > .badge {
  margin-left: 3px;
}
.jumbotron {
  padding-top: 30px;
  padding-bottom: 30px;
  margin-bottom: 30px;
  color: inherit;
  background-color: #eeeeee;
}
.jumbotron h1,
.jumbotron .h1 {
  color: inherit;
}
.jumbotron p {
  margin-bottom: 15px;
  font-size: 20px;
  font-weight: 200;
}
.jumbotron > hr {
  border-top-color: #d5d5d5;
}
.container .jumbotron,
.container-fluid .jumbotron {
  border-radius: 3px;
  padding-left: 0px;
  padding-right: 0px;
}
.jumbotron .container {
  max-width: 100%;
}
@media screen and (min-width: 768px) {
  .jumbotron {
    padding-top: 48px;
    padding-bottom: 48px;
  }
  .container .jumbotron,
  .container-fluid .jumbotron {
    padding-left: 60px;
    padding-right: 60px;
  }
  .jumbotron h1,
  .jumbotron .h1 {
    font-size: 59px;
  }
}
.thumbnail {
  display: block;
  padding: 4px;
  margin-bottom: 18px;
  line-height: 1.42857143;
  background-color: #fff;
  border: 1px solid #ddd;
  border-radius: 2px;
  -webkit-transition: border 0.2s ease-in-out;
  -o-transition: border 0.2s ease-in-out;
  transition: border 0.2s ease-in-out;
}
.thumbnail > img,
.thumbnail a > img {
  margin-left: auto;
  margin-right: auto;
}
a.thumbnail:hover,
a.thumbnail:focus,
a.thumbnail.active {
  border-color: #337ab7;
}
.thumbnail .caption {
  padding: 9px;
  color: #000;
}
.alert {
  padding: 15px;
  margin-bottom: 18px;
  border: 1px solid transparent;
  border-radius: 2px;
}
.alert h4 {
  margin-top: 0;
  color: inherit;
}
.alert .alert-link {
  font-weight: bold;
}
.alert > p,
.alert > ul {
  margin-bottom: 0;
}
.alert > p + p {
  margin-top: 5px;
}
.alert-dismissable,
.alert-dismissible {
  padding-right: 35px;
}
.alert-dismissable .close,
.alert-dismissible .close {
  position: relative;
  top: -2px;
  right: -21px;
  color: inherit;
}
.alert-success {
  background-color: #dff0d8;
  border-color: #d6e9c6;
  color: #3c763d;
}
.alert-success hr {
  border-top-color: #c9e2b3;
}
.alert-success .alert-link {
  color: #2b542c;
}
.alert-info {
  background-color: #d9edf7;
  border-color: #bce8f1;
  color: #31708f;
}
.alert-info hr {
  border-top-color: #a6e1ec;
}
.alert-info .alert-link {
  color: #245269;
}
.alert-warning {
  background-color: #fcf8e3;
  border-color: #faebcc;
  color: #8a6d3b;
}
.alert-warning hr {
  border-top-color: #f7e1b5;
}
.alert-warning .alert-link {
  color: #66512c;
}
.alert-danger {
  background-color: #f2dede;
  border-color: #ebccd1;
  color: #a94442;
}
.alert-danger hr {
  border-top-color: #e4b9c0;
}
.alert-danger .alert-link {
  color: #843534;
}
@-webkit-keyframes progress-bar-stripes {
  from {
    background-position: 40px 0;
  }
  to {
    background-position: 0 0;
  }
}
@keyframes progress-bar-stripes {
  from {
    background-position: 40px 0;
  }
  to {
    background-position: 0 0;
  }
}
.progress {
  overflow: hidden;
  height: 18px;
  margin-bottom: 18px;
  background-color: #f5f5f5;
  border-radius: 2px;
  -webkit-box-shadow: inset 0 1px 2px rgba(0, 0, 0, 0.1);
  box-shadow: inset 0 1px 2px rgba(0, 0, 0, 0.1);
}
.progress-bar {
  float: left;
  width: 0%;
  height: 100%;
  font-size: 12px;
  line-height: 18px;
  color: #fff;
  text-align: center;
  background-color: #337ab7;
  -webkit-box-shadow: inset 0 -1px 0 rgba(0, 0, 0, 0.15);
  box-shadow: inset 0 -1px 0 rgba(0, 0, 0, 0.15);
  -webkit-transition: width 0.6s ease;
  -o-transition: width 0.6s ease;
  transition: width 0.6s ease;
}
.progress-striped .progress-bar,
.progress-bar-striped {
  background-image: -webkit-linear-gradient(45deg, rgba(255, 255, 255, 0.15) 25%, transparent 25%, transparent 50%, rgba(255, 255, 255, 0.15) 50%, rgba(255, 255, 255, 0.15) 75%, transparent 75%, transparent);
  background-image: -o-linear-gradient(45deg, rgba(255, 255, 255, 0.15) 25%, transparent 25%, transparent 50%, rgba(255, 255, 255, 0.15) 50%, rgba(255, 255, 255, 0.15) 75%, transparent 75%, transparent);
  background-image: linear-gradient(45deg, rgba(255, 255, 255, 0.15) 25%, transparent 25%, transparent 50%, rgba(255, 255, 255, 0.15) 50%, rgba(255, 255, 255, 0.15) 75%, transparent 75%, transparent);
  background-size: 40px 40px;
}
.progress.active .progress-bar,
.progress-bar.active {
  -webkit-animation: progress-bar-stripes 2s linear infinite;
  -o-animation: progress-bar-stripes 2s linear infinite;
  animation: progress-bar-stripes 2s linear infinite;
}
.progress-bar-success {
  background-color: #5cb85c;
}
.progress-striped .progress-bar-success {
  background-image: -webkit-linear-gradient(45deg, rgba(255, 255, 255, 0.15) 25%, transparent 25%, transparent 50%, rgba(255, 255, 255, 0.15) 50%, rgba(255, 255, 255, 0.15) 75%, transparent 75%, transparent);
  background-image: -o-linear-gradient(45deg, rgba(255, 255, 255, 0.15) 25%, transparent 25%, transparent 50%, rgba(255, 255, 255, 0.15) 50%, rgba(255, 255, 255, 0.15) 75%, transparent 75%, transparent);
  background-image: linear-gradient(45deg, rgba(255, 255, 255, 0.15) 25%, transparent 25%, transparent 50%, rgba(255, 255, 255, 0.15) 50%, rgba(255, 255, 255, 0.15) 75%, transparent 75%, transparent);
}
.progress-bar-info {
  background-color: #5bc0de;
}
.progress-striped .progress-bar-info {
  background-image: -webkit-linear-gradient(45deg, rgba(255, 255, 255, 0.15) 25%, transparent 25%, transparent 50%, rgba(255, 255, 255, 0.15) 50%, rgba(255, 255, 255, 0.15) 75%, transparent 75%, transparent);
  background-image: -o-linear-gradient(45deg, rgba(255, 255, 255, 0.15) 25%, transparent 25%, transparent 50%, rgba(255, 255, 255, 0.15) 50%, rgba(255, 255, 255, 0.15) 75%, transparent 75%, transparent);
  background-image: linear-gradient(45deg, rgba(255, 255, 255, 0.15) 25%, transparent 25%, transparent 50%, rgba(255, 255, 255, 0.15) 50%, rgba(255, 255, 255, 0.15) 75%, transparent 75%, transparent);
}
.progress-bar-warning {
  background-color: #f0ad4e;
}
.progress-striped .progress-bar-warning {
  background-image: -webkit-linear-gradient(45deg, rgba(255, 255, 255, 0.15) 25%, transparent 25%, transparent 50%, rgba(255, 255, 255, 0.15) 50%, rgba(255, 255, 255, 0.15) 75%, transparent 75%, transparent);
  background-image: -o-linear-gradient(45deg, rgba(255, 255, 255, 0.15) 25%, transparent 25%, transparent 50%, rgba(255, 255, 255, 0.15) 50%, rgba(255, 255, 255, 0.15) 75%, transparent 75%, transparent);
  background-image: linear-gradient(45deg, rgba(255, 255, 255, 0.15) 25%, transparent 25%, transparent 50%, rgba(255, 255, 255, 0.15) 50%, rgba(255, 255, 255, 0.15) 75%, transparent 75%, transparent);
}
.progress-bar-danger {
  background-color: #d9534f;
}
.progress-striped .progress-bar-danger {
  background-image: -webkit-linear-gradient(45deg, rgba(255, 255, 255, 0.15) 25%, transparent 25%, transparent 50%, rgba(255, 255, 255, 0.15) 50%, rgba(255, 255, 255, 0.15) 75%, transparent 75%, transparent);
  background-image: -o-linear-gradient(45deg, rgba(255, 255, 255, 0.15) 25%, transparent 25%, transparent 50%, rgba(255, 255, 255, 0.15) 50%, rgba(255, 255, 255, 0.15) 75%, transparent 75%, transparent);
  background-image: linear-gradient(45deg, rgba(255, 255, 255, 0.15) 25%, transparent 25%, transparent 50%, rgba(255, 255, 255, 0.15) 50%, rgba(255, 255, 255, 0.15) 75%, transparent 75%, transparent);
}
.media {
  margin-top: 15px;
}
.media:first-child {
  margin-top: 0;
}
.media,
.media-body {
  zoom: 1;
  overflow: hidden;
}
.media-body {
  width: 10000px;
}
.media-object {
  display: block;
}
.media-object.img-thumbnail {
  max-width: none;
}
.media-right,
.media > .pull-right {
  padding-left: 10px;
}
.media-left,
.media > .pull-left {
  padding-right: 10px;
}
.media-left,
.media-right,
.media-body {
  display: table-cell;
  vertical-align: top;
}
.media-middle {
  vertical-align: middle;
}
.media-bottom {
  vertical-align: bottom;
}
.media-heading {
  margin-top: 0;
  margin-bottom: 5px;
}
.media-list {
  padding-left: 0;
  list-style: none;
}
.list-group {
  margin-bottom: 20px;
  padding-left: 0;
}
.list-group-item {
  position: relative;
  display: block;
  padding: 10px 15px;
  margin-bottom: -1px;
  background-color: #fff;
  border: 1px solid #ddd;
}
.list-group-item:first-child {
  border-top-right-radius: 2px;
  border-top-left-radius: 2px;
}
.list-group-item:last-child {
  margin-bottom: 0;
  border-bottom-right-radius: 2px;
  border-bottom-left-radius: 2px;
}
a.list-group-item,
button.list-group-item {
  color: #555;
}
a.list-group-item .list-group-item-heading,
button.list-group-item .list-group-item-heading {
  color: #333;
}
a.list-group-item:hover,
button.list-group-item:hover,
a.list-group-item:focus,
button.list-group-item:focus {
  text-decoration: none;
  color: #555;
  background-color: #f5f5f5;
}
button.list-group-item {
  width: 100%;
  text-align: left;
}
.list-group-item.disabled,
.list-group-item.disabled:hover,
.list-group-item.disabled:focus {
  background-color: #eeeeee;
  color: #777777;
  cursor: not-allowed;
}
.list-group-item.disabled .list-group-item-heading,
.list-group-item.disabled:hover .list-group-item-heading,
.list-group-item.disabled:focus .list-group-item-heading {
  color: inherit;
}
.list-group-item.disabled .list-group-item-text,
.list-group-item.disabled:hover .list-group-item-text,
.list-group-item.disabled:focus .list-group-item-text {
  color: #777777;
}
.list-group-item.active,
.list-group-item.active:hover,
.list-group-item.active:focus {
  z-index: 2;
  color: #fff;
  background-color: #337ab7;
  border-color: #337ab7;
}
.list-group-item.active .list-group-item-heading,
.list-group-item.active:hover .list-group-item-heading,
.list-group-item.active:focus .list-group-item-heading,
.list-group-item.active .list-group-item-heading > small,
.list-group-item.active:hover .list-group-item-heading > small,
.list-group-item.active:focus .list-group-item-heading > small,
.list-group-item.active .list-group-item-heading > .small,
.list-group-item.active:hover .list-group-item-heading > .small,
.list-group-item.active:focus .list-group-item-heading > .small {
  color: inherit;
}
.list-group-item.active .list-group-item-text,
.list-group-item.active:hover .list-group-item-text,
.list-group-item.active:focus .list-group-item-text {
  color: #c7ddef;
}
.list-group-item-success {
  color: #3c763d;
  background-color: #dff0d8;
}
a.list-group-item-success,
button.list-group-item-success {
  color: #3c763d;
}
a.list-group-item-success .list-group-item-heading,
button.list-group-item-success .list-group-item-heading {
  color: inherit;
}
a.list-group-item-success:hover,
button.list-group-item-success:hover,
a.list-group-item-success:focus,
button.list-group-item-success:focus {
  color: #3c763d;
  background-color: #d0e9c6;
}
a.list-group-item-success.active,
button.list-group-item-success.active,
a.list-group-item-success.active:hover,
button.list-group-item-success.active:hover,
a.list-group-item-success.active:focus,
button.list-group-item-success.active:focus {
  color: #fff;
  background-color: #3c763d;
  border-color: #3c763d;
}
.list-group-item-info {
  color: #31708f;
  background-color: #d9edf7;
}
a.list-group-item-info,
button.list-group-item-info {
  color: #31708f;
}
a.list-group-item-info .list-group-item-heading,
button.list-group-item-info .list-group-item-heading {
  color: inherit;
}
a.list-group-item-info:hover,
button.list-group-item-info:hover,
a.list-group-item-info:focus,
button.list-group-item-info:focus {
  color: #31708f;
  background-color: #c4e3f3;
}
a.list-group-item-info.active,
button.list-group-item-info.active,
a.list-group-item-info.active:hover,
button.list-group-item-info.active:hover,
a.list-group-item-info.active:focus,
button.list-group-item-info.active:focus {
  color: #fff;
  background-color: #31708f;
  border-color: #31708f;
}
.list-group-item-warning {
  color: #8a6d3b;
  background-color: #fcf8e3;
}
a.list-group-item-warning,
button.list-group-item-warning {
  color: #8a6d3b;
}
a.list-group-item-warning .list-group-item-heading,
button.list-group-item-warning .list-group-item-heading {
  color: inherit;
}
a.list-group-item-warning:hover,
button.list-group-item-warning:hover,
a.list-group-item-warning:focus,
button.list-group-item-warning:focus {
  color: #8a6d3b;
  background-color: #faf2cc;
}
a.list-group-item-warning.active,
button.list-group-item-warning.active,
a.list-group-item-warning.active:hover,
button.list-group-item-warning.active:hover,
a.list-group-item-warning.active:focus,
button.list-group-item-warning.active:focus {
  color: #fff;
  background-color: #8a6d3b;
  border-color: #8a6d3b;
}
.list-group-item-danger {
  color: #a94442;
  background-color: #f2dede;
}
a.list-group-item-danger,
button.list-group-item-danger {
  color: #a94442;
}
a.list-group-item-danger .list-group-item-heading,
button.list-group-item-danger .list-group-item-heading {
  color: inherit;
}
a.list-group-item-danger:hover,
button.list-group-item-danger:hover,
a.list-group-item-danger:focus,
button.list-group-item-danger:focus {
  color: #a94442;
  background-color: #ebcccc;
}
a.list-group-item-danger.active,
button.list-group-item-danger.active,
a.list-group-item-danger.active:hover,
button.list-group-item-danger.active:hover,
a.list-group-item-danger.active:focus,
button.list-group-item-danger.active:focus {
  color: #fff;
  background-color: #a94442;
  border-color: #a94442;
}
.list-group-item-heading {
  margin-top: 0;
  margin-bottom: 5px;
}
.list-group-item-text {
  margin-bottom: 0;
  line-height: 1.3;
}
.panel {
  margin-bottom: 18px;
  background-color: #fff;
  border: 1px solid transparent;
  border-radius: 2px;
  -webkit-box-shadow: 0 1px 1px rgba(0, 0, 0, 0.05);
  box-shadow: 0 1px 1px rgba(0, 0, 0, 0.05);
}
.panel-body {
  padding: 15px;
}
.panel-heading {
  padding: 10px 15px;
  border-bottom: 1px solid transparent;
  border-top-right-radius: 1px;
  border-top-left-radius: 1px;
}
.panel-heading > .dropdown .dropdown-toggle {
  color: inherit;
}
.panel-title {
  margin-top: 0;
  margin-bottom: 0;
  font-size: 15px;
  color: inherit;
}
.panel-title > a,
.panel-title > small,
.panel-title > .small,
.panel-title > small > a,
.panel-title > .small > a {
  color: inherit;
}
.panel-footer {
  padding: 10px 15px;
  background-color: #f5f5f5;
  border-top: 1px solid #ddd;
  border-bottom-right-radius: 1px;
  border-bottom-left-radius: 1px;
}
.panel > .list-group,
.panel > .panel-collapse > .list-group {
  margin-bottom: 0;
}
.panel > .list-group .list-group-item,
.panel > .panel-collapse > .list-group .list-group-item {
  border-width: 1px 0;
  border-radius: 0;
}
.panel > .list-group:first-child .list-group-item:first-child,
.panel > .panel-collapse > .list-group:first-child .list-group-item:first-child {
  border-top: 0;
  border-top-right-radius: 1px;
  border-top-left-radius: 1px;
}
.panel > .list-group:last-child .list-group-item:last-child,
.panel > .panel-collapse > .list-group:last-child .list-group-item:last-child {
  border-bottom: 0;
  border-bottom-right-radius: 1px;
  border-bottom-left-radius: 1px;
}
.panel > .panel-heading + .panel-collapse > .list-group .list-group-item:first-child {
  border-top-right-radius: 0;
  border-top-left-radius: 0;
}
.panel-heading + .list-group .list-group-item:first-child {
  border-top-width: 0;
}
.list-group + .panel-footer {
  border-top-width: 0;
}
.panel > .table,
.panel > .table-responsive > .table,
.panel > .panel-collapse > .table {
  margin-bottom: 0;
}
.panel > .table caption,
.panel > .table-responsive > .table caption,
.panel > .panel-collapse > .table caption {
  padding-left: 15px;
  padding-right: 15px;
}
.panel > .table:first-child,
.panel > .table-responsive:first-child > .table:first-child {
  border-top-right-radius: 1px;
  border-top-left-radius: 1px;
}
.panel > .table:first-child > thead:first-child > tr:first-child,
.panel > .table-responsive:first-child > .table:first-child > thead:first-child > tr:first-child,
.panel > .table:first-child > tbody:first-child > tr:first-child,
.panel > .table-responsive:first-child > .table:first-child > tbody:first-child > tr:first-child {
  border-top-left-radius: 1px;
  border-top-right-radius: 1px;
}
.panel > .table:first-child > thead:first-child > tr:first-child td:first-child,
.panel > .table-responsive:first-child > .table:first-child > thead:first-child > tr:first-child td:first-child,
.panel > .table:first-child > tbody:first-child > tr:first-child td:first-child,
.panel > .table-responsive:first-child > .table:first-child > tbody:first-child > tr:first-child td:first-child,
.panel > .table:first-child > thead:first-child > tr:first-child th:first-child,
.panel > .table-responsive:first-child > .table:first-child > thead:first-child > tr:first-child th:first-child,
.panel > .table:first-child > tbody:first-child > tr:first-child th:first-child,
.panel > .table-responsive:first-child > .table:first-child > tbody:first-child > tr:first-child th:first-child {
  border-top-left-radius: 1px;
}
.panel > .table:first-child > thead:first-child > tr:first-child td:last-child,
.panel > .table-responsive:first-child > .table:first-child > thead:first-child > tr:first-child td:last-child,
.panel > .table:first-child > tbody:first-child > tr:first-child td:last-child,
.panel > .table-responsive:first-child > .table:first-child > tbody:first-child > tr:first-child td:last-child,
.panel > .table:first-child > thead:first-child > tr:first-child th:last-child,
.panel > .table-responsive:first-child > .table:first-child > thead:first-child > tr:first-child th:last-child,
.panel > .table:first-child > tbody:first-child > tr:first-child th:last-child,
.panel > .table-responsive:first-child > .table:first-child > tbody:first-child > tr:first-child th:last-child {
  border-top-right-radius: 1px;
}
.panel > .table:last-child,
.panel > .table-responsive:last-child > .table:last-child {
  border-bottom-right-radius: 1px;
  border-bottom-left-radius: 1px;
}
.panel > .table:last-child > tbody:last-child > tr:last-child,
.panel > .table-responsive:last-child > .table:last-child > tbody:last-child > tr:last-child,
.panel > .table:last-child > tfoot:last-child > tr:last-child,
.panel > .table-responsive:last-child > .table:last-child > tfoot:last-child > tr:last-child {
  border-bottom-left-radius: 1px;
  border-bottom-right-radius: 1px;
}
.panel > .table:last-child > tbody:last-child > tr:last-child td:first-child,
.panel > .table-responsive:last-child > .table:last-child > tbody:last-child > tr:last-child td:first-child,
.panel > .table:last-child > tfoot:last-child > tr:last-child td:first-child,
.panel > .table-responsive:last-child > .table:last-child > tfoot:last-child > tr:last-child td:first-child,
.panel > .table:last-child > tbody:last-child > tr:last-child th:first-child,
.panel > .table-responsive:last-child > .table:last-child > tbody:last-child > tr:last-child th:first-child,
.panel > .table:last-child > tfoot:last-child > tr:last-child th:first-child,
.panel > .table-responsive:last-child > .table:last-child > tfoot:last-child > tr:last-child th:first-child {
  border-bottom-left-radius: 1px;
}
.panel > .table:last-child > tbody:last-child > tr:last-child td:last-child,
.panel > .table-responsive:last-child > .table:last-child > tbody:last-child > tr:last-child td:last-child,
.panel > .table:last-child > tfoot:last-child > tr:last-child td:last-child,
.panel > .table-responsive:last-child > .table:last-child > tfoot:last-child > tr:last-child td:last-child,
.panel > .table:last-child > tbody:last-child > tr:last-child th:last-child,
.panel > .table-responsive:last-child > .table:last-child > tbody:last-child > tr:last-child th:last-child,
.panel > .table:last-child > tfoot:last-child > tr:last-child th:last-child,
.panel > .table-responsive:last-child > .table:last-child > tfoot:last-child > tr:last-child th:last-child {
  border-bottom-right-radius: 1px;
}
.panel > .panel-body + .table,
.panel > .panel-body + .table-responsive,
.panel > .table + .panel-body,
.panel > .table-responsive + .panel-body {
  border-top: 1px solid #ddd;
}
.panel > .table > tbody:first-child > tr:first-child th,
.panel > .table > tbody:first-child > tr:first-child td {
  border-top: 0;
}
.panel > .table-bordered,
.panel > .table-responsive > .table-bordered {
  border: 0;
}
.panel > .table-bordered > thead > tr > th:first-child,
.panel > .table-responsive > .table-bordered > thead > tr > th:first-child,
.panel > .table-bordered > tbody > tr > th:first-child,
.panel > .table-responsive > .table-bordered > tbody > tr > th:first-child,
.panel > .table-bordered > tfoot > tr > th:first-child,
.panel > .table-responsive > .table-bordered > tfoot > tr > th:first-child,
.panel > .table-bordered > thead > tr > td:first-child,
.panel > .table-responsive > .table-bordered > thead > tr > td:first-child,
.panel > .table-bordered > tbody > tr > td:first-child,
.panel > .table-responsive > .table-bordered > tbody > tr > td:first-child,
.panel > .table-bordered > tfoot > tr > td:first-child,
.panel > .table-responsive > .table-bordered > tfoot > tr > td:first-child {
  border-left: 0;
}
.panel > .table-bordered > thead > tr > th:last-child,
.panel > .table-responsive > .table-bordered > thead > tr > th:last-child,
.panel > .table-bordered > tbody > tr > th:last-child,
.panel > .table-responsive > .table-bordered > tbody > tr > th:last-child,
.panel > .table-bordered > tfoot > tr > th:last-child,
.panel > .table-responsive > .table-bordered > tfoot > tr > th:last-child,
.panel > .table-bordered > thead > tr > td:last-child,
.panel > .table-responsive > .table-bordered > thead > tr > td:last-child,
.panel > .table-bordered > tbody > tr > td:last-child,
.panel > .table-responsive > .table-bordered > tbody > tr > td:last-child,
.panel > .table-bordered > tfoot > tr > td:last-child,
.panel > .table-responsive > .table-bordered > tfoot > tr > td:last-child {
  border-right: 0;
}
.panel > .table-bordered > thead > tr:first-child > td,
.panel > .table-responsive > .table-bordered > thead > tr:first-child > td,
.panel > .table-bordered > tbody > tr:first-child > td,
.panel > .table-responsive > .table-bordered > tbody > tr:first-child > td,
.panel > .table-bordered > thead > tr:first-child > th,
.panel > .table-responsive > .table-bordered > thead > tr:first-child > th,
.panel > .table-bordered > tbody > tr:first-child > th,
.panel > .table-responsive > .table-bordered > tbody > tr:first-child > th {
  border-bottom: 0;
}
.panel > .table-bordered > tbody > tr:last-child > td,
.panel > .table-responsive > .table-bordered > tbody > tr:last-child > td,
.panel > .table-bordered > tfoot > tr:last-child > td,
.panel > .table-responsive > .table-bordered > tfoot > tr:last-child > td,
.panel > .table-bordered > tbody > tr:last-child > th,
.panel > .table-responsive > .table-bordered > tbody > tr:last-child > th,
.panel > .table-bordered > tfoot > tr:last-child > th,
.panel > .table-responsive > .table-bordered > tfoot > tr:last-child > th {
  border-bottom: 0;
}
.panel > .table-responsive {
  border: 0;
  margin-bottom: 0;
}
.panel-group {
  margin-bottom: 18px;
}
.panel-group .panel {
  margin-bottom: 0;
  border-radius: 2px;
}
.panel-group .panel + .panel {
  margin-top: 5px;
}
.panel-group .panel-heading {
  border-bottom: 0;
}
.panel-group .panel-heading + .panel-collapse > .panel-body,
.panel-group .panel-heading + .panel-collapse > .list-group {
  border-top: 1px solid #ddd;
}
.panel-group .panel-footer {
  border-top: 0;
}
.panel-group .panel-footer + .panel-collapse .panel-body {
  border-bottom: 1px solid #ddd;
}
.panel-default {
  border-color: #ddd;
}
.panel-default > .panel-heading {
  color: #333333;
  background-color: #f5f5f5;
  border-color: #ddd;
}
.panel-default > .panel-heading + .panel-collapse > .panel-body {
  border-top-color: #ddd;
}
.panel-default > .panel-heading .badge {
  color: #f5f5f5;
  background-color: #333333;
}
.panel-default > .panel-footer + .panel-collapse > .panel-body {
  border-bottom-color: #ddd;
}
.panel-primary {
  border-color: #337ab7;
}
.panel-primary > .panel-heading {
  color: #fff;
  background-color: #337ab7;
  border-color: #337ab7;
}
.panel-primary > .panel-heading + .panel-collapse > .panel-body {
  border-top-color: #337ab7;
}
.panel-primary > .panel-heading .badge {
  color: #337ab7;
  background-color: #fff;
}
.panel-primary > .panel-footer + .panel-collapse > .panel-body {
  border-bottom-color: #337ab7;
}
.panel-success {
  border-color: #d6e9c6;
}
.panel-success > .panel-heading {
  color: #3c763d;
  background-color: #dff0d8;
  border-color: #d6e9c6;
}
.panel-success > .panel-heading + .panel-collapse > .panel-body {
  border-top-color: #d6e9c6;
}
.panel-success > .panel-heading .badge {
  color: #dff0d8;
  background-color: #3c763d;
}
.panel-success > .panel-footer + .panel-collapse > .panel-body {
  border-bottom-color: #d6e9c6;
}
.panel-info {
  border-color: #bce8f1;
}
.panel-info > .panel-heading {
  color: #31708f;
  background-color: #d9edf7;
  border-color: #bce8f1;
}
.panel-info > .panel-heading + .panel-collapse > .panel-body {
  border-top-color: #bce8f1;
}
.panel-info > .panel-heading .badge {
  color: #d9edf7;
  background-color: #31708f;
}
.panel-info > .panel-footer + .panel-collapse > .panel-body {
  border-bottom-color: #bce8f1;
}
.panel-warning {
  border-color: #faebcc;
}
.panel-warning > .panel-heading {
  color: #8a6d3b;
  background-color: #fcf8e3;
  border-color: #faebcc;
}
.panel-warning > .panel-heading + .panel-collapse > .panel-body {
  border-top-color: #faebcc;
}
.panel-warning > .panel-heading .badge {
  color: #fcf8e3;
  background-color: #8a6d3b;
}
.panel-warning > .panel-footer + .panel-collapse > .panel-body {
  border-bottom-color: #faebcc;
}
.panel-danger {
  border-color: #ebccd1;
}
.panel-danger > .panel-heading {
  color: #a94442;
  background-color: #f2dede;
  border-color: #ebccd1;
}
.panel-danger > .panel-heading + .panel-collapse > .panel-body {
  border-top-color: #ebccd1;
}
.panel-danger > .panel-heading .badge {
  color: #f2dede;
  background-color: #a94442;
}
.panel-danger > .panel-footer + .panel-collapse > .panel-body {
  border-bottom-color: #ebccd1;
}
.embed-responsive {
  position: relative;
  display: block;
  height: 0;
  padding: 0;
  overflow: hidden;
}
.embed-responsive .embed-responsive-item,
.embed-responsive iframe,
.embed-responsive embed,
.embed-responsive object,
.embed-responsive video {
  position: absolute;
  top: 0;
  left: 0;
  bottom: 0;
  height: 100%;
  width: 100%;
  border: 0;
}
.embed-responsive-16by9 {
  padding-bottom: 56.25%;
}
.embed-responsive-4by3 {
  padding-bottom: 75%;
}
.well {
  min-height: 20px;
  padding: 19px;
  margin-bottom: 20px;
  background-color: #f5f5f5;
  border: 1px solid #e3e3e3;
  border-radius: 2px;
  -webkit-box-shadow: inset 0 1px 1px rgba(0, 0, 0, 0.05);
  box-shadow: inset 0 1px 1px rgba(0, 0, 0, 0.05);
}
.well blockquote {
  border-color: #ddd;
  border-color: rgba(0, 0, 0, 0.15);
}
.well-lg {
  padding: 24px;
  border-radius: 3px;
}
.well-sm {
  padding: 9px;
  border-radius: 1px;
}
.close {
  float: right;
  font-size: 19.5px;
  font-weight: bold;
  line-height: 1;
  color: #000;
  text-shadow: 0 1px 0 #fff;
  opacity: 0.2;
  filter: alpha(opacity=20);
}
.close:hover,
.close:focus {
  color: #000;
  text-decoration: none;
  cursor: pointer;
  opacity: 0.5;
  filter: alpha(opacity=50);
}
button.close {
  padding: 0;
  cursor: pointer;
  background: transparent;
  border: 0;
  -webkit-appearance: none;
}
.modal-open {
  overflow: hidden;
}
.modal {
  display: none;
  overflow: hidden;
  position: fixed;
  top: 0;
  right: 0;
  bottom: 0;
  left: 0;
  z-index: 1050;
  -webkit-overflow-scrolling: touch;
  outline: 0;
}
.modal.fade .modal-dialog {
  -webkit-transform: translate(0, -25%);
  -ms-transform: translate(0, -25%);
  -o-transform: translate(0, -25%);
  transform: translate(0, -25%);
  -webkit-transition: -webkit-transform 0.3s ease-out;
  -moz-transition: -moz-transform 0.3s ease-out;
  -o-transition: -o-transform 0.3s ease-out;
  transition: transform 0.3s ease-out;
}
.modal.in .modal-dialog {
  -webkit-transform: translate(0, 0);
  -ms-transform: translate(0, 0);
  -o-transform: translate(0, 0);
  transform: translate(0, 0);
}
.modal-open .modal {
  overflow-x: hidden;
  overflow-y: auto;
}
.modal-dialog {
  position: relative;
  width: auto;
  margin: 10px;
}
.modal-content {
  position: relative;
  background-color: #fff;
  border: 1px solid #999;
  border: 1px solid rgba(0, 0, 0, 0.2);
  border-radius: 3px;
  -webkit-box-shadow: 0 3px 9px rgba(0, 0, 0, 0.5);
  box-shadow: 0 3px 9px rgba(0, 0, 0, 0.5);
  background-clip: padding-box;
  outline: 0;
}
.modal-backdrop {
  position: fixed;
  top: 0;
  right: 0;
  bottom: 0;
  left: 0;
  z-index: 1040;
  background-color: #000;
}
.modal-backdrop.fade {
  opacity: 0;
  filter: alpha(opacity=0);
}
.modal-backdrop.in {
  opacity: 0.5;
  filter: alpha(opacity=50);
}
.modal-header {
  padding: 15px;
  border-bottom: 1px solid #e5e5e5;
}
.modal-header .close {
  margin-top: -2px;
}
.modal-title {
  margin: 0;
  line-height: 1.42857143;
}
.modal-body {
  position: relative;
  padding: 15px;
}
.modal-footer {
  padding: 15px;
  text-align: right;
  border-top: 1px solid #e5e5e5;
}
.modal-footer .btn + .btn {
  margin-left: 5px;
  margin-bottom: 0;
}
.modal-footer .btn-group .btn + .btn {
  margin-left: -1px;
}
.modal-footer .btn-block + .btn-block {
  margin-left: 0;
}
.modal-scrollbar-measure {
  position: absolute;
  top: -9999px;
  width: 50px;
  height: 50px;
  overflow: scroll;
}
@media (min-width: 768px) {
  .modal-dialog {
    width: 600px;
    margin: 30px auto;
  }
  .modal-content {
    -webkit-box-shadow: 0 5px 15px rgba(0, 0, 0, 0.5);
    box-shadow: 0 5px 15px rgba(0, 0, 0, 0.5);
  }
  .modal-sm {
    width: 300px;
  }
}
@media (min-width: 992px) {
  .modal-lg {
    width: 900px;
  }
}
.tooltip {
  position: absolute;
  z-index: 1070;
  display: block;
  font-family: "Helvetica Neue", Helvetica, Arial, sans-serif;
  font-style: normal;
  font-weight: normal;
  letter-spacing: normal;
  line-break: auto;
  line-height: 1.42857143;
  text-align: left;
  text-align: start;
  text-decoration: none;
  text-shadow: none;
  text-transform: none;
  white-space: normal;
  word-break: normal;
  word-spacing: normal;
  word-wrap: normal;
  font-size: 12px;
  opacity: 0;
  filter: alpha(opacity=0);
}
.tooltip.in {
  opacity: 0.9;
  filter: alpha(opacity=90);
}
.tooltip.top {
  margin-top: -3px;
  padding: 5px 0;
}
.tooltip.right {
  margin-left: 3px;
  padding: 0 5px;
}
.tooltip.bottom {
  margin-top: 3px;
  padding: 5px 0;
}
.tooltip.left {
  margin-left: -3px;
  padding: 0 5px;
}
.tooltip-inner {
  max-width: 200px;
  padding: 3px 8px;
  color: #fff;
  text-align: center;
  background-color: #000;
  border-radius: 2px;
}
.tooltip-arrow {
  position: absolute;
  width: 0;
  height: 0;
  border-color: transparent;
  border-style: solid;
}
.tooltip.top .tooltip-arrow {
  bottom: 0;
  left: 50%;
  margin-left: -5px;
  border-width: 5px 5px 0;
  border-top-color: #000;
}
.tooltip.top-left .tooltip-arrow {
  bottom: 0;
  right: 5px;
  margin-bottom: -5px;
  border-width: 5px 5px 0;
  border-top-color: #000;
}
.tooltip.top-right .tooltip-arrow {
  bottom: 0;
  left: 5px;
  margin-bottom: -5px;
  border-width: 5px 5px 0;
  border-top-color: #000;
}
.tooltip.right .tooltip-arrow {
  top: 50%;
  left: 0;
  margin-top: -5px;
  border-width: 5px 5px 5px 0;
  border-right-color: #000;
}
.tooltip.left .tooltip-arrow {
  top: 50%;
  right: 0;
  margin-top: -5px;
  border-width: 5px 0 5px 5px;
  border-left-color: #000;
}
.tooltip.bottom .tooltip-arrow {
  top: 0;
  left: 50%;
  margin-left: -5px;
  border-width: 0 5px 5px;
  border-bottom-color: #000;
}
.tooltip.bottom-left .tooltip-arrow {
  top: 0;
  right: 5px;
  margin-top: -5px;
  border-width: 0 5px 5px;
  border-bottom-color: #000;
}
.tooltip.bottom-right .tooltip-arrow {
  top: 0;
  left: 5px;
  margin-top: -5px;
  border-width: 0 5px 5px;
  border-bottom-color: #000;
}
.popover {
  position: absolute;
  top: 0;
  left: 0;
  z-index: 1060;
  display: none;
  max-width: 276px;
  padding: 1px;
  font-family: "Helvetica Neue", Helvetica, Arial, sans-serif;
  font-style: normal;
  font-weight: normal;
  letter-spacing: normal;
  line-break: auto;
  line-height: 1.42857143;
  text-align: left;
  text-align: start;
  text-decoration: none;
  text-shadow: none;
  text-transform: none;
  white-space: normal;
  word-break: normal;
  word-spacing: normal;
  word-wrap: normal;
  font-size: 13px;
  background-color: #fff;
  background-clip: padding-box;
  border: 1px solid #ccc;
  border: 1px solid rgba(0, 0, 0, 0.2);
  border-radius: 3px;
  -webkit-box-shadow: 0 5px 10px rgba(0, 0, 0, 0.2);
  box-shadow: 0 5px 10px rgba(0, 0, 0, 0.2);
}
.popover.top {
  margin-top: -10px;
}
.popover.right {
  margin-left: 10px;
}
.popover.bottom {
  margin-top: 10px;
}
.popover.left {
  margin-left: -10px;
}
.popover-title {
  margin: 0;
  padding: 8px 14px;
  font-size: 13px;
  background-color: #f7f7f7;
  border-bottom: 1px solid #ebebeb;
  border-radius: 2px 2px 0 0;
}
.popover-content {
  padding: 9px 14px;
}
.popover > .arrow,
.popover > .arrow:after {
  position: absolute;
  display: block;
  width: 0;
  height: 0;
  border-color: transparent;
  border-style: solid;
}
.popover > .arrow {
  border-width: 11px;
}
.popover > .arrow:after {
  border-width: 10px;
  content: "";
}
.popover.top > .arrow {
  left: 50%;
  margin-left: -11px;
  border-bottom-width: 0;
  border-top-color: #999999;
  border-top-color: rgba(0, 0, 0, 0.25);
  bottom: -11px;
}
.popover.top > .arrow:after {
  content: " ";
  bottom: 1px;
  margin-left: -10px;
  border-bottom-width: 0;
  border-top-color: #fff;
}
.popover.right > .arrow {
  top: 50%;
  left: -11px;
  margin-top: -11px;
  border-left-width: 0;
  border-right-color: #999999;
  border-right-color: rgba(0, 0, 0, 0.25);
}
.popover.right > .arrow:after {
  content: " ";
  left: 1px;
  bottom: -10px;
  border-left-width: 0;
  border-right-color: #fff;
}
.popover.bottom > .arrow {
  left: 50%;
  margin-left: -11px;
  border-top-width: 0;
  border-bottom-color: #999999;
  border-bottom-color: rgba(0, 0, 0, 0.25);
  top: -11px;
}
.popover.bottom > .arrow:after {
  content: " ";
  top: 1px;
  margin-left: -10px;
  border-top-width: 0;
  border-bottom-color: #fff;
}
.popover.left > .arrow {
  top: 50%;
  right: -11px;
  margin-top: -11px;
  border-right-width: 0;
  border-left-color: #999999;
  border-left-color: rgba(0, 0, 0, 0.25);
}
.popover.left > .arrow:after {
  content: " ";
  right: 1px;
  border-right-width: 0;
  border-left-color: #fff;
  bottom: -10px;
}
.carousel {
  position: relative;
}
.carousel-inner {
  position: relative;
  overflow: hidden;
  width: 100%;
}
.carousel-inner > .item {
  display: none;
  position: relative;
  -webkit-transition: 0.6s ease-in-out left;
  -o-transition: 0.6s ease-in-out left;
  transition: 0.6s ease-in-out left;
}
.carousel-inner > .item > img,
.carousel-inner > .item > a > img {
  line-height: 1;
}
@media all and (transform-3d), (-webkit-transform-3d) {
  .carousel-inner > .item {
    -webkit-transition: -webkit-transform 0.6s ease-in-out;
    -moz-transition: -moz-transform 0.6s ease-in-out;
    -o-transition: -o-transform 0.6s ease-in-out;
    transition: transform 0.6s ease-in-out;
    -webkit-backface-visibility: hidden;
    -moz-backface-visibility: hidden;
    backface-visibility: hidden;
    -webkit-perspective: 1000px;
    -moz-perspective: 1000px;
    perspective: 1000px;
  }
  .carousel-inner > .item.next,
  .carousel-inner > .item.active.right {
    -webkit-transform: translate3d(100%, 0, 0);
    transform: translate3d(100%, 0, 0);
    left: 0;
  }
  .carousel-inner > .item.prev,
  .carousel-inner > .item.active.left {
    -webkit-transform: translate3d(-100%, 0, 0);
    transform: translate3d(-100%, 0, 0);
    left: 0;
  }
  .carousel-inner > .item.next.left,
  .carousel-inner > .item.prev.right,
  .carousel-inner > .item.active {
    -webkit-transform: translate3d(0, 0, 0);
    transform: translate3d(0, 0, 0);
    left: 0;
  }
}
.carousel-inner > .active,
.carousel-inner > .next,
.carousel-inner > .prev {
  display: block;
}
.carousel-inner > .active {
  left: 0;
}
.carousel-inner > .next,
.carousel-inner > .prev {
  position: absolute;
  top: 0;
  width: 100%;
}
.carousel-inner > .next {
  left: 100%;
}
.carousel-inner > .prev {
  left: -100%;
}
.carousel-inner > .next.left,
.carousel-inner > .prev.right {
  left: 0;
}
.carousel-inner > .active.left {
  left: -100%;
}
.carousel-inner > .active.right {
  left: 100%;
}
.carousel-control {
  position: absolute;
  top: 0;
  left: 0;
  bottom: 0;
  width: 15%;
  opacity: 0.5;
  filter: alpha(opacity=50);
  font-size: 20px;
  color: #fff;
  text-align: center;
  text-shadow: 0 1px 2px rgba(0, 0, 0, 0.6);
  background-color: rgba(0, 0, 0, 0);
}
.carousel-control.left {
  background-image: -webkit-linear-gradient(left, rgba(0, 0, 0, 0.5) 0%, rgba(0, 0, 0, 0.0001) 100%);
  background-image: -o-linear-gradient(left, rgba(0, 0, 0, 0.5) 0%, rgba(0, 0, 0, 0.0001) 100%);
  background-image: linear-gradient(to right, rgba(0, 0, 0, 0.5) 0%, rgba(0, 0, 0, 0.0001) 100%);
  background-repeat: repeat-x;
  filter: progid:DXImageTransform.Microsoft.gradient(startColorstr='#80000000', endColorstr='#00000000', GradientType=1);
}
.carousel-control.right {
  left: auto;
  right: 0;
  background-image: -webkit-linear-gradient(left, rgba(0, 0, 0, 0.0001) 0%, rgba(0, 0, 0, 0.5) 100%);
  background-image: -o-linear-gradient(left, rgba(0, 0, 0, 0.0001) 0%, rgba(0, 0, 0, 0.5) 100%);
  background-image: linear-gradient(to right, rgba(0, 0, 0, 0.0001) 0%, rgba(0, 0, 0, 0.5) 100%);
  background-repeat: repeat-x;
  filter: progid:DXImageTransform.Microsoft.gradient(startColorstr='#00000000', endColorstr='#80000000', GradientType=1);
}
.carousel-control:hover,
.carousel-control:focus {
  outline: 0;
  color: #fff;
  text-decoration: none;
  opacity: 0.9;
  filter: alpha(opacity=90);
}
.carousel-control .icon-prev,
.carousel-control .icon-next,
.carousel-control .glyphicon-chevron-left,
.carousel-control .glyphicon-chevron-right {
  position: absolute;
  top: 50%;
  margin-top: -10px;
  z-index: 5;
  display: inline-block;
}
.carousel-control .icon-prev,
.carousel-control .glyphicon-chevron-left {
  left: 50%;
  margin-left: -10px;
}
.carousel-control .icon-next,
.carousel-control .glyphicon-chevron-right {
  right: 50%;
  margin-right: -10px;
}
.carousel-control .icon-prev,
.carousel-control .icon-next {
  width: 20px;
  height: 20px;
  line-height: 1;
  font-family: serif;
}
.carousel-control .icon-prev:before {
  content: '\2039';
}
.carousel-control .icon-next:before {
  content: '\203a';
}
.carousel-indicators {
  position: absolute;
  bottom: 10px;
  left: 50%;
  z-index: 15;
  width: 60%;
  margin-left: -30%;
  padding-left: 0;
  list-style: none;
  text-align: center;
}
.carousel-indicators li {
  display: inline-block;
  width: 10px;
  height: 10px;
  margin: 1px;
  text-indent: -999px;
  border: 1px solid #fff;
  border-radius: 10px;
  cursor: pointer;
  background-color: #000 \9;
  background-color: rgba(0, 0, 0, 0);
}
.carousel-indicators .active {
  margin: 0;
  width: 12px;
  height: 12px;
  background-color: #fff;
}
.carousel-caption {
  position: absolute;
  left: 15%;
  right: 15%;
  bottom: 20px;
  z-index: 10;
  padding-top: 20px;
  padding-bottom: 20px;
  color: #fff;
  text-align: center;
  text-shadow: 0 1px 2px rgba(0, 0, 0, 0.6);
}
.carousel-caption .btn {
  text-shadow: none;
}
@media screen and (min-width: 768px) {
  .carousel-control .glyphicon-chevron-left,
  .carousel-control .glyphicon-chevron-right,
  .carousel-control .icon-prev,
  .carousel-control .icon-next {
    width: 30px;
    height: 30px;
    margin-top: -10px;
    font-size: 30px;
  }
  .carousel-control .glyphicon-chevron-left,
  .carousel-control .icon-prev {
    margin-left: -10px;
  }
  .carousel-control .glyphicon-chevron-right,
  .carousel-control .icon-next {
    margin-right: -10px;
  }
  .carousel-caption {
    left: 20%;
    right: 20%;
    padding-bottom: 30px;
  }
  .carousel-indicators {
    bottom: 20px;
  }
}
.clearfix:before,
.clearfix:after,
.dl-horizontal dd:before,
.dl-horizontal dd:after,
.container:before,
.container:after,
.container-fluid:before,
.container-fluid:after,
.row:before,
.row:after,
.form-horizontal .form-group:before,
.form-horizontal .form-group:after,
.btn-toolbar:before,
.btn-toolbar:after,
.btn-group-vertical > .btn-group:before,
.btn-group-vertical > .btn-group:after,
.nav:before,
.nav:after,
.navbar:before,
.navbar:after,
.navbar-header:before,
.navbar-header:after,
.navbar-collapse:before,
.navbar-collapse:after,
.pager:before,
.pager:after,
.panel-body:before,
.panel-body:after,
.modal-header:before,
.modal-header:after,
.modal-footer:before,
.modal-footer:after,
.item_buttons:before,
.item_buttons:after {
  content: " ";
  display: table;
}
.clearfix:after,
.dl-horizontal dd:after,
.container:after,
.container-fluid:after,
.row:after,
.form-horizontal .form-group:after,
.btn-toolbar:after,
.btn-group-vertical > .btn-group:after,
.nav:after,
.navbar:after,
.navbar-header:after,
.navbar-collapse:after,
.pager:after,
.panel-body:after,
.modal-header:after,
.modal-footer:after,
.item_buttons:after {
  clear: both;
}
.center-block {
  display: block;
  margin-left: auto;
  margin-right: auto;
}
.pull-right {
  float: right !important;
}
.pull-left {
  float: left !important;
}
.hide {
  display: none !important;
}
.show {
  display: block !important;
}
.invisible {
  visibility: hidden;
}
.text-hide {
  font: 0/0 a;
  color: transparent;
  text-shadow: none;
  background-color: transparent;
  border: 0;
}
.hidden {
  display: none !important;
}
.affix {
  position: fixed;
}
@-ms-viewport {
  width: device-width;
}
.visible-xs,
.visible-sm,
.visible-md,
.visible-lg {
  display: none !important;
}
.visible-xs-block,
.visible-xs-inline,
.visible-xs-inline-block,
.visible-sm-block,
.visible-sm-inline,
.visible-sm-inline-block,
.visible-md-block,
.visible-md-inline,
.visible-md-inline-block,
.visible-lg-block,
.visible-lg-inline,
.visible-lg-inline-block {
  display: none !important;
}
@media (max-width: 767px) {
  .visible-xs {
    display: block !important;
  }
  table.visible-xs {
    display: table !important;
  }
  tr.visible-xs {
    display: table-row !important;
  }
  th.visible-xs,
  td.visible-xs {
    display: table-cell !important;
  }
}
@media (max-width: 767px) {
  .visible-xs-block {
    display: block !important;
  }
}
@media (max-width: 767px) {
  .visible-xs-inline {
    display: inline !important;
  }
}
@media (max-width: 767px) {
  .visible-xs-inline-block {
    display: inline-block !important;
  }
}
@media (min-width: 768px) and (max-width: 991px) {
  .visible-sm {
    display: block !important;
  }
  table.visible-sm {
    display: table !important;
  }
  tr.visible-sm {
    display: table-row !important;
  }
  th.visible-sm,
  td.visible-sm {
    display: table-cell !important;
  }
}
@media (min-width: 768px) and (max-width: 991px) {
  .visible-sm-block {
    display: block !important;
  }
}
@media (min-width: 768px) and (max-width: 991px) {
  .visible-sm-inline {
    display: inline !important;
  }
}
@media (min-width: 768px) and (max-width: 991px) {
  .visible-sm-inline-block {
    display: inline-block !important;
  }
}
@media (min-width: 992px) and (max-width: 1199px) {
  .visible-md {
    display: block !important;
  }
  table.visible-md {
    display: table !important;
  }
  tr.visible-md {
    display: table-row !important;
  }
  th.visible-md,
  td.visible-md {
    display: table-cell !important;
  }
}
@media (min-width: 992px) and (max-width: 1199px) {
  .visible-md-block {
    display: block !important;
  }
}
@media (min-width: 992px) and (max-width: 1199px) {
  .visible-md-inline {
    display: inline !important;
  }
}
@media (min-width: 992px) and (max-width: 1199px) {
  .visible-md-inline-block {
    display: inline-block !important;
  }
}
@media (min-width: 1200px) {
  .visible-lg {
    display: block !important;
  }
  table.visible-lg {
    display: table !important;
  }
  tr.visible-lg {
    display: table-row !important;
  }
  th.visible-lg,
  td.visible-lg {
    display: table-cell !important;
  }
}
@media (min-width: 1200px) {
  .visible-lg-block {
    display: block !important;
  }
}
@media (min-width: 1200px) {
  .visible-lg-inline {
    display: inline !important;
  }
}
@media (min-width: 1200px) {
  .visible-lg-inline-block {
    display: inline-block !important;
  }
}
@media (max-width: 767px) {
  .hidden-xs {
    display: none !important;
  }
}
@media (min-width: 768px) and (max-width: 991px) {
  .hidden-sm {
    display: none !important;
  }
}
@media (min-width: 992px) and (max-width: 1199px) {
  .hidden-md {
    display: none !important;
  }
}
@media (min-width: 1200px) {
  .hidden-lg {
    display: none !important;
  }
}
.visible-print {
  display: none !important;
}
@media print {
  .visible-print {
    display: block !important;
  }
  table.visible-print {
    display: table !important;
  }
  tr.visible-print {
    display: table-row !important;
  }
  th.visible-print,
  td.visible-print {
    display: table-cell !important;
  }
}
.visible-print-block {
  display: none !important;
}
@media print {
  .visible-print-block {
    display: block !important;
  }
}
.visible-print-inline {
  display: none !important;
}
@media print {
  .visible-print-inline {
    display: inline !important;
  }
}
.visible-print-inline-block {
  display: none !important;
}
@media print {
  .visible-print-inline-block {
    display: inline-block !important;
  }
}
@media print {
  .hidden-print {
    display: none !important;
  }
}
/*!
*
* Font Awesome
*
*/
/*!
 *  Font Awesome 4.2.0 by @davegandy - http://fontawesome.io - @fontawesome
 *  License - http://fontawesome.io/license (Font: SIL OFL 1.1, CSS: MIT License)
 */
/* FONT PATH
 * -------------------------- */
@font-face {
  font-family: 'FontAwesome';
  src: url('../components/font-awesome/fonts/fontawesome-webfont.eot?v=4.2.0');
  src: url('../components/font-awesome/fonts/fontawesome-webfont.eot?#iefix&v=4.2.0') format('embedded-opentype'), url('../components/font-awesome/fonts/fontawesome-webfont.woff?v=4.2.0') format('woff'), url('../components/font-awesome/fonts/fontawesome-webfont.ttf?v=4.2.0') format('truetype'), url('../components/font-awesome/fonts/fontawesome-webfont.svg?v=4.2.0#fontawesomeregular') format('svg');
  font-weight: normal;
  font-style: normal;
}
.fa {
  display: inline-block;
  font: normal normal normal 14px/1 FontAwesome;
  font-size: inherit;
  text-rendering: auto;
  -webkit-font-smoothing: antialiased;
  -moz-osx-font-smoothing: grayscale;
}
/* makes the font 33% larger relative to the icon container */
.fa-lg {
  font-size: 1.33333333em;
  line-height: 0.75em;
  vertical-align: -15%;
}
.fa-2x {
  font-size: 2em;
}
.fa-3x {
  font-size: 3em;
}
.fa-4x {
  font-size: 4em;
}
.fa-5x {
  font-size: 5em;
}
.fa-fw {
  width: 1.28571429em;
  text-align: center;
}
.fa-ul {
  padding-left: 0;
  margin-left: 2.14285714em;
  list-style-type: none;
}
.fa-ul > li {
  position: relative;
}
.fa-li {
  position: absolute;
  left: -2.14285714em;
  width: 2.14285714em;
  top: 0.14285714em;
  text-align: center;
}
.fa-li.fa-lg {
  left: -1.85714286em;
}
.fa-border {
  padding: .2em .25em .15em;
  border: solid 0.08em #eee;
  border-radius: .1em;
}
.pull-right {
  float: right;
}
.pull-left {
  float: left;
}
.fa.pull-left {
  margin-right: .3em;
}
.fa.pull-right {
  margin-left: .3em;
}
.fa-spin {
  -webkit-animation: fa-spin 2s infinite linear;
  animation: fa-spin 2s infinite linear;
}
@-webkit-keyframes fa-spin {
  0% {
    -webkit-transform: rotate(0deg);
    transform: rotate(0deg);
  }
  100% {
    -webkit-transform: rotate(359deg);
    transform: rotate(359deg);
  }
}
@keyframes fa-spin {
  0% {
    -webkit-transform: rotate(0deg);
    transform: rotate(0deg);
  }
  100% {
    -webkit-transform: rotate(359deg);
    transform: rotate(359deg);
  }
}
.fa-rotate-90 {
  filter: progid:DXImageTransform.Microsoft.BasicImage(rotation=1);
  -webkit-transform: rotate(90deg);
  -ms-transform: rotate(90deg);
  transform: rotate(90deg);
}
.fa-rotate-180 {
  filter: progid:DXImageTransform.Microsoft.BasicImage(rotation=2);
  -webkit-transform: rotate(180deg);
  -ms-transform: rotate(180deg);
  transform: rotate(180deg);
}
.fa-rotate-270 {
  filter: progid:DXImageTransform.Microsoft.BasicImage(rotation=3);
  -webkit-transform: rotate(270deg);
  -ms-transform: rotate(270deg);
  transform: rotate(270deg);
}
.fa-flip-horizontal {
  filter: progid:DXImageTransform.Microsoft.BasicImage(rotation=0, mirror=1);
  -webkit-transform: scale(-1, 1);
  -ms-transform: scale(-1, 1);
  transform: scale(-1, 1);
}
.fa-flip-vertical {
  filter: progid:DXImageTransform.Microsoft.BasicImage(rotation=2, mirror=1);
  -webkit-transform: scale(1, -1);
  -ms-transform: scale(1, -1);
  transform: scale(1, -1);
}
:root .fa-rotate-90,
:root .fa-rotate-180,
:root .fa-rotate-270,
:root .fa-flip-horizontal,
:root .fa-flip-vertical {
  filter: none;
}
.fa-stack {
  position: relative;
  display: inline-block;
  width: 2em;
  height: 2em;
  line-height: 2em;
  vertical-align: middle;
}
.fa-stack-1x,
.fa-stack-2x {
  position: absolute;
  left: 0;
  width: 100%;
  text-align: center;
}
.fa-stack-1x {
  line-height: inherit;
}
.fa-stack-2x {
  font-size: 2em;
}
.fa-inverse {
  color: #fff;
}
/* Font Awesome uses the Unicode Private Use Area (PUA) to ensure screen
   readers do not read off random characters that represent icons */
.fa-glass:before {
  content: "\f000";
}
.fa-music:before {
  content: "\f001";
}
.fa-search:before {
  content: "\f002";
}
.fa-envelope-o:before {
  content: "\f003";
}
.fa-heart:before {
  content: "\f004";
}
.fa-star:before {
  content: "\f005";
}
.fa-star-o:before {
  content: "\f006";
}
.fa-user:before {
  content: "\f007";
}
.fa-film:before {
  content: "\f008";
}
.fa-th-large:before {
  content: "\f009";
}
.fa-th:before {
  content: "\f00a";
}
.fa-th-list:before {
  content: "\f00b";
}
.fa-check:before {
  content: "\f00c";
}
.fa-remove:before,
.fa-close:before,
.fa-times:before {
  content: "\f00d";
}
.fa-search-plus:before {
  content: "\f00e";
}
.fa-search-minus:before {
  content: "\f010";
}
.fa-power-off:before {
  content: "\f011";
}
.fa-signal:before {
  content: "\f012";
}
.fa-gear:before,
.fa-cog:before {
  content: "\f013";
}
.fa-trash-o:before {
  content: "\f014";
}
.fa-home:before {
  content: "\f015";
}
.fa-file-o:before {
  content: "\f016";
}
.fa-clock-o:before {
  content: "\f017";
}
.fa-road:before {
  content: "\f018";
}
.fa-download:before {
  content: "\f019";
}
.fa-arrow-circle-o-down:before {
  content: "\f01a";
}
.fa-arrow-circle-o-up:before {
  content: "\f01b";
}
.fa-inbox:before {
  content: "\f01c";
}
.fa-play-circle-o:before {
  content: "\f01d";
}
.fa-rotate-right:before,
.fa-repeat:before {
  content: "\f01e";
}
.fa-refresh:before {
  content: "\f021";
}
.fa-list-alt:before {
  content: "\f022";
}
.fa-lock:before {
  content: "\f023";
}
.fa-flag:before {
  content: "\f024";
}
.fa-headphones:before {
  content: "\f025";
}
.fa-volume-off:before {
  content: "\f026";
}
.fa-volume-down:before {
  content: "\f027";
}
.fa-volume-up:before {
  content: "\f028";
}
.fa-qrcode:before {
  content: "\f029";
}
.fa-barcode:before {
  content: "\f02a";
}
.fa-tag:before {
  content: "\f02b";
}
.fa-tags:before {
  content: "\f02c";
}
.fa-book:before {
  content: "\f02d";
}
.fa-bookmark:before {
  content: "\f02e";
}
.fa-print:before {
  content: "\f02f";
}
.fa-camera:before {
  content: "\f030";
}
.fa-font:before {
  content: "\f031";
}
.fa-bold:before {
  content: "\f032";
}
.fa-italic:before {
  content: "\f033";
}
.fa-text-height:before {
  content: "\f034";
}
.fa-text-width:before {
  content: "\f035";
}
.fa-align-left:before {
  content: "\f036";
}
.fa-align-center:before {
  content: "\f037";
}
.fa-align-right:before {
  content: "\f038";
}
.fa-align-justify:before {
  content: "\f039";
}
.fa-list:before {
  content: "\f03a";
}
.fa-dedent:before,
.fa-outdent:before {
  content: "\f03b";
}
.fa-indent:before {
  content: "\f03c";
}
.fa-video-camera:before {
  content: "\f03d";
}
.fa-photo:before,
.fa-image:before,
.fa-picture-o:before {
  content: "\f03e";
}
.fa-pencil:before {
  content: "\f040";
}
.fa-map-marker:before {
  content: "\f041";
}
.fa-adjust:before {
  content: "\f042";
}
.fa-tint:before {
  content: "\f043";
}
.fa-edit:before,
.fa-pencil-square-o:before {
  content: "\f044";
}
.fa-share-square-o:before {
  content: "\f045";
}
.fa-check-square-o:before {
  content: "\f046";
}
.fa-arrows:before {
  content: "\f047";
}
.fa-step-backward:before {
  content: "\f048";
}
.fa-fast-backward:before {
  content: "\f049";
}
.fa-backward:before {
  content: "\f04a";
}
.fa-play:before {
  content: "\f04b";
}
.fa-pause:before {
  content: "\f04c";
}
.fa-stop:before {
  content: "\f04d";
}
.fa-forward:before {
  content: "\f04e";
}
.fa-fast-forward:before {
  content: "\f050";
}
.fa-step-forward:before {
  content: "\f051";
}
.fa-eject:before {
  content: "\f052";
}
.fa-chevron-left:before {
  content: "\f053";
}
.fa-chevron-right:before {
  content: "\f054";
}
.fa-plus-circle:before {
  content: "\f055";
}
.fa-minus-circle:before {
  content: "\f056";
}
.fa-times-circle:before {
  content: "\f057";
}
.fa-check-circle:before {
  content: "\f058";
}
.fa-question-circle:before {
  content: "\f059";
}
.fa-info-circle:before {
  content: "\f05a";
}
.fa-crosshairs:before {
  content: "\f05b";
}
.fa-times-circle-o:before {
  content: "\f05c";
}
.fa-check-circle-o:before {
  content: "\f05d";
}
.fa-ban:before {
  content: "\f05e";
}
.fa-arrow-left:before {
  content: "\f060";
}
.fa-arrow-right:before {
  content: "\f061";
}
.fa-arrow-up:before {
  content: "\f062";
}
.fa-arrow-down:before {
  content: "\f063";
}
.fa-mail-forward:before,
.fa-share:before {
  content: "\f064";
}
.fa-expand:before {
  content: "\f065";
}
.fa-compress:before {
  content: "\f066";
}
.fa-plus:before {
  content: "\f067";
}
.fa-minus:before {
  content: "\f068";
}
.fa-asterisk:before {
  content: "\f069";
}
.fa-exclamation-circle:before {
  content: "\f06a";
}
.fa-gift:before {
  content: "\f06b";
}
.fa-leaf:before {
  content: "\f06c";
}
.fa-fire:before {
  content: "\f06d";
}
.fa-eye:before {
  content: "\f06e";
}
.fa-eye-slash:before {
  content: "\f070";
}
.fa-warning:before,
.fa-exclamation-triangle:before {
  content: "\f071";
}
.fa-plane:before {
  content: "\f072";
}
.fa-calendar:before {
  content: "\f073";
}
.fa-random:before {
  content: "\f074";
}
.fa-comment:before {
  content: "\f075";
}
.fa-magnet:before {
  content: "\f076";
}
.fa-chevron-up:before {
  content: "\f077";
}
.fa-chevron-down:before {
  content: "\f078";
}
.fa-retweet:before {
  content: "\f079";
}
.fa-shopping-cart:before {
  content: "\f07a";
}
.fa-folder:before {
  content: "\f07b";
}
.fa-folder-open:before {
  content: "\f07c";
}
.fa-arrows-v:before {
  content: "\f07d";
}
.fa-arrows-h:before {
  content: "\f07e";
}
.fa-bar-chart-o:before,
.fa-bar-chart:before {
  content: "\f080";
}
.fa-twitter-square:before {
  content: "\f081";
}
.fa-facebook-square:before {
  content: "\f082";
}
.fa-camera-retro:before {
  content: "\f083";
}
.fa-key:before {
  content: "\f084";
}
.fa-gears:before,
.fa-cogs:before {
  content: "\f085";
}
.fa-comments:before {
  content: "\f086";
}
.fa-thumbs-o-up:before {
  content: "\f087";
}
.fa-thumbs-o-down:before {
  content: "\f088";
}
.fa-star-half:before {
  content: "\f089";
}
.fa-heart-o:before {
  content: "\f08a";
}
.fa-sign-out:before {
  content: "\f08b";
}
.fa-linkedin-square:before {
  content: "\f08c";
}
.fa-thumb-tack:before {
  content: "\f08d";
}
.fa-external-link:before {
  content: "\f08e";
}
.fa-sign-in:before {
  content: "\f090";
}
.fa-trophy:before {
  content: "\f091";
}
.fa-github-square:before {
  content: "\f092";
}
.fa-upload:before {
  content: "\f093";
}
.fa-lemon-o:before {
  content: "\f094";
}
.fa-phone:before {
  content: "\f095";
}
.fa-square-o:before {
  content: "\f096";
}
.fa-bookmark-o:before {
  content: "\f097";
}
.fa-phone-square:before {
  content: "\f098";
}
.fa-twitter:before {
  content: "\f099";
}
.fa-facebook:before {
  content: "\f09a";
}
.fa-github:before {
  content: "\f09b";
}
.fa-unlock:before {
  content: "\f09c";
}
.fa-credit-card:before {
  content: "\f09d";
}
.fa-rss:before {
  content: "\f09e";
}
.fa-hdd-o:before {
  content: "\f0a0";
}
.fa-bullhorn:before {
  content: "\f0a1";
}
.fa-bell:before {
  content: "\f0f3";
}
.fa-certificate:before {
  content: "\f0a3";
}
.fa-hand-o-right:before {
  content: "\f0a4";
}
.fa-hand-o-left:before {
  content: "\f0a5";
}
.fa-hand-o-up:before {
  content: "\f0a6";
}
.fa-hand-o-down:before {
  content: "\f0a7";
}
.fa-arrow-circle-left:before {
  content: "\f0a8";
}
.fa-arrow-circle-right:before {
  content: "\f0a9";
}
.fa-arrow-circle-up:before {
  content: "\f0aa";
}
.fa-arrow-circle-down:before {
  content: "\f0ab";
}
.fa-globe:before {
  content: "\f0ac";
}
.fa-wrench:before {
  content: "\f0ad";
}
.fa-tasks:before {
  content: "\f0ae";
}
.fa-filter:before {
  content: "\f0b0";
}
.fa-briefcase:before {
  content: "\f0b1";
}
.fa-arrows-alt:before {
  content: "\f0b2";
}
.fa-group:before,
.fa-users:before {
  content: "\f0c0";
}
.fa-chain:before,
.fa-link:before {
  content: "\f0c1";
}
.fa-cloud:before {
  content: "\f0c2";
}
.fa-flask:before {
  content: "\f0c3";
}
.fa-cut:before,
.fa-scissors:before {
  content: "\f0c4";
}
.fa-copy:before,
.fa-files-o:before {
  content: "\f0c5";
}
.fa-paperclip:before {
  content: "\f0c6";
}
.fa-save:before,
.fa-floppy-o:before {
  content: "\f0c7";
}
.fa-square:before {
  content: "\f0c8";
}
.fa-navicon:before,
.fa-reorder:before,
.fa-bars:before {
  content: "\f0c9";
}
.fa-list-ul:before {
  content: "\f0ca";
}
.fa-list-ol:before {
  content: "\f0cb";
}
.fa-strikethrough:before {
  content: "\f0cc";
}
.fa-underline:before {
  content: "\f0cd";
}
.fa-table:before {
  content: "\f0ce";
}
.fa-magic:before {
  content: "\f0d0";
}
.fa-truck:before {
  content: "\f0d1";
}
.fa-pinterest:before {
  content: "\f0d2";
}
.fa-pinterest-square:before {
  content: "\f0d3";
}
.fa-google-plus-square:before {
  content: "\f0d4";
}
.fa-google-plus:before {
  content: "\f0d5";
}
.fa-money:before {
  content: "\f0d6";
}
.fa-caret-down:before {
  content: "\f0d7";
}
.fa-caret-up:before {
  content: "\f0d8";
}
.fa-caret-left:before {
  content: "\f0d9";
}
.fa-caret-right:before {
  content: "\f0da";
}
.fa-columns:before {
  content: "\f0db";
}
.fa-unsorted:before,
.fa-sort:before {
  content: "\f0dc";
}
.fa-sort-down:before,
.fa-sort-desc:before {
  content: "\f0dd";
}
.fa-sort-up:before,
.fa-sort-asc:before {
  content: "\f0de";
}
.fa-envelope:before {
  content: "\f0e0";
}
.fa-linkedin:before {
  content: "\f0e1";
}
.fa-rotate-left:before,
.fa-undo:before {
  content: "\f0e2";
}
.fa-legal:before,
.fa-gavel:before {
  content: "\f0e3";
}
.fa-dashboard:before,
.fa-tachometer:before {
  content: "\f0e4";
}
.fa-comment-o:before {
  content: "\f0e5";
}
.fa-comments-o:before {
  content: "\f0e6";
}
.fa-flash:before,
.fa-bolt:before {
  content: "\f0e7";
}
.fa-sitemap:before {
  content: "\f0e8";
}
.fa-umbrella:before {
  content: "\f0e9";
}
.fa-paste:before,
.fa-clipboard:before {
  content: "\f0ea";
}
.fa-lightbulb-o:before {
  content: "\f0eb";
}
.fa-exchange:before {
  content: "\f0ec";
}
.fa-cloud-download:before {
  content: "\f0ed";
}
.fa-cloud-upload:before {
  content: "\f0ee";
}
.fa-user-md:before {
  content: "\f0f0";
}
.fa-stethoscope:before {
  content: "\f0f1";
}
.fa-suitcase:before {
  content: "\f0f2";
}
.fa-bell-o:before {
  content: "\f0a2";
}
.fa-coffee:before {
  content: "\f0f4";
}
.fa-cutlery:before {
  content: "\f0f5";
}
.fa-file-text-o:before {
  content: "\f0f6";
}
.fa-building-o:before {
  content: "\f0f7";
}
.fa-hospital-o:before {
  content: "\f0f8";
}
.fa-ambulance:before {
  content: "\f0f9";
}
.fa-medkit:before {
  content: "\f0fa";
}
.fa-fighter-jet:before {
  content: "\f0fb";
}
.fa-beer:before {
  content: "\f0fc";
}
.fa-h-square:before {
  content: "\f0fd";
}
.fa-plus-square:before {
  content: "\f0fe";
}
.fa-angle-double-left:before {
  content: "\f100";
}
.fa-angle-double-right:before {
  content: "\f101";
}
.fa-angle-double-up:before {
  content: "\f102";
}
.fa-angle-double-down:before {
  content: "\f103";
}
.fa-angle-left:before {
  content: "\f104";
}
.fa-angle-right:before {
  content: "\f105";
}
.fa-angle-up:before {
  content: "\f106";
}
.fa-angle-down:before {
  content: "\f107";
}
.fa-desktop:before {
  content: "\f108";
}
.fa-laptop:before {
  content: "\f109";
}
.fa-tablet:before {
  content: "\f10a";
}
.fa-mobile-phone:before,
.fa-mobile:before {
  content: "\f10b";
}
.fa-circle-o:before {
  content: "\f10c";
}
.fa-quote-left:before {
  content: "\f10d";
}
.fa-quote-right:before {
  content: "\f10e";
}
.fa-spinner:before {
  content: "\f110";
}
.fa-circle:before {
  content: "\f111";
}
.fa-mail-reply:before,
.fa-reply:before {
  content: "\f112";
}
.fa-github-alt:before {
  content: "\f113";
}
.fa-folder-o:before {
  content: "\f114";
}
.fa-folder-open-o:before {
  content: "\f115";
}
.fa-smile-o:before {
  content: "\f118";
}
.fa-frown-o:before {
  content: "\f119";
}
.fa-meh-o:before {
  content: "\f11a";
}
.fa-gamepad:before {
  content: "\f11b";
}
.fa-keyboard-o:before {
  content: "\f11c";
}
.fa-flag-o:before {
  content: "\f11d";
}
.fa-flag-checkered:before {
  content: "\f11e";
}
.fa-terminal:before {
  content: "\f120";
}
.fa-code:before {
  content: "\f121";
}
.fa-mail-reply-all:before,
.fa-reply-all:before {
  content: "\f122";
}
.fa-star-half-empty:before,
.fa-star-half-full:before,
.fa-star-half-o:before {
  content: "\f123";
}
.fa-location-arrow:before {
  content: "\f124";
}
.fa-crop:before {
  content: "\f125";
}
.fa-code-fork:before {
  content: "\f126";
}
.fa-unlink:before,
.fa-chain-broken:before {
  content: "\f127";
}
.fa-question:before {
  content: "\f128";
}
.fa-info:before {
  content: "\f129";
}
.fa-exclamation:before {
  content: "\f12a";
}
.fa-superscript:before {
  content: "\f12b";
}
.fa-subscript:before {
  content: "\f12c";
}
.fa-eraser:before {
  content: "\f12d";
}
.fa-puzzle-piece:before {
  content: "\f12e";
}
.fa-microphone:before {
  content: "\f130";
}
.fa-microphone-slash:before {
  content: "\f131";
}
.fa-shield:before {
  content: "\f132";
}
.fa-calendar-o:before {
  content: "\f133";
}
.fa-fire-extinguisher:before {
  content: "\f134";
}
.fa-rocket:before {
  content: "\f135";
}
.fa-maxcdn:before {
  content: "\f136";
}
.fa-chevron-circle-left:before {
  content: "\f137";
}
.fa-chevron-circle-right:before {
  content: "\f138";
}
.fa-chevron-circle-up:before {
  content: "\f139";
}
.fa-chevron-circle-down:before {
  content: "\f13a";
}
.fa-html5:before {
  content: "\f13b";
}
.fa-css3:before {
  content: "\f13c";
}
.fa-anchor:before {
  content: "\f13d";
}
.fa-unlock-alt:before {
  content: "\f13e";
}
.fa-bullseye:before {
  content: "\f140";
}
.fa-ellipsis-h:before {
  content: "\f141";
}
.fa-ellipsis-v:before {
  content: "\f142";
}
.fa-rss-square:before {
  content: "\f143";
}
.fa-play-circle:before {
  content: "\f144";
}
.fa-ticket:before {
  content: "\f145";
}
.fa-minus-square:before {
  content: "\f146";
}
.fa-minus-square-o:before {
  content: "\f147";
}
.fa-level-up:before {
  content: "\f148";
}
.fa-level-down:before {
  content: "\f149";
}
.fa-check-square:before {
  content: "\f14a";
}
.fa-pencil-square:before {
  content: "\f14b";
}
.fa-external-link-square:before {
  content: "\f14c";
}
.fa-share-square:before {
  content: "\f14d";
}
.fa-compass:before {
  content: "\f14e";
}
.fa-toggle-down:before,
.fa-caret-square-o-down:before {
  content: "\f150";
}
.fa-toggle-up:before,
.fa-caret-square-o-up:before {
  content: "\f151";
}
.fa-toggle-right:before,
.fa-caret-square-o-right:before {
  content: "\f152";
}
.fa-euro:before,
.fa-eur:before {
  content: "\f153";
}
.fa-gbp:before {
  content: "\f154";
}
.fa-dollar:before,
.fa-usd:before {
  content: "\f155";
}
.fa-rupee:before,
.fa-inr:before {
  content: "\f156";
}
.fa-cny:before,
.fa-rmb:before,
.fa-yen:before,
.fa-jpy:before {
  content: "\f157";
}
.fa-ruble:before,
.fa-rouble:before,
.fa-rub:before {
  content: "\f158";
}
.fa-won:before,
.fa-krw:before {
  content: "\f159";
}
.fa-bitcoin:before,
.fa-btc:before {
  content: "\f15a";
}
.fa-file:before {
  content: "\f15b";
}
.fa-file-text:before {
  content: "\f15c";
}
.fa-sort-alpha-asc:before {
  content: "\f15d";
}
.fa-sort-alpha-desc:before {
  content: "\f15e";
}
.fa-sort-amount-asc:before {
  content: "\f160";
}
.fa-sort-amount-desc:before {
  content: "\f161";
}
.fa-sort-numeric-asc:before {
  content: "\f162";
}
.fa-sort-numeric-desc:before {
  content: "\f163";
}
.fa-thumbs-up:before {
  content: "\f164";
}
.fa-thumbs-down:before {
  content: "\f165";
}
.fa-youtube-square:before {
  content: "\f166";
}
.fa-youtube:before {
  content: "\f167";
}
.fa-xing:before {
  content: "\f168";
}
.fa-xing-square:before {
  content: "\f169";
}
.fa-youtube-play:before {
  content: "\f16a";
}
.fa-dropbox:before {
  content: "\f16b";
}
.fa-stack-overflow:before {
  content: "\f16c";
}
.fa-instagram:before {
  content: "\f16d";
}
.fa-flickr:before {
  content: "\f16e";
}
.fa-adn:before {
  content: "\f170";
}
.fa-bitbucket:before {
  content: "\f171";
}
.fa-bitbucket-square:before {
  content: "\f172";
}
.fa-tumblr:before {
  content: "\f173";
}
.fa-tumblr-square:before {
  content: "\f174";
}
.fa-long-arrow-down:before {
  content: "\f175";
}
.fa-long-arrow-up:before {
  content: "\f176";
}
.fa-long-arrow-left:before {
  content: "\f177";
}
.fa-long-arrow-right:before {
  content: "\f178";
}
.fa-apple:before {
  content: "\f179";
}
.fa-windows:before {
  content: "\f17a";
}
.fa-android:before {
  content: "\f17b";
}
.fa-linux:before {
  content: "\f17c";
}
.fa-dribbble:before {
  content: "\f17d";
}
.fa-skype:before {
  content: "\f17e";
}
.fa-foursquare:before {
  content: "\f180";
}
.fa-trello:before {
  content: "\f181";
}
.fa-female:before {
  content: "\f182";
}
.fa-male:before {
  content: "\f183";
}
.fa-gittip:before {
  content: "\f184";
}
.fa-sun-o:before {
  content: "\f185";
}
.fa-moon-o:before {
  content: "\f186";
}
.fa-archive:before {
  content: "\f187";
}
.fa-bug:before {
  content: "\f188";
}
.fa-vk:before {
  content: "\f189";
}
.fa-weibo:before {
  content: "\f18a";
}
.fa-renren:before {
  content: "\f18b";
}
.fa-pagelines:before {
  content: "\f18c";
}
.fa-stack-exchange:before {
  content: "\f18d";
}
.fa-arrow-circle-o-right:before {
  content: "\f18e";
}
.fa-arrow-circle-o-left:before {
  content: "\f190";
}
.fa-toggle-left:before,
.fa-caret-square-o-left:before {
  content: "\f191";
}
.fa-dot-circle-o:before {
  content: "\f192";
}
.fa-wheelchair:before {
  content: "\f193";
}
.fa-vimeo-square:before {
  content: "\f194";
}
.fa-turkish-lira:before,
.fa-try:before {
  content: "\f195";
}
.fa-plus-square-o:before {
  content: "\f196";
}
.fa-space-shuttle:before {
  content: "\f197";
}
.fa-slack:before {
  content: "\f198";
}
.fa-envelope-square:before {
  content: "\f199";
}
.fa-wordpress:before {
  content: "\f19a";
}
.fa-openid:before {
  content: "\f19b";
}
.fa-institution:before,
.fa-bank:before,
.fa-university:before {
  content: "\f19c";
}
.fa-mortar-board:before,
.fa-graduation-cap:before {
  content: "\f19d";
}
.fa-yahoo:before {
  content: "\f19e";
}
.fa-google:before {
  content: "\f1a0";
}
.fa-reddit:before {
  content: "\f1a1";
}
.fa-reddit-square:before {
  content: "\f1a2";
}
.fa-stumbleupon-circle:before {
  content: "\f1a3";
}
.fa-stumbleupon:before {
  content: "\f1a4";
}
.fa-delicious:before {
  content: "\f1a5";
}
.fa-digg:before {
  content: "\f1a6";
}
.fa-pied-piper:before {
  content: "\f1a7";
}
.fa-pied-piper-alt:before {
  content: "\f1a8";
}
.fa-drupal:before {
  content: "\f1a9";
}
.fa-joomla:before {
  content: "\f1aa";
}
.fa-language:before {
  content: "\f1ab";
}
.fa-fax:before {
  content: "\f1ac";
}
.fa-building:before {
  content: "\f1ad";
}
.fa-child:before {
  content: "\f1ae";
}
.fa-paw:before {
  content: "\f1b0";
}
.fa-spoon:before {
  content: "\f1b1";
}
.fa-cube:before {
  content: "\f1b2";
}
.fa-cubes:before {
  content: "\f1b3";
}
.fa-behance:before {
  content: "\f1b4";
}
.fa-behance-square:before {
  content: "\f1b5";
}
.fa-steam:before {
  content: "\f1b6";
}
.fa-steam-square:before {
  content: "\f1b7";
}
.fa-recycle:before {
  content: "\f1b8";
}
.fa-automobile:before,
.fa-car:before {
  content: "\f1b9";
}
.fa-cab:before,
.fa-taxi:before {
  content: "\f1ba";
}
.fa-tree:before {
  content: "\f1bb";
}
.fa-spotify:before {
  content: "\f1bc";
}
.fa-deviantart:before {
  content: "\f1bd";
}
.fa-soundcloud:before {
  content: "\f1be";
}
.fa-database:before {
  content: "\f1c0";
}
.fa-file-pdf-o:before {
  content: "\f1c1";
}
.fa-file-word-o:before {
  content: "\f1c2";
}
.fa-file-excel-o:before {
  content: "\f1c3";
}
.fa-file-powerpoint-o:before {
  content: "\f1c4";
}
.fa-file-photo-o:before,
.fa-file-picture-o:before,
.fa-file-image-o:before {
  content: "\f1c5";
}
.fa-file-zip-o:before,
.fa-file-archive-o:before {
  content: "\f1c6";
}
.fa-file-sound-o:before,
.fa-file-audio-o:before {
  content: "\f1c7";
}
.fa-file-movie-o:before,
.fa-file-video-o:before {
  content: "\f1c8";
}
.fa-file-code-o:before {
  content: "\f1c9";
}
.fa-vine:before {
  content: "\f1ca";
}
.fa-codepen:before {
  content: "\f1cb";
}
.fa-jsfiddle:before {
  content: "\f1cc";
}
.fa-life-bouy:before,
.fa-life-buoy:before,
.fa-life-saver:before,
.fa-support:before,
.fa-life-ring:before {
  content: "\f1cd";
}
.fa-circle-o-notch:before {
  content: "\f1ce";
}
.fa-ra:before,
.fa-rebel:before {
  content: "\f1d0";
}
.fa-ge:before,
.fa-empire:before {
  content: "\f1d1";
}
.fa-git-square:before {
  content: "\f1d2";
}
.fa-git:before {
  content: "\f1d3";
}
.fa-hacker-news:before {
  content: "\f1d4";
}
.fa-tencent-weibo:before {
  content: "\f1d5";
}
.fa-qq:before {
  content: "\f1d6";
}
.fa-wechat:before,
.fa-weixin:before {
  content: "\f1d7";
}
.fa-send:before,
.fa-paper-plane:before {
  content: "\f1d8";
}
.fa-send-o:before,
.fa-paper-plane-o:before {
  content: "\f1d9";
}
.fa-history:before {
  content: "\f1da";
}
.fa-circle-thin:before {
  content: "\f1db";
}
.fa-header:before {
  content: "\f1dc";
}
.fa-paragraph:before {
  content: "\f1dd";
}
.fa-sliders:before {
  content: "\f1de";
}
.fa-share-alt:before {
  content: "\f1e0";
}
.fa-share-alt-square:before {
  content: "\f1e1";
}
.fa-bomb:before {
  content: "\f1e2";
}
.fa-soccer-ball-o:before,
.fa-futbol-o:before {
  content: "\f1e3";
}
.fa-tty:before {
  content: "\f1e4";
}
.fa-binoculars:before {
  content: "\f1e5";
}
.fa-plug:before {
  content: "\f1e6";
}
.fa-slideshare:before {
  content: "\f1e7";
}
.fa-twitch:before {
  content: "\f1e8";
}
.fa-yelp:before {
  content: "\f1e9";
}
.fa-newspaper-o:before {
  content: "\f1ea";
}
.fa-wifi:before {
  content: "\f1eb";
}
.fa-calculator:before {
  content: "\f1ec";
}
.fa-paypal:before {
  content: "\f1ed";
}
.fa-google-wallet:before {
  content: "\f1ee";
}
.fa-cc-visa:before {
  content: "\f1f0";
}
.fa-cc-mastercard:before {
  content: "\f1f1";
}
.fa-cc-discover:before {
  content: "\f1f2";
}
.fa-cc-amex:before {
  content: "\f1f3";
}
.fa-cc-paypal:before {
  content: "\f1f4";
}
.fa-cc-stripe:before {
  content: "\f1f5";
}
.fa-bell-slash:before {
  content: "\f1f6";
}
.fa-bell-slash-o:before {
  content: "\f1f7";
}
.fa-trash:before {
  content: "\f1f8";
}
.fa-copyright:before {
  content: "\f1f9";
}
.fa-at:before {
  content: "\f1fa";
}
.fa-eyedropper:before {
  content: "\f1fb";
}
.fa-paint-brush:before {
  content: "\f1fc";
}
.fa-birthday-cake:before {
  content: "\f1fd";
}
.fa-area-chart:before {
  content: "\f1fe";
}
.fa-pie-chart:before {
  content: "\f200";
}
.fa-line-chart:before {
  content: "\f201";
}
.fa-lastfm:before {
  content: "\f202";
}
.fa-lastfm-square:before {
  content: "\f203";
}
.fa-toggle-off:before {
  content: "\f204";
}
.fa-toggle-on:before {
  content: "\f205";
}
.fa-bicycle:before {
  content: "\f206";
}
.fa-bus:before {
  content: "\f207";
}
.fa-ioxhost:before {
  content: "\f208";
}
.fa-angellist:before {
  content: "\f209";
}
.fa-cc:before {
  content: "\f20a";
}
.fa-shekel:before,
.fa-sheqel:before,
.fa-ils:before {
  content: "\f20b";
}
.fa-meanpath:before {
  content: "\f20c";
}
/*!
*
* IPython base
*
*/
.modal.fade .modal-dialog {
  -webkit-transform: translate(0, 0);
  -ms-transform: translate(0, 0);
  -o-transform: translate(0, 0);
  transform: translate(0, 0);
}
code {
  color: #000;
}
pre {
  font-size: inherit;
  line-height: inherit;
}
label {
  font-weight: normal;
}
/* Make the page background atleast 100% the height of the view port */
/* Make the page itself atleast 70% the height of the view port */
.border-box-sizing {
  box-sizing: border-box;
  -moz-box-sizing: border-box;
  -webkit-box-sizing: border-box;
}
.corner-all {
  border-radius: 2px;
}
.no-padding {
  padding: 0px;
}
/* Flexible box model classes */
/* Taken from Alex Russell http://infrequently.org/2009/08/css-3-progress/ */
/* This file is a compatability layer.  It allows the usage of flexible box 
model layouts accross multiple browsers, including older browsers.  The newest,
universal implementation of the flexible box model is used when available (see
`Modern browsers` comments below).  Browsers that are known to implement this 
new spec completely include:

    Firefox 28.0+
    Chrome 29.0+
    Internet Explorer 11+ 
    Opera 17.0+

Browsers not listed, including Safari, are supported via the styling under the
`Old browsers` comments below.
*/
.hbox {
  /* Old browsers */
  display: -webkit-box;
  -webkit-box-orient: horizontal;
  -webkit-box-align: stretch;
  display: -moz-box;
  -moz-box-orient: horizontal;
  -moz-box-align: stretch;
  display: box;
  box-orient: horizontal;
  box-align: stretch;
  /* Modern browsers */
  display: flex;
  flex-direction: row;
  align-items: stretch;
}
.hbox > * {
  /* Old browsers */
  -webkit-box-flex: 0;
  -moz-box-flex: 0;
  box-flex: 0;
  /* Modern browsers */
  flex: none;
}
.vbox {
  /* Old browsers */
  display: -webkit-box;
  -webkit-box-orient: vertical;
  -webkit-box-align: stretch;
  display: -moz-box;
  -moz-box-orient: vertical;
  -moz-box-align: stretch;
  display: box;
  box-orient: vertical;
  box-align: stretch;
  /* Modern browsers */
  display: flex;
  flex-direction: column;
  align-items: stretch;
}
.vbox > * {
  /* Old browsers */
  -webkit-box-flex: 0;
  -moz-box-flex: 0;
  box-flex: 0;
  /* Modern browsers */
  flex: none;
}
.hbox.reverse,
.vbox.reverse,
.reverse {
  /* Old browsers */
  -webkit-box-direction: reverse;
  -moz-box-direction: reverse;
  box-direction: reverse;
  /* Modern browsers */
  flex-direction: row-reverse;
}
.hbox.box-flex0,
.vbox.box-flex0,
.box-flex0 {
  /* Old browsers */
  -webkit-box-flex: 0;
  -moz-box-flex: 0;
  box-flex: 0;
  /* Modern browsers */
  flex: none;
  width: auto;
}
.hbox.box-flex1,
.vbox.box-flex1,
.box-flex1 {
  /* Old browsers */
  -webkit-box-flex: 1;
  -moz-box-flex: 1;
  box-flex: 1;
  /* Modern browsers */
  flex: 1;
}
.hbox.box-flex,
.vbox.box-flex,
.box-flex {
  /* Old browsers */
  /* Old browsers */
  -webkit-box-flex: 1;
  -moz-box-flex: 1;
  box-flex: 1;
  /* Modern browsers */
  flex: 1;
}
.hbox.box-flex2,
.vbox.box-flex2,
.box-flex2 {
  /* Old browsers */
  -webkit-box-flex: 2;
  -moz-box-flex: 2;
  box-flex: 2;
  /* Modern browsers */
  flex: 2;
}
.box-group1 {
  /*  Deprecated */
  -webkit-box-flex-group: 1;
  -moz-box-flex-group: 1;
  box-flex-group: 1;
}
.box-group2 {
  /* Deprecated */
  -webkit-box-flex-group: 2;
  -moz-box-flex-group: 2;
  box-flex-group: 2;
}
.hbox.start,
.vbox.start,
.start {
  /* Old browsers */
  -webkit-box-pack: start;
  -moz-box-pack: start;
  box-pack: start;
  /* Modern browsers */
  justify-content: flex-start;
}
.hbox.end,
.vbox.end,
.end {
  /* Old browsers */
  -webkit-box-pack: end;
  -moz-box-pack: end;
  box-pack: end;
  /* Modern browsers */
  justify-content: flex-end;
}
.hbox.center,
.vbox.center,
.center {
  /* Old browsers */
  -webkit-box-pack: center;
  -moz-box-pack: center;
  box-pack: center;
  /* Modern browsers */
  justify-content: center;
}
.hbox.baseline,
.vbox.baseline,
.baseline {
  /* Old browsers */
  -webkit-box-pack: baseline;
  -moz-box-pack: baseline;
  box-pack: baseline;
  /* Modern browsers */
  justify-content: baseline;
}
.hbox.stretch,
.vbox.stretch,
.stretch {
  /* Old browsers */
  -webkit-box-pack: stretch;
  -moz-box-pack: stretch;
  box-pack: stretch;
  /* Modern browsers */
  justify-content: stretch;
}
.hbox.align-start,
.vbox.align-start,
.align-start {
  /* Old browsers */
  -webkit-box-align: start;
  -moz-box-align: start;
  box-align: start;
  /* Modern browsers */
  align-items: flex-start;
}
.hbox.align-end,
.vbox.align-end,
.align-end {
  /* Old browsers */
  -webkit-box-align: end;
  -moz-box-align: end;
  box-align: end;
  /* Modern browsers */
  align-items: flex-end;
}
.hbox.align-center,
.vbox.align-center,
.align-center {
  /* Old browsers */
  -webkit-box-align: center;
  -moz-box-align: center;
  box-align: center;
  /* Modern browsers */
  align-items: center;
}
.hbox.align-baseline,
.vbox.align-baseline,
.align-baseline {
  /* Old browsers */
  -webkit-box-align: baseline;
  -moz-box-align: baseline;
  box-align: baseline;
  /* Modern browsers */
  align-items: baseline;
}
.hbox.align-stretch,
.vbox.align-stretch,
.align-stretch {
  /* Old browsers */
  -webkit-box-align: stretch;
  -moz-box-align: stretch;
  box-align: stretch;
  /* Modern browsers */
  align-items: stretch;
}
div.error {
  margin: 2em;
  text-align: center;
}
div.error > h1 {
  font-size: 500%;
  line-height: normal;
}
div.error > p {
  font-size: 200%;
  line-height: normal;
}
div.traceback-wrapper {
  text-align: left;
  max-width: 800px;
  margin: auto;
}
/**
 * Primary styles
 *
 * Author: Jupyter Development Team
 */
body {
  background-color: #fff;
  /* This makes sure that the body covers the entire window and needs to
       be in a different element than the display: box in wrapper below */
  position: absolute;
  left: 0px;
  right: 0px;
  top: 0px;
  bottom: 0px;
  overflow: visible;
}
body > #header {
  /* Initially hidden to prevent FLOUC */
  display: none;
  background-color: #fff;
  /* Display over codemirror */
  position: relative;
  z-index: 100;
}
body > #header #header-container {
  padding-bottom: 5px;
  padding-top: 5px;
  box-sizing: border-box;
  -moz-box-sizing: border-box;
  -webkit-box-sizing: border-box;
}
body > #header .header-bar {
  width: 100%;
  height: 1px;
  background: #e7e7e7;
  margin-bottom: -1px;
}
@media print {
  body > #header {
    display: none !important;
  }
}
#header-spacer {
  width: 100%;
  visibility: hidden;
}
@media print {
  #header-spacer {
    display: none;
  }
}
#ipython_notebook {
  padding-left: 0px;
  padding-top: 1px;
  padding-bottom: 1px;
}
@media (max-width: 991px) {
  #ipython_notebook {
    margin-left: 10px;
  }
}
[dir="rtl"] #ipython_notebook {
  float: right !important;
}
#noscript {
  width: auto;
  padding-top: 16px;
  padding-bottom: 16px;
  text-align: center;
  font-size: 22px;
  color: red;
  font-weight: bold;
}
#ipython_notebook img {
  height: 28px;
}
#site {
  width: 100%;
  display: none;
  box-sizing: border-box;
  -moz-box-sizing: border-box;
  -webkit-box-sizing: border-box;
  overflow: auto;
}
@media print {
  #site {
    height: auto !important;
  }
}
/* Smaller buttons */
.ui-button .ui-button-text {
  padding: 0.2em 0.8em;
  font-size: 77%;
}
input.ui-button {
  padding: 0.3em 0.9em;
}
span#login_widget {
  float: right;
}
span#login_widget > .button,
#logout {
  color: #333;
  background-color: #fff;
  border-color: #ccc;
}
span#login_widget > .button:focus,
#logout:focus,
span#login_widget > .button.focus,
#logout.focus {
  color: #333;
  background-color: #e6e6e6;
  border-color: #8c8c8c;
}
span#login_widget > .button:hover,
#logout:hover {
  color: #333;
  background-color: #e6e6e6;
  border-color: #adadad;
}
span#login_widget > .button:active,
#logout:active,
span#login_widget > .button.active,
#logout.active,
.open > .dropdown-togglespan#login_widget > .button,
.open > .dropdown-toggle#logout {
  color: #333;
  background-color: #e6e6e6;
  border-color: #adadad;
}
span#login_widget > .button:active:hover,
#logout:active:hover,
span#login_widget > .button.active:hover,
#logout.active:hover,
.open > .dropdown-togglespan#login_widget > .button:hover,
.open > .dropdown-toggle#logout:hover,
span#login_widget > .button:active:focus,
#logout:active:focus,
span#login_widget > .button.active:focus,
#logout.active:focus,
.open > .dropdown-togglespan#login_widget > .button:focus,
.open > .dropdown-toggle#logout:focus,
span#login_widget > .button:active.focus,
#logout:active.focus,
span#login_widget > .button.active.focus,
#logout.active.focus,
.open > .dropdown-togglespan#login_widget > .button.focus,
.open > .dropdown-toggle#logout.focus {
  color: #333;
  background-color: #d4d4d4;
  border-color: #8c8c8c;
}
span#login_widget > .button:active,
#logout:active,
span#login_widget > .button.active,
#logout.active,
.open > .dropdown-togglespan#login_widget > .button,
.open > .dropdown-toggle#logout {
  background-image: none;
}
span#login_widget > .button.disabled:hover,
#logout.disabled:hover,
span#login_widget > .button[disabled]:hover,
#logout[disabled]:hover,
fieldset[disabled] span#login_widget > .button:hover,
fieldset[disabled] #logout:hover,
span#login_widget > .button.disabled:focus,
#logout.disabled:focus,
span#login_widget > .button[disabled]:focus,
#logout[disabled]:focus,
fieldset[disabled] span#login_widget > .button:focus,
fieldset[disabled] #logout:focus,
span#login_widget > .button.disabled.focus,
#logout.disabled.focus,
span#login_widget > .button[disabled].focus,
#logout[disabled].focus,
fieldset[disabled] span#login_widget > .button.focus,
fieldset[disabled] #logout.focus {
  background-color: #fff;
  border-color: #ccc;
}
span#login_widget > .button .badge,
#logout .badge {
  color: #fff;
  background-color: #333;
}
.nav-header {
  text-transform: none;
}
#header > span {
  margin-top: 10px;
}
.modal_stretch .modal-dialog {
  /* Old browsers */
  display: -webkit-box;
  -webkit-box-orient: vertical;
  -webkit-box-align: stretch;
  display: -moz-box;
  -moz-box-orient: vertical;
  -moz-box-align: stretch;
  display: box;
  box-orient: vertical;
  box-align: stretch;
  /* Modern browsers */
  display: flex;
  flex-direction: column;
  align-items: stretch;
  min-height: 80vh;
}
.modal_stretch .modal-dialog .modal-body {
  max-height: calc(100vh - 200px);
  overflow: auto;
  flex: 1;
}
@media (min-width: 768px) {
  .modal .modal-dialog {
    width: 700px;
  }
}
@media (min-width: 768px) {
  select.form-control {
    margin-left: 12px;
    margin-right: 12px;
  }
}
/*!
*
* IPython auth
*
*/
.center-nav {
  display: inline-block;
  margin-bottom: -4px;
}
/*!
*
* IPython tree view
*
*/
/* We need an invisible input field on top of the sentense*/
/* "Drag file onto the list ..." */
.alternate_upload {
  background-color: none;
  display: inline;
}
.alternate_upload.form {
  padding: 0;
  margin: 0;
}
.alternate_upload input.fileinput {
  text-align: center;
  vertical-align: middle;
  display: inline;
  opacity: 0;
  z-index: 2;
  width: 12ex;
  margin-right: -12ex;
}
.alternate_upload .btn-upload {
  height: 22px;
}
/**
 * Primary styles
 *
 * Author: Jupyter Development Team
 */
[dir="rtl"] #tabs li {
  float: right;
}
ul#tabs {
  margin-bottom: 4px;
}
[dir="rtl"] ul#tabs {
  margin-right: 0px;
}
ul#tabs a {
  padding-top: 6px;
  padding-bottom: 4px;
}
ul.breadcrumb a:focus,
ul.breadcrumb a:hover {
  text-decoration: none;
}
ul.breadcrumb i.icon-home {
  font-size: 16px;
  margin-right: 4px;
}
ul.breadcrumb span {
  color: #5e5e5e;
}
.list_toolbar {
  padding: 4px 0 4px 0;
  vertical-align: middle;
}
.list_toolbar .tree-buttons {
  padding-top: 1px;
}
[dir="rtl"] .list_toolbar .tree-buttons {
  float: left !important;
}
[dir="rtl"] .list_toolbar .pull-right {
  padding-top: 1px;
  float: left !important;
}
[dir="rtl"] .list_toolbar .pull-left {
  float: right !important;
}
.dynamic-buttons {
  padding-top: 3px;
  display: inline-block;
}
.list_toolbar [class*="span"] {
  min-height: 24px;
}
.list_header {
  font-weight: bold;
  background-color: #EEE;
}
.list_placeholder {
  font-weight: bold;
  padding-top: 4px;
  padding-bottom: 4px;
  padding-left: 7px;
  padding-right: 7px;
}
.list_container {
  margin-top: 4px;
  margin-bottom: 20px;
  border: 1px solid #ddd;
  border-radius: 2px;
}
.list_container > div {
  border-bottom: 1px solid #ddd;
}
.list_container > div:hover .list-item {
  background-color: red;
}
.list_container > div:last-child {
  border: none;
}
.list_item:hover .list_item {
  background-color: #ddd;
}
.list_item a {
  text-decoration: none;
}
.list_item:hover {
  background-color: #fafafa;
}
.list_header > div,
.list_item > div {
  padding-top: 4px;
  padding-bottom: 4px;
  padding-left: 7px;
  padding-right: 7px;
  line-height: 22px;
}
.list_header > div input,
.list_item > div input {
  margin-right: 7px;
  margin-left: 14px;
  vertical-align: baseline;
  line-height: 22px;
  position: relative;
  top: -1px;
}
.list_header > div .item_link,
.list_item > div .item_link {
  margin-left: -1px;
  vertical-align: baseline;
  line-height: 22px;
}
.new-file input[type=checkbox] {
  visibility: hidden;
}
.item_name {
  line-height: 22px;
  height: 24px;
}
.item_icon {
  font-size: 14px;
  color: #5e5e5e;
  margin-right: 7px;
  margin-left: 7px;
  line-height: 22px;
  vertical-align: baseline;
}
.item_buttons {
  line-height: 1em;
  margin-left: -5px;
}
.item_buttons .btn,
.item_buttons .btn-group,
.item_buttons .input-group {
  float: left;
}
.item_buttons > .btn,
.item_buttons > .btn-group,
.item_buttons > .input-group {
  margin-left: 5px;
}
.item_buttons .btn {
  min-width: 13ex;
}
.item_buttons .running-indicator {
  padding-top: 4px;
  color: #5cb85c;
}
.item_buttons .kernel-name {
  padding-top: 4px;
  color: #5bc0de;
  margin-right: 7px;
  float: left;
}
.toolbar_info {
  height: 24px;
  line-height: 24px;
}
.list_item input:not([type=checkbox]) {
  padding-top: 3px;
  padding-bottom: 3px;
  height: 22px;
  line-height: 14px;
  margin: 0px;
}
.highlight_text {
  color: blue;
}
#project_name {
  display: inline-block;
  padding-left: 7px;
  margin-left: -2px;
}
#project_name > .breadcrumb {
  padding: 0px;
  margin-bottom: 0px;
  background-color: transparent;
  font-weight: bold;
}
#tree-selector {
  padding-right: 0px;
}
[dir="rtl"] #tree-selector a {
  float: right;
}
#button-select-all {
  min-width: 50px;
}
#select-all {
  margin-left: 7px;
  margin-right: 2px;
}
.menu_icon {
  margin-right: 2px;
}
.tab-content .row {
  margin-left: 0px;
  margin-right: 0px;
}
.folder_icon:before {
  display: inline-block;
  font: normal normal normal 14px/1 FontAwesome;
  font-size: inherit;
  text-rendering: auto;
  -webkit-font-smoothing: antialiased;
  -moz-osx-font-smoothing: grayscale;
  content: "\f114";
}
.folder_icon:before.pull-left {
  margin-right: .3em;
}
.folder_icon:before.pull-right {
  margin-left: .3em;
}
.notebook_icon:before {
  display: inline-block;
  font: normal normal normal 14px/1 FontAwesome;
  font-size: inherit;
  text-rendering: auto;
  -webkit-font-smoothing: antialiased;
  -moz-osx-font-smoothing: grayscale;
  content: "\f02d";
  position: relative;
  top: -1px;
}
.notebook_icon:before.pull-left {
  margin-right: .3em;
}
.notebook_icon:before.pull-right {
  margin-left: .3em;
}
.running_notebook_icon:before {
  display: inline-block;
  font: normal normal normal 14px/1 FontAwesome;
  font-size: inherit;
  text-rendering: auto;
  -webkit-font-smoothing: antialiased;
  -moz-osx-font-smoothing: grayscale;
  content: "\f02d";
  position: relative;
  top: -1px;
  color: #5cb85c;
}
.running_notebook_icon:before.pull-left {
  margin-right: .3em;
}
.running_notebook_icon:before.pull-right {
  margin-left: .3em;
}
.file_icon:before {
  display: inline-block;
  font: normal normal normal 14px/1 FontAwesome;
  font-size: inherit;
  text-rendering: auto;
  -webkit-font-smoothing: antialiased;
  -moz-osx-font-smoothing: grayscale;
  content: "\f016";
  position: relative;
  top: -2px;
}
.file_icon:before.pull-left {
  margin-right: .3em;
}
.file_icon:before.pull-right {
  margin-left: .3em;
}
#notebook_toolbar .pull-right {
  padding-top: 0px;
  margin-right: -1px;
}
ul#new-menu {
  left: auto;
  right: 0;
}
[dir="rtl"] #new-menu {
  text-align: right;
}
.kernel-menu-icon {
  padding-right: 12px;
  width: 24px;
  content: "\f096";
}
.kernel-menu-icon:before {
  content: "\f096";
}
.kernel-menu-icon-current:before {
  content: "\f00c";
}
#tab_content {
  padding-top: 20px;
}
#running .panel-group .panel {
  margin-top: 3px;
  margin-bottom: 1em;
}
#running .panel-group .panel .panel-heading {
  background-color: #EEE;
  padding-top: 4px;
  padding-bottom: 4px;
  padding-left: 7px;
  padding-right: 7px;
  line-height: 22px;
}
#running .panel-group .panel .panel-heading a:focus,
#running .panel-group .panel .panel-heading a:hover {
  text-decoration: none;
}
#running .panel-group .panel .panel-body {
  padding: 0px;
}
#running .panel-group .panel .panel-body .list_container {
  margin-top: 0px;
  margin-bottom: 0px;
  border: 0px;
  border-radius: 0px;
}
#running .panel-group .panel .panel-body .list_container .list_item {
  border-bottom: 1px solid #ddd;
}
#running .panel-group .panel .panel-body .list_container .list_item:last-child {
  border-bottom: 0px;
}
[dir="rtl"] #running .col-sm-8 {
  float: right !important;
}
.delete-button {
  display: none;
}
.duplicate-button {
  display: none;
}
.rename-button {
  display: none;
}
.shutdown-button {
  display: none;
}
.dynamic-instructions {
  display: inline-block;
  padding-top: 4px;
}
/*!
*
* IPython text editor webapp
*
*/
.selected-keymap i.fa {
  padding: 0px 5px;
}
.selected-keymap i.fa:before {
  content: "\f00c";
}
#mode-menu {
  overflow: auto;
  max-height: 20em;
}
.edit_app #header {
  -webkit-box-shadow: 0px 0px 12px 1px rgba(87, 87, 87, 0.2);
  box-shadow: 0px 0px 12px 1px rgba(87, 87, 87, 0.2);
}
.edit_app #menubar .navbar {
  /* Use a negative 1 bottom margin, so the border overlaps the border of the
    header */
  margin-bottom: -1px;
}
.dirty-indicator {
  display: inline-block;
  font: normal normal normal 14px/1 FontAwesome;
  font-size: inherit;
  text-rendering: auto;
  -webkit-font-smoothing: antialiased;
  -moz-osx-font-smoothing: grayscale;
  width: 20px;
}
.dirty-indicator.pull-left {
  margin-right: .3em;
}
.dirty-indicator.pull-right {
  margin-left: .3em;
}
.dirty-indicator-dirty {
  display: inline-block;
  font: normal normal normal 14px/1 FontAwesome;
  font-size: inherit;
  text-rendering: auto;
  -webkit-font-smoothing: antialiased;
  -moz-osx-font-smoothing: grayscale;
  width: 20px;
}
.dirty-indicator-dirty.pull-left {
  margin-right: .3em;
}
.dirty-indicator-dirty.pull-right {
  margin-left: .3em;
}
.dirty-indicator-clean {
  display: inline-block;
  font: normal normal normal 14px/1 FontAwesome;
  font-size: inherit;
  text-rendering: auto;
  -webkit-font-smoothing: antialiased;
  -moz-osx-font-smoothing: grayscale;
  width: 20px;
}
.dirty-indicator-clean.pull-left {
  margin-right: .3em;
}
.dirty-indicator-clean.pull-right {
  margin-left: .3em;
}
.dirty-indicator-clean:before {
  display: inline-block;
  font: normal normal normal 14px/1 FontAwesome;
  font-size: inherit;
  text-rendering: auto;
  -webkit-font-smoothing: antialiased;
  -moz-osx-font-smoothing: grayscale;
  content: "\f00c";
}
.dirty-indicator-clean:before.pull-left {
  margin-right: .3em;
}
.dirty-indicator-clean:before.pull-right {
  margin-left: .3em;
}
#filename {
  font-size: 16pt;
  display: table;
  padding: 0px 5px;
}
#current-mode {
  padding-left: 5px;
  padding-right: 5px;
}
#texteditor-backdrop {
  padding-top: 20px;
  padding-bottom: 20px;
}
@media not print {
  #texteditor-backdrop {
    background-color: #EEE;
  }
}
@media print {
  #texteditor-backdrop #texteditor-container .CodeMirror-gutter,
  #texteditor-backdrop #texteditor-container .CodeMirror-gutters {
    background-color: #fff;
  }
}
@media not print {
  #texteditor-backdrop #texteditor-container .CodeMirror-gutter,
  #texteditor-backdrop #texteditor-container .CodeMirror-gutters {
    background-color: #fff;
  }
}
@media not print {
  #texteditor-backdrop #texteditor-container {
    padding: 0px;
    background-color: #fff;
    -webkit-box-shadow: 0px 0px 12px 1px rgba(87, 87, 87, 0.2);
    box-shadow: 0px 0px 12px 1px rgba(87, 87, 87, 0.2);
  }
}
/*!
*
* IPython notebook
*
*/
/* CSS font colors for translated ANSI colors. */
.ansibold {
  font-weight: bold;
}
/* use dark versions for foreground, to improve visibility */
.ansiblack {
  color: black;
}
.ansired {
  color: darkred;
}
.ansigreen {
  color: darkgreen;
}
.ansiyellow {
  color: #c4a000;
}
.ansiblue {
  color: darkblue;
}
.ansipurple {
  color: darkviolet;
}
.ansicyan {
  color: steelblue;
}
.ansigray {
  color: gray;
}
/* and light for background, for the same reason */
.ansibgblack {
  background-color: black;
}
.ansibgred {
  background-color: red;
}
.ansibggreen {
  background-color: green;
}
.ansibgyellow {
  background-color: yellow;
}
.ansibgblue {
  background-color: blue;
}
.ansibgpurple {
  background-color: magenta;
}
.ansibgcyan {
  background-color: cyan;
}
.ansibggray {
  background-color: gray;
}
div.cell {
  /* Old browsers */
  display: -webkit-box;
  -webkit-box-orient: vertical;
  -webkit-box-align: stretch;
  display: -moz-box;
  -moz-box-orient: vertical;
  -moz-box-align: stretch;
  display: box;
  box-orient: vertical;
  box-align: stretch;
  /* Modern browsers */
  display: flex;
  flex-direction: column;
  align-items: stretch;
  border-radius: 2px;
  box-sizing: border-box;
  -moz-box-sizing: border-box;
  -webkit-box-sizing: border-box;
  border-width: 1px;
  border-style: solid;
  border-color: transparent;
  width: 100%;
  padding: 5px;
  /* This acts as a spacer between cells, that is outside the border */
  margin: 0px;
  outline: none;
  border-left-width: 1px;
  padding-left: 5px;
  background: linear-gradient(to right, transparent -40px, transparent 1px, transparent 1px, transparent 100%);
}
div.cell.jupyter-soft-selected {
  border-left-color: #90CAF9;
  border-left-color: #E3F2FD;
  border-left-width: 1px;
  padding-left: 5px;
  border-right-color: #E3F2FD;
  border-right-width: 1px;
  background: #E3F2FD;
}
@media print {
  div.cell.jupyter-soft-selected {
    border-color: transparent;
  }
}
div.cell.selected {
  border-color: #ababab;
  border-left-width: 0px;
  padding-left: 6px;
  background: linear-gradient(to right, #42A5F5 -40px, #42A5F5 5px, transparent 5px, transparent 100%);
}
@media print {
  div.cell.selected {
    border-color: transparent;
  }
}
div.cell.selected.jupyter-soft-selected {
  border-left-width: 0;
  padding-left: 6px;
  background: linear-gradient(to right, #42A5F5 -40px, #42A5F5 7px, #E3F2FD 7px, #E3F2FD 100%);
}
.edit_mode div.cell.selected {
  border-color: #66BB6A;
  border-left-width: 0px;
  padding-left: 6px;
  background: linear-gradient(to right, #66BB6A -40px, #66BB6A 5px, transparent 5px, transparent 100%);
}
@media print {
  .edit_mode div.cell.selected {
    border-color: transparent;
  }
}
.prompt {
  /* This needs to be wide enough for 3 digit prompt numbers: In[100]: */
  min-width: 14ex;
  /* This padding is tuned to match the padding on the CodeMirror editor. */
  padding: 0.4em;
  margin: 0px;
  font-family: monospace;
  text-align: right;
  /* This has to match that of the the CodeMirror class line-height below */
  line-height: 1.21429em;
  /* Don't highlight prompt number selection */
  -webkit-touch-callout: none;
  -webkit-user-select: none;
  -khtml-user-select: none;
  -moz-user-select: none;
  -ms-user-select: none;
  user-select: none;
  /* Use default cursor */
  cursor: default;
}
@media (max-width: 540px) {
  .prompt {
    text-align: left;
  }
}
div.inner_cell {
  min-width: 0;
  /* Old browsers */
  display: -webkit-box;
  -webkit-box-orient: vertical;
  -webkit-box-align: stretch;
  display: -moz-box;
  -moz-box-orient: vertical;
  -moz-box-align: stretch;
  display: box;
  box-orient: vertical;
  box-align: stretch;
  /* Modern browsers */
  display: flex;
  flex-direction: column;
  align-items: stretch;
  /* Old browsers */
  -webkit-box-flex: 1;
  -moz-box-flex: 1;
  box-flex: 1;
  /* Modern browsers */
  flex: 1;
}
/* input_area and input_prompt must match in top border and margin for alignment */
div.input_area {
  border: 1px solid #cfcfcf;
  border-radius: 2px;
  background: #f7f7f7;
  line-height: 1.21429em;
}
/* This is needed so that empty prompt areas can collapse to zero height when there
   is no content in the output_subarea and the prompt. The main purpose of this is
   to make sure that empty JavaScript output_subareas have no height. */
div.prompt:empty {
  padding-top: 0;
  padding-bottom: 0;
}
div.unrecognized_cell {
  padding: 5px 5px 5px 0px;
  /* Old browsers */
  display: -webkit-box;
  -webkit-box-orient: horizontal;
  -webkit-box-align: stretch;
  display: -moz-box;
  -moz-box-orient: horizontal;
  -moz-box-align: stretch;
  display: box;
  box-orient: horizontal;
  box-align: stretch;
  /* Modern browsers */
  display: flex;
  flex-direction: row;
  align-items: stretch;
}
div.unrecognized_cell .inner_cell {
  border-radius: 2px;
  padding: 5px;
  font-weight: bold;
  color: red;
  border: 1px solid #cfcfcf;
  background: #eaeaea;
}
div.unrecognized_cell .inner_cell a {
  color: inherit;
  text-decoration: none;
}
div.unrecognized_cell .inner_cell a:hover {
  color: inherit;
  text-decoration: none;
}
@media (max-width: 540px) {
  div.unrecognized_cell > div.prompt {
    display: none;
  }
}
div.code_cell {
  /* avoid page breaking on code cells when printing */
}
@media print {
  div.code_cell {
    page-break-inside: avoid;
  }
}
/* any special styling for code cells that are currently running goes here */
div.input {
  page-break-inside: avoid;
  /* Old browsers */
  display: -webkit-box;
  -webkit-box-orient: horizontal;
  -webkit-box-align: stretch;
  display: -moz-box;
  -moz-box-orient: horizontal;
  -moz-box-align: stretch;
  display: box;
  box-orient: horizontal;
  box-align: stretch;
  /* Modern browsers */
  display: flex;
  flex-direction: row;
  align-items: stretch;
}
@media (max-width: 540px) {
  div.input {
    /* Old browsers */
    display: -webkit-box;
    -webkit-box-orient: vertical;
    -webkit-box-align: stretch;
    display: -moz-box;
    -moz-box-orient: vertical;
    -moz-box-align: stretch;
    display: box;
    box-orient: vertical;
    box-align: stretch;
    /* Modern browsers */
    display: flex;
    flex-direction: column;
    align-items: stretch;
  }
}
/* input_area and input_prompt must match in top border and margin for alignment */
div.input_prompt {
  color: #303F9F;
  border-top: 1px solid transparent;
}
div.input_area > div.highlight {
  margin: 0.4em;
  border: none;
  padding: 0px;
  background-color: transparent;
}
div.input_area > div.highlight > pre {
  margin: 0px;
  border: none;
  padding: 0px;
  background-color: transparent;
}
/* The following gets added to the <head> if it is detected that the user has a
 * monospace font with inconsistent normal/bold/italic height.  See
 * notebookmain.js.  Such fonts will have keywords vertically offset with
 * respect to the rest of the text.  The user should select a better font.
 * See: https://github.com/ipython/ipython/issues/1503
 *
 * .CodeMirror span {
 *      vertical-align: bottom;
 * }
 */
.CodeMirror {
  line-height: 1.21429em;
  /* Changed from 1em to our global default */
  font-size: 14px;
  height: auto;
  /* Changed to auto to autogrow */
  background: none;
  /* Changed from white to allow our bg to show through */
}
.CodeMirror-scroll {
  /*  The CodeMirror docs are a bit fuzzy on if overflow-y should be hidden or visible.*/
  /*  We have found that if it is visible, vertical scrollbars appear with font size changes.*/
  overflow-y: hidden;
  overflow-x: auto;
}
.CodeMirror-lines {
  /* In CM2, this used to be 0.4em, but in CM3 it went to 4px. We need the em value because */
  /* we have set a different line-height and want this to scale with that. */
  padding: 0.4em;
}
.CodeMirror-linenumber {
  padding: 0 8px 0 4px;
}
.CodeMirror-gutters {
  border-bottom-left-radius: 2px;
  border-top-left-radius: 2px;
}
.CodeMirror pre {
  /* In CM3 this went to 4px from 0 in CM2. We need the 0 value because of how we size */
  /* .CodeMirror-lines */
  padding: 0;
  border: 0;
  border-radius: 0;
}
/*

Original style from softwaremaniacs.org (c) Ivan Sagalaev <Maniac@SoftwareManiacs.Org>
Adapted from GitHub theme

*/
.highlight-base {
  color: #000;
}
.highlight-variable {
  color: #000;
}
.highlight-variable-2 {
  color: #1a1a1a;
}
.highlight-variable-3 {
  color: #333333;
}
.highlight-string {
  color: #BA2121;
}
.highlight-comment {
  color: #408080;
  font-style: italic;
}
.highlight-number {
  color: #080;
}
.highlight-atom {
  color: #88F;
}
.highlight-keyword {
  color: #008000;
  font-weight: bold;
}
.highlight-builtin {
  color: #008000;
}
.highlight-error {
  color: #f00;
}
.highlight-operator {
  color: #AA22FF;
  font-weight: bold;
}
.highlight-meta {
  color: #AA22FF;
}
/* previously not defined, copying from default codemirror */
.highlight-def {
  color: #00f;
}
.highlight-string-2 {
  color: #f50;
}
.highlight-qualifier {
  color: #555;
}
.highlight-bracket {
  color: #997;
}
.highlight-tag {
  color: #170;
}
.highlight-attribute {
  color: #00c;
}
.highlight-header {
  color: blue;
}
.highlight-quote {
  color: #090;
}
.highlight-link {
  color: #00c;
}
/* apply the same style to codemirror */
.cm-s-ipython span.cm-keyword {
  color: #008000;
  font-weight: bold;
}
.cm-s-ipython span.cm-atom {
  color: #88F;
}
.cm-s-ipython span.cm-number {
  color: #080;
}
.cm-s-ipython span.cm-def {
  color: #00f;
}
.cm-s-ipython span.cm-variable {
  color: #000;
}
.cm-s-ipython span.cm-operator {
  color: #AA22FF;
  font-weight: bold;
}
.cm-s-ipython span.cm-variable-2 {
  color: #1a1a1a;
}
.cm-s-ipython span.cm-variable-3 {
  color: #333333;
}
.cm-s-ipython span.cm-comment {
  color: #408080;
  font-style: italic;
}
.cm-s-ipython span.cm-string {
  color: #BA2121;
}
.cm-s-ipython span.cm-string-2 {
  color: #f50;
}
.cm-s-ipython span.cm-meta {
  color: #AA22FF;
}
.cm-s-ipython span.cm-qualifier {
  color: #555;
}
.cm-s-ipython span.cm-builtin {
  color: #008000;
}
.cm-s-ipython span.cm-bracket {
  color: #997;
}
.cm-s-ipython span.cm-tag {
  color: #170;
}
.cm-s-ipython span.cm-attribute {
  color: #00c;
}
.cm-s-ipython span.cm-header {
  color: blue;
}
.cm-s-ipython span.cm-quote {
  color: #090;
}
.cm-s-ipython span.cm-link {
  color: #00c;
}
.cm-s-ipython span.cm-error {
  color: #f00;
}
.cm-s-ipython span.cm-tab {
  background: url(data:image/png;base64,iVBORw0KGgoAAAANSUhEUgAAADAAAAAMCAYAAAAkuj5RAAAAAXNSR0IArs4c6QAAAGFJREFUSMft1LsRQFAQheHPowAKoACx3IgEKtaEHujDjORSgWTH/ZOdnZOcM/sgk/kFFWY0qV8foQwS4MKBCS3qR6ixBJvElOobYAtivseIE120FaowJPN75GMu8j/LfMwNjh4HUpwg4LUAAAAASUVORK5CYII=);
  background-position: right;
  background-repeat: no-repeat;
}
div.output_wrapper {
  /* this position must be relative to enable descendents to be absolute within it */
  position: relative;
  /* Old browsers */
  display: -webkit-box;
  -webkit-box-orient: vertical;
  -webkit-box-align: stretch;
  display: -moz-box;
  -moz-box-orient: vertical;
  -moz-box-align: stretch;
  display: box;
  box-orient: vertical;
  box-align: stretch;
  /* Modern browsers */
  display: flex;
  flex-direction: column;
  align-items: stretch;
  z-index: 1;
}
/* class for the output area when it should be height-limited */
div.output_scroll {
  /* ideally, this would be max-height, but FF barfs all over that */
  height: 24em;
  /* FF needs this *and the wrapper* to specify full width, or it will shrinkwrap */
  width: 100%;
  overflow: auto;
  border-radius: 2px;
  -webkit-box-shadow: inset 0 2px 8px rgba(0, 0, 0, 0.8);
  box-shadow: inset 0 2px 8px rgba(0, 0, 0, 0.8);
  display: block;
}
/* output div while it is collapsed */
div.output_collapsed {
  margin: 0px;
  padding: 0px;
  /* Old browsers */
  display: -webkit-box;
  -webkit-box-orient: vertical;
  -webkit-box-align: stretch;
  display: -moz-box;
  -moz-box-orient: vertical;
  -moz-box-align: stretch;
  display: box;
  box-orient: vertical;
  box-align: stretch;
  /* Modern browsers */
  display: flex;
  flex-direction: column;
  align-items: stretch;
}
div.out_prompt_overlay {
  height: 100%;
  padding: 0px 0.4em;
  position: absolute;
  border-radius: 2px;
}
div.out_prompt_overlay:hover {
  /* use inner shadow to get border that is computed the same on WebKit/FF */
  -webkit-box-shadow: inset 0 0 1px #000;
  box-shadow: inset 0 0 1px #000;
  background: rgba(240, 240, 240, 0.5);
}
div.output_prompt {
  color: #D84315;
}
/* This class is the outer container of all output sections. */
div.output_area {
  padding: 0px;
  page-break-inside: avoid;
  /* Old browsers */
  display: -webkit-box;
  -webkit-box-orient: horizontal;
  -webkit-box-align: stretch;
  display: -moz-box;
  -moz-box-orient: horizontal;
  -moz-box-align: stretch;
  display: box;
  box-orient: horizontal;
  box-align: stretch;
  /* Modern browsers */
  display: flex;
  flex-direction: row;
  align-items: stretch;
}
div.output_area .MathJax_Display {
  text-align: left !important;
}
div.output_area .rendered_html table {
  margin-left: 0;
  margin-right: 0;
}
div.output_area .rendered_html img {
  margin-left: 0;
  margin-right: 0;
}
div.output_area img,
div.output_area svg {
  max-width: 100%;
  height: auto;
}
div.output_area img.unconfined,
div.output_area svg.unconfined {
  max-width: none;
}
/* This is needed to protect the pre formating from global settings such
   as that of bootstrap */
.output {
  /* Old browsers */
  display: -webkit-box;
  -webkit-box-orient: vertical;
  -webkit-box-align: stretch;
  display: -moz-box;
  -moz-box-orient: vertical;
  -moz-box-align: stretch;
  display: box;
  box-orient: vertical;
  box-align: stretch;
  /* Modern browsers */
  display: flex;
  flex-direction: column;
  align-items: stretch;
}
@media (max-width: 540px) {
  div.output_area {
    /* Old browsers */
    display: -webkit-box;
    -webkit-box-orient: vertical;
    -webkit-box-align: stretch;
    display: -moz-box;
    -moz-box-orient: vertical;
    -moz-box-align: stretch;
    display: box;
    box-orient: vertical;
    box-align: stretch;
    /* Modern browsers */
    display: flex;
    flex-direction: column;
    align-items: stretch;
  }
}
div.output_area pre {
  margin: 0;
  padding: 0;
  border: 0;
  vertical-align: baseline;
  color: black;
  background-color: transparent;
  border-radius: 0;
}
/* This class is for the output subarea inside the output_area and after
   the prompt div. */
div.output_subarea {
  overflow-x: auto;
  padding: 0.4em;
  /* Old browsers */
  -webkit-box-flex: 1;
  -moz-box-flex: 1;
  box-flex: 1;
  /* Modern browsers */
  flex: 1;
  max-width: calc(100% - 14ex);
}
div.output_scroll div.output_subarea {
  overflow-x: visible;
}
/* The rest of the output_* classes are for special styling of the different
   output types */
/* all text output has this class: */
div.output_text {
  text-align: left;
  color: #000;
  /* This has to match that of the the CodeMirror class line-height below */
  line-height: 1.21429em;
}
/* stdout/stderr are 'text' as well as 'stream', but execute_result/error are *not* streams */
div.output_stderr {
  background: #fdd;
  /* very light red background for stderr */
}
div.output_latex {
  text-align: left;
}
/* Empty output_javascript divs should have no height */
div.output_javascript:empty {
  padding: 0;
}
.js-error {
  color: darkred;
}
/* raw_input styles */
div.raw_input_container {
  line-height: 1.21429em;
  padding-top: 5px;
}
pre.raw_input_prompt {
  /* nothing needed here. */
}
input.raw_input {
  font-family: monospace;
  font-size: inherit;
  color: inherit;
  width: auto;
  /* make sure input baseline aligns with prompt */
  vertical-align: baseline;
  /* padding + margin = 0.5em between prompt and cursor */
  padding: 0em 0.25em;
  margin: 0em 0.25em;
}
input.raw_input:focus {
  box-shadow: none;
}
p.p-space {
  margin-bottom: 10px;
}
div.output_unrecognized {
  padding: 5px;
  font-weight: bold;
  color: red;
}
div.output_unrecognized a {
  color: inherit;
  text-decoration: none;
}
div.output_unrecognized a:hover {
  color: inherit;
  text-decoration: none;
}
.rendered_html {
  color: #000;
  /* any extras will just be numbers: */
}
.rendered_html em {
  font-style: italic;
}
.rendered_html strong {
  font-weight: bold;
}
.rendered_html u {
  text-decoration: underline;
}
.rendered_html :link {
  text-decoration: underline;
}
.rendered_html :visited {
  text-decoration: underline;
}
.rendered_html h1 {
  font-size: 185.7%;
  margin: 1.08em 0 0 0;
  font-weight: bold;
  line-height: 1.0;
}
.rendered_html h2 {
  font-size: 157.1%;
  margin: 1.27em 0 0 0;
  font-weight: bold;
  line-height: 1.0;
}
.rendered_html h3 {
  font-size: 128.6%;
  margin: 1.55em 0 0 0;
  font-weight: bold;
  line-height: 1.0;
}
.rendered_html h4 {
  font-size: 100%;
  margin: 2em 0 0 0;
  font-weight: bold;
  line-height: 1.0;
}
.rendered_html h5 {
  font-size: 100%;
  margin: 2em 0 0 0;
  font-weight: bold;
  line-height: 1.0;
  font-style: italic;
}
.rendered_html h6 {
  font-size: 100%;
  margin: 2em 0 0 0;
  font-weight: bold;
  line-height: 1.0;
  font-style: italic;
}
.rendered_html h1:first-child {
  margin-top: 0.538em;
}
.rendered_html h2:first-child {
  margin-top: 0.636em;
}
.rendered_html h3:first-child {
  margin-top: 0.777em;
}
.rendered_html h4:first-child {
  margin-top: 1em;
}
.rendered_html h5:first-child {
  margin-top: 1em;
}
.rendered_html h6:first-child {
  margin-top: 1em;
}
.rendered_html ul {
  list-style: disc;
  margin: 0em 2em;
  padding-left: 0px;
}
.rendered_html ul ul {
  list-style: square;
  margin: 0em 2em;
}
.rendered_html ul ul ul {
  list-style: circle;
  margin: 0em 2em;
}
.rendered_html ol {
  list-style: decimal;
  margin: 0em 2em;
  padding-left: 0px;
}
.rendered_html ol ol {
  list-style: upper-alpha;
  margin: 0em 2em;
}
.rendered_html ol ol ol {
  list-style: lower-alpha;
  margin: 0em 2em;
}
.rendered_html ol ol ol ol {
  list-style: lower-roman;
  margin: 0em 2em;
}
.rendered_html ol ol ol ol ol {
  list-style: decimal;
  margin: 0em 2em;
}
.rendered_html * + ul {
  margin-top: 1em;
}
.rendered_html * + ol {
  margin-top: 1em;
}
.rendered_html hr {
  color: black;
  background-color: black;
}
.rendered_html pre {
  margin: 1em 2em;
}
.rendered_html pre,
.rendered_html code {
  border: 0;
  background-color: #fff;
  color: #000;
  font-size: 100%;
  padding: 0px;
}
.rendered_html blockquote {
  margin: 1em 2em;
}
.rendered_html table {
  margin-left: auto;
  margin-right: auto;
  border: 1px solid black;
  border-collapse: collapse;
}
.rendered_html tr,
.rendered_html th,
.rendered_html td {
  border: 1px solid black;
  border-collapse: collapse;
  margin: 1em 2em;
}
.rendered_html td,
.rendered_html th {
  text-align: left;
  vertical-align: middle;
  padding: 4px;
}
.rendered_html th {
  font-weight: bold;
}
.rendered_html * + table {
  margin-top: 1em;
}
.rendered_html p {
  text-align: left;
}
.rendered_html * + p {
  margin-top: 1em;
}
.rendered_html img {
  display: block;
  margin-left: auto;
  margin-right: auto;
}
.rendered_html * + img {
  margin-top: 1em;
}
.rendered_html img,
.rendered_html svg {
  max-width: 100%;
  height: auto;
}
.rendered_html img.unconfined,
.rendered_html svg.unconfined {
  max-width: none;
}
div.text_cell {
  /* Old browsers */
  display: -webkit-box;
  -webkit-box-orient: horizontal;
  -webkit-box-align: stretch;
  display: -moz-box;
  -moz-box-orient: horizontal;
  -moz-box-align: stretch;
  display: box;
  box-orient: horizontal;
  box-align: stretch;
  /* Modern browsers */
  display: flex;
  flex-direction: row;
  align-items: stretch;
}
@media (max-width: 540px) {
  div.text_cell > div.prompt {
    display: none;
  }
}
div.text_cell_render {
  /*font-family: "Helvetica Neue", Arial, Helvetica, Geneva, sans-serif;*/
  outline: none;
  resize: none;
  width: inherit;
  border-style: none;
  padding: 0.5em 0.5em 0.5em 0.4em;
  color: #000;
  box-sizing: border-box;
  -moz-box-sizing: border-box;
  -webkit-box-sizing: border-box;
}
a.anchor-link:link {
  text-decoration: none;
  padding: 0px 20px;
  visibility: hidden;
}
h1:hover .anchor-link,
h2:hover .anchor-link,
h3:hover .anchor-link,
h4:hover .anchor-link,
h5:hover .anchor-link,
h6:hover .anchor-link {
  visibility: visible;
}
.text_cell.rendered .input_area {
  display: none;
}
.text_cell.rendered .rendered_html {
  overflow-x: auto;
  overflow-y: hidden;
}
.text_cell.unrendered .text_cell_render {
  display: none;
}
.cm-header-1,
.cm-header-2,
.cm-header-3,
.cm-header-4,
.cm-header-5,
.cm-header-6 {
  font-weight: bold;
  font-family: "Helvetica Neue", Helvetica, Arial, sans-serif;
}
.cm-header-1 {
  font-size: 185.7%;
}
.cm-header-2 {
  font-size: 157.1%;
}
.cm-header-3 {
  font-size: 128.6%;
}
.cm-header-4 {
  font-size: 110%;
}
.cm-header-5 {
  font-size: 100%;
  font-style: italic;
}
.cm-header-6 {
  font-size: 100%;
  font-style: italic;
}
/*!
*
* IPython notebook webapp
*
*/
@media (max-width: 767px) {
  .notebook_app {
    padding-left: 0px;
    padding-right: 0px;
  }
}
#ipython-main-app {
  box-sizing: border-box;
  -moz-box-sizing: border-box;
  -webkit-box-sizing: border-box;
  height: 100%;
}
div#notebook_panel {
  margin: 0px;
  padding: 0px;
  box-sizing: border-box;
  -moz-box-sizing: border-box;
  -webkit-box-sizing: border-box;
  height: 100%;
}
div#notebook {
  font-size: 14px;
  line-height: 20px;
  overflow-y: hidden;
  overflow-x: auto;
  width: 100%;
  /* This spaces the page away from the edge of the notebook area */
  padding-top: 20px;
  margin: 0px;
  outline: none;
  box-sizing: border-box;
  -moz-box-sizing: border-box;
  -webkit-box-sizing: border-box;
  min-height: 100%;
}
@media not print {
  #notebook-container {
    padding: 15px;
    background-color: #fff;
    min-height: 0;
    -webkit-box-shadow: 0px 0px 12px 1px rgba(87, 87, 87, 0.2);
    box-shadow: 0px 0px 12px 1px rgba(87, 87, 87, 0.2);
  }
}
@media print {
  #notebook-container {
    width: 100%;
  }
}
div.ui-widget-content {
  border: 1px solid #ababab;
  outline: none;
}
pre.dialog {
  background-color: #f7f7f7;
  border: 1px solid #ddd;
  border-radius: 2px;
  padding: 0.4em;
  padding-left: 2em;
}
p.dialog {
  padding: 0.2em;
}
/* Word-wrap output correctly.  This is the CSS3 spelling, though Firefox seems
   to not honor it correctly.  Webkit browsers (Chrome, rekonq, Safari) do.
 */
pre,
code,
kbd,
samp {
  white-space: pre-wrap;
}
#fonttest {
  font-family: monospace;
}
p {
  margin-bottom: 0;
}
.end_space {
  min-height: 100px;
  transition: height .2s ease;
}
.notebook_app > #header {
  -webkit-box-shadow: 0px 0px 12px 1px rgba(87, 87, 87, 0.2);
  box-shadow: 0px 0px 12px 1px rgba(87, 87, 87, 0.2);
}
@media not print {
  .notebook_app {
    background-color: #EEE;
  }
}
kbd {
  border-style: solid;
  border-width: 1px;
  box-shadow: none;
  margin: 2px;
  padding-left: 2px;
  padding-right: 2px;
  padding-top: 1px;
  padding-bottom: 1px;
}
/* CSS for the cell toolbar */
.celltoolbar {
  border: thin solid #CFCFCF;
  border-bottom: none;
  background: #EEE;
  border-radius: 2px 2px 0px 0px;
  width: 100%;
  height: 29px;
  padding-right: 4px;
  /* Old browsers */
  display: -webkit-box;
  -webkit-box-orient: horizontal;
  -webkit-box-align: stretch;
  display: -moz-box;
  -moz-box-orient: horizontal;
  -moz-box-align: stretch;
  display: box;
  box-orient: horizontal;
  box-align: stretch;
  /* Modern browsers */
  display: flex;
  flex-direction: row;
  align-items: stretch;
  /* Old browsers */
  -webkit-box-pack: end;
  -moz-box-pack: end;
  box-pack: end;
  /* Modern browsers */
  justify-content: flex-end;
  display: -webkit-flex;
}
@media print {
  .celltoolbar {
    display: none;
  }
}
.ctb_hideshow {
  display: none;
  vertical-align: bottom;
}
/* ctb_show is added to the ctb_hideshow div to show the cell toolbar.
   Cell toolbars are only shown when the ctb_global_show class is also set.
*/
.ctb_global_show .ctb_show.ctb_hideshow {
  display: block;
}
.ctb_global_show .ctb_show + .input_area,
.ctb_global_show .ctb_show + div.text_cell_input,
.ctb_global_show .ctb_show ~ div.text_cell_render {
  border-top-right-radius: 0px;
  border-top-left-radius: 0px;
}
.ctb_global_show .ctb_show ~ div.text_cell_render {
  border: 1px solid #cfcfcf;
}
.celltoolbar {
  font-size: 87%;
  padding-top: 3px;
}
.celltoolbar select {
  display: block;
  width: 100%;
  height: 32px;
  padding: 6px 12px;
  font-size: 13px;
  line-height: 1.42857143;
  color: #555555;
  background-color: #fff;
  background-image: none;
  border: 1px solid #ccc;
  border-radius: 2px;
  -webkit-box-shadow: inset 0 1px 1px rgba(0, 0, 0, 0.075);
  box-shadow: inset 0 1px 1px rgba(0, 0, 0, 0.075);
  -webkit-transition: border-color ease-in-out .15s, box-shadow ease-in-out .15s;
  -o-transition: border-color ease-in-out .15s, box-shadow ease-in-out .15s;
  transition: border-color ease-in-out .15s, box-shadow ease-in-out .15s;
  height: 30px;
  padding: 5px 10px;
  font-size: 12px;
  line-height: 1.5;
  border-radius: 1px;
  width: inherit;
  font-size: inherit;
  height: 22px;
  padding: 0px;
  display: inline-block;
}
.celltoolbar select:focus {
  border-color: #66afe9;
  outline: 0;
  -webkit-box-shadow: inset 0 1px 1px rgba(0,0,0,.075), 0 0 8px rgba(102, 175, 233, 0.6);
  box-shadow: inset 0 1px 1px rgba(0,0,0,.075), 0 0 8px rgba(102, 175, 233, 0.6);
}
.celltoolbar select::-moz-placeholder {
  color: #999;
  opacity: 1;
}
.celltoolbar select:-ms-input-placeholder {
  color: #999;
}
.celltoolbar select::-webkit-input-placeholder {
  color: #999;
}
.celltoolbar select::-ms-expand {
  border: 0;
  background-color: transparent;
}
.celltoolbar select[disabled],
.celltoolbar select[readonly],
fieldset[disabled] .celltoolbar select {
  background-color: #eeeeee;
  opacity: 1;
}
.celltoolbar select[disabled],
fieldset[disabled] .celltoolbar select {
  cursor: not-allowed;
}
textarea.celltoolbar select {
  height: auto;
}
select.celltoolbar select {
  height: 30px;
  line-height: 30px;
}
textarea.celltoolbar select,
select[multiple].celltoolbar select {
  height: auto;
}
.celltoolbar label {
  margin-left: 5px;
  margin-right: 5px;
}
.completions {
  position: absolute;
  z-index: 110;
  overflow: hidden;
  border: 1px solid #ababab;
  border-radius: 2px;
  -webkit-box-shadow: 0px 6px 10px -1px #adadad;
  box-shadow: 0px 6px 10px -1px #adadad;
  line-height: 1;
}
.completions select {
  background: white;
  outline: none;
  border: none;
  padding: 0px;
  margin: 0px;
  overflow: auto;
  font-family: monospace;
  font-size: 110%;
  color: #000;
  width: auto;
}
.completions select option.context {
  color: #286090;
}
#kernel_logo_widget {
  float: right !important;
  float: right;
}
#kernel_logo_widget .current_kernel_logo {
  display: none;
  margin-top: -1px;
  margin-bottom: -1px;
  width: 32px;
  height: 32px;
}
#menubar {
  box-sizing: border-box;
  -moz-box-sizing: border-box;
  -webkit-box-sizing: border-box;
  margin-top: 1px;
}
#menubar .navbar {
  border-top: 1px;
  border-radius: 0px 0px 2px 2px;
  margin-bottom: 0px;
}
#menubar .navbar-toggle {
  float: left;
  padding-top: 7px;
  padding-bottom: 7px;
  border: none;
}
#menubar .navbar-collapse {
  clear: left;
}
.nav-wrapper {
  border-bottom: 1px solid #e7e7e7;
}
i.menu-icon {
  padding-top: 4px;
}
ul#help_menu li a {
  overflow: hidden;
  padding-right: 2.2em;
}
ul#help_menu li a i {
  margin-right: -1.2em;
}
.dropdown-submenu {
  position: relative;
}
.dropdown-submenu > .dropdown-menu {
  top: 0;
  left: 100%;
  margin-top: -6px;
  margin-left: -1px;
}
.dropdown-submenu:hover > .dropdown-menu {
  display: block;
}
.dropdown-submenu > a:after {
  display: inline-block;
  font: normal normal normal 14px/1 FontAwesome;
  font-size: inherit;
  text-rendering: auto;
  -webkit-font-smoothing: antialiased;
  -moz-osx-font-smoothing: grayscale;
  display: block;
  content: "\f0da";
  float: right;
  color: #333333;
  margin-top: 2px;
  margin-right: -10px;
}
.dropdown-submenu > a:after.pull-left {
  margin-right: .3em;
}
.dropdown-submenu > a:after.pull-right {
  margin-left: .3em;
}
.dropdown-submenu:hover > a:after {
  color: #262626;
}
.dropdown-submenu.pull-left {
  float: none;
}
.dropdown-submenu.pull-left > .dropdown-menu {
  left: -100%;
  margin-left: 10px;
}
#notification_area {
  float: right !important;
  float: right;
  z-index: 10;
}
.indicator_area {
  float: right !important;
  float: right;
  color: #777;
  margin-left: 5px;
  margin-right: 5px;
  width: 11px;
  z-index: 10;
  text-align: center;
  width: auto;
}
#kernel_indicator {
  float: right !important;
  float: right;
  color: #777;
  margin-left: 5px;
  margin-right: 5px;
  width: 11px;
  z-index: 10;
  text-align: center;
  width: auto;
  border-left: 1px solid;
}
#kernel_indicator .kernel_indicator_name {
  padding-left: 5px;
  padding-right: 5px;
}
#modal_indicator {
  float: right !important;
  float: right;
  color: #777;
  margin-left: 5px;
  margin-right: 5px;
  width: 11px;
  z-index: 10;
  text-align: center;
  width: auto;
}
#readonly-indicator {
  float: right !important;
  float: right;
  color: #777;
  margin-left: 5px;
  margin-right: 5px;
  width: 11px;
  z-index: 10;
  text-align: center;
  width: auto;
  margin-top: 2px;
  margin-bottom: 0px;
  margin-left: 0px;
  margin-right: 0px;
  display: none;
}
.modal_indicator:before {
  width: 1.28571429em;
  text-align: center;
}
.edit_mode .modal_indicator:before {
  display: inline-block;
  font: normal normal normal 14px/1 FontAwesome;
  font-size: inherit;
  text-rendering: auto;
  -webkit-font-smoothing: antialiased;
  -moz-osx-font-smoothing: grayscale;
  content: "\f040";
}
.edit_mode .modal_indicator:before.pull-left {
  margin-right: .3em;
}
.edit_mode .modal_indicator:before.pull-right {
  margin-left: .3em;
}
.command_mode .modal_indicator:before {
  display: inline-block;
  font: normal normal normal 14px/1 FontAwesome;
  font-size: inherit;
  text-rendering: auto;
  -webkit-font-smoothing: antialiased;
  -moz-osx-font-smoothing: grayscale;
  content: ' ';
}
.command_mode .modal_indicator:before.pull-left {
  margin-right: .3em;
}
.command_mode .modal_indicator:before.pull-right {
  margin-left: .3em;
}
.kernel_idle_icon:before {
  display: inline-block;
  font: normal normal normal 14px/1 FontAwesome;
  font-size: inherit;
  text-rendering: auto;
  -webkit-font-smoothing: antialiased;
  -moz-osx-font-smoothing: grayscale;
  content: "\f10c";
}
.kernel_idle_icon:before.pull-left {
  margin-right: .3em;
}
.kernel_idle_icon:before.pull-right {
  margin-left: .3em;
}
.kernel_busy_icon:before {
  display: inline-block;
  font: normal normal normal 14px/1 FontAwesome;
  font-size: inherit;
  text-rendering: auto;
  -webkit-font-smoothing: antialiased;
  -moz-osx-font-smoothing: grayscale;
  content: "\f111";
}
.kernel_busy_icon:before.pull-left {
  margin-right: .3em;
}
.kernel_busy_icon:before.pull-right {
  margin-left: .3em;
}
.kernel_dead_icon:before {
  display: inline-block;
  font: normal normal normal 14px/1 FontAwesome;
  font-size: inherit;
  text-rendering: auto;
  -webkit-font-smoothing: antialiased;
  -moz-osx-font-smoothing: grayscale;
  content: "\f1e2";
}
.kernel_dead_icon:before.pull-left {
  margin-right: .3em;
}
.kernel_dead_icon:before.pull-right {
  margin-left: .3em;
}
.kernel_disconnected_icon:before {
  display: inline-block;
  font: normal normal normal 14px/1 FontAwesome;
  font-size: inherit;
  text-rendering: auto;
  -webkit-font-smoothing: antialiased;
  -moz-osx-font-smoothing: grayscale;
  content: "\f127";
}
.kernel_disconnected_icon:before.pull-left {
  margin-right: .3em;
}
.kernel_disconnected_icon:before.pull-right {
  margin-left: .3em;
}
.notification_widget {
  color: #777;
  z-index: 10;
  background: rgba(240, 240, 240, 0.5);
  margin-right: 4px;
  color: #333;
  background-color: #fff;
  border-color: #ccc;
}
.notification_widget:focus,
.notification_widget.focus {
  color: #333;
  background-color: #e6e6e6;
  border-color: #8c8c8c;
}
.notification_widget:hover {
  color: #333;
  background-color: #e6e6e6;
  border-color: #adadad;
}
.notification_widget:active,
.notification_widget.active,
.open > .dropdown-toggle.notification_widget {
  color: #333;
  background-color: #e6e6e6;
  border-color: #adadad;
}
.notification_widget:active:hover,
.notification_widget.active:hover,
.open > .dropdown-toggle.notification_widget:hover,
.notification_widget:active:focus,
.notification_widget.active:focus,
.open > .dropdown-toggle.notification_widget:focus,
.notification_widget:active.focus,
.notification_widget.active.focus,
.open > .dropdown-toggle.notification_widget.focus {
  color: #333;
  background-color: #d4d4d4;
  border-color: #8c8c8c;
}
.notification_widget:active,
.notification_widget.active,
.open > .dropdown-toggle.notification_widget {
  background-image: none;
}
.notification_widget.disabled:hover,
.notification_widget[disabled]:hover,
fieldset[disabled] .notification_widget:hover,
.notification_widget.disabled:focus,
.notification_widget[disabled]:focus,
fieldset[disabled] .notification_widget:focus,
.notification_widget.disabled.focus,
.notification_widget[disabled].focus,
fieldset[disabled] .notification_widget.focus {
  background-color: #fff;
  border-color: #ccc;
}
.notification_widget .badge {
  color: #fff;
  background-color: #333;
}
.notification_widget.warning {
  color: #fff;
  background-color: #f0ad4e;
  border-color: #eea236;
}
.notification_widget.warning:focus,
.notification_widget.warning.focus {
  color: #fff;
  background-color: #ec971f;
  border-color: #985f0d;
}
.notification_widget.warning:hover {
  color: #fff;
  background-color: #ec971f;
  border-color: #d58512;
}
.notification_widget.warning:active,
.notification_widget.warning.active,
.open > .dropdown-toggle.notification_widget.warning {
  color: #fff;
  background-color: #ec971f;
  border-color: #d58512;
}
.notification_widget.warning:active:hover,
.notification_widget.warning.active:hover,
.open > .dropdown-toggle.notification_widget.warning:hover,
.notification_widget.warning:active:focus,
.notification_widget.warning.active:focus,
.open > .dropdown-toggle.notification_widget.warning:focus,
.notification_widget.warning:active.focus,
.notification_widget.warning.active.focus,
.open > .dropdown-toggle.notification_widget.warning.focus {
  color: #fff;
  background-color: #d58512;
  border-color: #985f0d;
}
.notification_widget.warning:active,
.notification_widget.warning.active,
.open > .dropdown-toggle.notification_widget.warning {
  background-image: none;
}
.notification_widget.warning.disabled:hover,
.notification_widget.warning[disabled]:hover,
fieldset[disabled] .notification_widget.warning:hover,
.notification_widget.warning.disabled:focus,
.notification_widget.warning[disabled]:focus,
fieldset[disabled] .notification_widget.warning:focus,
.notification_widget.warning.disabled.focus,
.notification_widget.warning[disabled].focus,
fieldset[disabled] .notification_widget.warning.focus {
  background-color: #f0ad4e;
  border-color: #eea236;
}
.notification_widget.warning .badge {
  color: #f0ad4e;
  background-color: #fff;
}
.notification_widget.success {
  color: #fff;
  background-color: #5cb85c;
  border-color: #4cae4c;
}
.notification_widget.success:focus,
.notification_widget.success.focus {
  color: #fff;
  background-color: #449d44;
  border-color: #255625;
}
.notification_widget.success:hover {
  color: #fff;
  background-color: #449d44;
  border-color: #398439;
}
.notification_widget.success:active,
.notification_widget.success.active,
.open > .dropdown-toggle.notification_widget.success {
  color: #fff;
  background-color: #449d44;
  border-color: #398439;
}
.notification_widget.success:active:hover,
.notification_widget.success.active:hover,
.open > .dropdown-toggle.notification_widget.success:hover,
.notification_widget.success:active:focus,
.notification_widget.success.active:focus,
.open > .dropdown-toggle.notification_widget.success:focus,
.notification_widget.success:active.focus,
.notification_widget.success.active.focus,
.open > .dropdown-toggle.notification_widget.success.focus {
  color: #fff;
  background-color: #398439;
  border-color: #255625;
}
.notification_widget.success:active,
.notification_widget.success.active,
.open > .dropdown-toggle.notification_widget.success {
  background-image: none;
}
.notification_widget.success.disabled:hover,
.notification_widget.success[disabled]:hover,
fieldset[disabled] .notification_widget.success:hover,
.notification_widget.success.disabled:focus,
.notification_widget.success[disabled]:focus,
fieldset[disabled] .notification_widget.success:focus,
.notification_widget.success.disabled.focus,
.notification_widget.success[disabled].focus,
fieldset[disabled] .notification_widget.success.focus {
  background-color: #5cb85c;
  border-color: #4cae4c;
}
.notification_widget.success .badge {
  color: #5cb85c;
  background-color: #fff;
}
.notification_widget.info {
  color: #fff;
  background-color: #5bc0de;
  border-color: #46b8da;
}
.notification_widget.info:focus,
.notification_widget.info.focus {
  color: #fff;
  background-color: #31b0d5;
  border-color: #1b6d85;
}
.notification_widget.info:hover {
  color: #fff;
  background-color: #31b0d5;
  border-color: #269abc;
}
.notification_widget.info:active,
.notification_widget.info.active,
.open > .dropdown-toggle.notification_widget.info {
  color: #fff;
  background-color: #31b0d5;
  border-color: #269abc;
}
.notification_widget.info:active:hover,
.notification_widget.info.active:hover,
.open > .dropdown-toggle.notification_widget.info:hover,
.notification_widget.info:active:focus,
.notification_widget.info.active:focus,
.open > .dropdown-toggle.notification_widget.info:focus,
.notification_widget.info:active.focus,
.notification_widget.info.active.focus,
.open > .dropdown-toggle.notification_widget.info.focus {
  color: #fff;
  background-color: #269abc;
  border-color: #1b6d85;
}
.notification_widget.info:active,
.notification_widget.info.active,
.open > .dropdown-toggle.notification_widget.info {
  background-image: none;
}
.notification_widget.info.disabled:hover,
.notification_widget.info[disabled]:hover,
fieldset[disabled] .notification_widget.info:hover,
.notification_widget.info.disabled:focus,
.notification_widget.info[disabled]:focus,
fieldset[disabled] .notification_widget.info:focus,
.notification_widget.info.disabled.focus,
.notification_widget.info[disabled].focus,
fieldset[disabled] .notification_widget.info.focus {
  background-color: #5bc0de;
  border-color: #46b8da;
}
.notification_widget.info .badge {
  color: #5bc0de;
  background-color: #fff;
}
.notification_widget.danger {
  color: #fff;
  background-color: #d9534f;
  border-color: #d43f3a;
}
.notification_widget.danger:focus,
.notification_widget.danger.focus {
  color: #fff;
  background-color: #c9302c;
  border-color: #761c19;
}
.notification_widget.danger:hover {
  color: #fff;
  background-color: #c9302c;
  border-color: #ac2925;
}
.notification_widget.danger:active,
.notification_widget.danger.active,
.open > .dropdown-toggle.notification_widget.danger {
  color: #fff;
  background-color: #c9302c;
  border-color: #ac2925;
}
.notification_widget.danger:active:hover,
.notification_widget.danger.active:hover,
.open > .dropdown-toggle.notification_widget.danger:hover,
.notification_widget.danger:active:focus,
.notification_widget.danger.active:focus,
.open > .dropdown-toggle.notification_widget.danger:focus,
.notification_widget.danger:active.focus,
.notification_widget.danger.active.focus,
.open > .dropdown-toggle.notification_widget.danger.focus {
  color: #fff;
  background-color: #ac2925;
  border-color: #761c19;
}
.notification_widget.danger:active,
.notification_widget.danger.active,
.open > .dropdown-toggle.notification_widget.danger {
  background-image: none;
}
.notification_widget.danger.disabled:hover,
.notification_widget.danger[disabled]:hover,
fieldset[disabled] .notification_widget.danger:hover,
.notification_widget.danger.disabled:focus,
.notification_widget.danger[disabled]:focus,
fieldset[disabled] .notification_widget.danger:focus,
.notification_widget.danger.disabled.focus,
.notification_widget.danger[disabled].focus,
fieldset[disabled] .notification_widget.danger.focus {
  background-color: #d9534f;
  border-color: #d43f3a;
}
.notification_widget.danger .badge {
  color: #d9534f;
  background-color: #fff;
}
div#pager {
  background-color: #fff;
  font-size: 14px;
  line-height: 20px;
  overflow: hidden;
  display: none;
  position: fixed;
  bottom: 0px;
  width: 100%;
  max-height: 50%;
  padding-top: 8px;
  -webkit-box-shadow: 0px 0px 12px 1px rgba(87, 87, 87, 0.2);
  box-shadow: 0px 0px 12px 1px rgba(87, 87, 87, 0.2);
  /* Display over codemirror */
  z-index: 100;
  /* Hack which prevents jquery ui resizable from changing top. */
  top: auto !important;
}
div#pager pre {
  line-height: 1.21429em;
  color: #000;
  background-color: #f7f7f7;
  padding: 0.4em;
}
div#pager #pager-button-area {
  position: absolute;
  top: 8px;
  right: 20px;
}
div#pager #pager-contents {
  position: relative;
  overflow: auto;
  width: 100%;
  height: 100%;
}
div#pager #pager-contents #pager-container {
  position: relative;
  padding: 15px 0px;
  box-sizing: border-box;
  -moz-box-sizing: border-box;
  -webkit-box-sizing: border-box;
}
div#pager .ui-resizable-handle {
  top: 0px;
  height: 8px;
  background: #f7f7f7;
  border-top: 1px solid #cfcfcf;
  border-bottom: 1px solid #cfcfcf;
  /* This injects handle bars (a short, wide = symbol) for 
        the resize handle. */
}
div#pager .ui-resizable-handle::after {
  content: '';
  top: 2px;
  left: 50%;
  height: 3px;
  width: 30px;
  margin-left: -15px;
  position: absolute;
  border-top: 1px solid #cfcfcf;
}
.quickhelp {
  /* Old browsers */
  display: -webkit-box;
  -webkit-box-orient: horizontal;
  -webkit-box-align: stretch;
  display: -moz-box;
  -moz-box-orient: horizontal;
  -moz-box-align: stretch;
  display: box;
  box-orient: horizontal;
  box-align: stretch;
  /* Modern browsers */
  display: flex;
  flex-direction: row;
  align-items: stretch;
  line-height: 1.8em;
}
.shortcut_key {
  display: inline-block;
  width: 21ex;
  text-align: right;
  font-family: monospace;
}
.shortcut_descr {
  display: inline-block;
  /* Old browsers */
  -webkit-box-flex: 1;
  -moz-box-flex: 1;
  box-flex: 1;
  /* Modern browsers */
  flex: 1;
}
span.save_widget {
  margin-top: 6px;
}
span.save_widget span.filename {
  height: 1em;
  line-height: 1em;
  padding: 3px;
  margin-left: 16px;
  border: none;
  font-size: 146.5%;
  border-radius: 2px;
}
span.save_widget span.filename:hover {
  background-color: #e6e6e6;
}
span.checkpoint_status,
span.autosave_status {
  font-size: small;
}
@media (max-width: 767px) {
  span.save_widget {
    font-size: small;
  }
  span.checkpoint_status,
  span.autosave_status {
    display: none;
  }
}
@media (min-width: 768px) and (max-width: 991px) {
  span.checkpoint_status {
    display: none;
  }
  span.autosave_status {
    font-size: x-small;
  }
}
.toolbar {
  padding: 0px;
  margin-left: -5px;
  margin-top: 2px;
  margin-bottom: 5px;
  box-sizing: border-box;
  -moz-box-sizing: border-box;
  -webkit-box-sizing: border-box;
}
.toolbar select,
.toolbar label {
  width: auto;
  vertical-align: middle;
  margin-right: 2px;
  margin-bottom: 0px;
  display: inline;
  font-size: 92%;
  margin-left: 0.3em;
  margin-right: 0.3em;
  padding: 0px;
  padding-top: 3px;
}
.toolbar .btn {
  padding: 2px 8px;
}
.toolbar .btn-group {
  margin-top: 0px;
  margin-left: 5px;
}
#maintoolbar {
  margin-bottom: -3px;
  margin-top: -8px;
  border: 0px;
  min-height: 27px;
  margin-left: 0px;
  padding-top: 11px;
  padding-bottom: 3px;
}
#maintoolbar .navbar-text {
  float: none;
  vertical-align: middle;
  text-align: right;
  margin-left: 5px;
  margin-right: 0px;
  margin-top: 0px;
}
.select-xs {
  height: 24px;
}
.pulse,
.dropdown-menu > li > a.pulse,
li.pulse > a.dropdown-toggle,
li.pulse.open > a.dropdown-toggle {
  background-color: #F37626;
  color: white;
}
/**
 * Primary styles
 *
 * Author: Jupyter Development Team
 */
/** WARNING IF YOU ARE EDITTING THIS FILE, if this is a .css file, It has a lot
 * of chance of beeing generated from the ../less/[samename].less file, you can
 * try to get back the less file by reverting somme commit in history
 **/
/*
 * We'll try to get something pretty, so we
 * have some strange css to have the scroll bar on
 * the left with fix button on the top right of the tooltip
 */
@-moz-keyframes fadeOut {
  from {
    opacity: 1;
  }
  to {
    opacity: 0;
  }
}
@-webkit-keyframes fadeOut {
  from {
    opacity: 1;
  }
  to {
    opacity: 0;
  }
}
@-moz-keyframes fadeIn {
  from {
    opacity: 0;
  }
  to {
    opacity: 1;
  }
}
@-webkit-keyframes fadeIn {
  from {
    opacity: 0;
  }
  to {
    opacity: 1;
  }
}
/*properties of tooltip after "expand"*/
.bigtooltip {
  overflow: auto;
  height: 200px;
  -webkit-transition-property: height;
  -webkit-transition-duration: 500ms;
  -moz-transition-property: height;
  -moz-transition-duration: 500ms;
  transition-property: height;
  transition-duration: 500ms;
}
/*properties of tooltip before "expand"*/
.smalltooltip {
  -webkit-transition-property: height;
  -webkit-transition-duration: 500ms;
  -moz-transition-property: height;
  -moz-transition-duration: 500ms;
  transition-property: height;
  transition-duration: 500ms;
  text-overflow: ellipsis;
  overflow: hidden;
  height: 80px;
}
.tooltipbuttons {
  position: absolute;
  padding-right: 15px;
  top: 0px;
  right: 0px;
}
.tooltiptext {
  /*avoid the button to overlap on some docstring*/
  padding-right: 30px;
}
.ipython_tooltip {
  max-width: 700px;
  /*fade-in animation when inserted*/
  -webkit-animation: fadeOut 400ms;
  -moz-animation: fadeOut 400ms;
  animation: fadeOut 400ms;
  -webkit-animation: fadeIn 400ms;
  -moz-animation: fadeIn 400ms;
  animation: fadeIn 400ms;
  vertical-align: middle;
  background-color: #f7f7f7;
  overflow: visible;
  border: #ababab 1px solid;
  outline: none;
  padding: 3px;
  margin: 0px;
  padding-left: 7px;
  font-family: monospace;
  min-height: 50px;
  -moz-box-shadow: 0px 6px 10px -1px #adadad;
  -webkit-box-shadow: 0px 6px 10px -1px #adadad;
  box-shadow: 0px 6px 10px -1px #adadad;
  border-radius: 2px;
  position: absolute;
  z-index: 1000;
}
.ipython_tooltip a {
  float: right;
}
.ipython_tooltip .tooltiptext pre {
  border: 0;
  border-radius: 0;
  font-size: 100%;
  background-color: #f7f7f7;
}
.pretooltiparrow {
  left: 0px;
  margin: 0px;
  top: -16px;
  width: 40px;
  height: 16px;
  overflow: hidden;
  position: absolute;
}
.pretooltiparrow:before {
  background-color: #f7f7f7;
  border: 1px #ababab solid;
  z-index: 11;
  content: "";
  position: absolute;
  left: 15px;
  top: 10px;
  width: 25px;
  height: 25px;
  -webkit-transform: rotate(45deg);
  -moz-transform: rotate(45deg);
  -ms-transform: rotate(45deg);
  -o-transform: rotate(45deg);
}
ul.typeahead-list i {
  margin-left: -10px;
  width: 18px;
}
ul.typeahead-list {
  max-height: 80vh;
  overflow: auto;
}
ul.typeahead-list > li > a {
  /** Firefox bug **/
  /* see https://github.com/jupyter/notebook/issues/559 */
  white-space: normal;
}
.cmd-palette .modal-body {
  padding: 7px;
}
.cmd-palette form {
  background: white;
}
.cmd-palette input {
  outline: none;
}
.no-shortcut {
  display: none;
}
.command-shortcut:before {
  content: "(command)";
  padding-right: 3px;
  color: #777777;
}
.edit-shortcut:before {
  content: "(edit)";
  padding-right: 3px;
  color: #777777;
}
#find-and-replace #replace-preview .match,
#find-and-replace #replace-preview .insert {
  background-color: #BBDEFB;
  border-color: #90CAF9;
  border-style: solid;
  border-width: 1px;
  border-radius: 0px;
}
#find-and-replace #replace-preview .replace .match {
  background-color: #FFCDD2;
  border-color: #EF9A9A;
  border-radius: 0px;
}
#find-and-replace #replace-preview .replace .insert {
  background-color: #C8E6C9;
  border-color: #A5D6A7;
  border-radius: 0px;
}
#find-and-replace #replace-preview {
  max-height: 60vh;
  overflow: auto;
}
#find-and-replace #replace-preview pre {
  padding: 5px 10px;
}
.terminal-app {
  background: #EEE;
}
.terminal-app #header {
  background: #fff;
  -webkit-box-shadow: 0px 0px 12px 1px rgba(87, 87, 87, 0.2);
  box-shadow: 0px 0px 12px 1px rgba(87, 87, 87, 0.2);
}
.terminal-app .terminal {
  width: 100%;
  float: left;
  font-family: monospace;
  color: white;
  background: black;
  padding: 0.4em;
  border-radius: 2px;
  -webkit-box-shadow: 0px 0px 12px 1px rgba(87, 87, 87, 0.4);
  box-shadow: 0px 0px 12px 1px rgba(87, 87, 87, 0.4);
}
.terminal-app .terminal,
.terminal-app .terminal dummy-screen {
  line-height: 1em;
  font-size: 14px;
}
.terminal-app .terminal .xterm-rows {
  padding: 10px;
}
.terminal-app .terminal-cursor {
  color: black;
  background: white;
}
.terminal-app #terminado-container {
  margin-top: 20px;
}
/*# sourceMappingURL=style.min.css.map */
    </style>
<style type="text/css">
    .highlight .hll { background-color: #ffffcc }
.highlight  { background: #f8f8f8; }
.highlight .c { color: #408080; font-style: italic } /* Comment */
.highlight .err { border: 1px solid #FF0000 } /* Error */
.highlight .k { color: #008000; font-weight: bold } /* Keyword */
.highlight .o { color: #666666 } /* Operator */
.highlight .ch { color: #408080; font-style: italic } /* Comment.Hashbang */
.highlight .cm { color: #408080; font-style: italic } /* Comment.Multiline */
.highlight .cp { color: #BC7A00 } /* Comment.Preproc */
.highlight .cpf { color: #408080; font-style: italic } /* Comment.PreprocFile */
.highlight .c1 { color: #408080; font-style: italic } /* Comment.Single */
.highlight .cs { color: #408080; font-style: italic } /* Comment.Special */
.highlight .gd { color: #A00000 } /* Generic.Deleted */
.highlight .ge { font-style: italic } /* Generic.Emph */
.highlight .gr { color: #FF0000 } /* Generic.Error */
.highlight .gh { color: #000080; font-weight: bold } /* Generic.Heading */
.highlight .gi { color: #00A000 } /* Generic.Inserted */
.highlight .go { color: #888888 } /* Generic.Output */
.highlight .gp { color: #000080; font-weight: bold } /* Generic.Prompt */
.highlight .gs { font-weight: bold } /* Generic.Strong */
.highlight .gu { color: #800080; font-weight: bold } /* Generic.Subheading */
.highlight .gt { color: #0044DD } /* Generic.Traceback */
.highlight .kc { color: #008000; font-weight: bold } /* Keyword.Constant */
.highlight .kd { color: #008000; font-weight: bold } /* Keyword.Declaration */
.highlight .kn { color: #008000; font-weight: bold } /* Keyword.Namespace */
.highlight .kp { color: #008000 } /* Keyword.Pseudo */
.highlight .kr { color: #008000; font-weight: bold } /* Keyword.Reserved */
.highlight .kt { color: #B00040 } /* Keyword.Type */
.highlight .m { color: #666666 } /* Literal.Number */
.highlight .s { color: #BA2121 } /* Literal.String */
.highlight .na { color: #7D9029 } /* Name.Attribute */
.highlight .nb { color: #008000 } /* Name.Builtin */
.highlight .nc { color: #0000FF; font-weight: bold } /* Name.Class */
.highlight .no { color: #880000 } /* Name.Constant */
.highlight .nd { color: #AA22FF } /* Name.Decorator */
.highlight .ni { color: #999999; font-weight: bold } /* Name.Entity */
.highlight .ne { color: #D2413A; font-weight: bold } /* Name.Exception */
.highlight .nf { color: #0000FF } /* Name.Function */
.highlight .nl { color: #A0A000 } /* Name.Label */
.highlight .nn { color: #0000FF; font-weight: bold } /* Name.Namespace */
.highlight .nt { color: #008000; font-weight: bold } /* Name.Tag */
.highlight .nv { color: #19177C } /* Name.Variable */
.highlight .ow { color: #AA22FF; font-weight: bold } /* Operator.Word */
.highlight .w { color: #bbbbbb } /* Text.Whitespace */
.highlight .mb { color: #666666 } /* Literal.Number.Bin */
.highlight .mf { color: #666666 } /* Literal.Number.Float */
.highlight .mh { color: #666666 } /* Literal.Number.Hex */
.highlight .mi { color: #666666 } /* Literal.Number.Integer */
.highlight .mo { color: #666666 } /* Literal.Number.Oct */
.highlight .sb { color: #BA2121 } /* Literal.String.Backtick */
.highlight .sc { color: #BA2121 } /* Literal.String.Char */
.highlight .sd { color: #BA2121; font-style: italic } /* Literal.String.Doc */
.highlight .s2 { color: #BA2121 } /* Literal.String.Double */
.highlight .se { color: #BB6622; font-weight: bold } /* Literal.String.Escape */
.highlight .sh { color: #BA2121 } /* Literal.String.Heredoc */
.highlight .si { color: #BB6688; font-weight: bold } /* Literal.String.Interpol */
.highlight .sx { color: #008000 } /* Literal.String.Other */
.highlight .sr { color: #BB6688 } /* Literal.String.Regex */
.highlight .s1 { color: #BA2121 } /* Literal.String.Single */
.highlight .ss { color: #19177C } /* Literal.String.Symbol */
.highlight .bp { color: #008000 } /* Name.Builtin.Pseudo */
.highlight .vc { color: #19177C } /* Name.Variable.Class */
.highlight .vg { color: #19177C } /* Name.Variable.Global */
.highlight .vi { color: #19177C } /* Name.Variable.Instance */
.highlight .il { color: #666666 } /* Literal.Number.Integer.Long */
    </style>
<style type="text/css">
    
/* Temporary definitions which will become obsolete with Notebook release 5.0 */
.ansi-black-fg { color: #3E424D; }
.ansi-black-bg { background-color: #3E424D; }
.ansi-black-intense-fg { color: #282C36; }
.ansi-black-intense-bg { background-color: #282C36; }
.ansi-red-fg { color: #E75C58; }
.ansi-red-bg { background-color: #E75C58; }
.ansi-red-intense-fg { color: #B22B31; }
.ansi-red-intense-bg { background-color: #B22B31; }
.ansi-green-fg { color: #00A250; }
.ansi-green-bg { background-color: #00A250; }
.ansi-green-intense-fg { color: #007427; }
.ansi-green-intense-bg { background-color: #007427; }
.ansi-yellow-fg { color: #DDB62B; }
.ansi-yellow-bg { background-color: #DDB62B; }
.ansi-yellow-intense-fg { color: #B27D12; }
.ansi-yellow-intense-bg { background-color: #B27D12; }
.ansi-blue-fg { color: #208FFB; }
.ansi-blue-bg { background-color: #208FFB; }
.ansi-blue-intense-fg { color: #0065CA; }
.ansi-blue-intense-bg { background-color: #0065CA; }
.ansi-magenta-fg { color: #D160C4; }
.ansi-magenta-bg { background-color: #D160C4; }
.ansi-magenta-intense-fg { color: #A03196; }
.ansi-magenta-intense-bg { background-color: #A03196; }
.ansi-cyan-fg { color: #60C6C8; }
.ansi-cyan-bg { background-color: #60C6C8; }
.ansi-cyan-intense-fg { color: #258F8F; }
.ansi-cyan-intense-bg { background-color: #258F8F; }
.ansi-white-fg { color: #C5C1B4; }
.ansi-white-bg { background-color: #C5C1B4; }
.ansi-white-intense-fg { color: #A1A6B2; }
.ansi-white-intense-bg { background-color: #A1A6B2; }

.ansi-bold { font-weight: bold; }

    </style>


<style type="text/css">
/* Overrides of notebook CSS for static HTML export */
body {
  overflow: visible;
  padding: 8px;
}

div#notebook {
  overflow: visible;
  border-top: none;
}

@media print {
  div.cell {
    display: block;
    page-break-inside: avoid;
  } 
  div.output_wrapper { 
    display: block;
    page-break-inside: avoid; 
  }
  div.output { 
    display: block;
    page-break-inside: avoid; 
  }
}
</style>

<!-- Custom stylesheet, it must be in the same directory as the html file -->
<link rel="stylesheet" href="custom.css">

<!-- Loading mathjax macro -->
<!-- Load mathjax -->
    <script src="https://cdn.mathjax.org/mathjax/latest/MathJax.js?config=TeX-AMS_HTML"></script>
    <!-- MathJax configuration -->
    <script type="text/x-mathjax-config">
    MathJax.Hub.Config({
        tex2jax: {
            inlineMath: [ ['$','$'], ["\\(","\\)"] ],
            displayMath: [ ['$$','$$'], ["\\[","\\]"] ],
            processEscapes: true,
            processEnvironments: true
        },
        // Center justify equations in code and markdown cells. Elsewhere
        // we use CSS to left justify single line equations in code cells.
        displayAlign: 'center',
        "HTML-CSS": {
            styles: {'.MathJax_Display': {"margin": 0}},
            linebreaks: { automatic: true }
        }
    });
    </script>
    <!-- End of mathjax configuration --></head>
<body>
  <div tabindex="-1" id="notebook" class="border-box-sizing">
    <div class="container" id="notebook-container">

<div class="cell border-box-sizing text_cell rendered">
<div class="prompt input_prompt">
</div>
<div class="inner_cell">
<div class="text_cell_render border-box-sizing rendered_html">
<h1 id="PREPROCESAMIENTO-DE-DATOS">PREPROCESAMIENTO DE DATOS<a class="anchor-link" href="#PREPROCESAMIENTO-DE-DATOS">&#182;</a></h1><p>La idea de este notebook es mostrar cómo afecta la manera de redimensionar las imágenes al resultado de la clasificación. Se han evaluado tres maneras diferentes de redimensionar los datos:</p>
<ul>
<li>Crop: Recortando una imagen cuadrada desde las esquinas utilizando la dimensión menor</li>
<li>FillBoders: La dimensión menor es rellenada replicando bordes a ambos lados</li>
<li>Resize: Se hace el redimensionamiento tal cual, deformando la imagen para hacerla cuadrada</li>
</ul>
<h2 id="Importar-todas-las-utilidades-necesarias">Importar todas las utilidades necesarias<a class="anchor-link" href="#Importar-todas-las-utilidades-necesarias">&#182;</a></h2>
</div>
</div>
</div>
<div class="cell border-box-sizing code_cell rendered">
<div class="input">
<div class="prompt input_prompt">In&nbsp;[19]:</div>
<div class="inner_cell">
    <div class="input_area">
<div class=" highlight hl-ipython3"><pre><span></span><span class="kn">from</span> <span class="nn">src.loadData</span> <span class="k">import</span> <span class="n">loadPolenData</span>
<span class="kn">from</span> <span class="nn">keras</span> <span class="k">import</span> <span class="n">backend</span> <span class="k">as</span> <span class="n">K</span>
<span class="kn">from</span> <span class="nn">keras.models</span> <span class="k">import</span> <span class="n">Sequential</span>
<span class="kn">from</span> <span class="nn">keras.preprocessing.image</span> <span class="k">import</span> <span class="n">ImageDataGenerator</span>
<span class="kn">from</span> <span class="nn">keras.layers</span> <span class="k">import</span> <span class="n">Convolution2D</span><span class="p">,</span> <span class="n">MaxPooling2D</span>
<span class="kn">from</span> <span class="nn">keras.layers</span> <span class="k">import</span> <span class="n">Activation</span><span class="p">,</span> <span class="n">Dropout</span><span class="p">,</span> <span class="n">Flatten</span><span class="p">,</span> <span class="n">Dense</span> 
<span class="kn">from</span> <span class="nn">keras.callbacks</span> <span class="k">import</span> <span class="n">TensorBoard</span>
<span class="kn">import</span> <span class="nn">plotly</span>
<span class="kn">import</span> <span class="nn">plotly.graph_objs</span> <span class="k">as</span> <span class="nn">go</span>
</pre></div>

</div>
</div>
</div>

</div>
<div class="cell border-box-sizing text_cell rendered">
<div class="prompt input_prompt">
</div>
<div class="inner_cell">
<div class="text_cell_render border-box-sizing rendered_html">
<h2 id="Cargar-set-de-datos">Cargar set de datos<a class="anchor-link" href="#Cargar-set-de-datos">&#182;</a></h2><p>A partir del tamaño deseado, el tipo de redimensionamiento y el número de imágenes de test que se obtendrán del dataset, se cargan el conjunto de entrenamiento y de test utilizando el formato Keras</p>

</div>
</div>
</div>
<div class="cell border-box-sizing code_cell rendered">
<div class="input">
<div class="prompt input_prompt">In&nbsp;[20]:</div>
<div class="inner_cell">
    <div class="input_area">
<div class=" highlight hl-ipython3"><pre><span></span><span class="k">def</span> <span class="nf">loadDataset</span><span class="p">(</span><span class="n">resizeType</span><span class="p">,</span> <span class="n">imgSize</span><span class="p">,</span> <span class="n">nTest</span><span class="p">,</span> <span class="n">pathDataset</span><span class="p">,</span> <span class="n">pathOut</span><span class="p">):</span>
        <span class="k">return</span> <span class="n">loadPolenData</span><span class="p">(</span><span class="n">pathDataset</span><span class="p">,</span> <span class="n">pathOut</span> <span class="o">+</span> <span class="n">resizeType</span><span class="p">,</span>
                             <span class="n">resizeType</span><span class="p">,</span> <span class="n">imgSize</span><span class="p">,</span> <span class="n">nTest</span><span class="p">)</span>
</pre></div>

</div>
</div>
</div>

</div>
<div class="cell border-box-sizing text_cell rendered">
<div class="prompt input_prompt">
</div>
<div class="inner_cell">
<div class="text_cell_render border-box-sizing rendered_html">
<h2 id="Definir-el-modelo">Definir el modelo<a class="anchor-link" href="#Definir-el-modelo">&#182;</a></h2><p>En esta función se define el modelo que se utilizará para realizar las pruebas</p>

</div>
</div>
</div>
<div class="cell border-box-sizing code_cell rendered">
<div class="input">
<div class="prompt input_prompt">In&nbsp;[21]:</div>
<div class="inner_cell">
    <div class="input_area">
<div class=" highlight hl-ipython3"><pre><span></span><span class="k">def</span> <span class="nf">defineModel</span><span class="p">(</span><span class="n">imgSize</span><span class="p">,</span> <span class="n">nClass</span><span class="p">):</span>
    <span class="n">model</span> <span class="o">=</span> <span class="n">Sequential</span><span class="p">()</span>
    <span class="n">model</span><span class="o">.</span><span class="n">add</span><span class="p">(</span><span class="n">Convolution2D</span><span class="p">(</span><span class="mi">32</span><span class="p">,</span> <span class="mi">3</span><span class="p">,</span> <span class="mi">3</span><span class="p">,</span> <span class="n">border_mode</span><span class="o">=</span><span class="s1">&#39;same&#39;</span><span class="p">,</span>
                            <span class="n">input_shape</span><span class="o">=</span><span class="p">(</span><span class="n">imgSize</span><span class="p">,</span> <span class="n">imgSize</span><span class="p">,</span><span class="mi">3</span><span class="p">)))</span>
    <span class="n">model</span><span class="o">.</span><span class="n">add</span><span class="p">(</span><span class="n">Activation</span><span class="p">(</span><span class="s1">&#39;relu&#39;</span><span class="p">))</span>
    
    <span class="n">model</span><span class="o">.</span><span class="n">add</span><span class="p">(</span><span class="n">Convolution2D</span><span class="p">(</span><span class="mi">32</span><span class="p">,</span> <span class="mi">3</span><span class="p">,</span> <span class="mi">3</span><span class="p">))</span>
    <span class="n">model</span><span class="o">.</span><span class="n">add</span><span class="p">(</span><span class="n">Activation</span><span class="p">(</span><span class="s1">&#39;relu&#39;</span><span class="p">))</span>
    
    <span class="n">model</span><span class="o">.</span><span class="n">add</span><span class="p">(</span><span class="n">MaxPooling2D</span><span class="p">(</span><span class="n">pool_size</span><span class="o">=</span><span class="p">(</span><span class="mi">2</span><span class="p">,</span> <span class="mi">2</span><span class="p">)))</span>
    <span class="n">model</span><span class="o">.</span><span class="n">add</span><span class="p">(</span><span class="n">Dropout</span><span class="p">(</span><span class="mf">0.25</span><span class="p">))</span>
    
    <span class="n">model</span><span class="o">.</span><span class="n">add</span><span class="p">(</span><span class="n">Convolution2D</span><span class="p">(</span><span class="mi">64</span><span class="p">,</span> <span class="mi">3</span><span class="p">,</span> <span class="mi">3</span><span class="p">,</span> <span class="n">border_mode</span><span class="o">=</span><span class="s1">&#39;same&#39;</span><span class="p">))</span>
    <span class="n">model</span><span class="o">.</span><span class="n">add</span><span class="p">(</span><span class="n">Activation</span><span class="p">(</span><span class="s1">&#39;relu&#39;</span><span class="p">))</span>
    
    <span class="n">model</span><span class="o">.</span><span class="n">add</span><span class="p">(</span><span class="n">Convolution2D</span><span class="p">(</span><span class="mi">64</span><span class="p">,</span> <span class="mi">3</span><span class="p">,</span> <span class="mi">3</span><span class="p">))</span>
    <span class="n">model</span><span class="o">.</span><span class="n">add</span><span class="p">(</span><span class="n">Activation</span><span class="p">(</span><span class="s1">&#39;relu&#39;</span><span class="p">))</span>
    
    <span class="n">model</span><span class="o">.</span><span class="n">add</span><span class="p">(</span><span class="n">MaxPooling2D</span><span class="p">(</span><span class="n">pool_size</span><span class="o">=</span><span class="p">(</span><span class="mi">2</span><span class="p">,</span> <span class="mi">2</span><span class="p">)))</span>
    <span class="n">model</span><span class="o">.</span><span class="n">add</span><span class="p">(</span><span class="n">Dropout</span><span class="p">(</span><span class="mf">0.25</span><span class="p">))</span>
    
    <span class="n">model</span><span class="o">.</span><span class="n">add</span><span class="p">(</span><span class="n">Flatten</span><span class="p">())</span>
    <span class="n">model</span><span class="o">.</span><span class="n">add</span><span class="p">(</span><span class="n">Dense</span><span class="p">(</span><span class="mi">128</span><span class="p">))</span>
    <span class="n">model</span><span class="o">.</span><span class="n">add</span><span class="p">(</span><span class="n">Activation</span><span class="p">(</span><span class="s1">&#39;relu&#39;</span><span class="p">))</span>
    <span class="n">model</span><span class="o">.</span><span class="n">add</span><span class="p">(</span><span class="n">Dropout</span><span class="p">(</span><span class="mf">0.5</span><span class="p">))</span>
    <span class="n">model</span><span class="o">.</span><span class="n">add</span><span class="p">(</span><span class="n">Dense</span><span class="p">(</span><span class="n">nClass</span><span class="p">))</span>
    <span class="n">model</span><span class="o">.</span><span class="n">add</span><span class="p">(</span><span class="n">Activation</span><span class="p">(</span><span class="s1">&#39;softmax&#39;</span><span class="p">))</span>
    
    <span class="c1"># Let&#39;s train the model using RMSprop</span>
    <span class="n">model</span><span class="o">.</span><span class="n">compile</span><span class="p">(</span><span class="n">loss</span><span class="o">=</span><span class="s1">&#39;categorical_crossentropy&#39;</span><span class="p">,</span>
                  <span class="n">optimizer</span><span class="o">=</span><span class="s1">&#39;rmsprop&#39;</span><span class="p">,</span>
                  <span class="n">metrics</span><span class="o">=</span><span class="p">[</span><span class="s1">&#39;accuracy&#39;</span><span class="p">])</span>
    
    <span class="k">return</span> <span class="n">model</span>
</pre></div>

</div>
</div>
</div>

</div>
<div class="cell border-box-sizing text_cell rendered">
<div class="prompt input_prompt">
</div>
<div class="inner_cell">
<div class="text_cell_render border-box-sizing rendered_html">
<h2 id="Entrenar-modelo">Entrenar modelo<a class="anchor-link" href="#Entrenar-modelo">&#182;</a></h2><p>Esta función es la encargada de entrenar el modelo generado. 
Se utiliza aumento de datos a partir del conjunto de entrenamiento. Además, se utilizan tantos samples como tamaño tiene el conjunto de entrenamiento para cada iteración. El entrenamiento es llevado a cabo por lotes para evitar problemas de computación</p>

</div>
</div>
</div>
<div class="cell border-box-sizing code_cell rendered">
<div class="input">
<div class="prompt input_prompt">In&nbsp;[22]:</div>
<div class="inner_cell">
    <div class="input_area">
<div class=" highlight hl-ipython3"><pre><span></span><span class="k">def</span> <span class="nf">trainModel</span><span class="p">(</span><span class="n">model</span><span class="p">,</span> <span class="n">xTrain</span><span class="p">,</span> <span class="n">yTrain</span><span class="p">,</span> <span class="n">xTest</span><span class="p">,</span> <span class="n">yTest</span><span class="p">,</span> <span class="n">nEpochs</span><span class="p">,</span> <span class="n">logPath</span><span class="p">):</span>
    <span class="n">tb</span> <span class="o">=</span> <span class="n">TensorBoard</span><span class="p">(</span>
        <span class="n">log_dir</span><span class="o">=</span><span class="n">logPath</span><span class="p">,</span> 
        <span class="n">histogram_freq</span><span class="o">=</span><span class="mi">0</span><span class="p">,</span> 
        <span class="n">write_graph</span><span class="o">=</span><span class="kc">True</span><span class="p">,</span> 
        <span class="n">write_images</span><span class="o">=</span><span class="kc">False</span><span class="p">)</span>
    
    <span class="n">datagen</span> <span class="o">=</span> <span class="n">ImageDataGenerator</span><span class="p">(</span>
        <span class="n">featurewise_center</span><span class="o">=</span><span class="kc">False</span><span class="p">,</span>  <span class="c1"># set input mean to 0 over the dataset</span>
        <span class="n">samplewise_center</span><span class="o">=</span><span class="kc">False</span><span class="p">,</span>  <span class="c1"># set each sample mean to 0</span>
        <span class="n">featurewise_std_normalization</span><span class="o">=</span><span class="kc">False</span><span class="p">,</span>  <span class="c1"># divide inputs by std of the dataset</span>
        <span class="n">samplewise_std_normalization</span><span class="o">=</span><span class="kc">False</span><span class="p">,</span>  <span class="c1"># divide each input by its std</span>
        <span class="n">zca_whitening</span><span class="o">=</span><span class="kc">False</span><span class="p">,</span>  <span class="c1"># apply ZCA whitening</span>
        <span class="n">rotation_range</span><span class="o">=</span><span class="mi">15</span><span class="p">,</span>  <span class="c1"># randomly rotate images in the range (degrees, 0 to 180)</span>
        <span class="n">width_shift_range</span><span class="o">=</span><span class="mf">0.1</span><span class="p">,</span>  <span class="c1"># randomly shift images horizontally (fraction of total width)</span>
        <span class="n">height_shift_range</span><span class="o">=</span><span class="mf">0.1</span><span class="p">,</span>  <span class="c1"># randomly shift images vertically (fraction of total height)</span>
        <span class="n">horizontal_flip</span><span class="o">=</span><span class="kc">False</span><span class="p">,</span>  <span class="c1"># randomly flip images</span>
        <span class="n">vertical_flip</span><span class="o">=</span><span class="kc">False</span><span class="p">,</span>
        <span class="n">fill_mode</span> <span class="o">=</span><span class="s2">&quot;nearest&quot;</span><span class="p">)</span>  <span class="c1"># randomly flip images</span>

    <span class="n">datagen</span><span class="o">.</span><span class="n">fit</span><span class="p">(</span><span class="n">xTrain</span><span class="p">)</span>
    <span class="n">hist</span> <span class="o">=</span> <span class="n">model</span><span class="o">.</span><span class="n">fit_generator</span><span class="p">(</span><span class="n">datagen</span><span class="o">.</span><span class="n">flow</span><span class="p">(</span><span class="n">xTrain</span><span class="p">,</span> <span class="n">yTrain</span><span class="p">,</span> <span class="n">batch_size</span><span class="o">=</span><span class="mi">32</span><span class="p">),</span> 
                        <span class="n">samples_per_epoch</span><span class="o">=</span><span class="n">xTrain</span><span class="o">.</span><span class="n">shape</span><span class="p">[</span><span class="mi">0</span><span class="p">],</span> 
                        <span class="c1">#samples_per_epoch=750,</span>
                        <span class="n">nb_epoch</span><span class="o">=</span><span class="n">nEpochs</span><span class="p">,</span> 
                        <span class="n">verbose</span><span class="o">=</span><span class="mi">2</span><span class="p">,</span>
                        <span class="n">callbacks</span><span class="o">=</span><span class="p">[</span><span class="n">tb</span><span class="p">],</span>
                        <span class="n">validation_data</span><span class="o">=</span><span class="p">(</span><span class="n">xTest</span><span class="p">,</span> <span class="n">yTest</span><span class="p">))</span>
    <span class="k">return</span> <span class="n">hist</span><span class="p">,</span> <span class="n">model</span>
</pre></div>

</div>
</div>
</div>

</div>
<div class="cell border-box-sizing text_cell rendered">
<div class="prompt input_prompt">
</div>
<div class="inner_cell">
<div class="text_cell_render border-box-sizing rendered_html">
<h2 id="Mostrar-resultados">Mostrar resultados<a class="anchor-link" href="#Mostrar-resultados">&#182;</a></h2><p>Esta función es la encargada de representar el la precisión de clasificación en el conjunto de test por cada iteración</p>

</div>
</div>
</div>
<div class="cell border-box-sizing code_cell rendered">
<div class="input">
<div class="prompt input_prompt">In&nbsp;[23]:</div>
<div class="inner_cell">
    <div class="input_area">
<div class=" highlight hl-ipython3"><pre><span></span><span class="k">def</span> <span class="nf">plotResults</span><span class="p">(</span><span class="n">resizeTypes</span><span class="p">,</span> <span class="n">resultsAcc</span><span class="p">,</span> <span class="n">resultsLoss</span><span class="p">):</span>
    <span class="n">plotly</span><span class="o">.</span><span class="n">offline</span><span class="o">.</span><span class="n">init_notebook_mode</span><span class="p">(</span><span class="n">connected</span><span class="o">=</span><span class="kc">True</span><span class="p">)</span>
    <span class="n">fig</span> <span class="o">=</span> <span class="n">plotly</span><span class="o">.</span><span class="n">tools</span><span class="o">.</span><span class="n">make_subplots</span><span class="p">(</span><span class="n">rows</span><span class="o">=</span><span class="mi">2</span><span class="p">,</span> <span class="n">cols</span><span class="o">=</span><span class="mi">1</span><span class="p">,</span> <span class="n">subplot_titles</span><span class="o">=</span><span class="p">(</span><span class="s2">&quot;Val_Acc&quot;</span><span class="p">,</span> <span class="s2">&quot;Val_Loss&quot;</span><span class="p">))</span>
    <span class="k">for</span> <span class="n">i</span> <span class="ow">in</span> <span class="nb">range</span><span class="p">(</span><span class="nb">len</span><span class="p">(</span><span class="n">resizeTypes</span><span class="p">)):</span>
        <span class="n">fig</span><span class="o">.</span><span class="n">append_trace</span><span class="p">(</span><span class="n">go</span><span class="o">.</span><span class="n">Scatter</span><span class="p">(</span><span class="n">y</span><span class="o">=</span><span class="n">resultsAcc</span><span class="p">[</span><span class="n">i</span><span class="p">],</span> <span class="n">name</span><span class="o">=</span><span class="n">resizeTypes</span><span class="p">[</span><span class="n">i</span><span class="p">]),</span> <span class="mi">1</span><span class="p">,</span> <span class="mi">1</span><span class="p">)</span>
        <span class="n">fig</span><span class="o">.</span><span class="n">append_trace</span><span class="p">(</span><span class="n">go</span><span class="o">.</span><span class="n">Scatter</span><span class="p">(</span><span class="n">y</span><span class="o">=</span><span class="n">resultsLoss</span><span class="p">[</span><span class="n">i</span><span class="p">],</span> <span class="n">name</span><span class="o">=</span><span class="n">resizeTypes</span><span class="p">[</span><span class="n">i</span><span class="p">]),</span> <span class="mi">2</span><span class="p">,</span> <span class="mi">1</span><span class="p">)</span>
    
    <span class="n">fig</span><span class="p">[</span><span class="s2">&quot;layout&quot;</span><span class="p">][</span><span class="s2">&quot;xaxis1&quot;</span><span class="p">]</span><span class="o">.</span><span class="n">update</span><span class="p">(</span><span class="n">title</span><span class="o">=</span><span class="s2">&quot;Ciclo&quot;</span><span class="p">)</span>
    <span class="n">fig</span><span class="p">[</span><span class="s2">&quot;layout&quot;</span><span class="p">][</span><span class="s2">&quot;xaxis2&quot;</span><span class="p">]</span><span class="o">.</span><span class="n">update</span><span class="p">(</span><span class="n">title</span><span class="o">=</span><span class="s2">&quot;Ciclo&quot;</span><span class="p">)</span>
    <span class="n">fig</span><span class="p">[</span><span class="s2">&quot;layout&quot;</span><span class="p">][</span><span class="s2">&quot;yaxis1&quot;</span><span class="p">]</span><span class="o">.</span><span class="n">update</span><span class="p">(</span><span class="n">title</span><span class="o">=</span><span class="s2">&quot;Val_Acc&quot;</span><span class="p">)</span>
    <span class="n">fig</span><span class="p">[</span><span class="s2">&quot;layout&quot;</span><span class="p">][</span><span class="s2">&quot;yaxis2&quot;</span><span class="p">]</span><span class="o">.</span><span class="n">update</span><span class="p">(</span><span class="n">title</span><span class="o">=</span><span class="s2">&quot;Val_Loss&quot;</span><span class="p">)</span>
    
    <span class="n">plotly</span><span class="o">.</span><span class="n">offline</span><span class="o">.</span><span class="n">iplot</span><span class="p">(</span><span class="n">fig</span><span class="p">)</span>
    
</pre></div>

</div>
</div>
</div>

</div>
<div class="cell border-box-sizing text_cell rendered">
<div class="prompt input_prompt">
</div>
<div class="inner_cell">
<div class="text_cell_render border-box-sizing rendered_html">
<h2 id="Ejecutar-pruebas">Ejecutar pruebas<a class="anchor-link" href="#Ejecutar-pruebas">&#182;</a></h2><p>Se redimensionan las imágenes a 100x100. Para el conjunto de test se toman 5 imágenes de cada clase. El número de iteraciones utilizado es 300, aunque como se podrá comprobar, el mejor modelo no es obtenido en esta iteración sino en anteriores.</p>

</div>
</div>
</div>
<div class="cell border-box-sizing code_cell rendered">
<div class="input">
<div class="prompt input_prompt">In&nbsp;[24]:</div>
<div class="inner_cell">
    <div class="input_area">
<div class=" highlight hl-ipython3"><pre><span></span><span class="n">resizeTypes</span> <span class="o">=</span> <span class="p">[</span><span class="s2">&quot;CROP&quot;</span><span class="p">,</span><span class="s2">&quot;FILLBORDERS&quot;</span><span class="p">,</span>   <span class="s2">&quot;RESIZE&quot;</span><span class="p">]</span>
<span class="n">nClass</span> <span class="o">=</span> <span class="mi">23</span>
<span class="n">imgSize</span> <span class="o">=</span> <span class="mi">100</span>
<span class="n">nTest</span> <span class="o">=</span> <span class="mi">5</span>
<span class="n">nEpochs</span> <span class="o">=</span> <span class="mi">300</span>

<span class="n">logPath</span> <span class="o">=</span> <span class="s2">&quot;./logs&quot;</span>
<span class="n">pathDataset</span> <span class="o">=</span> <span class="s2">&quot;./dataset&quot;</span>
<span class="n">pathOut</span> <span class="o">=</span> <span class="s2">&quot;./dataset_&quot;</span>

<span class="n">resultsAcc</span> <span class="o">=</span> <span class="p">[]</span>
<span class="n">resultsLoss</span> <span class="o">=</span> <span class="p">[]</span>

<span class="k">for</span> <span class="n">resizeType</span> <span class="ow">in</span> <span class="n">resizeTypes</span><span class="p">:</span>
    <span class="n">K</span><span class="o">.</span><span class="n">clear_session</span><span class="p">()</span>
    <span class="nb">print</span><span class="p">(</span><span class="n">resizeType</span><span class="p">)</span>
    <span class="nb">print</span><span class="p">(</span><span class="s2">&quot;___________&quot;</span><span class="p">)</span>
    <span class="p">(</span><span class="n">xTrain</span><span class="p">,</span> <span class="n">yTrain</span><span class="p">),</span> <span class="p">(</span><span class="n">xTest</span><span class="p">,</span> <span class="n">yTest</span><span class="p">)</span> <span class="o">=</span> <span class="n">loadDataset</span><span class="p">(</span><span class="n">resizeType</span><span class="p">,</span> <span class="n">imgSize</span><span class="p">,</span> <span class="n">nTest</span><span class="p">,</span> <span class="n">pathDataset</span><span class="p">,</span> <span class="n">pathOut</span><span class="p">)</span>
    <span class="n">model</span> <span class="o">=</span> <span class="n">defineModel</span><span class="p">(</span><span class="n">imgSize</span><span class="p">,</span> <span class="n">nClass</span><span class="p">)</span>
    <span class="n">hist</span><span class="p">,</span> <span class="n">model</span> <span class="o">=</span> <span class="n">trainModel</span><span class="p">(</span><span class="n">model</span><span class="p">,</span> <span class="n">xTrain</span><span class="p">,</span> <span class="n">yTrain</span><span class="p">,</span> <span class="n">xTest</span><span class="p">,</span> <span class="n">yTest</span><span class="p">,</span><span class="n">nEpochs</span> <span class="p">,</span><span class="n">logPath</span><span class="p">)</span>
    <span class="n">resultsAcc</span><span class="o">.</span><span class="n">append</span><span class="p">(</span><span class="n">hist</span><span class="o">.</span><span class="n">history</span><span class="p">[</span><span class="s2">&quot;val_acc&quot;</span><span class="p">])</span>
    <span class="n">resultsLoss</span><span class="o">.</span><span class="n">append</span><span class="p">(</span><span class="n">hist</span><span class="o">.</span><span class="n">history</span><span class="p">[</span><span class="s2">&quot;val_loss&quot;</span><span class="p">])</span>
    
    <span class="n">score</span><span class="p">,</span> <span class="n">acc</span> <span class="o">=</span> <span class="n">model</span><span class="o">.</span><span class="n">evaluate</span><span class="p">(</span><span class="n">xTest</span><span class="p">,</span> <span class="n">yTest</span><span class="p">,</span> <span class="n">batch_size</span><span class="o">=</span><span class="mi">32</span><span class="p">)</span>
    <span class="nb">print</span><span class="p">(</span><span class="s1">&#39;Test score:&#39;</span><span class="p">,</span> <span class="n">score</span><span class="p">)</span>
    <span class="nb">print</span><span class="p">(</span><span class="s1">&#39;Test accuracy:&#39;</span><span class="p">,</span> <span class="n">acc</span><span class="p">)</span>
    
    <span class="n">model</span> <span class="o">=</span> <span class="kc">None</span>
    
</pre></div>

</div>
</div>
</div>

<div class="output_wrapper">
<div class="output">


<div class="output_area">
<div class="prompt"></div>

<div class="output_subarea output_stream output_stdout output_text">
<pre>CROP
___________
Epoch 1/300
5s - loss: 3.2543 - acc: 0.0594 - val_loss: 3.0256 - val_acc: 0.0696
Epoch 2/300
5s - loss: 2.9876 - acc: 0.0819 - val_loss: 2.8286 - val_acc: 0.0957
Epoch 3/300
5s - loss: 2.8383 - acc: 0.1249 - val_loss: 2.6817 - val_acc: 0.2000
Epoch 4/300
5s - loss: 2.6520 - acc: 0.1611 - val_loss: 2.4855 - val_acc: 0.2174
Epoch 5/300
5s - loss: 2.5037 - acc: 0.1986 - val_loss: 2.1157 - val_acc: 0.3391
Epoch 6/300
5s - loss: 2.3742 - acc: 0.2184 - val_loss: 2.1140 - val_acc: 0.3652
Epoch 7/300
5s - loss: 2.3156 - acc: 0.2471 - val_loss: 1.9738 - val_acc: 0.4174
Epoch 8/300
5s - loss: 2.2514 - acc: 0.2737 - val_loss: 1.8951 - val_acc: 0.4087
Epoch 9/300
5s - loss: 2.1757 - acc: 0.2942 - val_loss: 1.9590 - val_acc: 0.3478
Epoch 10/300
5s - loss: 2.0195 - acc: 0.3331 - val_loss: 1.6739 - val_acc: 0.4609
Epoch 11/300
5s - loss: 2.0065 - acc: 0.3447 - val_loss: 1.7974 - val_acc: 0.4087
Epoch 12/300
5s - loss: 1.9010 - acc: 0.3775 - val_loss: 1.6412 - val_acc: 0.4696
Epoch 13/300
5s - loss: 1.8024 - acc: 0.4232 - val_loss: 1.5659 - val_acc: 0.5391
Epoch 14/300
5s - loss: 1.6874 - acc: 0.4485 - val_loss: 1.4391 - val_acc: 0.5913
Epoch 15/300
5s - loss: 1.7271 - acc: 0.4375 - val_loss: 1.5385 - val_acc: 0.5043
Epoch 16/300
5s - loss: 1.6555 - acc: 0.4471 - val_loss: 1.1547 - val_acc: 0.6870
Epoch 17/300
5s - loss: 1.5860 - acc: 0.4819 - val_loss: 1.3612 - val_acc: 0.4870
Epoch 18/300
5s - loss: 1.5214 - acc: 0.5099 - val_loss: 1.2796 - val_acc: 0.6174
Epoch 19/300
5s - loss: 1.4630 - acc: 0.5345 - val_loss: 1.0666 - val_acc: 0.6957
Epoch 20/300
5s - loss: 1.4238 - acc: 0.5433 - val_loss: 1.0020 - val_acc: 0.7130
Epoch 21/300
5s - loss: 1.4394 - acc: 0.5386 - val_loss: 1.0724 - val_acc: 0.6609
Epoch 22/300
5s - loss: 1.3337 - acc: 0.5515 - val_loss: 0.9003 - val_acc: 0.7565
Epoch 23/300
5s - loss: 1.2736 - acc: 0.5700 - val_loss: 1.2918 - val_acc: 0.5565
Epoch 24/300
5s - loss: 1.2156 - acc: 0.5850 - val_loss: 1.1434 - val_acc: 0.6087
Epoch 25/300
5s - loss: 1.2257 - acc: 0.5959 - val_loss: 0.8923 - val_acc: 0.6957
Epoch 26/300
5s - loss: 1.1831 - acc: 0.6082 - val_loss: 1.2016 - val_acc: 0.6174
Epoch 27/300
5s - loss: 1.1888 - acc: 0.6034 - val_loss: 0.7877 - val_acc: 0.7478
Epoch 28/300
5s - loss: 1.1609 - acc: 0.6341 - val_loss: 0.9166 - val_acc: 0.6957
Epoch 29/300
5s - loss: 1.1000 - acc: 0.6341 - val_loss: 0.7107 - val_acc: 0.7826
Epoch 30/300
5s - loss: 1.0745 - acc: 0.6396 - val_loss: 0.6720 - val_acc: 0.7565
Epoch 31/300
5s - loss: 1.0678 - acc: 0.6512 - val_loss: 0.7127 - val_acc: 0.7478
Epoch 32/300
5s - loss: 1.0125 - acc: 0.6601 - val_loss: 0.7156 - val_acc: 0.7478
Epoch 33/300
5s - loss: 1.0675 - acc: 0.6608 - val_loss: 0.7183 - val_acc: 0.7826
Epoch 34/300
5s - loss: 0.9793 - acc: 0.6765 - val_loss: 0.6864 - val_acc: 0.7652
Epoch 35/300
5s - loss: 0.9240 - acc: 0.6894 - val_loss: 0.6905 - val_acc: 0.7391
Epoch 36/300
5s - loss: 1.0019 - acc: 0.6635 - val_loss: 0.5942 - val_acc: 0.7478
Epoch 37/300
5s - loss: 0.9101 - acc: 0.7044 - val_loss: 0.6561 - val_acc: 0.7739
Epoch 38/300
5s - loss: 0.9101 - acc: 0.6901 - val_loss: 0.5605 - val_acc: 0.7913
Epoch 39/300
5s - loss: 0.8515 - acc: 0.7283 - val_loss: 0.5635 - val_acc: 0.8087
Epoch 40/300
5s - loss: 0.8193 - acc: 0.7208 - val_loss: 0.7827 - val_acc: 0.7304
Epoch 41/300
5s - loss: 0.8391 - acc: 0.7406 - val_loss: 0.4664 - val_acc: 0.8174
Epoch 42/300
5s - loss: 0.8305 - acc: 0.7290 - val_loss: 0.5463 - val_acc: 0.7826
Epoch 43/300
5s - loss: 0.8659 - acc: 0.7133 - val_loss: 0.6621 - val_acc: 0.8174
Epoch 44/300
5s - loss: 0.7712 - acc: 0.7386 - val_loss: 0.8650 - val_acc: 0.7304
Epoch 45/300
5s - loss: 0.7849 - acc: 0.7549 - val_loss: 0.5671 - val_acc: 0.7913
Epoch 46/300
5s - loss: 0.7845 - acc: 0.7447 - val_loss: 0.6813 - val_acc: 0.8087
Epoch 47/300
5s - loss: 0.8158 - acc: 0.7352 - val_loss: 0.4175 - val_acc: 0.8261
Epoch 48/300
5s - loss: 0.7966 - acc: 0.7433 - val_loss: 0.6410 - val_acc: 0.8000
Epoch 49/300
5s - loss: 0.8174 - acc: 0.7427 - val_loss: 0.5789 - val_acc: 0.8435
Epoch 50/300
5s - loss: 0.6824 - acc: 0.7741 - val_loss: 0.6097 - val_acc: 0.8000
Epoch 51/300
5s - loss: 0.6957 - acc: 0.7788 - val_loss: 0.7318 - val_acc: 0.7739
Epoch 52/300
5s - loss: 0.7084 - acc: 0.7823 - val_loss: 0.9881 - val_acc: 0.7565
Epoch 53/300
5s - loss: 0.7257 - acc: 0.7700 - val_loss: 0.6050 - val_acc: 0.7826
Epoch 54/300
5s - loss: 0.7279 - acc: 0.7700 - val_loss: 0.6185 - val_acc: 0.7913
Epoch 55/300
5s - loss: 0.6638 - acc: 0.7925 - val_loss: 0.8451 - val_acc: 0.7652
Epoch 56/300
5s - loss: 0.7063 - acc: 0.7734 - val_loss: 0.4247 - val_acc: 0.8609
Epoch 57/300
5s - loss: 0.6747 - acc: 0.7706 - val_loss: 0.5465 - val_acc: 0.8435
Epoch 58/300
5s - loss: 0.6738 - acc: 0.7734 - val_loss: 0.6816 - val_acc: 0.7478
Epoch 59/300
5s - loss: 0.6614 - acc: 0.7823 - val_loss: 0.4240 - val_acc: 0.8522
Epoch 60/300
5s - loss: 0.6207 - acc: 0.7980 - val_loss: 0.9180 - val_acc: 0.7304
Epoch 61/300
5s - loss: 0.6290 - acc: 0.8061 - val_loss: 0.3844 - val_acc: 0.8435
Epoch 62/300
5s - loss: 0.7171 - acc: 0.7870 - val_loss: 0.6613 - val_acc: 0.8000
Epoch 63/300
5s - loss: 0.6232 - acc: 0.8027 - val_loss: 0.4729 - val_acc: 0.8261
Epoch 64/300
5s - loss: 0.6589 - acc: 0.7891 - val_loss: 0.4228 - val_acc: 0.8522
Epoch 65/300
5s - loss: 0.6044 - acc: 0.8048 - val_loss: 0.5378 - val_acc: 0.8435
Epoch 66/300
5s - loss: 0.5898 - acc: 0.8205 - val_loss: 0.4158 - val_acc: 0.8435
Epoch 67/300
5s - loss: 0.6080 - acc: 0.8000 - val_loss: 0.4554 - val_acc: 0.8174
Epoch 68/300
5s - loss: 0.5796 - acc: 0.8177 - val_loss: 0.3130 - val_acc: 0.8696
Epoch 69/300
5s - loss: 0.5927 - acc: 0.8061 - val_loss: 0.3949 - val_acc: 0.8609
Epoch 70/300
5s - loss: 0.5390 - acc: 0.8300 - val_loss: 0.3602 - val_acc: 0.8957
Epoch 71/300
5s - loss: 0.6124 - acc: 0.7945 - val_loss: 0.3570 - val_acc: 0.8696
Epoch 72/300
5s - loss: 0.5891 - acc: 0.8184 - val_loss: 0.4199 - val_acc: 0.8348
Epoch 73/300
5s - loss: 0.6085 - acc: 0.7993 - val_loss: 0.3929 - val_acc: 0.8783
Epoch 74/300
5s - loss: 0.7167 - acc: 0.7966 - val_loss: 0.3033 - val_acc: 0.8696
Epoch 75/300
5s - loss: 0.5970 - acc: 0.8150 - val_loss: 0.4150 - val_acc: 0.8609
Epoch 76/300
5s - loss: 0.5733 - acc: 0.8143 - val_loss: 0.3451 - val_acc: 0.8783
Epoch 77/300
5s - loss: 0.6631 - acc: 0.7966 - val_loss: 0.3083 - val_acc: 0.8870
Epoch 78/300
5s - loss: 0.6567 - acc: 0.8014 - val_loss: 0.5742 - val_acc: 0.8174
Epoch 79/300
5s - loss: 0.5183 - acc: 0.8375 - val_loss: 0.4067 - val_acc: 0.8783
Epoch 80/300
5s - loss: 0.6082 - acc: 0.8000 - val_loss: 0.5361 - val_acc: 0.8348
Epoch 81/300
5s - loss: 0.5620 - acc: 0.8137 - val_loss: 0.4622 - val_acc: 0.8696
Epoch 82/300
5s - loss: 0.5749 - acc: 0.8321 - val_loss: 0.3143 - val_acc: 0.8870
Epoch 83/300
5s - loss: 0.5532 - acc: 0.8205 - val_loss: 0.4196 - val_acc: 0.8696
Epoch 84/300
5s - loss: 0.5436 - acc: 0.8307 - val_loss: 0.5013 - val_acc: 0.8609
Epoch 85/300
5s - loss: 0.5867 - acc: 0.8355 - val_loss: 0.3117 - val_acc: 0.8783
Epoch 86/300
5s - loss: 0.5442 - acc: 0.8328 - val_loss: 0.4006 - val_acc: 0.8522
Epoch 87/300
5s - loss: 0.5657 - acc: 0.8300 - val_loss: 0.4025 - val_acc: 0.8609
Epoch 88/300
5s - loss: 0.5613 - acc: 0.8225 - val_loss: 0.4741 - val_acc: 0.8435
Epoch 89/300
5s - loss: 0.4999 - acc: 0.8410 - val_loss: 0.3604 - val_acc: 0.8609
Epoch 90/300
5s - loss: 0.5396 - acc: 0.8416 - val_loss: 0.2922 - val_acc: 0.8783
Epoch 91/300
5s - loss: 0.5597 - acc: 0.8307 - val_loss: 0.8533 - val_acc: 0.8087
Epoch 92/300
5s - loss: 0.4831 - acc: 0.8437 - val_loss: 0.5052 - val_acc: 0.8783
Epoch 93/300
5s - loss: 0.5030 - acc: 0.8382 - val_loss: 0.4538 - val_acc: 0.8522
Epoch 94/300
5s - loss: 0.5673 - acc: 0.8287 - val_loss: 0.4990 - val_acc: 0.8696
Epoch 95/300
5s - loss: 0.5144 - acc: 0.8355 - val_loss: 0.5365 - val_acc: 0.8609
Epoch 96/300
5s - loss: 0.5619 - acc: 0.8369 - val_loss: 0.9787 - val_acc: 0.8174
Epoch 97/300
5s - loss: 0.5887 - acc: 0.8184 - val_loss: 0.4914 - val_acc: 0.8348
Epoch 98/300
5s - loss: 0.5346 - acc: 0.8287 - val_loss: 0.3071 - val_acc: 0.8957
Epoch 99/300
5s - loss: 0.5332 - acc: 0.8348 - val_loss: 0.7120 - val_acc: 0.7565
Epoch 100/300
5s - loss: 0.5863 - acc: 0.8307 - val_loss: 0.3605 - val_acc: 0.8870
Epoch 101/300
5s - loss: 0.4924 - acc: 0.8464 - val_loss: 0.6350 - val_acc: 0.8696
Epoch 102/300
5s - loss: 0.5467 - acc: 0.8389 - val_loss: 0.4072 - val_acc: 0.9130
Epoch 103/300
5s - loss: 0.5195 - acc: 0.8328 - val_loss: 0.6005 - val_acc: 0.8522
Epoch 104/300
5s - loss: 0.6080 - acc: 0.8218 - val_loss: 0.6034 - val_acc: 0.8957
Epoch 105/300
5s - loss: 0.5270 - acc: 0.8423 - val_loss: 0.3282 - val_acc: 0.8783
Epoch 106/300
5s - loss: 0.5394 - acc: 0.8355 - val_loss: 0.4332 - val_acc: 0.8957
Epoch 107/300
5s - loss: 0.6073 - acc: 0.8232 - val_loss: 0.4626 - val_acc: 0.8696
Epoch 108/300
5s - loss: 0.4899 - acc: 0.8471 - val_loss: 0.3900 - val_acc: 0.8870
Epoch 109/300
5s - loss: 0.5701 - acc: 0.8355 - val_loss: 0.3145 - val_acc: 0.8870
Epoch 110/300
5s - loss: 0.5566 - acc: 0.8300 - val_loss: 0.4571 - val_acc: 0.9043
Epoch 111/300
5s - loss: 0.5786 - acc: 0.8259 - val_loss: 0.5667 - val_acc: 0.8522
Epoch 112/300
5s - loss: 0.5236 - acc: 0.8410 - val_loss: 0.5233 - val_acc: 0.8957
Epoch 113/300
5s - loss: 0.6256 - acc: 0.8232 - val_loss: 0.7620 - val_acc: 0.8783
Epoch 114/300
5s - loss: 0.5433 - acc: 0.8355 - val_loss: 0.3526 - val_acc: 0.8783
Epoch 115/300
5s - loss: 0.5697 - acc: 0.8348 - val_loss: 0.4414 - val_acc: 0.8522
Epoch 116/300
5s - loss: 0.5609 - acc: 0.8334 - val_loss: 0.3216 - val_acc: 0.9304
Epoch 117/300
5s - loss: 0.5357 - acc: 0.8375 - val_loss: 0.4228 - val_acc: 0.8435
Epoch 118/300
5s - loss: 0.5287 - acc: 0.8362 - val_loss: 0.3953 - val_acc: 0.8696
Epoch 119/300
5s - loss: 0.5512 - acc: 0.8451 - val_loss: 0.3552 - val_acc: 0.9043
Epoch 120/300
5s - loss: 0.5321 - acc: 0.8314 - val_loss: 0.4682 - val_acc: 0.9130
Epoch 121/300
5s - loss: 0.5254 - acc: 0.8580 - val_loss: 0.3933 - val_acc: 0.8957
Epoch 122/300
5s - loss: 0.5453 - acc: 0.8389 - val_loss: 0.5638 - val_acc: 0.8696
Epoch 123/300
5s - loss: 0.5566 - acc: 0.8478 - val_loss: 0.2658 - val_acc: 0.9130
Epoch 124/300
5s - loss: 0.5177 - acc: 0.8430 - val_loss: 0.7803 - val_acc: 0.8348
Epoch 125/300
5s - loss: 0.6284 - acc: 0.8382 - val_loss: 0.4469 - val_acc: 0.8957
Epoch 126/300
5s - loss: 0.4743 - acc: 0.8519 - val_loss: 0.4051 - val_acc: 0.8870
Epoch 127/300
5s - loss: 0.4729 - acc: 0.8621 - val_loss: 0.3969 - val_acc: 0.8957
Epoch 128/300
5s - loss: 0.5498 - acc: 0.8314 - val_loss: 0.4692 - val_acc: 0.8783
Epoch 129/300
5s - loss: 0.6052 - acc: 0.8375 - val_loss: 0.3506 - val_acc: 0.9043
Epoch 130/300
5s - loss: 0.4718 - acc: 0.8635 - val_loss: 0.3516 - val_acc: 0.8870
Epoch 131/300
5s - loss: 0.6362 - acc: 0.8150 - val_loss: 0.4980 - val_acc: 0.8609
Epoch 132/300
5s - loss: 0.5626 - acc: 0.8396 - val_loss: 0.4640 - val_acc: 0.8870
Epoch 133/300
5s - loss: 0.5681 - acc: 0.8457 - val_loss: 0.5882 - val_acc: 0.8696
Epoch 134/300
5s - loss: 0.6322 - acc: 0.8184 - val_loss: 0.4689 - val_acc: 0.9043
Epoch 135/300
5s - loss: 0.5814 - acc: 0.8396 - val_loss: 0.4319 - val_acc: 0.8783
Epoch 136/300
5s - loss: 0.4792 - acc: 0.8567 - val_loss: 0.5493 - val_acc: 0.8870
Epoch 137/300
5s - loss: 0.5367 - acc: 0.8546 - val_loss: 0.6357 - val_acc: 0.8000
Epoch 138/300
5s - loss: 0.5196 - acc: 0.8498 - val_loss: 0.4469 - val_acc: 0.8696
Epoch 139/300
5s - loss: 0.5768 - acc: 0.8253 - val_loss: 0.3576 - val_acc: 0.8609
Epoch 140/300
5s - loss: 0.5122 - acc: 0.8471 - val_loss: 0.3453 - val_acc: 0.8696
Epoch 141/300
5s - loss: 0.5490 - acc: 0.8416 - val_loss: 0.3283 - val_acc: 0.8957
Epoch 142/300
5s - loss: 0.5659 - acc: 0.8505 - val_loss: 0.3395 - val_acc: 0.9217
Epoch 143/300
5s - loss: 0.5706 - acc: 0.8307 - val_loss: 0.5942 - val_acc: 0.8609
Epoch 144/300
5s - loss: 0.5408 - acc: 0.8457 - val_loss: 0.3634 - val_acc: 0.8696
Epoch 145/300
5s - loss: 0.5713 - acc: 0.8478 - val_loss: 0.4565 - val_acc: 0.9043
Epoch 146/300
5s - loss: 0.5271 - acc: 0.8505 - val_loss: 0.3499 - val_acc: 0.9217
Epoch 147/300
5s - loss: 0.5743 - acc: 0.8444 - val_loss: 0.4056 - val_acc: 0.9043
Epoch 148/300
5s - loss: 0.5842 - acc: 0.8307 - val_loss: 0.3873 - val_acc: 0.8870
Epoch 149/300
5s - loss: 0.5402 - acc: 0.8471 - val_loss: 0.4309 - val_acc: 0.9043
Epoch 150/300
5s - loss: 0.5345 - acc: 0.8478 - val_loss: 0.5590 - val_acc: 0.9130
Epoch 151/300
5s - loss: 0.6576 - acc: 0.8430 - val_loss: 0.4646 - val_acc: 0.9130
Epoch 152/300
5s - loss: 0.5981 - acc: 0.8369 - val_loss: 0.3325 - val_acc: 0.9043
Epoch 153/300
5s - loss: 0.5428 - acc: 0.8444 - val_loss: 0.5109 - val_acc: 0.8609
Epoch 154/300
5s - loss: 0.6070 - acc: 0.8314 - val_loss: 0.6540 - val_acc: 0.8696
Epoch 155/300
5s - loss: 0.4844 - acc: 0.8608 - val_loss: 0.4042 - val_acc: 0.8870
Epoch 156/300
5s - loss: 0.6835 - acc: 0.8191 - val_loss: 0.5889 - val_acc: 0.8957
Epoch 157/300
5s - loss: 0.6301 - acc: 0.8253 - val_loss: 0.4631 - val_acc: 0.8957
Epoch 158/300
5s - loss: 0.5755 - acc: 0.8362 - val_loss: 0.5335 - val_acc: 0.8522
Epoch 159/300
5s - loss: 0.6273 - acc: 0.8369 - val_loss: 0.4088 - val_acc: 0.9130
Epoch 160/300
5s - loss: 0.6941 - acc: 0.8232 - val_loss: 0.5183 - val_acc: 0.8609
Epoch 161/300
5s - loss: 0.5249 - acc: 0.8539 - val_loss: 0.6323 - val_acc: 0.8609
Epoch 162/300
5s - loss: 0.6514 - acc: 0.8273 - val_loss: 0.9834 - val_acc: 0.7391
Epoch 163/300
5s - loss: 0.6233 - acc: 0.8232 - val_loss: 0.3181 - val_acc: 0.9391
Epoch 164/300
5s - loss: 0.6518 - acc: 0.8130 - val_loss: 2.2592 - val_acc: 0.6870
Epoch 165/300
5s - loss: 0.6359 - acc: 0.8396 - val_loss: 0.5689 - val_acc: 0.8609
Epoch 166/300
5s - loss: 0.5796 - acc: 0.8635 - val_loss: 0.5757 - val_acc: 0.8783
Epoch 167/300
5s - loss: 0.5751 - acc: 0.8491 - val_loss: 0.6305 - val_acc: 0.8000
Epoch 168/300
5s - loss: 0.6062 - acc: 0.8396 - val_loss: 0.5474 - val_acc: 0.8609
Epoch 169/300
5s - loss: 0.6693 - acc: 0.8259 - val_loss: 0.8455 - val_acc: 0.8435
Epoch 170/300
5s - loss: 0.5872 - acc: 0.8444 - val_loss: 0.5407 - val_acc: 0.8435
Epoch 171/300
5s - loss: 0.6022 - acc: 0.8451 - val_loss: 0.5004 - val_acc: 0.8957
Epoch 172/300
5s - loss: 0.6372 - acc: 0.8328 - val_loss: 0.4331 - val_acc: 0.8957
Epoch 173/300
5s - loss: 0.6143 - acc: 0.8246 - val_loss: 0.5547 - val_acc: 0.8870
Epoch 174/300
5s - loss: 0.5215 - acc: 0.8457 - val_loss: 0.7871 - val_acc: 0.8696
Epoch 175/300
5s - loss: 0.6638 - acc: 0.8321 - val_loss: 0.4016 - val_acc: 0.8696
Epoch 176/300
5s - loss: 0.6061 - acc: 0.8491 - val_loss: 0.5290 - val_acc: 0.8870
Epoch 177/300
5s - loss: 0.5305 - acc: 0.8437 - val_loss: 0.4491 - val_acc: 0.8783
Epoch 178/300
5s - loss: 0.5739 - acc: 0.8478 - val_loss: 0.3651 - val_acc: 0.9130
Epoch 179/300
5s - loss: 0.6604 - acc: 0.8184 - val_loss: 0.3233 - val_acc: 0.9217
Epoch 180/300
5s - loss: 0.5645 - acc: 0.8444 - val_loss: 0.2859 - val_acc: 0.9217
Epoch 181/300
5s - loss: 0.7317 - acc: 0.8116 - val_loss: 0.5013 - val_acc: 0.8609
Epoch 182/300
5s - loss: 0.6507 - acc: 0.8259 - val_loss: 0.4973 - val_acc: 0.8870
Epoch 183/300
5s - loss: 0.7650 - acc: 0.8123 - val_loss: 0.5767 - val_acc: 0.8609
Epoch 184/300
5s - loss: 0.5828 - acc: 0.8437 - val_loss: 0.5364 - val_acc: 0.8174
Epoch 185/300
5s - loss: 0.6733 - acc: 0.8328 - val_loss: 0.4841 - val_acc: 0.8609
Epoch 186/300
5s - loss: 0.6617 - acc: 0.8294 - val_loss: 0.3668 - val_acc: 0.8609
Epoch 187/300
5s - loss: 0.6338 - acc: 0.8382 - val_loss: 0.4722 - val_acc: 0.9130
Epoch 188/300
5s - loss: 0.5870 - acc: 0.8512 - val_loss: 0.4468 - val_acc: 0.8696
Epoch 189/300
5s - loss: 0.6548 - acc: 0.8239 - val_loss: 0.6399 - val_acc: 0.8870
Epoch 190/300
5s - loss: 0.5853 - acc: 0.8546 - val_loss: 0.4427 - val_acc: 0.8957
Epoch 191/300
5s - loss: 0.6530 - acc: 0.8246 - val_loss: 0.7176 - val_acc: 0.8522
Epoch 192/300
5s - loss: 0.7106 - acc: 0.8314 - val_loss: 0.3921 - val_acc: 0.9043
Epoch 193/300
5s - loss: 0.5309 - acc: 0.8573 - val_loss: 0.2940 - val_acc: 0.9217
Epoch 194/300
5s - loss: 0.6961 - acc: 0.8177 - val_loss: 0.2991 - val_acc: 0.8957
Epoch 195/300
5s - loss: 0.5635 - acc: 0.8348 - val_loss: 0.3602 - val_acc: 0.9217
Epoch 196/300
5s - loss: 0.6567 - acc: 0.8171 - val_loss: 0.5605 - val_acc: 0.8783
Epoch 197/300
5s - loss: 0.6520 - acc: 0.8375 - val_loss: 2.2950 - val_acc: 0.6870
Epoch 198/300
5s - loss: 0.6888 - acc: 0.8512 - val_loss: 0.4469 - val_acc: 0.8870
Epoch 199/300
5s - loss: 0.6378 - acc: 0.8416 - val_loss: 1.0384 - val_acc: 0.8609
Epoch 200/300
5s - loss: 0.7455 - acc: 0.8143 - val_loss: 0.7775 - val_acc: 0.8870
Epoch 201/300
5s - loss: 0.7191 - acc: 0.8137 - val_loss: 0.8348 - val_acc: 0.8348
Epoch 202/300
5s - loss: 0.7046 - acc: 0.8328 - val_loss: 0.6454 - val_acc: 0.8435
Epoch 203/300
5s - loss: 0.6787 - acc: 0.8553 - val_loss: 0.4261 - val_acc: 0.8783
Epoch 204/300
5s - loss: 0.6792 - acc: 0.8253 - val_loss: 0.6008 - val_acc: 0.8870
Epoch 205/300
5s - loss: 0.5410 - acc: 0.8635 - val_loss: 0.3195 - val_acc: 0.8522
Epoch 206/300
5s - loss: 0.5908 - acc: 0.8403 - val_loss: 0.6227 - val_acc: 0.8870
Epoch 207/300
5s - loss: 0.6776 - acc: 0.8328 - val_loss: 0.9981 - val_acc: 0.8609
Epoch 208/300
5s - loss: 0.5575 - acc: 0.8451 - val_loss: 0.8878 - val_acc: 0.8174
Epoch 209/300
5s - loss: 0.6492 - acc: 0.8287 - val_loss: 0.5844 - val_acc: 0.8435
Epoch 210/300
5s - loss: 0.7276 - acc: 0.8232 - val_loss: 2.0178 - val_acc: 0.7391
Epoch 211/300
5s - loss: 0.6951 - acc: 0.8150 - val_loss: 0.3125 - val_acc: 0.9304
Epoch 212/300
5s - loss: 0.6462 - acc: 0.8239 - val_loss: 0.2501 - val_acc: 0.9217
Epoch 213/300
5s - loss: 0.7851 - acc: 0.8280 - val_loss: 0.7544 - val_acc: 0.8261
Epoch 214/300
5s - loss: 0.6912 - acc: 0.8171 - val_loss: 0.4226 - val_acc: 0.8609
Epoch 215/300
5s - loss: 0.7582 - acc: 0.8164 - val_loss: 0.7355 - val_acc: 0.8783
Epoch 216/300
5s - loss: 0.7544 - acc: 0.8150 - val_loss: 0.3645 - val_acc: 0.9130
Epoch 217/300
5s - loss: 0.6798 - acc: 0.8253 - val_loss: 0.4770 - val_acc: 0.9043
Epoch 218/300
5s - loss: 0.6572 - acc: 0.8416 - val_loss: 0.4015 - val_acc: 0.9217
Epoch 219/300
5s - loss: 0.6532 - acc: 0.8205 - val_loss: 0.4733 - val_acc: 0.8609
Epoch 220/300
5s - loss: 0.7135 - acc: 0.8328 - val_loss: 1.0028 - val_acc: 0.6870
Epoch 221/300
5s - loss: 0.7752 - acc: 0.7857 - val_loss: 0.4921 - val_acc: 0.9217
Epoch 222/300
5s - loss: 0.6360 - acc: 0.8348 - val_loss: 0.5540 - val_acc: 0.8870
Epoch 223/300
5s - loss: 0.6162 - acc: 0.8410 - val_loss: 0.3750 - val_acc: 0.9043
Epoch 224/300
5s - loss: 0.6932 - acc: 0.8246 - val_loss: 0.4366 - val_acc: 0.8957
Epoch 225/300
5s - loss: 0.6870 - acc: 0.8137 - val_loss: 0.8217 - val_acc: 0.8522
Epoch 226/300
5s - loss: 0.5854 - acc: 0.8546 - val_loss: 0.3452 - val_acc: 0.9217
Epoch 227/300
5s - loss: 0.7247 - acc: 0.8041 - val_loss: 0.3178 - val_acc: 0.9391
Epoch 228/300
5s - loss: 0.6301 - acc: 0.8287 - val_loss: 0.8713 - val_acc: 0.8000
Epoch 229/300
5s - loss: 0.6216 - acc: 0.8403 - val_loss: 0.4043 - val_acc: 0.9043
Epoch 230/300
5s - loss: 0.6502 - acc: 0.8307 - val_loss: 0.7871 - val_acc: 0.8609
Epoch 231/300
5s - loss: 0.7121 - acc: 0.8205 - val_loss: 0.6703 - val_acc: 0.8870
Epoch 232/300
5s - loss: 0.7046 - acc: 0.8287 - val_loss: 0.7476 - val_acc: 0.8087
Epoch 233/300
5s - loss: 0.7161 - acc: 0.8341 - val_loss: 0.5237 - val_acc: 0.8522
Epoch 234/300
5s - loss: 0.7547 - acc: 0.8130 - val_loss: 0.4916 - val_acc: 0.8435
Epoch 235/300
5s - loss: 0.7119 - acc: 0.8239 - val_loss: 0.7388 - val_acc: 0.8870
Epoch 236/300
5s - loss: 0.7513 - acc: 0.8177 - val_loss: 0.6170 - val_acc: 0.8783
Epoch 237/300
5s - loss: 0.6227 - acc: 0.8369 - val_loss: 0.5285 - val_acc: 0.9130
Epoch 238/300
5s - loss: 0.6633 - acc: 0.8205 - val_loss: 0.3878 - val_acc: 0.8957
Epoch 239/300
5s - loss: 0.6289 - acc: 0.8259 - val_loss: 0.8347 - val_acc: 0.8783
Epoch 240/300
5s - loss: 0.6692 - acc: 0.8307 - val_loss: 0.5252 - val_acc: 0.8957
Epoch 241/300
5s - loss: 0.7604 - acc: 0.8137 - val_loss: 0.8316 - val_acc: 0.8870
Epoch 242/300
5s - loss: 0.7172 - acc: 0.8294 - val_loss: 0.4480 - val_acc: 0.8870
Epoch 243/300
5s - loss: 0.7991 - acc: 0.8116 - val_loss: 0.5476 - val_acc: 0.8609
Epoch 244/300
5s - loss: 0.6767 - acc: 0.8191 - val_loss: 1.1127 - val_acc: 0.7304
Epoch 245/300
5s - loss: 0.7096 - acc: 0.8334 - val_loss: 0.4009 - val_acc: 0.8957
Epoch 246/300
5s - loss: 0.6543 - acc: 0.8246 - val_loss: 0.4446 - val_acc: 0.9043
Epoch 247/300
5s - loss: 0.7449 - acc: 0.8389 - val_loss: 0.4134 - val_acc: 0.9304
Epoch 248/300
5s - loss: 0.6184 - acc: 0.8328 - val_loss: 0.5547 - val_acc: 0.8696
Epoch 249/300
5s - loss: 1.1189 - acc: 0.7925 - val_loss: 0.5885 - val_acc: 0.8783
Epoch 250/300
5s - loss: 0.5755 - acc: 0.8464 - val_loss: 0.6242 - val_acc: 0.8870
Epoch 251/300
5s - loss: 0.6711 - acc: 0.8321 - val_loss: 0.9369 - val_acc: 0.8522
Epoch 252/300
5s - loss: 0.6835 - acc: 0.8348 - val_loss: 0.5623 - val_acc: 0.9043
Epoch 253/300
5s - loss: 0.7441 - acc: 0.8096 - val_loss: 0.6602 - val_acc: 0.7739
Epoch 254/300
5s - loss: 0.7570 - acc: 0.8143 - val_loss: 0.3299 - val_acc: 0.9217
Epoch 255/300
5s - loss: 0.6447 - acc: 0.8437 - val_loss: 0.6165 - val_acc: 0.9130
Epoch 256/300
5s - loss: 0.8033 - acc: 0.8089 - val_loss: 0.7258 - val_acc: 0.8870
Epoch 257/300
5s - loss: 0.6577 - acc: 0.8362 - val_loss: 1.2498 - val_acc: 0.8348
Epoch 258/300
5s - loss: 0.7870 - acc: 0.8232 - val_loss: 0.4192 - val_acc: 0.8783
Epoch 259/300
5s - loss: 0.8599 - acc: 0.8218 - val_loss: 0.4167 - val_acc: 0.9217
Epoch 260/300
5s - loss: 0.6966 - acc: 0.8253 - val_loss: 0.4588 - val_acc: 0.9130
Epoch 261/300
5s - loss: 0.7761 - acc: 0.8082 - val_loss: 0.5618 - val_acc: 0.8957
Epoch 262/300
5s - loss: 0.8165 - acc: 0.7925 - val_loss: 0.3819 - val_acc: 0.9217
Epoch 263/300
5s - loss: 0.7584 - acc: 0.8273 - val_loss: 0.6080 - val_acc: 0.8348
Epoch 264/300
5s - loss: 0.7999 - acc: 0.8034 - val_loss: 0.7840 - val_acc: 0.8522
Epoch 265/300
5s - loss: 0.7785 - acc: 0.8273 - val_loss: 0.5600 - val_acc: 0.8870
Epoch 266/300
5s - loss: 0.6696 - acc: 0.8369 - val_loss: 0.4337 - val_acc: 0.9130
Epoch 267/300
5s - loss: 0.7453 - acc: 0.8232 - val_loss: 0.5885 - val_acc: 0.8783
Epoch 268/300
5s - loss: 0.6627 - acc: 0.8253 - val_loss: 0.3659 - val_acc: 0.9478
Epoch 269/300
5s - loss: 0.7910 - acc: 0.7993 - val_loss: 0.7319 - val_acc: 0.7826
Epoch 270/300
5s - loss: 0.6305 - acc: 0.8553 - val_loss: 0.7758 - val_acc: 0.8522
Epoch 271/300
5s - loss: 0.6912 - acc: 0.8314 - val_loss: 0.2907 - val_acc: 0.9391
Epoch 272/300
5s - loss: 0.7383 - acc: 0.8348 - val_loss: 0.3576 - val_acc: 0.9043
Epoch 273/300
5s - loss: 0.8251 - acc: 0.8096 - val_loss: 0.4349 - val_acc: 0.9217
Epoch 274/300
5s - loss: 0.6688 - acc: 0.8246 - val_loss: 0.2675 - val_acc: 0.9217
Epoch 275/300
5s - loss: 0.7670 - acc: 0.8096 - val_loss: 0.4338 - val_acc: 0.8870
Epoch 276/300
5s - loss: 0.8175 - acc: 0.7980 - val_loss: 0.3801 - val_acc: 0.9304
Epoch 277/300
5s - loss: 0.7770 - acc: 0.8143 - val_loss: 0.4906 - val_acc: 0.9043
Epoch 278/300
5s - loss: 0.7279 - acc: 0.8239 - val_loss: 0.5485 - val_acc: 0.9043
Epoch 279/300
5s - loss: 0.7637 - acc: 0.8225 - val_loss: 2.0538 - val_acc: 0.6348
Epoch 280/300
5s - loss: 0.7631 - acc: 0.8143 - val_loss: 0.3194 - val_acc: 0.9391
Epoch 281/300
5s - loss: 0.7391 - acc: 0.8143 - val_loss: 0.6565 - val_acc: 0.8783
Epoch 282/300
5s - loss: 0.8909 - acc: 0.7939 - val_loss: 0.4704 - val_acc: 0.8696
Epoch 283/300
5s - loss: 0.6623 - acc: 0.8498 - val_loss: 0.7327 - val_acc: 0.8435
Epoch 284/300
5s - loss: 0.7439 - acc: 0.8259 - val_loss: 0.8191 - val_acc: 0.8609
Epoch 285/300
5s - loss: 0.7971 - acc: 0.8246 - val_loss: 0.3005 - val_acc: 0.9217
Epoch 286/300
5s - loss: 0.7197 - acc: 0.8164 - val_loss: 0.5738 - val_acc: 0.8696
Epoch 287/300
5s - loss: 0.6525 - acc: 0.8382 - val_loss: 1.1918 - val_acc: 0.8696
Epoch 288/300
5s - loss: 0.7626 - acc: 0.8164 - val_loss: 0.7273 - val_acc: 0.8435
Epoch 289/300
5s - loss: 0.7563 - acc: 0.8041 - val_loss: 0.8045 - val_acc: 0.8522
Epoch 290/300
5s - loss: 0.7025 - acc: 0.8334 - val_loss: 1.3416 - val_acc: 0.8348
Epoch 291/300
5s - loss: 0.7067 - acc: 0.8321 - val_loss: 0.6363 - val_acc: 0.8696
Epoch 292/300
5s - loss: 0.6598 - acc: 0.8259 - val_loss: 0.8977 - val_acc: 0.8435
Epoch 293/300
5s - loss: 0.8956 - acc: 0.7904 - val_loss: 0.8312 - val_acc: 0.8609
Epoch 294/300
5s - loss: 0.8084 - acc: 0.8109 - val_loss: 0.4114 - val_acc: 0.9043
Epoch 295/300
5s - loss: 0.7266 - acc: 0.8287 - val_loss: 0.4892 - val_acc: 0.8957
Epoch 296/300
5s - loss: 0.9013 - acc: 0.7638 - val_loss: 0.7304 - val_acc: 0.8609
Epoch 297/300
5s - loss: 0.7096 - acc: 0.8225 - val_loss: 0.2842 - val_acc: 0.9478
Epoch 298/300
5s - loss: 0.7898 - acc: 0.8246 - val_loss: 1.4942 - val_acc: 0.8435
Epoch 299/300
5s - loss: 1.0332 - acc: 0.8014 - val_loss: 0.4608 - val_acc: 0.8696
Epoch 300/300
5s - loss: 0.8477 - acc: 0.7795 - val_loss: 0.2669 - val_acc: 0.9304
 96/115 [========================&gt;.....] - ETA: 0sTest score: 0.266883344236
Test accuracy: 0.930434789865
FILLBORDERS
___________
Epoch 1/300
2s - loss: 3.4808 - acc: 0.0474 - val_loss: 3.0876 - val_acc: 0.0783
Epoch 2/300
2s - loss: 3.1493 - acc: 0.0667 - val_loss: 3.0884 - val_acc: 0.0783
Epoch 3/300
2s - loss: 3.0488 - acc: 0.0696 - val_loss: 3.1346 - val_acc: 0.0609
Epoch 4/300
2s - loss: 2.9504 - acc: 0.0948 - val_loss: 2.8458 - val_acc: 0.0783
Epoch 5/300
2s - loss: 2.9176 - acc: 0.1081 - val_loss: 2.8093 - val_acc: 0.1130
Epoch 6/300
2s - loss: 2.7751 - acc: 0.1289 - val_loss: 2.5535 - val_acc: 0.1304
Epoch 7/300
2s - loss: 2.7520 - acc: 0.1319 - val_loss: 2.4391 - val_acc: 0.2435
Epoch 8/300
2s - loss: 2.6566 - acc: 0.1659 - val_loss: 2.8395 - val_acc: 0.1391
Epoch 9/300
2s - loss: 2.5563 - acc: 0.1778 - val_loss: 3.4047 - val_acc: 0.0957
Epoch 10/300
2s - loss: 2.5658 - acc: 0.1793 - val_loss: 4.2604 - val_acc: 0.0522
Epoch 11/300
2s - loss: 2.4602 - acc: 0.2741 - val_loss: 3.2687 - val_acc: 0.1913
Epoch 12/300
2s - loss: 2.3769 - acc: 0.2519 - val_loss: 2.1550 - val_acc: 0.3739
Epoch 13/300
2s - loss: 2.1990 - acc: 0.2726 - val_loss: 5.0457 - val_acc: 0.1478
Epoch 14/300
2s - loss: 2.3979 - acc: 0.2815 - val_loss: 1.9024 - val_acc: 0.3913
Epoch 15/300
2s - loss: 2.0195 - acc: 0.3304 - val_loss: 2.2312 - val_acc: 0.2783
Epoch 16/300
2s - loss: 2.0585 - acc: 0.3378 - val_loss: 3.0854 - val_acc: 0.1739
Epoch 17/300
2s - loss: 1.9869 - acc: 0.3496 - val_loss: 2.2596 - val_acc: 0.3217
Epoch 18/300
2s - loss: 2.0093 - acc: 0.3496 - val_loss: 2.1993 - val_acc: 0.3391
Epoch 19/300
2s - loss: 1.7997 - acc: 0.4252 - val_loss: 1.6544 - val_acc: 0.4957
Epoch 20/300
2s - loss: 1.7629 - acc: 0.4207 - val_loss: 1.6853 - val_acc: 0.4522
Epoch 21/300
2s - loss: 1.7686 - acc: 0.3911 - val_loss: 2.7616 - val_acc: 0.1913
Epoch 22/300
2s - loss: 1.6652 - acc: 0.4622 - val_loss: 1.8510 - val_acc: 0.4783
Epoch 23/300
2s - loss: 1.6916 - acc: 0.4430 - val_loss: 2.4884 - val_acc: 0.3130
Epoch 24/300
2s - loss: 1.6694 - acc: 0.4681 - val_loss: 2.8655 - val_acc: 0.2000
Epoch 25/300
2s - loss: 1.4836 - acc: 0.5111 - val_loss: 1.6047 - val_acc: 0.5304
Epoch 26/300
2s - loss: 1.4471 - acc: 0.4874 - val_loss: 2.0800 - val_acc: 0.3913
Epoch 27/300
2s - loss: 1.4871 - acc: 0.5274 - val_loss: 1.5077 - val_acc: 0.5739
Epoch 28/300
2s - loss: 1.4081 - acc: 0.5215 - val_loss: 2.9706 - val_acc: 0.2609
Epoch 29/300
2s - loss: 1.5308 - acc: 0.5096 - val_loss: 1.6917 - val_acc: 0.4957
Epoch 30/300
2s - loss: 1.3628 - acc: 0.5274 - val_loss: 2.0270 - val_acc: 0.4261
Epoch 31/300
2s - loss: 1.4333 - acc: 0.5437 - val_loss: 1.3852 - val_acc: 0.5217
Epoch 32/300
2s - loss: 1.4408 - acc: 0.5496 - val_loss: 1.4557 - val_acc: 0.5217
Epoch 33/300
2s - loss: 1.2166 - acc: 0.5733 - val_loss: 1.8425 - val_acc: 0.3826
Epoch 34/300
2s - loss: 1.2594 - acc: 0.5793 - val_loss: 1.3704 - val_acc: 0.5652
Epoch 35/300
2s - loss: 1.3277 - acc: 0.5689 - val_loss: 1.1997 - val_acc: 0.6174
Epoch 36/300
2s - loss: 1.1534 - acc: 0.6163 - val_loss: 1.1358 - val_acc: 0.6609
Epoch 37/300
2s - loss: 1.1473 - acc: 0.6030 - val_loss: 3.1122 - val_acc: 0.3565
Epoch 38/300
2s - loss: 1.2941 - acc: 0.5896 - val_loss: 1.1978 - val_acc: 0.6261
Epoch 39/300
2s - loss: 1.1921 - acc: 0.6119 - val_loss: 1.6728 - val_acc: 0.4783
Epoch 40/300
2s - loss: 1.1076 - acc: 0.6104 - val_loss: 2.1414 - val_acc: 0.4087
Epoch 41/300
2s - loss: 1.1538 - acc: 0.6074 - val_loss: 1.7015 - val_acc: 0.4696
Epoch 42/300
2s - loss: 1.0272 - acc: 0.6578 - val_loss: 3.0268 - val_acc: 0.3304
Epoch 43/300
2s - loss: 1.1265 - acc: 0.6519 - val_loss: 1.5011 - val_acc: 0.5739
Epoch 44/300
2s - loss: 1.0885 - acc: 0.6593 - val_loss: 1.0243 - val_acc: 0.6696
Epoch 45/300
2s - loss: 0.9705 - acc: 0.6756 - val_loss: 2.0738 - val_acc: 0.5130
Epoch 46/300
2s - loss: 0.9956 - acc: 0.6919 - val_loss: 1.2972 - val_acc: 0.5739
Epoch 47/300
2s - loss: 0.9769 - acc: 0.6741 - val_loss: 1.2051 - val_acc: 0.6348
Epoch 48/300
2s - loss: 1.0354 - acc: 0.6444 - val_loss: 1.0150 - val_acc: 0.7130
Epoch 49/300
2s - loss: 1.0030 - acc: 0.6430 - val_loss: 1.1437 - val_acc: 0.6783
Epoch 50/300
2s - loss: 0.9581 - acc: 0.6785 - val_loss: 0.9120 - val_acc: 0.7478
Epoch 51/300
2s - loss: 0.9176 - acc: 0.7007 - val_loss: 2.8299 - val_acc: 0.3739
Epoch 52/300
2s - loss: 0.9083 - acc: 0.7096 - val_loss: 1.0569 - val_acc: 0.7391
Epoch 53/300
2s - loss: 0.8938 - acc: 0.7067 - val_loss: 0.9654 - val_acc: 0.7391
Epoch 54/300
2s - loss: 0.9787 - acc: 0.6726 - val_loss: 1.6937 - val_acc: 0.5478
Epoch 55/300
2s - loss: 0.9277 - acc: 0.6978 - val_loss: 2.1385 - val_acc: 0.4261
Epoch 56/300
2s - loss: 0.9759 - acc: 0.6978 - val_loss: 0.8068 - val_acc: 0.7478
Epoch 57/300
2s - loss: 0.8018 - acc: 0.7319 - val_loss: 0.9881 - val_acc: 0.7478
Epoch 58/300
2s - loss: 0.8073 - acc: 0.7452 - val_loss: 1.9997 - val_acc: 0.5043
Epoch 59/300
2s - loss: 0.8877 - acc: 0.7096 - val_loss: 0.8225 - val_acc: 0.7652
Epoch 60/300
2s - loss: 0.8614 - acc: 0.7141 - val_loss: 1.4665 - val_acc: 0.5826
Epoch 61/300
2s - loss: 0.8013 - acc: 0.7407 - val_loss: 1.1547 - val_acc: 0.7043
Epoch 62/300
2s - loss: 0.8328 - acc: 0.7467 - val_loss: 0.8594 - val_acc: 0.7130
Epoch 63/300
2s - loss: 0.8121 - acc: 0.7304 - val_loss: 0.9953 - val_acc: 0.7043
Epoch 64/300
2s - loss: 0.6341 - acc: 0.7704 - val_loss: 1.1481 - val_acc: 0.6957
Epoch 65/300
2s - loss: 0.7400 - acc: 0.7526 - val_loss: 1.2650 - val_acc: 0.6522
Epoch 66/300
2s - loss: 0.6619 - acc: 0.8000 - val_loss: 1.2083 - val_acc: 0.7043
Epoch 67/300
2s - loss: 0.6898 - acc: 0.7704 - val_loss: 0.9027 - val_acc: 0.6957
Epoch 68/300
2s - loss: 0.7339 - acc: 0.7570 - val_loss: 1.2723 - val_acc: 0.6522
Epoch 69/300
2s - loss: 0.6154 - acc: 0.7941 - val_loss: 0.9762 - val_acc: 0.7391
Epoch 70/300
2s - loss: 0.7589 - acc: 0.7570 - val_loss: 0.8491 - val_acc: 0.7304
Epoch 71/300
2s - loss: 0.6644 - acc: 0.7881 - val_loss: 0.9333 - val_acc: 0.7478
Epoch 72/300
2s - loss: 0.5373 - acc: 0.8000 - val_loss: 1.2197 - val_acc: 0.7130
Epoch 73/300
2s - loss: 0.7072 - acc: 0.7644 - val_loss: 1.0713 - val_acc: 0.7391
Epoch 74/300
2s - loss: 0.5692 - acc: 0.8133 - val_loss: 1.8274 - val_acc: 0.5826
Epoch 75/300
2s - loss: 0.7028 - acc: 0.7763 - val_loss: 1.2551 - val_acc: 0.6696
Epoch 76/300
2s - loss: 0.6347 - acc: 0.7926 - val_loss: 0.8254 - val_acc: 0.7739
Epoch 77/300
2s - loss: 0.6419 - acc: 0.7896 - val_loss: 1.1412 - val_acc: 0.6696
Epoch 78/300
2s - loss: 0.6028 - acc: 0.7970 - val_loss: 1.2683 - val_acc: 0.6174
Epoch 79/300
3s - loss: 0.6055 - acc: 0.7970 - val_loss: 1.2775 - val_acc: 0.6870
Epoch 80/300
2s - loss: 0.6248 - acc: 0.8030 - val_loss: 1.4114 - val_acc: 0.6870
Epoch 81/300
2s - loss: 0.6305 - acc: 0.8000 - val_loss: 0.7600 - val_acc: 0.7826
Epoch 82/300
2s - loss: 0.5854 - acc: 0.8059 - val_loss: 1.0165 - val_acc: 0.7391
Epoch 83/300
2s - loss: 0.6292 - acc: 0.7941 - val_loss: 1.0158 - val_acc: 0.7043
Epoch 84/300
2s - loss: 0.5904 - acc: 0.8074 - val_loss: 0.9018 - val_acc: 0.7391
Epoch 85/300
2s - loss: 0.4930 - acc: 0.8341 - val_loss: 2.0701 - val_acc: 0.5391
Epoch 86/300
2s - loss: 0.6886 - acc: 0.7733 - val_loss: 2.0968 - val_acc: 0.5304
Epoch 87/300
2s - loss: 0.5298 - acc: 0.8252 - val_loss: 1.9635 - val_acc: 0.4696
Epoch 88/300
2s - loss: 0.7964 - acc: 0.7393 - val_loss: 0.9198 - val_acc: 0.7130
Epoch 89/300
2s - loss: 0.4676 - acc: 0.8444 - val_loss: 0.6967 - val_acc: 0.8000
Epoch 90/300
2s - loss: 0.5560 - acc: 0.8207 - val_loss: 1.0713 - val_acc: 0.7130
Epoch 91/300
2s - loss: 0.5432 - acc: 0.8104 - val_loss: 1.0837 - val_acc: 0.7478
Epoch 92/300
2s - loss: 0.5750 - acc: 0.8074 - val_loss: 0.8606 - val_acc: 0.7652
Epoch 93/300
2s - loss: 0.5456 - acc: 0.8163 - val_loss: 1.3913 - val_acc: 0.7130
Epoch 94/300
2s - loss: 0.5892 - acc: 0.8193 - val_loss: 0.6734 - val_acc: 0.8348
Epoch 95/300
2s - loss: 0.5542 - acc: 0.8044 - val_loss: 0.7471 - val_acc: 0.8000
Epoch 96/300
2s - loss: 0.4787 - acc: 0.8326 - val_loss: 1.4139 - val_acc: 0.6783
Epoch 97/300
2s - loss: 0.5277 - acc: 0.8178 - val_loss: 0.8549 - val_acc: 0.7478
Epoch 98/300
2s - loss: 0.5111 - acc: 0.8459 - val_loss: 2.0521 - val_acc: 0.5217
Epoch 99/300
2s - loss: 0.5959 - acc: 0.8178 - val_loss: 0.8947 - val_acc: 0.8087
Epoch 100/300
2s - loss: 0.5781 - acc: 0.8193 - val_loss: 2.7858 - val_acc: 0.6000
Epoch 101/300
2s - loss: 0.4849 - acc: 0.8430 - val_loss: 0.7523 - val_acc: 0.8174
Epoch 102/300
2s - loss: 0.5740 - acc: 0.8178 - val_loss: 1.0026 - val_acc: 0.7391
Epoch 103/300
2s - loss: 0.4623 - acc: 0.8519 - val_loss: 0.6739 - val_acc: 0.8174
Epoch 104/300
2s - loss: 0.4308 - acc: 0.8563 - val_loss: 1.3144 - val_acc: 0.6783
Epoch 105/300
2s - loss: 0.6547 - acc: 0.8207 - val_loss: 0.9259 - val_acc: 0.7652
Epoch 106/300
2s - loss: 0.5031 - acc: 0.8326 - val_loss: 0.8570 - val_acc: 0.7478
Epoch 107/300
2s - loss: 0.4618 - acc: 0.8504 - val_loss: 0.9909 - val_acc: 0.7826
Epoch 108/300
2s - loss: 0.5000 - acc: 0.8311 - val_loss: 0.7389 - val_acc: 0.8348
Epoch 109/300
2s - loss: 0.3974 - acc: 0.8711 - val_loss: 0.7483 - val_acc: 0.8348
Epoch 110/300
2s - loss: 0.4856 - acc: 0.8607 - val_loss: 0.6670 - val_acc: 0.8174
Epoch 111/300
2s - loss: 0.5806 - acc: 0.8267 - val_loss: 1.2131 - val_acc: 0.7913
Epoch 112/300
2s - loss: 0.5677 - acc: 0.8341 - val_loss: 0.9006 - val_acc: 0.7304
Epoch 113/300
2s - loss: 0.4289 - acc: 0.8548 - val_loss: 1.9882 - val_acc: 0.6000
Epoch 114/300
2s - loss: 0.4468 - acc: 0.8667 - val_loss: 1.2375 - val_acc: 0.6696
Epoch 115/300
2s - loss: 0.5551 - acc: 0.8400 - val_loss: 4.0332 - val_acc: 0.4000
Epoch 116/300
2s - loss: 0.6597 - acc: 0.8430 - val_loss: 0.7121 - val_acc: 0.8435
Epoch 117/300
2s - loss: 0.4149 - acc: 0.8667 - val_loss: 2.2995 - val_acc: 0.6087
Epoch 118/300
2s - loss: 0.3935 - acc: 0.8622 - val_loss: 1.6385 - val_acc: 0.6696
Epoch 119/300
2s - loss: 0.5013 - acc: 0.8415 - val_loss: 2.0563 - val_acc: 0.6522
Epoch 120/300
2s - loss: 0.5736 - acc: 0.8489 - val_loss: 1.3525 - val_acc: 0.7043
Epoch 121/300
2s - loss: 0.4533 - acc: 0.8489 - val_loss: 0.8395 - val_acc: 0.8000
Epoch 122/300
2s - loss: 0.4244 - acc: 0.8593 - val_loss: 1.1274 - val_acc: 0.7565
Epoch 123/300
2s - loss: 0.4576 - acc: 0.8504 - val_loss: 0.9523 - val_acc: 0.8174
Epoch 124/300
2s - loss: 0.6525 - acc: 0.8356 - val_loss: 0.6905 - val_acc: 0.8261
Epoch 125/300
2s - loss: 0.3152 - acc: 0.8993 - val_loss: 0.9233 - val_acc: 0.7826
Epoch 126/300
2s - loss: 0.4920 - acc: 0.8370 - val_loss: 0.7954 - val_acc: 0.8000
Epoch 127/300
2s - loss: 0.5211 - acc: 0.8444 - val_loss: 0.9370 - val_acc: 0.7478
Epoch 128/300
2s - loss: 0.4528 - acc: 0.8415 - val_loss: 0.7728 - val_acc: 0.8435
Epoch 129/300
2s - loss: 0.3722 - acc: 0.8711 - val_loss: 2.2184 - val_acc: 0.5913
Epoch 130/300
2s - loss: 0.3965 - acc: 0.8726 - val_loss: 1.8676 - val_acc: 0.6522
Epoch 131/300
2s - loss: 0.4435 - acc: 0.8652 - val_loss: 2.8966 - val_acc: 0.5652
Epoch 132/300
2s - loss: 0.5414 - acc: 0.8756 - val_loss: 0.7967 - val_acc: 0.7739
Epoch 133/300
2s - loss: 0.3762 - acc: 0.8667 - val_loss: 0.8097 - val_acc: 0.8261
Epoch 134/300
2s - loss: 0.4526 - acc: 0.8696 - val_loss: 0.8376 - val_acc: 0.8261
Epoch 135/300
2s - loss: 0.3819 - acc: 0.8815 - val_loss: 1.0356 - val_acc: 0.7565
Epoch 136/300
2s - loss: 0.3886 - acc: 0.8681 - val_loss: 2.1825 - val_acc: 0.6696
Epoch 137/300
2s - loss: 0.5020 - acc: 0.8459 - val_loss: 1.6734 - val_acc: 0.6522
Epoch 138/300
2s - loss: 0.4395 - acc: 0.8667 - val_loss: 1.0925 - val_acc: 0.7826
Epoch 139/300
2s - loss: 0.4540 - acc: 0.8548 - val_loss: 2.5404 - val_acc: 0.6261
Epoch 140/300
2s - loss: 0.4910 - acc: 0.8533 - val_loss: 0.8907 - val_acc: 0.8000
Epoch 141/300
2s - loss: 0.4148 - acc: 0.8785 - val_loss: 0.6952 - val_acc: 0.8348
Epoch 142/300
2s - loss: 0.4262 - acc: 0.8756 - val_loss: 1.0685 - val_acc: 0.8174
Epoch 143/300
2s - loss: 0.4732 - acc: 0.8489 - val_loss: 1.5426 - val_acc: 0.6522
Epoch 144/300
2s - loss: 0.3913 - acc: 0.8696 - val_loss: 1.2246 - val_acc: 0.7913
Epoch 145/300
2s - loss: 0.4893 - acc: 0.8726 - val_loss: 0.7820 - val_acc: 0.8348
Epoch 146/300
2s - loss: 0.4232 - acc: 0.8785 - val_loss: 1.3779 - val_acc: 0.7130
Epoch 147/300
2s - loss: 0.3536 - acc: 0.8830 - val_loss: 0.9520 - val_acc: 0.7826
Epoch 148/300
2s - loss: 0.3826 - acc: 0.8741 - val_loss: 0.8788 - val_acc: 0.7826
Epoch 149/300
2s - loss: 0.4233 - acc: 0.8652 - val_loss: 0.8361 - val_acc: 0.8174
Epoch 150/300
2s - loss: 0.3857 - acc: 0.8830 - val_loss: 3.1630 - val_acc: 0.5913
Epoch 151/300
2s - loss: 0.4173 - acc: 0.8637 - val_loss: 1.2162 - val_acc: 0.7739
Epoch 152/300
2s - loss: 0.5060 - acc: 0.8563 - val_loss: 0.8216 - val_acc: 0.8348
Epoch 153/300
2s - loss: 0.3985 - acc: 0.8622 - val_loss: 1.3456 - val_acc: 0.7565
Epoch 154/300
2s - loss: 0.2904 - acc: 0.9052 - val_loss: 1.4378 - val_acc: 0.7826
Epoch 155/300
2s - loss: 0.4231 - acc: 0.8770 - val_loss: 0.9772 - val_acc: 0.8174
Epoch 156/300
2s - loss: 0.4503 - acc: 0.8741 - val_loss: 0.6382 - val_acc: 0.8261
Epoch 157/300
2s - loss: 0.3356 - acc: 0.8993 - val_loss: 2.2031 - val_acc: 0.6696
Epoch 158/300
2s - loss: 0.5540 - acc: 0.8548 - val_loss: 1.2591 - val_acc: 0.7826
Epoch 159/300
2s - loss: 0.3492 - acc: 0.8963 - val_loss: 0.7510 - val_acc: 0.8261
Epoch 160/300
2s - loss: 0.4462 - acc: 0.8874 - val_loss: 1.0261 - val_acc: 0.7913
Epoch 161/300
2s - loss: 0.4949 - acc: 0.8504 - val_loss: 0.5240 - val_acc: 0.8696
Epoch 162/300
2s - loss: 0.3828 - acc: 0.8711 - val_loss: 0.6787 - val_acc: 0.8522
Epoch 163/300
2s - loss: 0.5384 - acc: 0.8652 - val_loss: 1.1254 - val_acc: 0.7739
Epoch 164/300
2s - loss: 0.3244 - acc: 0.9126 - val_loss: 1.6981 - val_acc: 0.6957
Epoch 165/300
2s - loss: 0.5117 - acc: 0.8563 - val_loss: 0.9311 - val_acc: 0.7826
Epoch 166/300
2s - loss: 0.4658 - acc: 0.8652 - val_loss: 1.4275 - val_acc: 0.7565
Epoch 167/300
2s - loss: 0.5189 - acc: 0.8681 - val_loss: 1.0554 - val_acc: 0.8174
Epoch 168/300
2s - loss: 0.2777 - acc: 0.9200 - val_loss: 0.9203 - val_acc: 0.8174
Epoch 169/300
2s - loss: 0.4071 - acc: 0.8785 - val_loss: 1.3426 - val_acc: 0.7391
Epoch 170/300
2s - loss: 0.3341 - acc: 0.8830 - val_loss: 1.0872 - val_acc: 0.7913
Epoch 171/300
2s - loss: 0.4722 - acc: 0.8844 - val_loss: 0.9780 - val_acc: 0.8435
Epoch 172/300
2s - loss: 0.3394 - acc: 0.9007 - val_loss: 1.3691 - val_acc: 0.7913
Epoch 173/300
2s - loss: 0.4937 - acc: 0.8741 - val_loss: 1.6318 - val_acc: 0.7391
Epoch 174/300
2s - loss: 0.3704 - acc: 0.8904 - val_loss: 1.2040 - val_acc: 0.6957
Epoch 175/300
2s - loss: 0.3173 - acc: 0.9067 - val_loss: 1.9412 - val_acc: 0.7304
Epoch 176/300
2s - loss: 0.5330 - acc: 0.8667 - val_loss: 2.9788 - val_acc: 0.4783
Epoch 177/300
2s - loss: 0.5371 - acc: 0.8578 - val_loss: 0.9845 - val_acc: 0.8087
Epoch 178/300
2s - loss: 0.3255 - acc: 0.8993 - val_loss: 0.9242 - val_acc: 0.7652
Epoch 179/300
2s - loss: 0.5228 - acc: 0.8622 - val_loss: 1.1710 - val_acc: 0.7217
Epoch 180/300
2s - loss: 0.3552 - acc: 0.8800 - val_loss: 5.9602 - val_acc: 0.3739
Epoch 181/300
2s - loss: 0.7026 - acc: 0.8444 - val_loss: 0.5758 - val_acc: 0.8522
Epoch 182/300
2s - loss: 0.4141 - acc: 0.8874 - val_loss: 0.7285 - val_acc: 0.8435
Epoch 183/300
2s - loss: 0.4230 - acc: 0.8607 - val_loss: 1.0769 - val_acc: 0.7739
Epoch 184/300
2s - loss: 0.3367 - acc: 0.8963 - val_loss: 1.0658 - val_acc: 0.8174
Epoch 185/300
2s - loss: 0.4088 - acc: 0.8800 - val_loss: 1.6157 - val_acc: 0.6696
Epoch 186/300
2s - loss: 0.4945 - acc: 0.8696 - val_loss: 1.5860 - val_acc: 0.7304
Epoch 187/300
2s - loss: 0.3675 - acc: 0.8904 - val_loss: 1.0723 - val_acc: 0.8087
Epoch 188/300
2s - loss: 0.4143 - acc: 0.8919 - val_loss: 1.4819 - val_acc: 0.8087
Epoch 189/300
2s - loss: 0.4222 - acc: 0.8815 - val_loss: 0.9604 - val_acc: 0.7826
Epoch 190/300
2s - loss: 0.3082 - acc: 0.9067 - val_loss: 1.3005 - val_acc: 0.7304
Epoch 191/300
2s - loss: 0.5712 - acc: 0.8578 - val_loss: 1.1582 - val_acc: 0.7217
Epoch 192/300
2s - loss: 0.4176 - acc: 0.8800 - val_loss: 3.0581 - val_acc: 0.6348
Epoch 193/300
2s - loss: 0.3715 - acc: 0.9096 - val_loss: 1.6908 - val_acc: 0.6957
Epoch 194/300
2s - loss: 0.5117 - acc: 0.8607 - val_loss: 1.3816 - val_acc: 0.6783
Epoch 195/300
2s - loss: 0.4543 - acc: 0.8770 - val_loss: 2.4180 - val_acc: 0.7043
Epoch 196/300
2s - loss: 0.3404 - acc: 0.9096 - val_loss: 1.1425 - val_acc: 0.8087
Epoch 197/300
2s - loss: 0.4242 - acc: 0.9022 - val_loss: 1.6700 - val_acc: 0.7130
Epoch 198/300
2s - loss: 0.4548 - acc: 0.8741 - val_loss: 0.9411 - val_acc: 0.8087
Epoch 199/300
2s - loss: 0.3494 - acc: 0.8874 - val_loss: 0.8177 - val_acc: 0.8261
Epoch 200/300
2s - loss: 0.4518 - acc: 0.8815 - val_loss: 0.8604 - val_acc: 0.8261
Epoch 201/300
2s - loss: 0.5175 - acc: 0.8830 - val_loss: 1.3403 - val_acc: 0.7391
Epoch 202/300
2s - loss: 0.4110 - acc: 0.8741 - val_loss: 2.2721 - val_acc: 0.6522
Epoch 203/300
2s - loss: 0.3575 - acc: 0.9022 - val_loss: 0.9180 - val_acc: 0.8435
Epoch 204/300
2s - loss: 0.4728 - acc: 0.8696 - val_loss: 0.8777 - val_acc: 0.8261
Epoch 205/300
2s - loss: 0.3082 - acc: 0.8919 - val_loss: 2.1396 - val_acc: 0.7304
Epoch 206/300
2s - loss: 0.5355 - acc: 0.8756 - val_loss: 0.9519 - val_acc: 0.8348
Epoch 207/300
2s - loss: 0.2718 - acc: 0.9081 - val_loss: 1.5171 - val_acc: 0.6261
Epoch 208/300
2s - loss: 0.5016 - acc: 0.8593 - val_loss: 0.8560 - val_acc: 0.8174
Epoch 209/300
2s - loss: 0.4679 - acc: 0.8667 - val_loss: 1.3074 - val_acc: 0.7826
Epoch 210/300
2s - loss: 0.3056 - acc: 0.8963 - val_loss: 0.8960 - val_acc: 0.8348
Epoch 211/300
2s - loss: 0.4182 - acc: 0.8815 - val_loss: 0.6588 - val_acc: 0.8522
Epoch 212/300
2s - loss: 0.4925 - acc: 0.8741 - val_loss: 0.8850 - val_acc: 0.8348
Epoch 213/300
2s - loss: 0.4824 - acc: 0.8593 - val_loss: 1.0763 - val_acc: 0.7826
Epoch 214/300
2s - loss: 0.3278 - acc: 0.9126 - val_loss: 1.1000 - val_acc: 0.8261
Epoch 215/300
2s - loss: 0.2977 - acc: 0.9170 - val_loss: 0.8462 - val_acc: 0.8609
Epoch 216/300
2s - loss: 0.3943 - acc: 0.9022 - val_loss: 0.8531 - val_acc: 0.8087
Epoch 217/300
2s - loss: 0.5018 - acc: 0.8756 - val_loss: 1.0878 - val_acc: 0.8000
Epoch 218/300
2s - loss: 0.3430 - acc: 0.8904 - val_loss: 0.9235 - val_acc: 0.8261
Epoch 219/300
2s - loss: 0.4161 - acc: 0.8874 - val_loss: 1.4248 - val_acc: 0.7652
Epoch 220/300
2s - loss: 0.3165 - acc: 0.9052 - val_loss: 1.0970 - val_acc: 0.8087
Epoch 221/300
2s - loss: 0.3666 - acc: 0.8919 - val_loss: 1.5254 - val_acc: 0.7217
Epoch 222/300
2s - loss: 0.4775 - acc: 0.8593 - val_loss: 3.0001 - val_acc: 0.7130
Epoch 223/300
2s - loss: 0.6917 - acc: 0.8519 - val_loss: 0.9171 - val_acc: 0.8174
Epoch 224/300
2s - loss: 0.3347 - acc: 0.8993 - val_loss: 1.2236 - val_acc: 0.8174
Epoch 225/300
2s - loss: 0.3086 - acc: 0.9111 - val_loss: 0.9900 - val_acc: 0.8000
Epoch 226/300
2s - loss: 0.4777 - acc: 0.8726 - val_loss: 1.0969 - val_acc: 0.7913
Epoch 227/300
2s - loss: 0.4725 - acc: 0.8667 - val_loss: 1.2679 - val_acc: 0.7913
Epoch 228/300
2s - loss: 0.3479 - acc: 0.8978 - val_loss: 2.7529 - val_acc: 0.6609
Epoch 229/300
2s - loss: 0.4516 - acc: 0.8904 - val_loss: 2.8615 - val_acc: 0.5043
Epoch 230/300
2s - loss: 0.6406 - acc: 0.8696 - val_loss: 0.8277 - val_acc: 0.8435
Epoch 231/300
2s - loss: 0.4222 - acc: 0.8844 - val_loss: 1.0819 - val_acc: 0.8087
Epoch 232/300
2s - loss: 0.4395 - acc: 0.8711 - val_loss: 1.4293 - val_acc: 0.7826
Epoch 233/300
2s - loss: 0.5046 - acc: 0.8726 - val_loss: 1.4586 - val_acc: 0.7043
Epoch 234/300
2s - loss: 0.3423 - acc: 0.8948 - val_loss: 1.1644 - val_acc: 0.7826
Epoch 235/300
2s - loss: 0.4413 - acc: 0.8770 - val_loss: 1.0079 - val_acc: 0.8174
Epoch 236/300
2s - loss: 0.5348 - acc: 0.8622 - val_loss: 1.1090 - val_acc: 0.8087
Epoch 237/300
2s - loss: 0.4121 - acc: 0.8830 - val_loss: 0.9913 - val_acc: 0.8261
Epoch 238/300
2s - loss: 0.2539 - acc: 0.9200 - val_loss: 3.1150 - val_acc: 0.6783
Epoch 239/300
2s - loss: 0.6546 - acc: 0.8548 - val_loss: 1.1953 - val_acc: 0.7652
Epoch 240/300
2s - loss: 0.3208 - acc: 0.8948 - val_loss: 1.2097 - val_acc: 0.8000
Epoch 241/300
2s - loss: 0.4367 - acc: 0.9007 - val_loss: 1.4492 - val_acc: 0.7913
Epoch 242/300
2s - loss: 0.5046 - acc: 0.8815 - val_loss: 0.9471 - val_acc: 0.8261
Epoch 243/300
2s - loss: 0.4885 - acc: 0.8933 - val_loss: 1.2359 - val_acc: 0.8087
Epoch 244/300
2s - loss: 0.3328 - acc: 0.9067 - val_loss: 1.0731 - val_acc: 0.8087
Epoch 245/300
2s - loss: 0.4233 - acc: 0.8741 - val_loss: 1.0326 - val_acc: 0.8435
Epoch 246/300
2s - loss: 0.3363 - acc: 0.8978 - val_loss: 0.8294 - val_acc: 0.8435
Epoch 247/300
2s - loss: 0.5871 - acc: 0.8741 - val_loss: 0.8020 - val_acc: 0.8522
Epoch 248/300
2s - loss: 0.3873 - acc: 0.8948 - val_loss: 0.8802 - val_acc: 0.8522
Epoch 249/300
2s - loss: 0.4380 - acc: 0.8726 - val_loss: 1.3726 - val_acc: 0.7826
Epoch 250/300
2s - loss: 0.3988 - acc: 0.8933 - val_loss: 0.9184 - val_acc: 0.8087
Epoch 251/300
2s - loss: 0.3577 - acc: 0.9007 - val_loss: 1.0722 - val_acc: 0.7391
Epoch 252/300
2s - loss: 0.3833 - acc: 0.8741 - val_loss: 1.5794 - val_acc: 0.7130
Epoch 253/300
2s - loss: 0.4252 - acc: 0.8978 - val_loss: 1.6081 - val_acc: 0.7652
Epoch 254/300
2s - loss: 0.4578 - acc: 0.8785 - val_loss: 0.7074 - val_acc: 0.8522
Epoch 255/300
2s - loss: 0.3812 - acc: 0.8993 - val_loss: 2.5568 - val_acc: 0.5826
Epoch 256/300
2s - loss: 0.5204 - acc: 0.8696 - val_loss: 1.2955 - val_acc: 0.8522
Epoch 257/300
2s - loss: 0.4843 - acc: 0.8741 - val_loss: 1.4742 - val_acc: 0.5739
Epoch 258/300
2s - loss: 0.5104 - acc: 0.8489 - val_loss: 1.2364 - val_acc: 0.7391
Epoch 259/300
2s - loss: 0.3169 - acc: 0.9096 - val_loss: 1.1984 - val_acc: 0.8435
Epoch 260/300
2s - loss: 0.5398 - acc: 0.8830 - val_loss: 1.0272 - val_acc: 0.7913
Epoch 261/300
2s - loss: 0.4302 - acc: 0.8933 - val_loss: 2.6087 - val_acc: 0.5565
Epoch 262/300
2s - loss: 0.4052 - acc: 0.8859 - val_loss: 0.8944 - val_acc: 0.8522
Epoch 263/300
2s - loss: 0.4091 - acc: 0.8963 - val_loss: 0.9011 - val_acc: 0.8174
Epoch 264/300
2s - loss: 0.4742 - acc: 0.8741 - val_loss: 3.5517 - val_acc: 0.6435
Epoch 265/300
2s - loss: 0.5317 - acc: 0.8963 - val_loss: 1.1112 - val_acc: 0.8174
Epoch 266/300
2s - loss: 0.3952 - acc: 0.9022 - val_loss: 2.2613 - val_acc: 0.6957
Epoch 267/300
2s - loss: 0.5746 - acc: 0.8785 - val_loss: 1.2329 - val_acc: 0.8174
Epoch 268/300
2s - loss: 0.4933 - acc: 0.8785 - val_loss: 1.6155 - val_acc: 0.7826
Epoch 269/300
2s - loss: 0.4380 - acc: 0.8770 - val_loss: 1.6427 - val_acc: 0.7478
Epoch 270/300
2s - loss: 0.3558 - acc: 0.8963 - val_loss: 1.1494 - val_acc: 0.8087
Epoch 271/300
2s - loss: 0.5392 - acc: 0.8652 - val_loss: 5.0931 - val_acc: 0.3826
Epoch 272/300
2s - loss: 0.5825 - acc: 0.8667 - val_loss: 1.5710 - val_acc: 0.7565
Epoch 273/300
2s - loss: 0.3253 - acc: 0.9096 - val_loss: 1.0271 - val_acc: 0.8261
Epoch 274/300
2s - loss: 0.4769 - acc: 0.8919 - val_loss: 1.9892 - val_acc: 0.7217
Epoch 275/300
2s - loss: 0.4728 - acc: 0.8844 - val_loss: 0.8794 - val_acc: 0.8348
Epoch 276/300
2s - loss: 0.4500 - acc: 0.8844 - val_loss: 1.4197 - val_acc: 0.6870
Epoch 277/300
2s - loss: 0.5944 - acc: 0.8356 - val_loss: 1.2747 - val_acc: 0.8000
Epoch 278/300
2s - loss: 0.3333 - acc: 0.9141 - val_loss: 12.4074 - val_acc: 0.1913
Epoch 279/300
2s - loss: 1.1102 - acc: 0.8533 - val_loss: 0.8972 - val_acc: 0.8174
Epoch 280/300
2s - loss: 0.4888 - acc: 0.8667 - val_loss: 1.1318 - val_acc: 0.8261
Epoch 281/300
2s - loss: 0.5241 - acc: 0.8770 - val_loss: 0.9515 - val_acc: 0.8174
Epoch 282/300
2s - loss: 0.4871 - acc: 0.8859 - val_loss: 1.6813 - val_acc: 0.7826
Epoch 283/300
2s - loss: 0.4706 - acc: 0.8830 - val_loss: 1.2873 - val_acc: 0.8000
Epoch 284/300
2s - loss: 0.4967 - acc: 0.8711 - val_loss: 0.8179 - val_acc: 0.8348
Epoch 285/300
2s - loss: 0.4651 - acc: 0.8815 - val_loss: 1.6649 - val_acc: 0.8000
Epoch 286/300
2s - loss: 0.4917 - acc: 0.8578 - val_loss: 3.3725 - val_acc: 0.6000
Epoch 287/300
2s - loss: 0.5881 - acc: 0.8726 - val_loss: 1.1614 - val_acc: 0.8435
Epoch 288/300
2s - loss: 0.4775 - acc: 0.8874 - val_loss: 1.3487 - val_acc: 0.8348
Epoch 289/300
2s - loss: 0.5181 - acc: 0.8696 - val_loss: 1.2514 - val_acc: 0.8000
Epoch 290/300
2s - loss: 0.5732 - acc: 0.8741 - val_loss: 1.1415 - val_acc: 0.8174
Epoch 291/300
2s - loss: 0.4158 - acc: 0.9022 - val_loss: 2.3965 - val_acc: 0.7217
Epoch 292/300
2s - loss: 0.4753 - acc: 0.8844 - val_loss: 2.7092 - val_acc: 0.6087
Epoch 293/300
2s - loss: 0.5242 - acc: 0.8652 - val_loss: 1.2294 - val_acc: 0.8087
Epoch 294/300
2s - loss: 0.4137 - acc: 0.8919 - val_loss: 1.5652 - val_acc: 0.7652
Epoch 295/300
2s - loss: 0.7932 - acc: 0.8370 - val_loss: 1.0856 - val_acc: 0.7565
Epoch 296/300
2s - loss: 0.3021 - acc: 0.9200 - val_loss: 2.9382 - val_acc: 0.6870
Epoch 297/300
2s - loss: 0.6303 - acc: 0.8652 - val_loss: 0.9780 - val_acc: 0.8261
Epoch 298/300
2s - loss: 0.4649 - acc: 0.8859 - val_loss: 1.1103 - val_acc: 0.8000
Epoch 299/300
2s - loss: 0.3479 - acc: 0.9244 - val_loss: 1.9151 - val_acc: 0.6870
Epoch 300/300
2s - loss: 0.4658 - acc: 0.8830 - val_loss: 1.1739 - val_acc: 0.7565
 96/115 [========================&gt;.....] - ETA: 0sTest score: 1.17389150702
Test accuracy: 0.756521741204
RESIZE
___________
Epoch 1/300
2s - loss: 3.4454 - acc: 0.0474 - val_loss: 3.1342 - val_acc: 0.0783
Epoch 2/300
2s - loss: 3.1433 - acc: 0.0385 - val_loss: 3.1333 - val_acc: 0.0522
Epoch 3/300
2s - loss: 3.1335 - acc: 0.0548 - val_loss: 3.0847 - val_acc: 0.0783
Epoch 4/300
2s - loss: 3.0695 - acc: 0.0770 - val_loss: 2.9428 - val_acc: 0.1304
Epoch 5/300
2s - loss: 3.0363 - acc: 0.0874 - val_loss: 2.7879 - val_acc: 0.2000
Epoch 6/300
2s - loss: 2.9403 - acc: 0.1111 - val_loss: 2.9172 - val_acc: 0.1478
Epoch 7/300
2s - loss: 2.8581 - acc: 0.1289 - val_loss: 2.7818 - val_acc: 0.1217
Epoch 8/300
2s - loss: 2.8254 - acc: 0.1393 - val_loss: 2.5566 - val_acc: 0.2261
Epoch 9/300
2s - loss: 2.6988 - acc: 0.1733 - val_loss: 2.3913 - val_acc: 0.3043
Epoch 10/300
2s - loss: 2.5591 - acc: 0.2044 - val_loss: 2.2405 - val_acc: 0.3391
Epoch 11/300
2s - loss: 2.6602 - acc: 0.2044 - val_loss: 2.3887 - val_acc: 0.2087
Epoch 12/300
2s - loss: 2.4584 - acc: 0.2237 - val_loss: 3.1105 - val_acc: 0.1391
Epoch 13/300
2s - loss: 2.4125 - acc: 0.2430 - val_loss: 2.4983 - val_acc: 0.2261
Epoch 14/300
2s - loss: 2.2820 - acc: 0.2652 - val_loss: 2.0948 - val_acc: 0.3043
Epoch 15/300
2s - loss: 2.3175 - acc: 0.2785 - val_loss: 1.8783 - val_acc: 0.3826
Epoch 16/300
2s - loss: 2.2619 - acc: 0.2696 - val_loss: 2.1560 - val_acc: 0.4000
Epoch 17/300
2s - loss: 2.1309 - acc: 0.3007 - val_loss: 2.3850 - val_acc: 0.2870
Epoch 18/300
2s - loss: 2.2541 - acc: 0.3156 - val_loss: 1.8924 - val_acc: 0.4348
Epoch 19/300
2s - loss: 2.0397 - acc: 0.3259 - val_loss: 2.0038 - val_acc: 0.3826
Epoch 20/300
2s - loss: 1.9332 - acc: 0.3600 - val_loss: 1.9122 - val_acc: 0.3391
Epoch 21/300
2s - loss: 1.9090 - acc: 0.3867 - val_loss: 1.6362 - val_acc: 0.4348
Epoch 22/300
2s - loss: 1.8886 - acc: 0.4089 - val_loss: 1.5915 - val_acc: 0.4696
Epoch 23/300
2s - loss: 1.8336 - acc: 0.3748 - val_loss: 1.3916 - val_acc: 0.6174
Epoch 24/300
2s - loss: 1.8769 - acc: 0.4059 - val_loss: 1.7668 - val_acc: 0.4870
Epoch 25/300
2s - loss: 1.7508 - acc: 0.4444 - val_loss: 1.3450 - val_acc: 0.6522
Epoch 26/300
2s - loss: 1.6826 - acc: 0.4607 - val_loss: 2.7865 - val_acc: 0.2957
Epoch 27/300
2s - loss: 1.6300 - acc: 0.4696 - val_loss: 1.2689 - val_acc: 0.6609
Epoch 28/300
2s - loss: 1.6561 - acc: 0.4800 - val_loss: 1.6336 - val_acc: 0.4522
Epoch 29/300
2s - loss: 1.5643 - acc: 0.5126 - val_loss: 1.2949 - val_acc: 0.5304
Epoch 30/300
2s - loss: 1.5122 - acc: 0.5081 - val_loss: 1.9434 - val_acc: 0.4870
Epoch 31/300
2s - loss: 1.5561 - acc: 0.5185 - val_loss: 1.5480 - val_acc: 0.4870
Epoch 32/300
2s - loss: 1.3609 - acc: 0.5763 - val_loss: 1.8766 - val_acc: 0.4261
Epoch 33/300
2s - loss: 1.4326 - acc: 0.5215 - val_loss: 1.6495 - val_acc: 0.5391
Epoch 34/300
2s - loss: 1.3051 - acc: 0.5570 - val_loss: 3.5966 - val_acc: 0.3391
Epoch 35/300
2s - loss: 1.3959 - acc: 0.5600 - val_loss: 1.6801 - val_acc: 0.4522
Epoch 36/300
2s - loss: 1.3341 - acc: 0.5541 - val_loss: 1.1280 - val_acc: 0.6348
Epoch 37/300
2s - loss: 1.2949 - acc: 0.5763 - val_loss: 1.4159 - val_acc: 0.5391
Epoch 38/300
2s - loss: 1.3152 - acc: 0.5763 - val_loss: 1.0382 - val_acc: 0.6696
Epoch 39/300
2s - loss: 1.1232 - acc: 0.6237 - val_loss: 0.9888 - val_acc: 0.6783
Epoch 40/300
2s - loss: 1.2154 - acc: 0.6119 - val_loss: 1.2041 - val_acc: 0.6087
Epoch 41/300
2s - loss: 1.3139 - acc: 0.5807 - val_loss: 0.8271 - val_acc: 0.7130
Epoch 42/300
2s - loss: 1.0918 - acc: 0.6341 - val_loss: 1.1678 - val_acc: 0.6522
Epoch 43/300
2s - loss: 1.1875 - acc: 0.6148 - val_loss: 1.0661 - val_acc: 0.6435
Epoch 44/300
2s - loss: 1.0819 - acc: 0.6326 - val_loss: 1.0371 - val_acc: 0.6522
Epoch 45/300
2s - loss: 1.1374 - acc: 0.6133 - val_loss: 0.8058 - val_acc: 0.7130
Epoch 46/300
2s - loss: 1.0610 - acc: 0.6548 - val_loss: 0.8847 - val_acc: 0.6870
Epoch 47/300
2s - loss: 1.1219 - acc: 0.6415 - val_loss: 1.3537 - val_acc: 0.5391
Epoch 48/300
2s - loss: 1.0772 - acc: 0.6578 - val_loss: 1.9359 - val_acc: 0.5391
Epoch 49/300
2s - loss: 1.2496 - acc: 0.5970 - val_loss: 1.0851 - val_acc: 0.6696
Epoch 50/300
2s - loss: 0.9300 - acc: 0.6889 - val_loss: 1.7171 - val_acc: 0.5304
Epoch 51/300
2s - loss: 1.0683 - acc: 0.6652 - val_loss: 2.1376 - val_acc: 0.4435
Epoch 52/300
2s - loss: 1.0044 - acc: 0.6874 - val_loss: 2.0113 - val_acc: 0.5652
Epoch 53/300
2s - loss: 1.2473 - acc: 0.6474 - val_loss: 0.9699 - val_acc: 0.7043
Epoch 54/300
2s - loss: 0.8780 - acc: 0.6785 - val_loss: 1.0278 - val_acc: 0.6435
Epoch 55/300
2s - loss: 1.0135 - acc: 0.6830 - val_loss: 0.9864 - val_acc: 0.6783
Epoch 56/300
2s - loss: 0.9011 - acc: 0.7022 - val_loss: 0.9832 - val_acc: 0.7304
Epoch 57/300
2s - loss: 1.1955 - acc: 0.6519 - val_loss: 0.7640 - val_acc: 0.7652
Epoch 58/300
2s - loss: 0.7982 - acc: 0.7393 - val_loss: 1.8432 - val_acc: 0.5304
Epoch 59/300
2s - loss: 0.9081 - acc: 0.7200 - val_loss: 0.9720 - val_acc: 0.6870
Epoch 60/300
2s - loss: 0.8736 - acc: 0.6963 - val_loss: 1.0057 - val_acc: 0.6435
Epoch 61/300
2s - loss: 0.9271 - acc: 0.6963 - val_loss: 0.8426 - val_acc: 0.7565
Epoch 62/300
2s - loss: 0.9443 - acc: 0.6933 - val_loss: 1.4808 - val_acc: 0.6000
Epoch 63/300
2s - loss: 0.8952 - acc: 0.7022 - val_loss: 0.8956 - val_acc: 0.6783
Epoch 64/300
2s - loss: 0.9315 - acc: 0.6978 - val_loss: 0.7450 - val_acc: 0.7478
Epoch 65/300
2s - loss: 0.8305 - acc: 0.7230 - val_loss: 0.7619 - val_acc: 0.7217
Epoch 66/300
2s - loss: 0.7794 - acc: 0.7452 - val_loss: 1.5861 - val_acc: 0.5739
Epoch 67/300
2s - loss: 0.8724 - acc: 0.7393 - val_loss: 0.7400 - val_acc: 0.7391
Epoch 68/300
2s - loss: 0.9209 - acc: 0.7185 - val_loss: 1.1994 - val_acc: 0.6348
Epoch 69/300
2s - loss: 0.7343 - acc: 0.7393 - val_loss: 0.8495 - val_acc: 0.7043
Epoch 70/300
2s - loss: 0.7700 - acc: 0.7348 - val_loss: 1.9956 - val_acc: 0.6087
Epoch 71/300
2s - loss: 0.8571 - acc: 0.7304 - val_loss: 1.7179 - val_acc: 0.5565
Epoch 72/300
2s - loss: 0.8028 - acc: 0.7363 - val_loss: 2.6110 - val_acc: 0.3565
Epoch 73/300
2s - loss: 0.7927 - acc: 0.7526 - val_loss: 1.1368 - val_acc: 0.7304
Epoch 74/300
2s - loss: 0.7196 - acc: 0.7644 - val_loss: 0.8916 - val_acc: 0.7478
Epoch 75/300
2s - loss: 0.8769 - acc: 0.7037 - val_loss: 0.8019 - val_acc: 0.7304
Epoch 76/300
2s - loss: 0.7304 - acc: 0.7585 - val_loss: 0.9668 - val_acc: 0.6957
Epoch 77/300
2s - loss: 0.7132 - acc: 0.7600 - val_loss: 0.6807 - val_acc: 0.7565
Epoch 78/300
2s - loss: 0.7972 - acc: 0.7659 - val_loss: 2.0508 - val_acc: 0.5652
Epoch 79/300
2s - loss: 0.6506 - acc: 0.8074 - val_loss: 2.5416 - val_acc: 0.4087
Epoch 80/300
2s - loss: 0.8527 - acc: 0.7496 - val_loss: 0.8052 - val_acc: 0.6957
Epoch 81/300
2s - loss: 0.8152 - acc: 0.7556 - val_loss: 0.9203 - val_acc: 0.7217
Epoch 82/300
2s - loss: 0.7258 - acc: 0.7793 - val_loss: 1.6724 - val_acc: 0.5304
Epoch 83/300
2s - loss: 0.7211 - acc: 0.7644 - val_loss: 0.9200 - val_acc: 0.7478
Epoch 84/300
2s - loss: 0.7121 - acc: 0.7733 - val_loss: 1.3284 - val_acc: 0.6174
Epoch 85/300
2s - loss: 0.8264 - acc: 0.7274 - val_loss: 1.3409 - val_acc: 0.6174
Epoch 86/300
2s - loss: 0.6710 - acc: 0.7674 - val_loss: 0.7594 - val_acc: 0.7478
Epoch 87/300
2s - loss: 0.7058 - acc: 0.7704 - val_loss: 0.8335 - val_acc: 0.7565
Epoch 88/300
2s - loss: 0.6668 - acc: 0.7763 - val_loss: 1.1986 - val_acc: 0.6957
Epoch 89/300
2s - loss: 0.6916 - acc: 0.8015 - val_loss: 3.1206 - val_acc: 0.4957
Epoch 90/300
2s - loss: 0.7693 - acc: 0.7867 - val_loss: 0.8171 - val_acc: 0.7826
Epoch 91/300
2s - loss: 0.5753 - acc: 0.7941 - val_loss: 1.0980 - val_acc: 0.7130
Epoch 92/300
2s - loss: 0.6751 - acc: 0.7852 - val_loss: 2.2317 - val_acc: 0.6087
Epoch 93/300
2s - loss: 0.7940 - acc: 0.7659 - val_loss: 0.9527 - val_acc: 0.7043
Epoch 94/300
2s - loss: 0.7069 - acc: 0.7807 - val_loss: 0.9338 - val_acc: 0.7304
Epoch 95/300
2s - loss: 0.7004 - acc: 0.7941 - val_loss: 1.1755 - val_acc: 0.7304
Epoch 96/300
2s - loss: 0.6414 - acc: 0.7896 - val_loss: 0.8844 - val_acc: 0.7478
Epoch 97/300
2s - loss: 0.6602 - acc: 0.8015 - val_loss: 0.7695 - val_acc: 0.7913
Epoch 98/300
2s - loss: 0.6407 - acc: 0.7763 - val_loss: 2.6484 - val_acc: 0.5304
Epoch 99/300
2s - loss: 0.7617 - acc: 0.7822 - val_loss: 1.1470 - val_acc: 0.7478
Epoch 100/300
2s - loss: 0.6407 - acc: 0.8059 - val_loss: 0.6667 - val_acc: 0.7739
Epoch 101/300
2s - loss: 0.6409 - acc: 0.8104 - val_loss: 0.8717 - val_acc: 0.7304
Epoch 102/300
2s - loss: 0.5676 - acc: 0.8163 - val_loss: 1.4088 - val_acc: 0.6522
Epoch 103/300
2s - loss: 0.5771 - acc: 0.8104 - val_loss: 0.8231 - val_acc: 0.7739
Epoch 104/300
2s - loss: 0.5956 - acc: 0.8104 - val_loss: 1.0143 - val_acc: 0.7304
Epoch 105/300
2s - loss: 0.5678 - acc: 0.8074 - val_loss: 0.7937 - val_acc: 0.7826
Epoch 106/300
2s - loss: 0.6163 - acc: 0.7926 - val_loss: 3.3581 - val_acc: 0.3565
Epoch 107/300
2s - loss: 0.7866 - acc: 0.7881 - val_loss: 0.9956 - val_acc: 0.7130
Epoch 108/300
2s - loss: 0.4470 - acc: 0.8430 - val_loss: 1.1628 - val_acc: 0.7565
Epoch 109/300
2s - loss: 0.5783 - acc: 0.8148 - val_loss: 1.1636 - val_acc: 0.7043
Epoch 110/300
2s - loss: 0.5633 - acc: 0.8059 - val_loss: 0.9312 - val_acc: 0.7391
Epoch 111/300
2s - loss: 0.5896 - acc: 0.8237 - val_loss: 0.8600 - val_acc: 0.6957
Epoch 112/300
2s - loss: 0.7189 - acc: 0.7970 - val_loss: 0.6082 - val_acc: 0.8000
Epoch 113/300
2s - loss: 0.6396 - acc: 0.8178 - val_loss: 0.6721 - val_acc: 0.8087
Epoch 114/300
2s - loss: 0.5402 - acc: 0.8237 - val_loss: 0.7245 - val_acc: 0.7217
Epoch 115/300
2s - loss: 0.5498 - acc: 0.8222 - val_loss: 0.7809 - val_acc: 0.7304
Epoch 116/300
2s - loss: 0.6260 - acc: 0.7896 - val_loss: 1.5943 - val_acc: 0.6609
Epoch 117/300
2s - loss: 0.6098 - acc: 0.7956 - val_loss: 1.4077 - val_acc: 0.7130
Epoch 118/300
2s - loss: 0.5926 - acc: 0.8178 - val_loss: 0.7208 - val_acc: 0.7652
Epoch 119/300
2s - loss: 0.5254 - acc: 0.8237 - val_loss: 0.7795 - val_acc: 0.8000
Epoch 120/300
2s - loss: 0.6818 - acc: 0.7822 - val_loss: 1.0537 - val_acc: 0.7478
Epoch 121/300
2s - loss: 0.4896 - acc: 0.8207 - val_loss: 1.1596 - val_acc: 0.7217
Epoch 122/300
2s - loss: 0.6336 - acc: 0.7970 - val_loss: 2.9430 - val_acc: 0.4870
Epoch 123/300
2s - loss: 0.6801 - acc: 0.8237 - val_loss: 0.9916 - val_acc: 0.7739
Epoch 124/300
2s - loss: 0.5208 - acc: 0.8430 - val_loss: 0.7166 - val_acc: 0.8087
Epoch 125/300
2s - loss: 0.5571 - acc: 0.8222 - val_loss: 1.0562 - val_acc: 0.7565
Epoch 126/300
2s - loss: 0.6603 - acc: 0.7926 - val_loss: 0.7378 - val_acc: 0.8087
Epoch 127/300
2s - loss: 0.5294 - acc: 0.8133 - val_loss: 0.7526 - val_acc: 0.8087
Epoch 128/300
2s - loss: 0.6151 - acc: 0.7941 - val_loss: 0.9540 - val_acc: 0.7304
Epoch 129/300
2s - loss: 0.5631 - acc: 0.8326 - val_loss: 1.2649 - val_acc: 0.7391
Epoch 130/300
2s - loss: 0.4639 - acc: 0.8548 - val_loss: 0.8110 - val_acc: 0.7478
Epoch 131/300
2s - loss: 0.6299 - acc: 0.8059 - val_loss: 0.6800 - val_acc: 0.8348
Epoch 132/300
2s - loss: 0.6004 - acc: 0.8237 - val_loss: 0.8729 - val_acc: 0.7304
Epoch 133/300
2s - loss: 0.5577 - acc: 0.8015 - val_loss: 0.6357 - val_acc: 0.8609
Epoch 134/300
2s - loss: 0.6674 - acc: 0.8030 - val_loss: 0.6182 - val_acc: 0.8261
Epoch 135/300
2s - loss: 0.5347 - acc: 0.8341 - val_loss: 0.7158 - val_acc: 0.8348
Epoch 136/300
3s - loss: 0.5477 - acc: 0.8356 - val_loss: 0.7409 - val_acc: 0.8174
Epoch 137/300
2s - loss: 0.7864 - acc: 0.7852 - val_loss: 0.9925 - val_acc: 0.7391
Epoch 138/300
2s - loss: 0.4875 - acc: 0.8474 - val_loss: 3.7970 - val_acc: 0.4783
Epoch 139/300
2s - loss: 0.7662 - acc: 0.8193 - val_loss: 2.3411 - val_acc: 0.6000
Epoch 140/300
2s - loss: 0.5519 - acc: 0.8296 - val_loss: 0.8514 - val_acc: 0.7130
Epoch 141/300
3s - loss: 0.5634 - acc: 0.8341 - val_loss: 0.5835 - val_acc: 0.8348
Epoch 142/300
2s - loss: 0.5996 - acc: 0.8030 - val_loss: 0.8463 - val_acc: 0.7913
Epoch 143/300
3s - loss: 0.5395 - acc: 0.8385 - val_loss: 0.7912 - val_acc: 0.8087
Epoch 144/300
2s - loss: 0.5143 - acc: 0.8385 - val_loss: 0.7694 - val_acc: 0.8000
Epoch 145/300
2s - loss: 0.5126 - acc: 0.8474 - val_loss: 0.7590 - val_acc: 0.8348
Epoch 146/300
2s - loss: 0.4718 - acc: 0.8533 - val_loss: 1.8165 - val_acc: 0.6435
Epoch 147/300
2s - loss: 0.5629 - acc: 0.8163 - val_loss: 1.2288 - val_acc: 0.7913
Epoch 148/300
2s - loss: 0.6169 - acc: 0.8163 - val_loss: 0.5516 - val_acc: 0.8261
Epoch 149/300
2s - loss: 0.4630 - acc: 0.8415 - val_loss: 2.4052 - val_acc: 0.5826
Epoch 150/300
2s - loss: 0.5466 - acc: 0.8267 - val_loss: 2.0045 - val_acc: 0.6261
Epoch 151/300
2s - loss: 0.6322 - acc: 0.8370 - val_loss: 0.6453 - val_acc: 0.8435
Epoch 152/300
2s - loss: 0.5187 - acc: 0.8311 - val_loss: 0.9100 - val_acc: 0.7913
Epoch 153/300
2s - loss: 0.5201 - acc: 0.8296 - val_loss: 1.1114 - val_acc: 0.7391
Epoch 154/300
2s - loss: 0.5311 - acc: 0.8356 - val_loss: 1.3779 - val_acc: 0.6261
Epoch 155/300
2s - loss: 0.6479 - acc: 0.7881 - val_loss: 1.6269 - val_acc: 0.6696
Epoch 156/300
2s - loss: 0.4371 - acc: 0.8652 - val_loss: 0.5892 - val_acc: 0.8174
Epoch 157/300
2s - loss: 0.5227 - acc: 0.8326 - val_loss: 1.0584 - val_acc: 0.6522
Epoch 158/300
2s - loss: 0.5678 - acc: 0.8281 - val_loss: 1.3301 - val_acc: 0.7913
Epoch 159/300
2s - loss: 0.7374 - acc: 0.8163 - val_loss: 1.4453 - val_acc: 0.6870
Epoch 160/300
2s - loss: 0.5886 - acc: 0.8207 - val_loss: 0.9840 - val_acc: 0.7826
Epoch 161/300
2s - loss: 0.4624 - acc: 0.8474 - val_loss: 0.7101 - val_acc: 0.8087
Epoch 162/300
2s - loss: 0.3964 - acc: 0.8859 - val_loss: 0.8263 - val_acc: 0.8087
Epoch 163/300
2s - loss: 0.5665 - acc: 0.8267 - val_loss: 1.0643 - val_acc: 0.8000
Epoch 164/300
2s - loss: 0.5634 - acc: 0.8311 - val_loss: 1.1027 - val_acc: 0.7913
Epoch 165/300
2s - loss: 0.4937 - acc: 0.8519 - val_loss: 1.3069 - val_acc: 0.6609
Epoch 166/300
2s - loss: 0.7384 - acc: 0.7867 - val_loss: 1.0332 - val_acc: 0.7913
Epoch 167/300
2s - loss: 0.5544 - acc: 0.8489 - val_loss: 0.8101 - val_acc: 0.8348
Epoch 168/300
2s - loss: 0.4718 - acc: 0.8356 - val_loss: 1.6334 - val_acc: 0.7043
Epoch 169/300
2s - loss: 0.5599 - acc: 0.8356 - val_loss: 1.9800 - val_acc: 0.5478
Epoch 170/300
2s - loss: 0.5980 - acc: 0.8267 - val_loss: 0.8802 - val_acc: 0.7826
Epoch 171/300
2s - loss: 0.5547 - acc: 0.8341 - val_loss: 1.0529 - val_acc: 0.8261
Epoch 172/300
2s - loss: 0.6539 - acc: 0.7926 - val_loss: 2.3146 - val_acc: 0.6957
Epoch 173/300
2s - loss: 0.5125 - acc: 0.8400 - val_loss: 4.9388 - val_acc: 0.5043
Epoch 174/300
2s - loss: 0.6935 - acc: 0.8415 - val_loss: 1.1669 - val_acc: 0.8000
Epoch 175/300
2s - loss: 0.4861 - acc: 0.8593 - val_loss: 2.1750 - val_acc: 0.7391
Epoch 176/300
2s - loss: 0.5471 - acc: 0.8667 - val_loss: 1.0252 - val_acc: 0.7913
Epoch 177/300
2s - loss: 0.6711 - acc: 0.8044 - val_loss: 0.9913 - val_acc: 0.7826
Epoch 178/300
2s - loss: 0.5679 - acc: 0.8252 - val_loss: 0.8147 - val_acc: 0.7652
Epoch 179/300
2s - loss: 0.4692 - acc: 0.8548 - val_loss: 1.2306 - val_acc: 0.7652
Epoch 180/300
2s - loss: 0.5469 - acc: 0.8356 - val_loss: 0.7983 - val_acc: 0.8000
Epoch 181/300
2s - loss: 0.5270 - acc: 0.8400 - val_loss: 0.5291 - val_acc: 0.8261
Epoch 182/300
2s - loss: 0.6500 - acc: 0.8163 - val_loss: 2.3231 - val_acc: 0.6870
Epoch 183/300
2s - loss: 0.5743 - acc: 0.8459 - val_loss: 0.9137 - val_acc: 0.7652
Epoch 184/300
2s - loss: 0.5456 - acc: 0.8237 - val_loss: 0.5825 - val_acc: 0.8174
Epoch 185/300
2s - loss: 0.4610 - acc: 0.8444 - val_loss: 0.7351 - val_acc: 0.8348
Epoch 186/300
2s - loss: 0.6082 - acc: 0.8459 - val_loss: 1.0954 - val_acc: 0.8000
Epoch 187/300
2s - loss: 0.4763 - acc: 0.8652 - val_loss: 0.6453 - val_acc: 0.8435
Epoch 188/300
2s - loss: 0.6585 - acc: 0.8281 - val_loss: 0.7512 - val_acc: 0.7652
Epoch 189/300
2s - loss: 0.5748 - acc: 0.8089 - val_loss: 5.9349 - val_acc: 0.4348
Epoch 190/300
2s - loss: 0.7247 - acc: 0.8400 - val_loss: 1.0831 - val_acc: 0.8000
Epoch 191/300
2s - loss: 0.5466 - acc: 0.8311 - val_loss: 5.6419 - val_acc: 0.4522
Epoch 192/300
2s - loss: 0.6069 - acc: 0.8489 - val_loss: 0.6990 - val_acc: 0.8522
Epoch 193/300
2s - loss: 0.5133 - acc: 0.8385 - val_loss: 2.4439 - val_acc: 0.6783
Epoch 194/300
2s - loss: 0.6637 - acc: 0.8193 - val_loss: 0.7171 - val_acc: 0.8348
Epoch 195/300
2s - loss: 0.6000 - acc: 0.8252 - val_loss: 0.5959 - val_acc: 0.8435
Epoch 196/300
2s - loss: 0.5279 - acc: 0.8370 - val_loss: 0.7738 - val_acc: 0.8522
Epoch 197/300
2s - loss: 0.5380 - acc: 0.8489 - val_loss: 1.8311 - val_acc: 0.7391
Epoch 198/300
2s - loss: 0.4529 - acc: 0.8637 - val_loss: 0.8567 - val_acc: 0.8435
Epoch 199/300
2s - loss: 0.5241 - acc: 0.8237 - val_loss: 0.8855 - val_acc: 0.8174
Epoch 200/300
2s - loss: 0.6295 - acc: 0.8207 - val_loss: 1.3064 - val_acc: 0.7739
Epoch 201/300
2s - loss: 0.5097 - acc: 0.8356 - val_loss: 0.9504 - val_acc: 0.8609
Epoch 202/300
2s - loss: 0.5957 - acc: 0.8163 - val_loss: 1.2032 - val_acc: 0.6522
Epoch 203/300
2s - loss: 0.6433 - acc: 0.8119 - val_loss: 1.4140 - val_acc: 0.7826
Epoch 204/300
2s - loss: 0.6238 - acc: 0.8267 - val_loss: 1.0913 - val_acc: 0.6783
Epoch 205/300
2s - loss: 0.6069 - acc: 0.8237 - val_loss: 0.9414 - val_acc: 0.8435
Epoch 206/300
2s - loss: 0.6749 - acc: 0.8207 - val_loss: 0.8735 - val_acc: 0.8348
Epoch 207/300
2s - loss: 0.5369 - acc: 0.8252 - val_loss: 0.9887 - val_acc: 0.8435
Epoch 208/300
2s - loss: 0.5439 - acc: 0.8519 - val_loss: 0.5531 - val_acc: 0.8696
Epoch 209/300
2s - loss: 0.6188 - acc: 0.8163 - val_loss: 1.3922 - val_acc: 0.7652
Epoch 210/300
2s - loss: 0.5353 - acc: 0.8356 - val_loss: 0.9835 - val_acc: 0.8174
Epoch 211/300
2s - loss: 0.6275 - acc: 0.7911 - val_loss: 0.7220 - val_acc: 0.8522
Epoch 212/300
2s - loss: 0.5111 - acc: 0.8607 - val_loss: 0.8642 - val_acc: 0.8609
Epoch 213/300
2s - loss: 0.5548 - acc: 0.8267 - val_loss: 0.8658 - val_acc: 0.8087
Epoch 214/300
2s - loss: 0.8356 - acc: 0.7793 - val_loss: 0.6256 - val_acc: 0.7652
Epoch 215/300
2s - loss: 0.6371 - acc: 0.8193 - val_loss: 0.8691 - val_acc: 0.8522
Epoch 216/300
2s - loss: 0.5331 - acc: 0.8533 - val_loss: 1.1058 - val_acc: 0.8261
Epoch 217/300
2s - loss: 0.5447 - acc: 0.8489 - val_loss: 0.9147 - val_acc: 0.8174
Epoch 218/300
2s - loss: 0.5934 - acc: 0.8385 - val_loss: 1.4467 - val_acc: 0.8087
Epoch 219/300
2s - loss: 0.5049 - acc: 0.8400 - val_loss: 0.7685 - val_acc: 0.8087
Epoch 220/300
2s - loss: 0.5242 - acc: 0.8504 - val_loss: 0.9707 - val_acc: 0.8609
Epoch 221/300
2s - loss: 0.4799 - acc: 0.8578 - val_loss: 0.8365 - val_acc: 0.8435
Epoch 222/300
2s - loss: 0.6618 - acc: 0.8119 - val_loss: 0.9462 - val_acc: 0.7913
Epoch 223/300
2s - loss: 0.5541 - acc: 0.8311 - val_loss: 1.0234 - val_acc: 0.7913
Epoch 224/300
2s - loss: 0.6632 - acc: 0.8089 - val_loss: 1.0682 - val_acc: 0.8261
Epoch 225/300
2s - loss: 0.4966 - acc: 0.8533 - val_loss: 0.6752 - val_acc: 0.8348
Epoch 226/300
2s - loss: 0.5698 - acc: 0.8252 - val_loss: 0.6758 - val_acc: 0.8609
Epoch 227/300
2s - loss: 0.4979 - acc: 0.8430 - val_loss: 1.5828 - val_acc: 0.7652
Epoch 228/300
2s - loss: 0.5991 - acc: 0.8178 - val_loss: 0.7884 - val_acc: 0.8435
Epoch 229/300
2s - loss: 0.5040 - acc: 0.8341 - val_loss: 0.7407 - val_acc: 0.8348
Epoch 230/300
2s - loss: 0.5033 - acc: 0.8400 - val_loss: 1.3158 - val_acc: 0.7304
Epoch 231/300
2s - loss: 0.5608 - acc: 0.8370 - val_loss: 0.9419 - val_acc: 0.8348
Epoch 232/300
2s - loss: 0.3612 - acc: 0.8741 - val_loss: 0.6628 - val_acc: 0.8783
Epoch 233/300
2s - loss: 0.5819 - acc: 0.8311 - val_loss: 0.9658 - val_acc: 0.8174
Epoch 234/300
2s - loss: 0.5304 - acc: 0.8237 - val_loss: 1.2401 - val_acc: 0.7826
Epoch 235/300
2s - loss: 0.5107 - acc: 0.8489 - val_loss: 1.6905 - val_acc: 0.7304
Epoch 236/300
2s - loss: 0.5422 - acc: 0.8341 - val_loss: 0.6544 - val_acc: 0.8261
Epoch 237/300
2s - loss: 0.5518 - acc: 0.8385 - val_loss: 2.1374 - val_acc: 0.7043
Epoch 238/300
2s - loss: 0.5089 - acc: 0.8430 - val_loss: 0.7030 - val_acc: 0.8348
Epoch 239/300
2s - loss: 0.5461 - acc: 0.8267 - val_loss: 1.3319 - val_acc: 0.7304
Epoch 240/300
2s - loss: 0.5246 - acc: 0.8504 - val_loss: 1.0499 - val_acc: 0.8609
Epoch 241/300
2s - loss: 0.4543 - acc: 0.8652 - val_loss: 1.7205 - val_acc: 0.7304
Epoch 242/300
2s - loss: 0.5841 - acc: 0.8415 - val_loss: 1.4544 - val_acc: 0.7652
Epoch 243/300
2s - loss: 0.5513 - acc: 0.8415 - val_loss: 1.2843 - val_acc: 0.8261
Epoch 244/300
2s - loss: 0.4601 - acc: 0.8667 - val_loss: 1.6277 - val_acc: 0.7913
Epoch 245/300
2s - loss: 0.6018 - acc: 0.8207 - val_loss: 1.0802 - val_acc: 0.8348
Epoch 246/300
2s - loss: 0.4848 - acc: 0.8622 - val_loss: 0.8174 - val_acc: 0.8522
Epoch 247/300
2s - loss: 0.6040 - acc: 0.8207 - val_loss: 1.0943 - val_acc: 0.8087
Epoch 248/300
2s - loss: 0.4867 - acc: 0.8489 - val_loss: 1.0244 - val_acc: 0.8087
Epoch 249/300
2s - loss: 0.5667 - acc: 0.8281 - val_loss: 1.2196 - val_acc: 0.8087
Epoch 250/300
2s - loss: 0.4395 - acc: 0.8652 - val_loss: 1.1391 - val_acc: 0.8261
Epoch 251/300
2s - loss: 0.6137 - acc: 0.8356 - val_loss: 0.7800 - val_acc: 0.8348
Epoch 252/300
2s - loss: 0.3664 - acc: 0.8919 - val_loss: 0.8399 - val_acc: 0.8522
Epoch 253/300
2s - loss: 0.5155 - acc: 0.8548 - val_loss: 1.2291 - val_acc: 0.7304
Epoch 254/300
2s - loss: 0.4506 - acc: 0.8548 - val_loss: 1.0234 - val_acc: 0.7826
Epoch 255/300
2s - loss: 0.5461 - acc: 0.8622 - val_loss: 0.9109 - val_acc: 0.8261
Epoch 256/300
2s - loss: 0.4016 - acc: 0.8696 - val_loss: 1.2734 - val_acc: 0.8000
Epoch 257/300
2s - loss: 0.6430 - acc: 0.8341 - val_loss: 0.7324 - val_acc: 0.7652
Epoch 258/300
2s - loss: 0.6708 - acc: 0.7941 - val_loss: 0.7209 - val_acc: 0.8609
Epoch 259/300
2s - loss: 0.7189 - acc: 0.8252 - val_loss: 0.8345 - val_acc: 0.8261
Epoch 260/300
2s - loss: 0.4963 - acc: 0.8593 - val_loss: 1.1089 - val_acc: 0.8261
Epoch 261/300
2s - loss: 0.4706 - acc: 0.8637 - val_loss: 1.0107 - val_acc: 0.8348
Epoch 262/300
2s - loss: 0.3638 - acc: 0.8889 - val_loss: 1.1546 - val_acc: 0.8174
Epoch 263/300
2s - loss: 0.6425 - acc: 0.8341 - val_loss: 0.8855 - val_acc: 0.8087
Epoch 264/300
2s - loss: 0.6175 - acc: 0.8326 - val_loss: 0.5165 - val_acc: 0.8696
Epoch 265/300
2s - loss: 0.5391 - acc: 0.8459 - val_loss: 0.6939 - val_acc: 0.8348
Epoch 266/300
2s - loss: 0.5604 - acc: 0.8474 - val_loss: 0.6512 - val_acc: 0.8783
Epoch 267/300
2s - loss: 0.3068 - acc: 0.8874 - val_loss: 1.7055 - val_acc: 0.8000
Epoch 268/300
2s - loss: 0.6184 - acc: 0.8489 - val_loss: 0.5717 - val_acc: 0.8957
Epoch 269/300
2s - loss: 0.3975 - acc: 0.8741 - val_loss: 1.4743 - val_acc: 0.7652
Epoch 270/300
2s - loss: 0.4677 - acc: 0.8607 - val_loss: 1.2201 - val_acc: 0.7913
Epoch 271/300
2s - loss: 0.5524 - acc: 0.8311 - val_loss: 0.7182 - val_acc: 0.8435
Epoch 272/300
2s - loss: 0.5324 - acc: 0.8459 - val_loss: 0.6568 - val_acc: 0.8696
Epoch 273/300
2s - loss: 0.6351 - acc: 0.8267 - val_loss: 0.6709 - val_acc: 0.8957
Epoch 274/300
2s - loss: 0.4414 - acc: 0.8696 - val_loss: 1.0622 - val_acc: 0.8348
Epoch 275/300
2s - loss: 0.6025 - acc: 0.8207 - val_loss: 1.4677 - val_acc: 0.7478
Epoch 276/300
2s - loss: 0.5263 - acc: 0.8222 - val_loss: 0.8458 - val_acc: 0.8522
Epoch 277/300
2s - loss: 0.5162 - acc: 0.8356 - val_loss: 0.9947 - val_acc: 0.7304
Epoch 278/300
2s - loss: 0.5341 - acc: 0.8252 - val_loss: 0.5468 - val_acc: 0.8870
Epoch 279/300
2s - loss: 0.6529 - acc: 0.8252 - val_loss: 1.0413 - val_acc: 0.8261
Epoch 280/300
2s - loss: 0.6113 - acc: 0.8489 - val_loss: 1.6381 - val_acc: 0.7826
Epoch 281/300
2s - loss: 0.6681 - acc: 0.8193 - val_loss: 0.7211 - val_acc: 0.8261
Epoch 282/300
2s - loss: 0.5969 - acc: 0.8296 - val_loss: 0.5951 - val_acc: 0.8783
Epoch 283/300
2s - loss: 0.4890 - acc: 0.8785 - val_loss: 1.3772 - val_acc: 0.8000
Epoch 284/300
2s - loss: 0.4714 - acc: 0.8563 - val_loss: 0.6240 - val_acc: 0.8870
Epoch 285/300
2s - loss: 0.6208 - acc: 0.8400 - val_loss: 0.6440 - val_acc: 0.8783
Epoch 286/300
2s - loss: 0.4935 - acc: 0.8563 - val_loss: 1.0946 - val_acc: 0.8174
Epoch 287/300
2s - loss: 0.5628 - acc: 0.8489 - val_loss: 0.6674 - val_acc: 0.8696
Epoch 288/300
2s - loss: 0.7005 - acc: 0.8444 - val_loss: 0.8207 - val_acc: 0.8609
Epoch 289/300
2s - loss: 0.4315 - acc: 0.8593 - val_loss: 0.6837 - val_acc: 0.8696
Epoch 290/300
2s - loss: 0.4645 - acc: 0.8696 - val_loss: 1.1744 - val_acc: 0.7739
Epoch 291/300
2s - loss: 0.5352 - acc: 0.8400 - val_loss: 1.3158 - val_acc: 0.7565
Epoch 292/300
2s - loss: 0.6271 - acc: 0.8237 - val_loss: 1.0332 - val_acc: 0.7652
Epoch 293/300
2s - loss: 0.5494 - acc: 0.8415 - val_loss: 0.8356 - val_acc: 0.8609
Epoch 294/300
2s - loss: 0.4920 - acc: 0.8637 - val_loss: 1.4417 - val_acc: 0.7913
Epoch 295/300
2s - loss: 0.5594 - acc: 0.8622 - val_loss: 0.7500 - val_acc: 0.8522
Epoch 296/300
2s - loss: 0.4497 - acc: 0.8667 - val_loss: 0.9434 - val_acc: 0.8174
Epoch 297/300
2s - loss: 0.5652 - acc: 0.8341 - val_loss: 0.8168 - val_acc: 0.7913
Epoch 298/300
2s - loss: 0.4349 - acc: 0.8637 - val_loss: 1.6013 - val_acc: 0.7304
Epoch 299/300
2s - loss: 0.5920 - acc: 0.8104 - val_loss: 1.3317 - val_acc: 0.7826
Epoch 300/300
2s - loss: 0.5546 - acc: 0.8356 - val_loss: 0.6991 - val_acc: 0.8174
 96/115 [========================&gt;.....] - ETA: 0sTest score: 0.699130442868
Test accuracy: 0.817391299165
</pre>
</div>
</div>

</div>
</div>

</div>
<div class="cell border-box-sizing text_cell rendered">
<div class="prompt input_prompt">
</div>
<div class="inner_cell">
<div class="text_cell_render border-box-sizing rendered_html">
<h2 id="Resultados">Resultados<a class="anchor-link" href="#Resultados">&#182;</a></h2><p>Se puede observar como con esta configuración, el mejor resultado obtenido es el realizado utilizando el redimensionamiento "Crop", es decir, tomando una imagen cuadrada a partir de la dimensión menor. La precisión de clasificación en el conjunto de test en el mejor de los casos está en torno al 95%.</p>

</div>
</div>
</div>
<div class="cell border-box-sizing code_cell rendered">
<div class="input">
<div class="prompt input_prompt">In&nbsp;[25]:</div>
<div class="inner_cell">
    <div class="input_area">
<div class=" highlight hl-ipython3"><pre><span></span><span class="n">plotResults</span><span class="p">(</span><span class="n">resizeTypes</span><span class="p">,</span> <span class="n">resultsAcc</span><span class="p">,</span> <span class="n">resultsLoss</span><span class="p">)</span>
</pre></div>

</div>
</div>
</div>

<div class="output_wrapper">
<div class="output">


<div class="output_area">
<div class="prompt"></div>


<div class="output_html rendered_html output_subarea ">
<script>requirejs.config({paths: { 'plotly': ['https://cdn.plot.ly/plotly-latest.min']},});if(!window.Plotly) {{require(['plotly'],function(plotly) {window.Plotly=plotly;});}}</script>
</div>

</div>

<div class="output_area">
<div class="prompt"></div>

<div class="output_subarea output_stream output_stdout output_text">
<pre>This is the format of your plot grid:
[ (1,1) x1,y1 ]
[ (2,1) x2,y2 ]

</pre>
</div>
</div>

<div class="output_area">
<div class="prompt"></div>


<div class="output_html rendered_html output_subarea ">
<div id="0dc123de-f55f-4253-a0fe-2825b35e9a27" style="height: 525px; width: 100%;" class="plotly-graph-div"></div><script type="text/javascript">require(["plotly"], function(Plotly) { window.PLOTLYENV=window.PLOTLYENV || {};window.PLOTLYENV.BASE_URL="https://plot.ly";Plotly.newPlot("0dc123de-f55f-4253-a0fe-2825b35e9a27", [{"name": "CROP", "yaxis": "y1", "type": "scatter", "xaxis": "x1", "y": [0.06956521421670914, 0.09565217015535935, 0.19999999293814535, 0.21739129851693692, 0.33913042752639105, 0.36521739933801733, 0.41739130732805835, 0.4086956459542979, 0.3478260856607686, 0.46086955524009204, 0.40869565048943396, 0.4695652205011119, 0.5391304285629935, 0.59130434497543, 0.5043478374895842, 0.6869565196659254, 0.4869565147420634, 0.6173912921677465, 0.6956521700257841, 0.713043459083723, 0.6608695413755334, 0.7565217277278071, 0.5565217137336731, 0.6086956456951473, 0.6956521635470183, 0.6173912908719934, 0.7478260864382205, 0.6956521687300309, 0.782608687877655, 0.7565217484598574, 0.747826099395752, 0.747826073480689, 0.7826086801031361, 0.7652173742004063, 0.7391304295995961, 0.7478260864382205, 0.7739130310390306, 0.7913043395332668, 0.8086956324784652, 0.7304347779439844, 0.8173912893170896, 0.782608687877655, 0.8173913152321525, 0.730434783126997, 0.7913043317587479, 0.8086956506190093, 0.826086946155714, 0.7999999756398408, 0.8434782546499501, 0.7999999937803849, 0.773913033630537, 0.7565217355023259, 0.782608687877655, 0.7913043524907983, 0.7652173923409503, 0.8608695605526799, 0.8434782416924186, 0.7478260786637015, 0.852173898531043, 0.7304347779439844, 0.8434782416924186, 0.7999999730483346, 0.8260869280151699, 0.8521739037140555, 0.8434782339178998, 0.8434782468754313, 0.8173912893170896, 0.8695652044337728, 0.8608695553696674, 0.8956521568091019, 0.8695652044337728, 0.8347825900368069, 0.8782608560893846, 0.8695651992507603, 0.8608695553696674, 0.8782608560893846, 0.8869564999704775, 0.8173912970916085, 0.8782608560893846, 0.8347825978113257, 0.8695652122082917, 0.8869564999704775, 0.8695651992507603, 0.8608695553696674, 0.8782608431318532, 0.852173898531043, 0.8608695683271989, 0.8434782468754313, 0.8608695475951486, 0.8782608560893846, 0.8086956402529841, 0.8782608560893846, 0.8521738855735116, 0.8695652122082917, 0.8608695553696674, 0.8173912893170896, 0.8347825848537943, 0.8956521619921145, 0.7565217251363008, 0.886956512928009, 0.8695651992507603, 0.9130434704863507, 0.8521738907565242, 0.8956521568091019, 0.8782608431318532, 0.8956521697666334, 0.8695651992507603, 0.8869564999704775, 0.8869565051534901, 0.9043478136477263, 0.8521739037140555, 0.895652149034583, 0.8782608560893846, 0.8782608560893846, 0.8521738829820052, 0.9304347841635995, 0.8434782546499501, 0.8695651992507603, 0.90434781105622, 0.9130434834438822, 0.8956521438515704, 0.8695652122082917, 0.9130434704863507, 0.8347825978113257, 0.8956521568091019, 0.8869564999704775, 0.8956521568091019, 0.8782608431318532, 0.9043478266052578, 0.886956512928009, 0.8608695424121359, 0.8869565258855405, 0.8695652122082917, 0.9043478136477263, 0.8782608612723972, 0.8869564999704775, 0.7999999937803849, 0.8695652044337728, 0.8608695553696674, 0.8695651992507603, 0.8956521697666334, 0.9217391143674436, 0.8608695605526799, 0.8695651992507603, 0.9043478058732074, 0.9217391143674436, 0.9043478136477263, 0.8869565103365027, 0.9043478006901948, 0.9130434704863507, 0.9130434575288192, 0.9043478136477263, 0.8608695424121359, 0.8695652122082917, 0.8869564999704775, 0.8956521568091019, 0.895652149034583, 0.8521738933480304, 0.9130434704863507, 0.8608695605526799, 0.8608695553696674, 0.7391304218250773, 0.9391304280446924, 0.6869565092999003, 0.8608695605526799, 0.8782608690469161, 0.7999999756398408, 0.8608695424121359, 0.8434782520584438, 0.8434782391009124, 0.8956521568091019, 0.8956521697666334, 0.886956512928009, 0.8695651992507603, 0.8695651992507603, 0.8869564999704775, 0.8782608690469161, 0.9130434575288192, 0.9217391143674436, 0.9217390988184058, 0.8608695475951486, 0.8869565258855405, 0.8608695475951486, 0.8173912893170896, 0.8608695398206296, 0.8608695501866548, 0.9130434575288192, 0.8695651992507603, 0.8869564999704775, 0.8956521568091019, 0.8521739037140555, 0.9043478188307389, 0.9217391273249751, 0.8956521412600642, 0.9217391273249751, 0.8782608560893846, 0.6869565144829128, 0.8869565051534901, 0.8608695553696674, 0.886956512928009, 0.8347825900368069, 0.8434782416924186, 0.8782608431318532, 0.886956512928009, 0.8521739037140555, 0.8869564999704775, 0.8608695475951486, 0.8173912919085958, 0.8434782494669375, 0.7391304218250773, 0.930434771206068, 0.9217391117759373, 0.8260869539302328, 0.8608695527781611, 0.8782608612723972, 0.9130434575288192, 0.9043478136477263, 0.9217391273249751, 0.8608695553696674, 0.6869565118914065, 0.9217391195504562, 0.8869564999704775, 0.9043478317882704, 0.8956521568091019, 0.852173898531043, 0.9217391014099121, 0.9391304280446924, 0.7999999937803849, 0.9043478136477263, 0.8608695553696674, 0.886956512928009, 0.8086956454359967, 0.8521738829820052, 0.8434782494669375, 0.8869564921959586, 0.8782608534978784, 0.9130434575288192, 0.895652149034583, 0.8782608560893846, 0.8956521568091019, 0.886956512928009, 0.8869564973789713, 0.8608695475951486, 0.7304347623949465, 0.8956521568091019, 0.9043478136477263, 0.930434771206068, 0.869565196659254, 0.8782608690469161, 0.8869565181110216, 0.852173898531043, 0.9043478136477263, 0.7739130232645117, 0.9217391273249751, 0.9130434575288192, 0.8869565181110216, 0.8347826029943384, 0.8782608664554098, 0.9217391117759373, 0.9130434575288192, 0.8956521568091019, 0.9217391273249751, 0.8347825978113257, 0.8521739037140555, 0.886956512928009, 0.9130434575288192, 0.8782608664554098, 0.9478260719257853, 0.7826086801031361, 0.8521739037140555, 0.9391304280446924, 0.9043478136477263, 0.9217391143674436, 0.9217391195504562, 0.8869565181110216, 0.930434771206068, 0.9043478136477263, 0.9043478188307389, 0.6347825954789701, 0.9391304150871609, 0.8782608560893846, 0.8695652044337728, 0.8434782520584438, 0.8608695553696674, 0.9217391117759373, 0.869565196659254, 0.8695652044337728, 0.8434782391009124, 0.852173898531043, 0.834782582262288, 0.869565196659254, 0.8434782520584438, 0.8608695527781611, 0.9043478188307389, 0.8956521568091019, 0.8608695398206296, 0.9478260719257853, 0.8434782416924186, 0.8695652096167855, 0.9304347556570302]}, {"name": "CROP", "yaxis": "y2", "type": "scatter", "xaxis": "x2", "y": [3.025583671486896, 2.8285520906033725, 2.681741662647413, 2.4855452620464824, 2.11571873270947, 2.1140069391416465, 1.9738458498664524, 1.8951147120931875, 1.9590282699336177, 1.6739298105239868, 1.7973881648934407, 1.6411937267883965, 1.5659450240757153, 1.4391396641731262, 1.5384551545848018, 1.154664008513741, 1.3611704836721006, 1.2796200876650603, 1.0665844627048657, 1.0020420758620552, 1.0723765855250151, 0.9002904347751451, 1.2917871734370356, 1.1433963982955269, 0.8923259895780812, 1.201614260673523, 0.7876760855964993, 0.9165907864985259, 0.7106797539669535, 0.6719518368658812, 0.7126796634300895, 0.7155846305515455, 0.7183481195698613, 0.6864284950753917, 0.6904610965562903, 0.594169240930806, 0.656114909959876, 0.5605206139709639, 0.5635049032128375, 0.7826934094014375, 0.46643197082954907, 0.5462847170622452, 0.6621303895245427, 0.8650003516155741, 0.5671238445717356, 0.6813056054322616, 0.417543676884278, 0.6410196760426397, 0.5789146850938383, 0.6097384354342585, 0.7318437073541724, 0.9880737429079802, 0.6049900715765746, 0.6184927251027978, 0.8451210623202117, 0.4247395072294318, 0.5465451336425283, 0.681634757829749, 0.42402894924516266, 0.9180345924004264, 0.3844168432380842, 0.6613196160482324, 0.4729471070610959, 0.4228431530620741, 0.5378432973571445, 0.4157900421515755, 0.45539354047049646, 0.3129821866750717, 0.3948816397915716, 0.3601731470097666, 0.3570098773292873, 0.4198583863351656, 0.3929026943186055, 0.30326947375484137, 0.4149539956580038, 0.34514926438746246, 0.3082771204088045, 0.5742161870002747, 0.4066549863504327, 0.5360845547655354, 0.4621952376935793, 0.314324835072393, 0.41962145009766455, 0.5013065584327864, 0.3117442584556082, 0.40055564175481384, 0.4025486882614053, 0.4740665878938592, 0.3603742602078811, 0.2921605246222537, 0.8532651688741602, 0.5052024190840514, 0.4538116429163062, 0.4989596080520879, 0.5364983768566794, 0.9786603113879329, 0.49140112620332965, 0.30709863551284955, 0.711958400581194, 0.3605372316163519, 0.6349957889836767, 0.4072497713824977, 0.6005253714063893, 0.603372943142186, 0.3281952492568804, 0.43320641828619916, 0.462627530745838, 0.3900284475606421, 0.3145451273607171, 0.4570631514424863, 0.5667192301024562, 0.5233363794243854, 0.7620410698911418, 0.3525523543357849, 0.44135199357634003, 0.32161752166955365, 0.4227677998335465, 0.3953264355659485, 0.3551827264220818, 0.46822787950868194, 0.39334853673758713, 0.5637863054061714, 0.26577687781790027, 0.7803041118642559, 0.4468917467671892, 0.405111066673113, 0.39694988857144897, 0.4692281750233277, 0.350571945309639, 0.351649888669667, 0.4980435390835223, 0.4639622517254042, 0.5881991506270741, 0.468935912070067, 0.4319408574829931, 0.5493072996968809, 0.6357005186702894, 0.44692724886471813, 0.35764276074326556, 0.3453142089040383, 0.32833361755246704, 0.3394579311589832, 0.5941763779391414, 0.36339109876881476, 0.45646722792931227, 0.3499365589864876, 0.4056134998150494, 0.38727932974048285, 0.4308830528803494, 0.558971859190775, 0.4646374207475911, 0.33245935517808667, 0.5109006393214931, 0.6539913846746735, 0.4041859841217165, 0.5889182473006456, 0.4631172619436098, 0.5335004342638928, 0.40880276910636737, 0.5183233618736267, 0.6322760374649711, 0.9834200117899023, 0.3181404253548902, 2.2591906526814336, 0.5689269382020702, 0.5757022914679154, 0.6305145770311356, 0.5473888454877812, 0.8454613611102104, 0.5406633537748585, 0.5003962409885033, 0.4330657305924789, 0.5547401239366635, 0.7870749883029772, 0.40155268557693646, 0.5290084688559823, 0.44912509944127954, 0.36510485443084134, 0.3233306207086729, 0.2859214541056882, 0.501342295628527, 0.4972787661396939, 0.576705638481223, 0.5364364916863649, 0.48407554626464844, 0.366805550844773, 0.472213353799737, 0.4468253867133804, 0.6398674107116201, 0.44274155633605045, 0.7175736297731814, 0.3920631496154744, 0.2939565815841374, 0.29911028431809467, 0.3602217733860016, 0.560546127350434, 2.2949838275494785, 0.4469085666148559, 1.038399004417917, 0.7774514555931091, 0.8348186275233394, 0.6453895287021346, 0.42608659876429517, 0.6008122070975925, 0.3195432839186295, 0.6226658059850984, 0.9980826805467191, 0.8878418764342433, 0.5843734132206958, 2.017775426740232, 0.3124919391196707, 0.25011373376068863, 0.7544170047925867, 0.4225505434948465, 0.7355237318121869, 0.36452538876429846, 0.4770262654384841, 0.401479731273392, 0.4733195525148641, 1.0028166097143423, 0.49209579161327816, 0.5540045266566069, 0.37496704089900723, 0.4365624059801516, 0.8216926934926406, 0.34520347999489825, 0.3178459788146226, 0.8712590207224307, 0.404287158795025, 0.7871066046797711, 0.6703054127485856, 0.7476093302602353, 0.5237284017645795, 0.49155378341674805, 0.7387754048990167, 0.6169576800387838, 0.5285132060880247, 0.3877564681612927, 0.8347012413584668, 0.525242665377648, 0.8316133300895276, 0.44799860372491507, 0.5476132302504518, 1.1126638858214668, 0.40092926310456317, 0.4446039350460405, 0.41342948636283045, 0.5547200839804567, 0.588545332784238, 0.6242206106367318, 0.936940103445364, 0.5623497626055842, 0.6602421603772951, 0.32988186731286673, 0.616453230381012, 0.7257888226405435, 1.2497584745287895, 0.41921210969271866, 0.4166986093572948, 0.45877148794091266, 0.5618266748345416, 0.3819114164165828, 0.6079631266386613, 0.784048881219781, 0.560005210340023, 0.4336705065291861, 0.5884977630946947, 0.3659206933301428, 0.7319278211697288, 0.7758446510719217, 0.2906698228629387, 0.35764747177777084, 0.43486668784981186, 0.26751988753676414, 0.4337566287621208, 0.380113060383693, 0.49055164534112683, 0.5484917946969685, 2.053805999133898, 0.31941617426017055, 0.6565045531353225, 0.47037355601787567, 0.7326917939859888, 0.8191436992391296, 0.30045355694449466, 0.5738301795461903, 1.1917695688164753, 0.7272589895064416, 0.8045120103203732, 1.341565392587496, 0.6363287202042082, 0.8976527180360712, 0.8311786502599716, 0.41136236424031464, 0.489180321926656, 0.730409725204758, 0.2841529836473258, 1.4941917813342551, 0.46082219870194147, 0.26688334580672823]}, {"name": "FILLBORDERS", "yaxis": "y1", "type": "scatter", "xaxis": "x1", "y": [0.07826087112012117, 0.07826087112012117, 0.06086956625399382, 0.07826087112012117, 0.11304348007492397, 0.1304347857185032, 0.24347826631172845, 0.13913043815156687, 0.09565217520879662, 0.05217391459838204, 0.1913043509358945, 0.37391305228938226, 0.14782609110293182, 0.3913043563780577, 0.27826087474822997, 0.17391304684721906, 0.32173913691354833, 0.3391304410022238, 0.4956521837607674, 0.45217392185459965, 0.19130435119504513, 0.4782608791537907, 0.31304348603538845, 0.2000000044055607, 0.5304347929747208, 0.39130435560060584, 0.5739130535851354, 0.2608695714370064, 0.4956521855748218, 0.4260869668877643, 0.5217391389867534, 0.5217391382093015, 0.38260870316754214, 0.5652174011520718, 0.6173913126406463, 0.6608695732510608, 0.35652174742325493, 0.6260869650737099, 0.4782608791537907, 0.4086956633173901, 0.4695652251658232, 0.3304347909015158, 0.5739130535851354, 0.6695652272390282, 0.5130434881085935, 0.5739130535851354, 0.6347826190616773, 0.713043487071991, 0.67826087889464, 0.7478260952493418, 0.3739130507344785, 0.739130444371182, 0.7391304420388263, 0.5478260947310406, 0.4260869645554086, 0.7478260968042456, 0.7478260952493418, 0.5043478325657222, 0.7652173993380174, 0.5826087075731029, 0.7043478346389273, 0.7130434886268947, 0.7043478361938311, 0.6956521822058637, 0.6521739215954491, 0.7043478354163791, 0.6956521837607674, 0.6521739208179972, 0.7391304435937301, 0.7304347911606665, 0.7478260975816976, 0.7130434862945391, 0.7391304435937301, 0.5826087052407471, 0.6695652269798776, 0.7739130525485329, 0.6695652272390282, 0.6173913149730019, 0.6869565297728, 0.6869565313277037, 0.7826087049815966, 0.7391304435937301, 0.7043478361938311, 0.7391304435937301, 0.5391304438528808, 0.5304347929747208, 0.4695652259432751, 0.713043487071991, 0.800000009070272, 0.7130434878494428, 0.7478260975816976, 0.7652174006337705, 0.7130434875902922, 0.834782616470171, 0.8000000080336696, 0.6782608794129413, 0.7478260960267937, 0.521739141319109, 0.808695659948432, 0.6000000085519708, 0.8173913116040437, 0.7391304435937301, 0.8173913116040437, 0.6782608781171882, 0.7652173993380174, 0.7478260952493418, 0.7826087031675422, 0.8347826177659242, 0.834782616470171, 0.8173913131589475, 0.7913043579329615, 0.7304347903832146, 0.6000000085519708, 0.6695652264615763, 0.40000000725621765, 0.8434782678666322, 0.6086956625399382, 0.6695652280164801, 0.652173922372901, 0.7043478385261868, 0.8000000088111214, 0.7565217476824055, 0.817391312122345, 0.8260869645554086, 0.7826087054998978, 0.8000000080336696, 0.7478260960267937, 0.8434782678666322, 0.5913043576738108, 0.6521739247052566, 0.5652174011520718, 0.7739130538442861, 0.8260869645554086, 0.8260869637779568, 0.7565217484598574, 0.6695652254249739, 0.6521739208179972, 0.7826087054998978, 0.6260869671469149, 0.8000000098477239, 0.8347826162110205, 0.817391312122345, 0.6521739221137502, 0.7913043571555096, 0.8347826169884723, 0.7130434875902922, 0.7826087047224459, 0.782608703944994, 0.8173913128997968, 0.5913043584512627, 0.7739130509936292, 0.8347826162110205, 0.756521747423255, 0.7826087057590485, 0.817391312122345, 0.8260869645554086, 0.6695652277573295, 0.7826087031675422, 0.8260869637779568, 0.7913043556006059, 0.8695652243883714, 0.8521739202996959, 0.773913054621738, 0.6956521835016167, 0.7826087047224459, 0.756521747423255, 0.8173913128997968, 0.8173913128997968, 0.7391304467035377, 0.7913043550823046, 0.8434782686440842, 0.7913043556006059, 0.7391304456669351, 0.6956521837607674, 0.7304347924564196, 0.47826088070869444, 0.808695659948432, 0.7652174008929211, 0.7217391384684522, 0.3739130507344785, 0.8521739202996959, 0.843478267348331, 0.7739130530668341, 0.8173913128997968, 0.6695652269798776, 0.7304347916789676, 0.8086956607258838, 0.8086956596892813, 0.7826087049815966, 0.7304347909015158, 0.7217391415782597, 0.6347826175067736, 0.6956521837607674, 0.6782608781171882, 0.704347836971283, 0.8086956612441851, 0.7130434862945391, 0.8086956604667331, 0.8260869661103124, 0.8260869640371074, 0.7391304433345794, 0.652173924446106, 0.8434782686440842, 0.8260869640371074, 0.7304347888283108, 0.8347826177659242, 0.6260869627413542, 0.8173913147138513, 0.7826087057590485, 0.8347826172476229, 0.8521739205588466, 0.8347826162110205, 0.7826087034266928, 0.8260869653328605, 0.8608695719553077, 0.8086956612441851, 0.8000000088111214, 0.8260869645554086, 0.7652173990788667, 0.8086956607258838, 0.7217391402825065, 0.7130434875902922, 0.8173913123814956, 0.8173913144547006, 0.800000009070272, 0.7913043566372083, 0.7913043558597564, 0.6608695753242658, 0.5043478354163792, 0.8434782681257829, 0.8086956591709801, 0.7826087047224459, 0.7043478361938311, 0.7826087047224459, 0.8173913131589475, 0.8086956615033357, 0.8260869645554086, 0.6782608825227489, 0.7652174008929211, 0.800000009070272, 0.7913043571555096, 0.8260869648145592, 0.8086956604667331, 0.8086956604667331, 0.8434782686440842, 0.8434782689032347, 0.8521739210771477, 0.8521739197813947, 0.7826087049815966, 0.8086956604667331, 0.739130444371182, 0.7130434886268947, 0.7652174001154692, 0.8521739202996959, 0.5826087060181991, 0.852173919522244, 0.5739130551400392, 0.7391304428162782, 0.8434782686440842, 0.7913043563780577, 0.5565217494964599, 0.8521739210771477, 0.8173913113448931, 0.6434782712355904, 0.8173913131589475, 0.6956521860931231, 0.8173913113448931, 0.7826087042041446, 0.7478260952493418, 0.8086956607258838, 0.38260870239009026, 0.7565217489781587, 0.8260869640371074, 0.7217391387276028, 0.8347826149152673, 0.6869565313277037, 0.800000009070272, 0.19130435274994892, 0.8173913136772487, 0.8260869645554086, 0.8173913131589475, 0.7826087057590485, 0.8000000075153683, 0.8347826169884723, 0.8000000088111214, 0.6000000093294227, 0.8434782686440842, 0.8347826172476229, 0.800000009070272, 0.8173913136772487, 0.7217391400233559, 0.608695664094842, 0.808695659948432, 0.7652174006337705, 0.7565217476824055, 0.6869565328826075, 0.8260869653328605, 0.8000000098477239, 0.6869565313277037, 0.7565217489781587]}, {"name": "FILLBORDERS", "yaxis": "y2", "type": "scatter", "xaxis": "x2", "y": [3.087559065611466, 3.0883636972178583, 3.134616049476292, 2.845791992933854, 2.809265465321748, 2.553505940022676, 2.4390778697055318, 2.8395061617312223, 3.404734398748564, 4.260387007049892, 3.268661228729331, 2.1550480367048928, 5.045696596307275, 1.902392976698668, 2.2312300507141196, 3.085388519841692, 2.2596141250237176, 2.1993081253507865, 1.6544305362131284, 1.6852612143625383, 2.76158030214517, 1.8509640712007556, 2.4883586807095486, 2.8654561765815902, 1.6047497365785681, 2.0800174433576024, 1.5076708505659, 2.9705672150072844, 1.6916962207011554, 2.0270276007444963, 1.385151144437006, 1.4556969908916433, 1.8425485079865094, 1.370420362573603, 1.1997346721265627, 1.1358320560144342, 3.1121972315985222, 1.1978424428557248, 1.672770436950352, 2.141361916324367, 1.7015110013743295, 3.0268017172813417, 1.5011152092853317, 1.0243207850210045, 2.07380462511969, 1.2971736742750457, 1.2050921392080414, 1.0150411317337547, 1.1436649551048228, 0.9119924095661743, 2.8299274696928003, 1.0568532087556695, 0.9654242026104601, 1.6937207767658908, 2.1385232236398304, 0.8068345657833245, 0.9881448416282301, 1.9997155572085277, 0.8225271546990489, 1.466542008743905, 1.1546817700864505, 0.8594029728161252, 0.9953325224635394, 1.1481248265820676, 1.2649723834196187, 1.208342627492612, 0.90273415815976, 1.2722911214698915, 0.9761585703322097, 0.8491192370821449, 0.933263629317314, 1.2196513643637603, 1.0713259876381769, 1.8274007608471237, 1.2551041014452025, 0.8253712746193235, 1.1411950380632492, 1.2682863642347713, 1.277488897912933, 1.411448509629712, 0.760026136875493, 1.016535505066112, 1.0157870926307109, 0.9018202843765839, 2.0701232530824516, 2.096838242761758, 1.9634965402387974, 0.919762746050306, 0.6967305031225449, 1.0712947811913027, 1.0836932964461006, 0.860586526368001, 1.3912518310778978, 0.6733905392593285, 0.7470844821424897, 1.4139379521487685, 0.8549480690061342, 2.0521387909417568, 0.8947495174460385, 2.7857947509330905, 0.7523242197179175, 1.0025540506416608, 0.6739340061954566, 1.3143896491874245, 0.9258655399988841, 0.8570484396391017, 0.9908520574883922, 0.7389406110287046, 0.7482610040811976, 0.6669927269375183, 1.213072267555755, 0.9005980628299648, 1.9881706165824258, 1.2375175528827442, 4.03323980177368, 0.7120824675886821, 2.2994600743270457, 1.638473888363502, 2.0562925929058116, 1.3525417953258916, 0.8394722913396159, 1.1273508066432958, 0.9523264379034325, 0.6904965607299366, 0.9233259120875049, 0.7953878494485737, 0.9369943901110673, 0.7728159813286574, 2.2184255174656005, 1.8676043481362918, 2.896590023064156, 0.7966979321599786, 0.8097100040616644, 0.8375940546249141, 1.0356132751256708, 2.1825396162825443, 1.6734049377606113, 1.0924802404981482, 2.5404114425526525, 0.8907430987639076, 0.695236469202566, 1.0684768573634404, 1.542649787538824, 1.2246188174528825, 0.7820168876677563, 1.3779280008955697, 0.9519614146068311, 0.87882971823052, 0.8360924727443173, 3.163007884635287, 1.216220626980772, 0.8216105352212177, 1.345644222234694, 1.4377837077156632, 0.9772104784269607, 0.6382338126390036, 2.2031208147874684, 1.2591143660646085, 0.7509627916712381, 1.0260966859203662, 0.5239960254744807, 0.6787096402011649, 1.1253958765492675, 1.6980898012720944, 0.931079514804119, 1.4275200172691425, 1.0553554974312374, 0.9202541648900621, 1.3425734281166635, 1.0871968611195593, 0.9779926387242257, 1.3691082264346224, 1.6317555096774854, 1.2039611469701175, 1.9412306688848662, 2.978763871858625, 0.984492045194981, 0.9241938974693138, 1.1709828133189806, 5.9602252253412225, 0.5757970333467592, 0.728459471018252, 1.0769211082533126, 1.0658041563764329, 1.6156548676161986, 1.586045983826755, 1.0722981357411223, 1.481882556257031, 0.9603883995866557, 1.3005142844215074, 1.1582300273730977, 3.058095735321533, 1.6908139830131275, 1.3815827246644008, 2.4179603041958866, 1.1424793697493716, 1.6699700427036637, 0.9410605306874398, 0.817732923312977, 0.8604128693999175, 1.3403082307253498, 2.2720963462937305, 0.9179515914902708, 0.8777402267975541, 2.1395513074004047, 0.9518778637487475, 1.517149293804845, 0.855954273901887, 1.3074386421221966, 0.8959680959541303, 0.6587634335437869, 0.8849671643957947, 1.0763067709019647, 1.1000397453347672, 0.846187647074768, 0.8530573326749286, 1.087794429138281, 0.9235420838365057, 1.424814984834083, 1.097024186387301, 1.5253958764040605, 3.0000602016344637, 0.917063488449461, 1.2236318307569458, 0.9900312509069185, 1.0968857459846137, 1.2678667941695667, 2.752890901910295, 2.861543362487219, 0.827740143763035, 1.0818956964371829, 1.4293431802033296, 1.4585975712732138, 1.1644400498288043, 1.0079085769652014, 1.108973368805337, 0.9913310358891824, 3.1149674755948835, 1.1953352173775156, 1.2097367603152196, 1.449211067771105, 0.947122651602117, 1.2359467350878137, 1.0730952027903649, 1.03256595445041, 0.8293691952554789, 0.8020343667459846, 0.8801917235299955, 1.3725864987135221, 0.9183529088985569, 1.0722442905742744, 1.5793647513355693, 1.6081349473316762, 0.7074257729193505, 2.556778330116472, 1.29551726298899, 1.4742095839849714, 1.2364215076673881, 1.1983550173976625, 1.0271754242680708, 2.608690627210688, 0.8943737270506514, 0.9010737844899762, 3.5516656705623593, 1.1112183323965183, 2.2613237389458924, 1.2328944687126775, 1.615527411835663, 1.6426792418005738, 1.1494298320177951, 5.093062505814473, 1.5710103292813178, 1.0270580352092893, 1.989167984116373, 0.8794240013511903, 1.4196892478597904, 1.2747404046501416, 12.407402659499127, 0.8971725594810683, 1.131803423771341, 0.9515300214941231, 1.6813251017111464, 1.2873250488352417, 0.8178777847970683, 1.6648602392133216, 3.3724516494776817, 1.16136248580764, 1.3486811657203377, 1.2513809455285265, 1.1414633346406065, 2.3965175105550944, 2.709168213285992, 1.2293509101892326, 1.5652382309221717, 1.0856229811476075, 2.9382364105716072, 0.9780272508211998, 1.110347277421423, 1.9150913585736007, 1.1738915113401163]}, {"name": "RESIZE", "yaxis": "y1", "type": "scatter", "xaxis": "x1", "y": [0.07826087112012117, 0.05217391382093015, 0.07826087112012117, 0.13043478494105132, 0.20000000362810882, 0.14782608980717865, 0.12173913250798764, 0.22608696170475173, 0.30434783178827035, 0.33913044152052507, 0.20869565657947375, 0.13913043789241625, 0.22608696170475173, 0.30434783334317417, 0.3826087044632953, 0.4000000077745189, 0.2869565256263899, 0.43478261672932167, 0.3826087044632953, 0.33913044229797695, 0.43478261750677355, 0.46956522801648015, 0.6173913162687551, 0.4869565321051556, 0.652173924446106, 0.2956521801326586, 0.6608695745468139, 0.45217392159544906, 0.5304347927155701, 0.48695653055025184, 0.48695653055025184, 0.4260869658511618, 0.5391304435937301, 0.33913044307542883, 0.4521739231503528, 0.6347826203574305, 0.5391304435937301, 0.6695652285347814, 0.6782608794129413, 0.6086956630582395, 0.713043489145196, 0.6521739221137502, 0.6434782712355904, 0.6521739228912021, 0.7130434883677441, 0.686956531846005, 0.539130444371182, 0.5391304428162782, 0.6695652285347814, 0.5304347911606664, 0.44347826916238536, 0.5652174024478249, 0.7043478351572285, 0.6434782704581385, 0.678260881745297, 0.7304347924564196, 0.7652174014112224, 0.5304347919381183, 0.6869565295136493, 0.6434782704581385, 0.7565217466458031, 0.6000000082928202, 0.6782608786354895, 0.7478260957676431, 0.7217391408008078, 0.5739130525485329, 0.7391304433345794, 0.6347826188025267, 0.7043478367121323, 0.6086956622807876, 0.5565217476824056, 0.35652174509089923, 0.7304347940113234, 0.747826096545095, 0.7304347932338715, 0.6956521858339725, 0.7565217489781587, 0.5652173993380173, 0.40869565865267876, 0.6956521842790686, 0.7217391415782597, 0.5304347927155701, 0.7478260980999988, 0.6173913139363993, 0.6173913154913031, 0.747826096545095, 0.7565217466458031, 0.6956521827241648, 0.495652184019918, 0.7826087047224459, 0.7130434875902922, 0.6086956646131433, 0.7043478351572285, 0.7304347916789676, 0.7304347909015158, 0.7478260980999988, 0.7913043571555096, 0.530434794270474, 0.7478260973225469, 0.7739130522893822, 0.7304347940113234, 0.6521739236686541, 0.7739130530668341, 0.7304347909015158, 0.7826087054998978, 0.3565217482007068, 0.713043489145196, 0.7565217497556106, 0.7043478382670361, 0.7391304448894832, 0.6956521850565206, 0.8000000088111214, 0.8086956612441851, 0.721739139245904, 0.7304347932338715, 0.6608695776566215, 0.7130434899226479, 0.7652173998563186, 0.8000000095885733, 0.7478260957676431, 0.7217391415782597, 0.48695652977279996, 0.7739130530668341, 0.8086956612441851, 0.7565217497556106, 0.8086956604667331, 0.808695662021637, 0.7304347932338715, 0.7391304441120313, 0.747826096545095, 0.8347826169884723, 0.7304347932338715, 0.8608695719553077, 0.8260869645554086, 0.8347826169884723, 0.8173913128997968, 0.7391304441120313, 0.47826087889464003, 0.6000000114026277, 0.7130434883677441, 0.8347826162110205, 0.7913043556006059, 0.808695662021637, 0.8000000111434771, 0.8347826154335686, 0.6434782712355904, 0.7913043556006059, 0.8260869630005049, 0.5826087057590484, 0.626086966369463, 0.843478269421536, 0.7913043556006059, 0.7391304448894832, 0.6260869655920112, 0.6695652269798776, 0.8173913128997968, 0.6521739228912021, 0.7913043571555096, 0.6869565295136493, 0.782608703944994, 0.8086956612441851, 0.8086956596892813, 0.8000000088111214, 0.7913043556006059, 0.6608695729919102, 0.7913043571555096, 0.8347826162110205, 0.7043478374895842, 0.5478260978408481, 0.7826087047224459, 0.8260869645554086, 0.6956521858339725, 0.5043478377487348, 0.8000000103660252, 0.7391304456669351, 0.7913043571555096, 0.782608703944994, 0.7652174021886743, 0.7652174006337705, 0.8000000080336696, 0.8260869645554086, 0.6869565302911012, 0.7652174014112224, 0.8173913113448931, 0.8347826169884723, 0.8000000064787658, 0.8434782686440842, 0.7652173990788667, 0.4347826159518698, 0.8000000080336696, 0.45217392263205153, 0.8521739210771477, 0.6782608794129413, 0.8347826169884723, 0.8434782663117284, 0.8521739210771477, 0.7391304456669351, 0.8434782670891803, 0.8173913113448931, 0.7739130522893822, 0.8608695704004039, 0.6521739213362984, 0.7826087054998978, 0.6782608770805857, 0.8434782678666322, 0.8347826162110205, 0.8434782686440842, 0.8695652243883714, 0.7652174006337705, 0.8173913128997968, 0.8521739202996959, 0.8608695727327595, 0.8086956612441851, 0.7652174006337705, 0.8521739210771477, 0.8260869653328605, 0.8173913113448931, 0.8086956604667331, 0.8086956635765408, 0.8608695704004039, 0.8434782670891803, 0.7913043571555096, 0.7913043556006059, 0.8260869661103124, 0.8347826177659242, 0.8608695711778558, 0.7652174006337705, 0.8434782678666322, 0.8347826162110205, 0.7304347924564196, 0.8347826162110205, 0.8782608752665313, 0.8173913113448931, 0.7826087070548016, 0.7304347924564196, 0.8260869630005049, 0.7043478359346804, 0.8347826154335686, 0.7304347909015158, 0.8608695727327595, 0.7304347924564196, 0.7652173983014148, 0.8260869637779568, 0.7913043571555096, 0.8347826162110205, 0.852173919522244, 0.8086956604667331, 0.8086956589118294, 0.8086956596892813, 0.8260869637779568, 0.8347826177659242, 0.8521739202996959, 0.7304347916789676, 0.7826087054998978, 0.8260869645554086, 0.8000000095885733, 0.7652173990788667, 0.8608695727327595, 0.8260869637779568, 0.8260869645554086, 0.8347826162110205, 0.8173913113448931, 0.8086956596892813, 0.8695652228334676, 0.8347826154335686, 0.8782608752665313, 0.8000000095885733, 0.8956521801326586, 0.7652173990788667, 0.7913043571555096, 0.8434782678666322, 0.8695652236109195, 0.8956521785777548, 0.8347826177659242, 0.7478260949901913, 0.8521739210771477, 0.7304347924564196, 0.8869565276995949, 0.8260869653328605, 0.7826087031675422, 0.8260869637779568, 0.8782608760439832, 0.8000000080336696, 0.8869565276995949, 0.8782608760439832, 0.8173913144547006, 0.8695652243883714, 0.8608695727327595, 0.8695652236109195, 0.7739130522893822, 0.7565217497556106, 0.7652174006337705, 0.8608695727327595, 0.7913043579329615, 0.8521739202996959, 0.8173913128997968, 0.7913043556006059, 0.7304347924564196, 0.7826087054998978, 0.8173913128997968]}, {"name": "RESIZE", "yaxis": "y2", "type": "scatter", "xaxis": "x2", "y": [3.134168575121009, 3.1332972568014394, 3.084697551312654, 2.9427554607391357, 2.787934462920479, 2.917176367925561, 2.781777942698935, 2.5565750267194667, 2.3913238603135816, 2.2404812877592835, 2.388702846221302, 3.110500521763511, 2.4982742376949476, 2.094834707094275, 1.8783260788606562, 2.155962027674136, 2.3850231849628947, 1.8924116461173348, 2.0037864866464035, 1.9122204483851142, 1.6362369980501092, 1.591499639885581, 1.3916348620601322, 1.7668424360130144, 1.3449871229088826, 2.786461920712305, 1.2688603152399478, 1.633591954636833, 1.2949180359425752, 1.9434308228285417, 1.5479523577119993, 1.8766153206643852, 1.6494943287061608, 3.596647915041641, 1.680079378446807, 1.1280271177949466, 1.4158561454033074, 1.0381788230278408, 0.9888366864477892, 1.2041183172603664, 0.8271010045852998, 1.1678289624012035, 1.0661474166761922, 1.0371190045879264, 0.805838551501865, 0.8846852625087511, 1.3537281458185095, 1.9359459873693792, 1.0850989590925366, 1.7170870102435836, 2.137565219013587, 2.011282813613829, 0.9698620834397962, 1.0278489706278575, 0.9864021047625853, 0.9832488112607161, 0.7640328799030217, 1.8431966533775583, 0.9719763716194354, 1.0056555820320248, 0.8426385064406887, 1.480815709584757, 0.8956098847637843, 0.744959262931851, 0.7618600283169856, 1.5860584017851025, 0.7400419490568785, 1.199357733094012, 0.8494578841263833, 1.9956489030357816, 1.7178555851721244, 2.611036507979683, 1.1368448103538273, 0.8915870201620514, 0.8019313453797899, 0.9667926986338305, 0.6807451481134985, 2.050802319559633, 2.5416348112180183, 0.8051632671722789, 0.9202833021498246, 1.6723727581751122, 0.920037742209989, 1.3284159570203526, 1.3408706156941859, 0.7594192940649405, 0.8335425448884843, 1.198644455232779, 3.120569555772691, 0.8170961343628337, 1.0979725704190535, 2.2317137569328587, 0.952724720723927, 0.9338479011451177, 1.1754767279397613, 0.8844481775119557, 0.7695215225033853, 2.648430973445268, 1.1469571108752659, 0.6667205207367299, 0.8716914600261267, 1.4087803650050146, 0.8230809585497058, 1.014266479362382, 0.7936955745117223, 3.3581405502298605, 0.9956151316825392, 1.1627610562925226, 1.1636297578043329, 0.9312035660500877, 0.8599628946376312, 0.6082400958365606, 0.6720959687228416, 0.7245146073512329, 0.7808639255691446, 1.5943444840827086, 1.4076952784116068, 0.7207768018838104, 0.7795044762759042, 1.0536929469798595, 1.1595728092867394, 2.9429644147207474, 0.9915524682855943, 0.7165796518754711, 1.0561895151580232, 0.737795449864916, 0.7526142993123397, 0.9539534711633283, 1.2649091916529718, 0.8110469727980929, 0.6799923181837426, 0.8729435219688204, 0.6357331471330286, 0.6181638140987405, 0.7158464872906836, 0.7409243330941426, 0.9924928836986352, 3.79695207783636, 2.3410811654828576, 0.8513638373360268, 0.5834540913792585, 0.8462536042529595, 0.7912061871432506, 0.7693884895113972, 0.7590359986087184, 1.8164819461846495, 1.2288168006904732, 0.5515793856688066, 2.4052128314566055, 2.004533663074962, 0.6452854669692589, 0.9099605680897798, 1.1114330634419713, 1.3778737940785029, 1.6268805809064677, 0.5892325310971663, 1.0583750416550015, 1.3300780139511728, 1.4452924614562077, 0.9840010176499302, 0.7101276399007722, 0.8263127826745965, 1.0642675121961278, 1.102671038167738, 1.3068899666380869, 1.0332334974491229, 0.8100743216177098, 1.6334038845927275, 1.979981385704393, 0.8801528329372599, 1.0528592076722105, 2.3145792404635133, 4.93879724603283, 1.1669202029931878, 2.174958882123975, 1.0251930987999986, 0.9913309927422395, 0.814713662344181, 1.2305566558261332, 0.7983358630272762, 0.5290602652680346, 2.32312486513819, 0.9136764362059299, 0.5824968794611698, 0.7351155214760268, 1.0954293330609468, 0.6452931556432667, 0.7512286691422797, 5.934916559955025, 1.0831043913974199, 5.641870940824313, 0.6990092056992545, 2.4439312781547655, 0.7171442649475805, 0.595892812185927, 0.773814165922127, 1.831131795025617, 0.8566772592525419, 0.8854509894081082, 1.3063779171599499, 0.9504013767679286, 1.2032173802229922, 1.4140249622504648, 1.091334356414597, 0.9414395883271464, 0.8735216810691994, 0.9886600585325103, 0.5530577508454297, 1.3921582307953115, 0.9834698950351831, 0.7219984843502196, 0.8641967542759362, 0.8658216038376226, 0.625612708659885, 0.8690767777909201, 1.105819222209602, 0.9146968175088975, 1.4466680666992384, 0.768454153306717, 0.9707309254072687, 0.8365443818391392, 0.9461894276046307, 1.0234039486411193, 1.0681594215730579, 0.675190455949332, 0.6757929657404682, 1.5827998742960785, 0.788372935961954, 0.7407039511134534, 1.3157629125042307, 0.9418523300909527, 0.6627864855444335, 0.9658115002466022, 1.2401232621624159, 1.6904771185843712, 0.6544295558053289, 2.1373566009591833, 0.7029593090399214, 1.3319209988050558, 1.0499008718087788, 1.7204647814922853, 1.454381574442432, 1.2842546031606024, 1.627722431930043, 1.0802239053962723, 0.8173996866920366, 1.0943384348648184, 1.0244412027257705, 1.2196249550035085, 1.1391274478086821, 0.780027876842962, 0.8399365122826422, 1.2290620838252218, 1.023398486511009, 0.910898255002029, 1.273395611661695, 0.732410913223968, 0.7209077813591157, 0.834477048012196, 1.108877950560823, 1.0106601137868714, 1.154594935389503, 0.885486473906618, 0.5165448182209631, 0.6938719627116562, 0.651174687857002, 1.705501250240581, 0.5717416153704591, 1.4742824496006264, 1.2201261786731241, 0.7182133663773252, 0.6567967903342798, 0.6708922301761844, 1.062213749517969, 1.467744900756925, 0.8458299942850896, 0.9947308555716131, 0.5467561799592354, 1.041285338179439, 1.6380666833102515, 0.7210694878201258, 0.5951340328845381, 1.3771512867092397, 0.6240495128716905, 0.6439626416834279, 1.0946061541964882, 0.6674252198708731, 0.8206539579979704, 0.6837438041380393, 1.1743543602242257, 1.3157717996955325, 1.0332229076069308, 0.8355679048424172, 1.441659800341133, 0.7500440845607491, 0.9434482681790316, 0.8168028585369914, 1.601255014756803, 1.3317117675474472, 0.6991304792168945]}], {"yaxis1": {"domain": [0.625, 1.0], "anchor": "x1", "title": "Val_Acc"}, "xaxis1": {"domain": [0.0, 1.0], "anchor": "y1", "title": "Ciclo"}, "yaxis2": {"domain": [0.0, 0.375], "anchor": "x2", "title": "Val_Loss"}, "annotations": [{"text": "Val_Acc", "showarrow": false, "y": 1.0, "yanchor": "bottom", "font": {"size": 16}, "yref": "paper", "x": 0.5, "xanchor": "center", "xref": "paper"}, {"text": "Val_Loss", "showarrow": false, "y": 0.375, "yanchor": "bottom", "font": {"size": 16}, "yref": "paper", "x": 0.5, "xanchor": "center", "xref": "paper"}], "xaxis2": {"domain": [0.0, 1.0], "anchor": "y2", "title": "Ciclo"}}, {"linkText": "Export to plot.ly", "showLink": true})});</script>
</div>

</div>

</div>
</div>

</div>
    </div>
  </div>
</body>

 


</html>
